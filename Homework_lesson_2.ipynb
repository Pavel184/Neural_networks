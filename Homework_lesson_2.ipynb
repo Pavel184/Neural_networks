{
  "nbformat": 4,
  "nbformat_minor": 0,
  "metadata": {
    "kernelspec": {
      "display_name": "Python 3",
      "language": "python",
      "name": "python3"
    },
    "language_info": {
      "codemirror_mode": {
        "name": "ipython",
        "version": 3
      },
      "file_extension": ".py",
      "mimetype": "text/x-python",
      "name": "python",
      "nbconvert_exporter": "python",
      "pygments_lexer": "ipython3",
      "version": "3.7.1"
    },
    "colab": {
      "name": "Homework_lesson_2.ipynb",
      "provenance": [],
      "collapsed_sections": [],
      "include_colab_link": true
    },
    "accelerator": "GPU"
  },
  "cells": [
    {
      "cell_type": "markdown",
      "metadata": {
        "id": "view-in-github",
        "colab_type": "text"
      },
      "source": [
        "<a href=\"https://colab.research.google.com/github/Pavel184/Neural_networks/blob/Homework_lesson_2/Homework_lesson_2.ipynb\" target=\"_parent\"><img src=\"https://colab.research.google.com/assets/colab-badge.svg\" alt=\"Open In Colab\"/></a>"
      ]
    },
    {
      "cell_type": "markdown",
      "metadata": {
        "id": "XvhEhpGm9U8z"
      },
      "source": [
        "# Homework_lesson_2"
      ]
    },
    {
      "cell_type": "markdown",
      "metadata": {
        "id": "UNg-YcdJxeDs"
      },
      "source": [
        "# Используем набор примеров fashion-MNIST\n",
        "\n",
        "1.  Опишите - какой результата получен в нейросети в зависимости от:\n",
        "  -  числа нейронов в слое(для 2-хслойной сети), \n",
        "  - числа слоев (2, 3, 5, 10) при близких размерах сети (близкое число тренируемых парметров).\n",
        "  - фиксируйте для тренировочного и тестового набора метрики accuracy."
      ]
    },
    {
      "cell_type": "code",
      "metadata": {
        "id": "hf6f_oe7EH7A"
      },
      "source": [
        "# Код нейронной сети в Keras!\n",
        "###############################\n",
        "import numpy as np\n",
        "import pandas as pd\n",
        "#import mnist\n",
        "from keras.models import Sequential\n",
        "from keras.layers import Dense\n",
        "from keras.datasets import fashion_mnist\n",
        "from tensorflow.keras.utils import to_categorical\n",
        "import keras\n",
        "import matplotlib.pyplot as plt\n",
        "import seaborn as sns\n",
        "from sklearn.metrics import multilabel_confusion_matrix\n",
        "from sklearn.metrics import classification_report\n",
        "from sklearn.metrics import precision_recall_fscore_support as score\n"
      ],
      "execution_count": 1,
      "outputs": []
    },
    {
      "cell_type": "code",
      "metadata": {
        "id": "hFo1_J0eEQ9k"
      },
      "source": [
        "\n",
        "(train_imagesi,train_labels),(test_imagesi,test_labels)=fashion_mnist.load_data()\n",
        "\n",
        "# можно брать mnist из специальной библиотеки\n",
        "#train_images = mnist.train_images()\n",
        "#train_labels = mnist.train_labels()\n",
        "#test_images = mnist.test_images()\n",
        "#test_labels = mnist.test_labels()\n",
        "\n",
        "# приведем изображение к диапазону (-1,1).\n",
        "train_images = (train_imagesi / 127) - 1\n",
        "test_images = (test_imagesi / 127) - 1\n",
        "\n",
        "# делаем векторизацию, т.к. наши слои полносвязные и хотят на вход вектор.\n",
        "train_images = train_images.reshape((-1, 784))\n",
        "test_images = test_images.reshape((-1, 784))"
      ],
      "execution_count": 2,
      "outputs": []
    },
    {
      "cell_type": "markdown",
      "metadata": {
        "id": "rlO6abtO0oFX"
      },
      "source": [
        "Размер набора входных данных для обучения "
      ]
    },
    {
      "cell_type": "code",
      "metadata": {
        "id": "XLsN2KNiNHEf"
      },
      "source": [
        "dim = train_images.shape[1]"
      ],
      "execution_count": 3,
      "outputs": []
    },
    {
      "cell_type": "markdown",
      "metadata": {
        "id": "Og3zBOXKUt6Q"
      },
      "source": [
        "Превратим выходы в векторые (OHE в keras - from keras.utils import to_categorical)"
      ]
    },
    {
      "cell_type": "code",
      "metadata": {
        "id": "fXgYOrUwGwzG"
      },
      "source": [
        "y_t = to_categorical( train_labels)\n",
        "y_tt = to_categorical(test_labels)"
      ],
      "execution_count": 4,
      "outputs": []
    },
    {
      "cell_type": "code",
      "metadata": {
        "id": "9lCF4zXv9U90",
        "colab": {
          "base_uri": "https://localhost:8080/"
        },
        "outputId": "8b5c385d-c13c-4d60-db02-02e083382e90"
      },
      "source": [
        "numb_neur = [32, 64, 128, 256, 512, 1024]\n",
        "for numb in numb_neur:\n",
        "  # Build the model.\n",
        "  model = Sequential([\n",
        "    Dense(numb, activation='tanh', input_shape=(dim,)),\n",
        "    #Dense(numb, activation='tanh'), # Скрытый слой из 110 нейронов с активацией tanh\n",
        "    #Dense(numb, activation='tanh'), # Скрытый слой k из 100 нейронов с активацией tanh\n",
        "    Dense(10, activation='softmax'),# выходной слой из 10 нейронов (сколько классов, столько нейронов) + активация softmax\n",
        "  ])\n",
        "\n",
        "  # Compile the model.\n",
        "  model.compile(\n",
        "    optimizer='adam',\n",
        "    loss='categorical_crossentropy',\n",
        "    metrics=['accuracy'],\n",
        "  )\n",
        "  # Train the model.\n",
        "  model.fit(  \n",
        "    train_images[:,:],\n",
        "\n",
        "    y_t[:,:],\n",
        "    epochs=15,\n",
        "    verbose = 0,\n",
        "    batch_size=32, validation_split=0.2\n",
        "  )\n",
        "\n",
        "  # Evaluate the model.\n",
        "  metrics_test = model.evaluate( \n",
        "    test_images,\n",
        "    y_tt,\n",
        "    verbose = 0\n",
        "  )\n",
        "  metrics_train = model.evaluate( \n",
        "   train_images,\n",
        "   y_t,\n",
        "   verbose = 0\n",
        " )\n",
        "  print('train_loss = ' + str(metrics_train[0]) + ', train_accuracy = ' + str(metrics_train[1]) + ' test_loss = ' + str(metrics_test[0]) + ', test_accuracy = ' + str(metrics_test[1]) + ', number of neurons is ' + str(numb))"
      ],
      "execution_count": 5,
      "outputs": [
        {
          "output_type": "stream",
          "name": "stdout",
          "text": [
            "train_loss = 0.30149203538894653, train_accuracy = 0.8892666697502136 test_loss = 0.41690728068351746, test_accuracy = 0.854200005531311, number of neurons is 32\n",
            "train_loss = 0.2690584659576416, train_accuracy = 0.9030333161354065 test_loss = 0.38378283381462097, test_accuracy = 0.8652999997138977, number of neurons is 64\n",
            "train_loss = 0.25035780668258667, train_accuracy = 0.9089000225067139 test_loss = 0.36865749955177307, test_accuracy = 0.8736000061035156, number of neurons is 128\n",
            "train_loss = 0.2583199441432953, train_accuracy = 0.9058666825294495 test_loss = 0.38071882724761963, test_accuracy = 0.8695999979972839, number of neurons is 256\n",
            "train_loss = 0.2753409445285797, train_accuracy = 0.9014166593551636 test_loss = 0.4002513885498047, test_accuracy = 0.8640999794006348, number of neurons is 512\n",
            "train_loss = 0.30553072690963745, train_accuracy = 0.8896333575248718 test_loss = 0.4358293116092682, test_accuracy = 0.8615000247955322, number of neurons is 1024\n"
          ]
        }
      ]
    },
    {
      "cell_type": "markdown",
      "metadata": {
        "id": "hSyxP9B0xCUC"
      },
      "source": [
        "train_loss = 0.30149203538894653, train_accuracy = 0.8892666697502136 test_loss = 0.41690728068351746, test_accuracy = 0.854200005531311, number of neurons is 32\n",
        "\n",
        "train_loss = 0.2690584659576416, train_accuracy = 0.9030333161354065 test_loss = 0.38378283381462097, test_accuracy = 0.8652999997138977, number of neurons is 64\n",
        "\n",
        "train_loss = 0.25035780668258667, train_accuracy = 0.9089000225067139 test_loss = 0.36865749955177307, test_accuracy = 0.8736000061035156, number of neurons is 128\n",
        "\n",
        "train_loss = 0.2583199441432953, train_accuracy = 0.9058666825294495 test_loss = 0.38071882724761963, test_accuracy = 0.8695999979972839, number of neurons is 256\n",
        "\n",
        "train_loss = 0.2753409445285797, train_accuracy = 0.9014166593551636 test_loss = 0.4002513885498047, test_accuracy = 0.8640999794006348, number of neurons is 512\n",
        "\n",
        "train_loss = 0.30553072690963745, train_accuracy = 0.8896333575248718 test_loss = 0.4358293116092682, test_accuracy = 0.8615000247955322, number of neurons is 1024\n",
        "\n",
        "Из примера выше видно, что при увеличении числа нейронов 2-х слойной сети качество модели растёт до определённого значения и потом начинает снижаться"
      ]
    },
    {
      "cell_type": "code",
      "metadata": {
        "id": "f3yWSAwFO2bC"
      },
      "source": [
        "models_results = {\n",
        "    'approach': [],\n",
        "    'loss_train': [],\n",
        "    'accuracy_train': [],\n",
        "    'loss_test': [],\n",
        "    'accuracy_test': []\n",
        "}\n"
      ],
      "execution_count": 6,
      "outputs": []
    },
    {
      "cell_type": "code",
      "metadata": {
        "colab": {
          "base_uri": "https://localhost:8080/"
        },
        "id": "Z98r0JZZdhCN",
        "outputId": "6c6c78bd-07ff-4c90-eaf9-bfeff270c14a"
      },
      "source": [
        "model = Sequential([\n",
        "  Dense(512, activation='tanh', input_shape=(dim,)), \n",
        "  Dense(10, activation='softmax'),# выходной слой из 10 нейронов (сколько классов, столько нейронов) + активация softmax\n",
        "])\n",
        "# Compile the model.\n",
        "model.compile(\n",
        "  optimizer='adam',\n",
        "  loss='categorical_crossentropy',\n",
        "  metrics=['accuracy'],\n",
        ")\n",
        "model.summary()\n",
        "\n",
        "# Train the model.\n",
        "model.fit(  \n",
        "  train_images[:,:],\n",
        "\n",
        "  y_t[:,:],\n",
        "  epochs=15,\n",
        "  verbose = 0,\n",
        "  batch_size=32, validation_split=0.2\n",
        ")\n",
        "\n",
        "# Evaluate the model.\n",
        "metrics_train = model.evaluate( \n",
        "  train_images,\n",
        "  y_t,\n",
        "  verbose = 0\n",
        ")\n",
        "\n",
        "metrics_test = model.evaluate( \n",
        "  test_images,\n",
        "  y_tt,\n",
        "  verbose = 0\n",
        ")\n",
        "\n",
        "\n",
        "models_results['approach'].append('2 layers')\n",
        "models_results['loss_train'].append(metrics_train[0])\n",
        "models_results['accuracy_train'].append(metrics_train[1])\n",
        "models_results['loss_test'].append(metrics_test[0])\n",
        "models_results['accuracy_test'].append(metrics_test[1])"
      ],
      "execution_count": 7,
      "outputs": [
        {
          "output_type": "stream",
          "name": "stdout",
          "text": [
            "Model: \"sequential_6\"\n",
            "_________________________________________________________________\n",
            "Layer (type)                 Output Shape              Param #   \n",
            "=================================================================\n",
            "dense_12 (Dense)             (None, 512)               401920    \n",
            "_________________________________________________________________\n",
            "dense_13 (Dense)             (None, 10)                5130      \n",
            "=================================================================\n",
            "Total params: 407,050\n",
            "Trainable params: 407,050\n",
            "Non-trainable params: 0\n",
            "_________________________________________________________________\n"
          ]
        }
      ]
    },
    {
      "cell_type": "code",
      "metadata": {
        "colab": {
          "base_uri": "https://localhost:8080/"
        },
        "id": "rnPAD0k7dsWW",
        "outputId": "a02354ff-f32d-4989-8a20-1fc6302367fb"
      },
      "source": [
        "model = Sequential([\n",
        "  Dense(354, activation='tanh', input_shape=(dim,)), #784\n",
        "  Dense(354, activation='tanh'), # Скрытый слой из 110 нейронов с активацией tanh\n",
        "  Dense(10, activation='softmax'),# выходной слой из 10 нейронов (сколько классов, столько нейронов) + активация softmax\n",
        "  ])\n",
        "# Compile the model.\n",
        "model.compile(\n",
        "  optimizer='adam',\n",
        "  loss='categorical_crossentropy',\n",
        "  metrics=['accuracy'],\n",
        "  )\n",
        "model.summary()\n",
        "\n",
        "# Train the model.\n",
        "model.fit(  \n",
        "  train_images[:,:],\n",
        "\n",
        "  y_t[:,:],\n",
        "  epochs=15,\n",
        "  verbose = 0,\n",
        "  batch_size=32, validation_split=0.2\n",
        ")\n",
        "\n",
        "# Evaluate the model.\n",
        "metrics_train = model.evaluate( \n",
        "  train_images,\n",
        "  y_t,\n",
        "  verbose = 0\n",
        ")\n",
        "\n",
        "metrics_test = model.evaluate( \n",
        "  test_images,\n",
        "  y_tt,\n",
        "  verbose = 0\n",
        ")\n",
        "\n",
        "\n",
        "models_results['approach'].append('3 layers')\n",
        "models_results['loss_train'].append(metrics_train[0])\n",
        "models_results['accuracy_train'].append(metrics_train[1])\n",
        "models_results['loss_test'].append(metrics_test[0])\n",
        "models_results['accuracy_test'].append(metrics_test[1])"
      ],
      "execution_count": 8,
      "outputs": [
        {
          "output_type": "stream",
          "name": "stdout",
          "text": [
            "Model: \"sequential_7\"\n",
            "_________________________________________________________________\n",
            "Layer (type)                 Output Shape              Param #   \n",
            "=================================================================\n",
            "dense_14 (Dense)             (None, 354)               277890    \n",
            "_________________________________________________________________\n",
            "dense_15 (Dense)             (None, 354)               125670    \n",
            "_________________________________________________________________\n",
            "dense_16 (Dense)             (None, 10)                3550      \n",
            "=================================================================\n",
            "Total params: 407,110\n",
            "Trainable params: 407,110\n",
            "Non-trainable params: 0\n",
            "_________________________________________________________________\n"
          ]
        }
      ]
    },
    {
      "cell_type": "code",
      "metadata": {
        "colab": {
          "base_uri": "https://localhost:8080/"
        },
        "id": "onrH_UVKdshb",
        "outputId": "a532c75b-c25f-411e-91b9-0c1d8caacf99"
      },
      "source": [
        "numb_layers = 5\n",
        "model = Sequential(name='my_model')\n",
        "model.add(Dense(259, activation='tanh', input_shape=(dim,)))\n",
        "while numb_layers-2 > 0:\n",
        "  model.add(Dense(259, activation='tanh'))\n",
        "  numb_layers -= 1\n",
        "model.add(Dense( 10, activation='softmax'))\n",
        "# Compile the model.\n",
        "model.compile(\n",
        "      optimizer='adam',\n",
        "      loss='categorical_crossentropy',\n",
        "      metrics=['accuracy'],\n",
        "      )\n",
        "model.summary()\n",
        "\n",
        "# Train the model.\n",
        "model.fit(  \n",
        "  train_images[:,:],\n",
        "\n",
        "  y_t[:,:],\n",
        "  epochs=15,\n",
        "  verbose = 0,\n",
        "  batch_size=32, validation_split=0.2\n",
        ")\n",
        "\n",
        "# Evaluate the model.\n",
        "metrics_train = model.evaluate( \n",
        "  train_images,\n",
        "  y_t,\n",
        "  verbose = 0\n",
        ")\n",
        "\n",
        "metrics_test = model.evaluate( \n",
        "  test_images,\n",
        "  y_tt,\n",
        "  verbose = 0\n",
        ")\n",
        "\n",
        "\n",
        "models_results['approach'].append('5 layers')\n",
        "models_results['loss_train'].append(metrics_train[0])\n",
        "models_results['accuracy_train'].append(metrics_train[1])\n",
        "models_results['loss_test'].append(metrics_test[0])\n",
        "models_results['accuracy_test'].append(metrics_test[1])"
      ],
      "execution_count": 9,
      "outputs": [
        {
          "output_type": "stream",
          "name": "stdout",
          "text": [
            "Model: \"my_model\"\n",
            "_________________________________________________________________\n",
            "Layer (type)                 Output Shape              Param #   \n",
            "=================================================================\n",
            "dense_17 (Dense)             (None, 259)               203315    \n",
            "_________________________________________________________________\n",
            "dense_18 (Dense)             (None, 259)               67340     \n",
            "_________________________________________________________________\n",
            "dense_19 (Dense)             (None, 259)               67340     \n",
            "_________________________________________________________________\n",
            "dense_20 (Dense)             (None, 259)               67340     \n",
            "_________________________________________________________________\n",
            "dense_21 (Dense)             (None, 10)                2600      \n",
            "=================================================================\n",
            "Total params: 407,935\n",
            "Trainable params: 407,935\n",
            "Non-trainable params: 0\n",
            "_________________________________________________________________\n"
          ]
        }
      ]
    },
    {
      "cell_type": "code",
      "metadata": {
        "colab": {
          "base_uri": "https://localhost:8080/"
        },
        "id": "jOsQRjhidswv",
        "outputId": "5330a4c3-bd42-475b-e936-0317272febfc"
      },
      "source": [
        "numb_layers = 10\n",
        "model = Sequential(name='my_model')\n",
        "model.add(Dense(181, activation='tanh', input_shape=(dim,)))\n",
        "while numb_layers-2 > 0:\n",
        "  model.add(Dense(181, activation='tanh'))\n",
        "  numb_layers -= 1\n",
        "model.add(Dense( 10, activation='softmax'))\n",
        "# Compile the model.\n",
        "model.compile(\n",
        "      optimizer='adam',\n",
        "      loss='categorical_crossentropy',\n",
        "      metrics=['accuracy'],\n",
        "      )\n",
        "model.summary()\n",
        "\n",
        "# Train the model.\n",
        "model.fit(  \n",
        "  train_images[:,:],\n",
        "\n",
        "  y_t[:,:],\n",
        "  epochs=15,\n",
        "  verbose = 0,\n",
        "  batch_size=32, validation_split=0.2\n",
        ")\n",
        "\n",
        "# Evaluate the model.\n",
        "metrics_train = model.evaluate( \n",
        "  train_images,\n",
        "  y_t,\n",
        "  verbose = 0\n",
        ")\n",
        "\n",
        "metrics_test = model.evaluate( \n",
        "  test_images,\n",
        "  y_tt,\n",
        "  verbose = 0\n",
        ")\n",
        "\n",
        "\n",
        "models_results['approach'].append('10 layers')\n",
        "models_results['loss_train'].append(metrics_train[0])\n",
        "models_results['accuracy_train'].append(metrics_train[1])\n",
        "models_results['loss_test'].append(metrics_test[0])\n",
        "models_results['accuracy_test'].append(metrics_test[1])"
      ],
      "execution_count": 10,
      "outputs": [
        {
          "output_type": "stream",
          "name": "stdout",
          "text": [
            "Model: \"my_model\"\n",
            "_________________________________________________________________\n",
            "Layer (type)                 Output Shape              Param #   \n",
            "=================================================================\n",
            "dense_22 (Dense)             (None, 181)               142085    \n",
            "_________________________________________________________________\n",
            "dense_23 (Dense)             (None, 181)               32942     \n",
            "_________________________________________________________________\n",
            "dense_24 (Dense)             (None, 181)               32942     \n",
            "_________________________________________________________________\n",
            "dense_25 (Dense)             (None, 181)               32942     \n",
            "_________________________________________________________________\n",
            "dense_26 (Dense)             (None, 181)               32942     \n",
            "_________________________________________________________________\n",
            "dense_27 (Dense)             (None, 181)               32942     \n",
            "_________________________________________________________________\n",
            "dense_28 (Dense)             (None, 181)               32942     \n",
            "_________________________________________________________________\n",
            "dense_29 (Dense)             (None, 181)               32942     \n",
            "_________________________________________________________________\n",
            "dense_30 (Dense)             (None, 181)               32942     \n",
            "_________________________________________________________________\n",
            "dense_31 (Dense)             (None, 10)                1820      \n",
            "=================================================================\n",
            "Total params: 407,441\n",
            "Trainable params: 407,441\n",
            "Non-trainable params: 0\n",
            "_________________________________________________________________\n"
          ]
        }
      ]
    },
    {
      "cell_type": "code",
      "metadata": {
        "colab": {
          "base_uri": "https://localhost:8080/",
          "height": 173
        },
        "id": "4V03XJzcmvOr",
        "outputId": "2ac48a32-dfcd-40f0-fcd9-a8bd2dfc495c"
      },
      "source": [
        "pd.DataFrame(data=models_results).sort_values('accuracy_test', ascending=False)"
      ],
      "execution_count": 11,
      "outputs": [
        {
          "output_type": "execute_result",
          "data": {
            "text/html": [
              "<div>\n",
              "<style scoped>\n",
              "    .dataframe tbody tr th:only-of-type {\n",
              "        vertical-align: middle;\n",
              "    }\n",
              "\n",
              "    .dataframe tbody tr th {\n",
              "        vertical-align: top;\n",
              "    }\n",
              "\n",
              "    .dataframe thead th {\n",
              "        text-align: right;\n",
              "    }\n",
              "</style>\n",
              "<table border=\"1\" class=\"dataframe\">\n",
              "  <thead>\n",
              "    <tr style=\"text-align: right;\">\n",
              "      <th></th>\n",
              "      <th>approach</th>\n",
              "      <th>loss_train</th>\n",
              "      <th>accuracy_train</th>\n",
              "      <th>loss_test</th>\n",
              "      <th>accuracy_test</th>\n",
              "    </tr>\n",
              "  </thead>\n",
              "  <tbody>\n",
              "    <tr>\n",
              "      <th>0</th>\n",
              "      <td>2 layers</td>\n",
              "      <td>0.307800</td>\n",
              "      <td>0.891167</td>\n",
              "      <td>0.433272</td>\n",
              "      <td>0.8567</td>\n",
              "    </tr>\n",
              "    <tr>\n",
              "      <th>1</th>\n",
              "      <td>3 layers</td>\n",
              "      <td>0.312568</td>\n",
              "      <td>0.884783</td>\n",
              "      <td>0.417196</td>\n",
              "      <td>0.8556</td>\n",
              "    </tr>\n",
              "    <tr>\n",
              "      <th>2</th>\n",
              "      <td>5 layers</td>\n",
              "      <td>0.332757</td>\n",
              "      <td>0.880583</td>\n",
              "      <td>0.409345</td>\n",
              "      <td>0.8534</td>\n",
              "    </tr>\n",
              "    <tr>\n",
              "      <th>3</th>\n",
              "      <td>10 layers</td>\n",
              "      <td>0.425103</td>\n",
              "      <td>0.850000</td>\n",
              "      <td>0.479372</td>\n",
              "      <td>0.8336</td>\n",
              "    </tr>\n",
              "  </tbody>\n",
              "</table>\n",
              "</div>"
            ],
            "text/plain": [
              "    approach  loss_train  accuracy_train  loss_test  accuracy_test\n",
              "0   2 layers    0.307800        0.891167   0.433272         0.8567\n",
              "1   3 layers    0.312568        0.884783   0.417196         0.8556\n",
              "2   5 layers    0.332757        0.880583   0.409345         0.8534\n",
              "3  10 layers    0.425103        0.850000   0.479372         0.8336"
            ]
          },
          "metadata": {},
          "execution_count": 11
        }
      ]
    },
    {
      "cell_type": "markdown",
      "metadata": {
        "id": "LmR3dFcRsx1W"
      },
      "source": [
        "Из примера выше видно, что с ростом слоёв при сохранении числа обучаемых параметров качество модели снижается"
      ]
    },
    {
      "cell_type": "markdown",
      "metadata": {
        "id": "Q2M_HvlJx18A"
      },
      "source": [
        "# 2.  Проверьте работу разных оптимизаторов (SGD, Adam, RMSProp) для одной из моделей п.1.Фиксируйте для тренировочного и тестового набора метрики accuracy."
      ]
    },
    {
      "cell_type": "code",
      "metadata": {
        "colab": {
          "base_uri": "https://localhost:8080/",
          "height": 34
        },
        "id": "jaqCLGg3w_Nl",
        "outputId": "2c9dd204-31a7-4f55-a48a-4940b3af850b"
      },
      "source": [
        "modeli_results = {\n",
        "    'approach': [],\n",
        "    'loss_train': [],\n",
        "    'accuracy_train': [],\n",
        "    'loss_test': [],\n",
        "    'accuracy_test': []\n",
        "}\n",
        "\n",
        "# создаем модель model\n",
        "model = Sequential([\n",
        "                      Dense( 64, activation='tanh', input_shape=(784,)),\n",
        "                      Dense(64, activation='tanh'),\n",
        "                      Dense(10, activation='softmax'),\n",
        "                      ])\n",
        "# сохраняем ее веса (это начальная точка) model.save_weights('model.h5')\n",
        "model.save_weights('model.h5')\n",
        "\n",
        "plt.figure(figsize=(16,7))\n",
        "\n",
        "# число рабочих эпох\n",
        "epochs = 15\n",
        "# вектор для выводв результатов\n",
        "epoch = np.arange(epochs+1)\n",
        "\n",
        "# будем изменять оптимизаторы\n",
        "\n",
        "#opt_list = [keras.optimizers.SGD( ),keras.optimizers.Adam( ),keras.optimizers.Nadam( )]\n",
        "for i_optim in ['SGD','RMSProp','adam','NAdam']:\n",
        "  # создаем рабочую модель modeli куда будем загружать эти вес (она должна быть идентичной структуры)\n",
        "  modeli = Sequential([\n",
        "                      Dense(64, activation='tanh', input_shape=(784,)),\n",
        "                      Dense(64, activation='tanh'),\n",
        "                      Dense(10, activation='softmax'),\n",
        "                      ])\n",
        "  # загружаем веса modeli.load_weights('model.h5')\n",
        "  modeli.load_weights('model.h5')\n",
        "  # компилируем modeli с одним из оптимизаторов\n",
        "  modeli.compile(\n",
        "      optimizer=i_optim,\n",
        "      loss='categorical_crossentropy',\n",
        "      metrics=['accuracy'],\n",
        "      )\n",
        "  # проводим обучение модели \n",
        "  modeli.fit(\n",
        "      train_images,\n",
        "      to_categorical(train_labels),\n",
        "      epochs=epochs,\n",
        "      batch_size=32, validation_split=0.2, verbose = 0\n",
        "      )\n",
        "  # Evaluate the model.\n",
        "  metrics_train = modeli.evaluate( \n",
        "    train_images,\n",
        "    y_t,\n",
        "    verbose = 0\n",
        "  )\n",
        "\n",
        "  metrics_test = modeli.evaluate( \n",
        "    test_images,\n",
        "    y_tt,\n",
        "    verbose = 0\n",
        "  )\n",
        "\n",
        "\n",
        "  modeli_results['approach'].append(i_optim)\n",
        "  modeli_results['loss_train'].append(metrics_train[0])\n",
        "  modeli_results['accuracy_train'].append(metrics_train[1])\n",
        "  modeli_results['loss_test'].append(metrics_test[0])\n",
        "  modeli_results['accuracy_test'].append(metrics_test[1])\n",
        "    \n"
      ],
      "execution_count": 12,
      "outputs": [
        {
          "output_type": "display_data",
          "data": {
            "text/plain": [
              "<Figure size 1152x504 with 0 Axes>"
            ]
          },
          "metadata": {}
        }
      ]
    },
    {
      "cell_type": "code",
      "metadata": {
        "colab": {
          "base_uri": "https://localhost:8080/",
          "height": 173
        },
        "id": "thCh9fi4uObF",
        "outputId": "73a64aea-9fbe-44ec-b748-e37fc5ffcbe9"
      },
      "source": [
        "pd.DataFrame(data=modeli_results).sort_values('accuracy_test', ascending=False)"
      ],
      "execution_count": 13,
      "outputs": [
        {
          "output_type": "execute_result",
          "data": {
            "text/html": [
              "<div>\n",
              "<style scoped>\n",
              "    .dataframe tbody tr th:only-of-type {\n",
              "        vertical-align: middle;\n",
              "    }\n",
              "\n",
              "    .dataframe tbody tr th {\n",
              "        vertical-align: top;\n",
              "    }\n",
              "\n",
              "    .dataframe thead th {\n",
              "        text-align: right;\n",
              "    }\n",
              "</style>\n",
              "<table border=\"1\" class=\"dataframe\">\n",
              "  <thead>\n",
              "    <tr style=\"text-align: right;\">\n",
              "      <th></th>\n",
              "      <th>approach</th>\n",
              "      <th>loss_train</th>\n",
              "      <th>accuracy_train</th>\n",
              "      <th>loss_test</th>\n",
              "      <th>accuracy_test</th>\n",
              "    </tr>\n",
              "  </thead>\n",
              "  <tbody>\n",
              "    <tr>\n",
              "      <th>3</th>\n",
              "      <td>NAdam</td>\n",
              "      <td>0.245741</td>\n",
              "      <td>0.910800</td>\n",
              "      <td>0.377040</td>\n",
              "      <td>0.8732</td>\n",
              "    </tr>\n",
              "    <tr>\n",
              "      <th>0</th>\n",
              "      <td>SGD</td>\n",
              "      <td>0.287096</td>\n",
              "      <td>0.897417</td>\n",
              "      <td>0.364342</td>\n",
              "      <td>0.8700</td>\n",
              "    </tr>\n",
              "    <tr>\n",
              "      <th>2</th>\n",
              "      <td>adam</td>\n",
              "      <td>0.263231</td>\n",
              "      <td>0.903983</td>\n",
              "      <td>0.385358</td>\n",
              "      <td>0.8680</td>\n",
              "    </tr>\n",
              "    <tr>\n",
              "      <th>1</th>\n",
              "      <td>RMSProp</td>\n",
              "      <td>0.248266</td>\n",
              "      <td>0.911117</td>\n",
              "      <td>0.391987</td>\n",
              "      <td>0.8678</td>\n",
              "    </tr>\n",
              "  </tbody>\n",
              "</table>\n",
              "</div>"
            ],
            "text/plain": [
              "  approach  loss_train  accuracy_train  loss_test  accuracy_test\n",
              "3    NAdam    0.245741        0.910800   0.377040         0.8732\n",
              "0      SGD    0.287096        0.897417   0.364342         0.8700\n",
              "2     adam    0.263231        0.903983   0.385358         0.8680\n",
              "1  RMSProp    0.248266        0.911117   0.391987         0.8678"
            ]
          },
          "metadata": {},
          "execution_count": 13
        }
      ]
    },
    {
      "cell_type": "markdown",
      "metadata": {
        "id": "-Zc0gsXWyE4_"
      },
      "source": [
        "Из примера выше видно, что accuracy незначительно выше при NAdam. Но при перезапуске сети рйтинг может поменяться, это значит, что на тесте все оптимизаторы примерно одинаковы"
      ]
    },
    {
      "cell_type": "markdown",
      "metadata": {
        "id": "PwTvxejky0NU"
      },
      "source": [
        "# 3. Сделайте вывод - что помогло вам улучшить качество классификации в нейросети на тестовом наборе? "
      ]
    },
    {
      "cell_type": "markdown",
      "metadata": {
        "id": "tbW-2SiKy0ci"
      },
      "source": [
        "Качество модели помог улучшить подбор гиперпараметров - числа нейронов, так же числа слоёв. Выбор ф-ции потерь тоже внёс свой вклад в улучшение модели"
      ]
    },
    {
      "cell_type": "markdown",
      "metadata": {
        "id": "3aWw-KAZzqav"
      },
      "source": [
        "# 4. Для одного варианта сетей сформируйте матрицу ошибок по классам. Оцените качество модели по каждому классу отдельно (полнота , точность). Сделайте вывод."
      ]
    },
    {
      "cell_type": "code",
      "metadata": {
        "id": "zhwYYpaQd7rr"
      },
      "source": [
        "y_pred = modeli.predict(test_images)\n",
        "y_pred_class = np.argmax(y_pred,axis=1)\n",
        "\n",
        "conf_matrix = multilabel_confusion_matrix(test_labels, y_pred_class)"
      ],
      "execution_count": 14,
      "outputs": []
    },
    {
      "cell_type": "code",
      "metadata": {
        "id": "76IhFUYElfOZ"
      },
      "source": [
        "labels = [\"\".join(str(i)) for i in ['T-shirt/top - 0','Trouser - 1','Pullover - 2','Dress - 3','Coat - 4','Sandal - 5','Shirt - 6','Sneaker - 7','Bag - 8','Ankle boot - 9']]\n",
        "\n",
        "def print_confusion_matrix(confusion_matrix, axes, class_label, class_names, fontsize=14):\n",
        "\n",
        "    df_cm = pd.DataFrame(\n",
        "        confusion_matrix, index=class_names, columns=class_names,\n",
        "    )\n",
        "\n",
        "    try:\n",
        "        heatmap = sns.heatmap(df_cm, annot=True, fmt=\"d\", cbar=False, ax=axes)\n",
        "    except ValueError:\n",
        "        raise ValueError(\"Confusion matrix values must be integers.\")\n",
        "    heatmap.yaxis.set_ticklabels(heatmap.yaxis.get_ticklabels(), rotation=0, ha='right', fontsize=fontsize)\n",
        "    heatmap.xaxis.set_ticklabels(heatmap.xaxis.get_ticklabels(), rotation=45, ha='right', fontsize=fontsize)\n",
        "    axes.set_ylabel('True label')\n",
        "    axes.set_xlabel('Predicted label')\n",
        "    axes.set_title(\"Conf matr for \" + class_label)"
      ],
      "execution_count": 15,
      "outputs": []
    },
    {
      "cell_type": "code",
      "metadata": {
        "colab": {
          "base_uri": "https://localhost:8080/",
          "height": 585
        },
        "id": "bNOKNjE6oCLq",
        "outputId": "73745bd5-adbe-4ec1-cdc4-b8b894d56014"
      },
      "source": [
        "fig, ax = plt.subplots(2, 5, figsize=(20, 8))\n",
        "    \n",
        "for axes, cfs_matrix, label in zip(ax.flatten(), conf_matrix, labels):\n",
        "    print_confusion_matrix(cfs_matrix, axes, label, [\"0\", \"1\"])\n",
        "    \n",
        "fig.tight_layout()\n",
        "plt.show()"
      ],
      "execution_count": 16,
      "outputs": [
        {
          "output_type": "display_data",
          "data": {
            "image/png": "[encoded data removed]",
            "text/plain": [
              "<Figure size 1440x576 with 10 Axes>"
            ]
          },
          "metadata": {
            "needs_background": "light"
          }
        }
      ]
    },
    {
      "cell_type": "code",
      "metadata": {
        "colab": {
          "base_uri": "https://localhost:8080/"
        },
        "id": "sDhInX-cuCl0",
        "outputId": "7130dfd8-9e54-493d-df43-b6da05b49f37"
      },
      "source": [
        "# Вывод метрик по каждому классу\n",
        "class_names = ['T-shirt/top - 0','Trouser - 1','Pullover - 2','Dress - 3','Coat - 4','Sandal - 5','Shirt - 6','Sneaker - 7','Bag - 8','Ankle boot - 9']\n",
        "print(classification_report(test_labels, y_pred_class, target_names=class_names))"
      ],
      "execution_count": 17,
      "outputs": [
        {
          "output_type": "stream",
          "name": "stdout",
          "text": [
            "                 precision    recall  f1-score   support\n",
            "\n",
            "T-shirt/top - 0       0.78      0.88      0.83      1000\n",
            "    Trouser - 1       0.98      0.95      0.97      1000\n",
            "   Pullover - 2       0.78      0.81      0.79      1000\n",
            "      Dress - 3       0.85      0.88      0.87      1000\n",
            "       Coat - 4       0.77      0.80      0.78      1000\n",
            "     Sandal - 5       0.95      0.96      0.95      1000\n",
            "      Shirt - 6       0.76      0.60      0.67      1000\n",
            "    Sneaker - 7       0.94      0.94      0.94      1000\n",
            "        Bag - 8       0.97      0.97      0.97      1000\n",
            " Ankle boot - 9       0.95      0.95      0.95      1000\n",
            "\n",
            "       accuracy                           0.87     10000\n",
            "      macro avg       0.87      0.87      0.87     10000\n",
            "   weighted avg       0.87      0.87      0.87     10000\n",
            "\n"
          ]
        }
      ]
    },
    {
      "cell_type": "markdown",
      "metadata": {
        "id": "eUVhmimFvp-k"
      },
      "source": [
        "Посмотрим на результат предсказаний  (inference) для обученной модели"
      ]
    },
    {
      "cell_type": "code",
      "metadata": {
        "colab": {
          "base_uri": "https://localhost:8080/",
          "height": 205
        },
        "id": "wj7fhqd3FKFe",
        "outputId": "d31e0fee-d99c-4589-e2f7-c5f0ebfb118b"
      },
      "source": [
        "N = 9\n",
        "y_pred = modeli.predict(test_images[:N,:])\n",
        "y_pred_class = np.argmax(y_pred,axis=1)\n",
        "y_pred_class1 = np.array(y_pred_class, dtype=str)\n",
        "y_pred_class1[y_pred_class1 == '0'] = str('T-shirt/top')\n",
        "y_pred_class1[y_pred_class1 == '1'] = str('Trouser')\n",
        "y_pred_class1[y_pred_class1 == '2'] = str('Pullover')\n",
        "y_pred_class1[y_pred_class1 == '3'] = str('Dress')\n",
        "y_pred_class1[y_pred_class1 == '4'] = str('Coat')\n",
        "y_pred_class1[y_pred_class1 == '5'] = str('Sandal')\n",
        "y_pred_class1[y_pred_class1 == '6'] = str('Shirt')\n",
        "y_pred_class1[y_pred_class1 == '7'] = str('Sneaker')\n",
        "y_pred_class1[y_pred_class1 == '8'] = str('Bag')\n",
        "y_pred_class1[y_pred_class1 == '9'] = str('Ankle boot')\n",
        "plt.figure(figsize =(3*N,5))\n",
        "for i in range(N):\n",
        "  plt.subplot(1,N,i+1)\n",
        "  plt.imshow(test_images[i,:].reshape(28,28))\n",
        "  plt.xlabel(str(y_pred_class1[i]))\n",
        "plt.show()  "
      ],
      "execution_count": 18,
      "outputs": [
        {
          "output_type": "display_data",
          "data": {
            "image/png": "[encoded data removed]",
            "text/plain": [
              "<Figure size 1944x360 with 9 Axes>"
            ]
          },
          "metadata": {
            "needs_background": "light"
          }
        }
      ]
    },
    {
      "cell_type": "markdown",
      "metadata": {
        "id": "lbxI96U04TAf"
      },
      "source": [
        "Вывод: результаты отличаются для разных классов. Вероятно из-за того, что некоторые классы схожи между собой и их классификация менее точна. К примеру классы 'Trouser - 1', 'Bag - 8' не имеют схожих классов и их классификация более точна."
      ]
    }
  ]
}