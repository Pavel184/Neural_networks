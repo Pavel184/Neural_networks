{
  "nbformat": 4,
  "nbformat_minor": 0,
  "metadata": {
    "colab": {
      "name": "Homework_lesson_8.ipynb",
      "provenance": [],
      "collapsed_sections": [],
      "include_colab_link": true
    },
    "kernelspec": {
      "display_name": "Python 3",
      "language": "python",
      "name": "python3"
    },
    "language_info": {
      "codemirror_mode": {
        "name": "ipython",
        "version": 3
      },
      "file_extension": ".py",
      "mimetype": "text/x-python",
      "name": "python",
      "nbconvert_exporter": "python",
      "pygments_lexer": "ipython3",
      "version": "3.7.0"
    },
    "accelerator": "GPU"
  },
  "cells": [
    {
      "cell_type": "markdown",
      "metadata": {
        "id": "view-in-github",
        "colab_type": "text"
      },
      "source": [
        "<a href=\"https://colab.research.google.com/github/Pavel184/Neural_networks/blob/Homework_lesson_8/Homework_lesson_8.ipynb\" target=\"_parent\"><img src=\"https://colab.research.google.com/assets/colab-badge.svg\" alt=\"Open In Colab\"/></a>"
      ]
    },
    {
      "cell_type": "markdown",
      "metadata": {
        "id": "TCdGFvtyItIK"
      },
      "source": [
        "# GAN  `Model.train_step`\n",
        "\n",
        "(https://twitter.com/fchollet)\n"
      ]
    },
    {
      "cell_type": "markdown",
      "metadata": {
        "id": "WZn7_uCAItIM"
      },
      "source": [
        "## Загрузка модулей"
      ]
    },
    {
      "cell_type": "code",
      "metadata": {
        "id": "QPbdfnz4ItIO"
      },
      "source": [
        "import tensorflow as tf\n",
        "from tensorflow import keras\n",
        "from keras_preprocessing.image import ImageDataGenerator\n",
        "from tensorflow.keras import layers\n",
        "import numpy as np\n",
        "import tempfile\n",
        "from google.colab import files"
      ],
      "execution_count": 1,
      "outputs": []
    },
    {
      "cell_type": "code",
      "metadata": {
        "colab": {
          "base_uri": "https://localhost:8080/"
        },
        "id": "2bFReJJBsBOV",
        "outputId": "60fdb15b-7bb0-48ab-dcac-1bb7173574bc"
      },
      "source": [
        "from google.colab import drive\n",
        "\n",
        "drive.mount('/content/drive')"
      ],
      "execution_count": 2,
      "outputs": [
        {
          "output_type": "stream",
          "name": "stdout",
          "text": [
            "Mounted at /content/drive\n"
          ]
        }
      ]
    },
    {
      "cell_type": "code",
      "metadata": {
        "id": "T49QVV7O3uj0"
      },
      "source": [
        "root_path = '/content/drive/My Drive/Colab Notebooks/data/'"
      ],
      "execution_count": 3,
      "outputs": []
    },
    {
      "cell_type": "code",
      "metadata": {
        "id": "1mjzZ1ZWniTg",
        "colab": {
          "base_uri": "https://localhost:8080/"
        },
        "outputId": "10197cf6-70c1-4ef9-a9b2-e2fc1f27f6c6"
      },
      "source": [
        "datagen = ImageDataGenerator(rescale=1. / 255)\n",
        "train_ds = tf.keras.utils.image_dataset_from_directory(root_path, image_size=(128,128), batch_size=5, class_names=None)\n",
        "for images, lable in train_ds.take(1):\n",
        "  images\n",
        "images = np.reshape(images, (-1, 128, 128, 3))\n",
        "train = tf.data.Dataset.from_tensor_slices(images)\n",
        "train = train.shuffle(buffer_size=19).batch(10).prefetch(32)"
      ],
      "execution_count": 4,
      "outputs": [
        {
          "output_type": "stream",
          "name": "stdout",
          "text": [
            "Found 20 files belonging to 2 classes.\n"
          ]
        }
      ]
    },
    {
      "cell_type": "code",
      "metadata": {
        "id": "UsGJwejM9vOP",
        "colab": {
          "base_uri": "https://localhost:8080/"
        },
        "outputId": "e17f0bab-cb9d-4d41-ce6c-5ad7e389b50c"
      },
      "source": [
        "train"
      ],
      "execution_count": 5,
      "outputs": [
        {
          "output_type": "execute_result",
          "data": {
            "text/plain": [
              "<PrefetchDataset shapes: (None, 128, 128, 3), types: tf.float32>"
            ]
          },
          "metadata": {},
          "execution_count": 5
        }
      ]
    },
    {
      "cell_type": "markdown",
      "metadata": {
        "id": "5eL0jLVLItIV"
      },
      "source": [
        "## строим Fashion_MNIST data"
      ]
    },
    {
      "cell_type": "code",
      "metadata": {
        "id": "r_5cxeh_ItIW",
        "colab": {
          "base_uri": "https://localhost:8080/"
        },
        "outputId": "e3a35196-9fca-40ca-8f0d-b1265ed9ee9c"
      },
      "source": [
        "# fashion MNIST \n",
        "class_ = 4\n",
        "batch_size = 64\n",
        "(x_train, y), (x_test, yt) = keras.datasets.fashion_mnist.load_data()\n"
      ],
      "execution_count": 6,
      "outputs": [
        {
          "output_type": "stream",
          "name": "stdout",
          "text": [
            "Downloading data from https://storage.googleapis.com/tensorflow/tf-keras-datasets/train-labels-idx1-ubyte.gz\n",
            "32768/29515 [=================================] - 0s 0us/step\n",
            "40960/29515 [=========================================] - 0s 0us/step\n",
            "Downloading data from https://storage.googleapis.com/tensorflow/tf-keras-datasets/train-images-idx3-ubyte.gz\n",
            "26427392/26421880 [==============================] - 0s 0us/step\n",
            "26435584/26421880 [==============================] - 0s 0us/step\n",
            "Downloading data from https://storage.googleapis.com/tensorflow/tf-keras-datasets/t10k-labels-idx1-ubyte.gz\n",
            "16384/5148 [===============================================================================================] - 0s 0us/step\n",
            "Downloading data from https://storage.googleapis.com/tensorflow/tf-keras-datasets/t10k-images-idx3-ubyte.gz\n",
            "4423680/4422102 [==============================] - 0s 0us/step\n",
            "4431872/4422102 [==============================] - 0s 0us/step\n"
          ]
        }
      ]
    },
    {
      "cell_type": "code",
      "metadata": {
        "id": "TbC70xDTlvis"
      },
      "source": [
        "all_digits = np.concatenate([x_train, x_test])\n"
      ],
      "execution_count": 7,
      "outputs": []
    },
    {
      "cell_type": "code",
      "metadata": {
        "id": "OEA0Vu3slvth"
      },
      "source": [
        "all_digits = all_digits.astype(\"float32\") / 255\n"
      ],
      "execution_count": 8,
      "outputs": []
    },
    {
      "cell_type": "code",
      "metadata": {
        "id": "3PV38ee4l0jS"
      },
      "source": [
        "ind_i = np.where(y == class_)\n",
        "ind_it = np.where(yt == class_)\n",
        "all_digits = all_digits[ind_i,:,:]\n"
      ],
      "execution_count": 9,
      "outputs": []
    },
    {
      "cell_type": "code",
      "metadata": {
        "id": "QX3AgOqLl0ov"
      },
      "source": [
        "all_digits = np.reshape(all_digits, (-1, 28, 28, 1))\n"
      ],
      "execution_count": 10,
      "outputs": []
    },
    {
      "cell_type": "code",
      "metadata": {
        "id": "t_q_FK_ol0vP"
      },
      "source": [
        "dataset = tf.data.Dataset.from_tensor_slices(all_digits)\n"
      ],
      "execution_count": 11,
      "outputs": []
    },
    {
      "cell_type": "code",
      "metadata": {
        "id": "9sKAbF1Ql02d"
      },
      "source": [
        "dataset = dataset.shuffle(buffer_size=1024).batch(batch_size).prefetch(32)"
      ],
      "execution_count": 12,
      "outputs": []
    },
    {
      "cell_type": "code",
      "metadata": {
        "colab": {
          "base_uri": "https://localhost:8080/"
        },
        "id": "32AWELfhl05m",
        "outputId": "d5a21ed8-0e60-4708-9c5c-de5f738f9a8e"
      },
      "source": [
        "dataset"
      ],
      "execution_count": 13,
      "outputs": [
        {
          "output_type": "execute_result",
          "data": {
            "text/plain": [
              "<PrefetchDataset shapes: (None, 28, 28, 1), types: tf.float32>"
            ]
          },
          "metadata": {},
          "execution_count": 13
        }
      ]
    },
    {
      "cell_type": "code",
      "metadata": {
        "id": "GeCjlwfhZT0P"
      },
      "source": [
        "import matplotlib.pyplot as plt\n"
      ],
      "execution_count": 14,
      "outputs": []
    },
    {
      "cell_type": "code",
      "metadata": {
        "colab": {
          "base_uri": "https://localhost:8080/",
          "height": 265
        },
        "id": "qbnIlirqZK_t",
        "outputId": "907adf5a-1a2b-4745-ac4a-d65781d927bf"
      },
      "source": [
        "plt.imshow(all_digits[0,:,:,0])\n",
        "plt.show()"
      ],
      "execution_count": 15,
      "outputs": [
        {
          "output_type": "display_data",
          "data": {
            "image/png": "[encoded data removed]",
            "text/plain": [
              "<Figure size 432x288 with 1 Axes>"
            ]
          },
          "metadata": {
            "needs_background": "light"
          }
        }
      ]
    },
    {
      "cell_type": "code",
      "metadata": {
        "colab": {
          "base_uri": "https://localhost:8080/",
          "height": 268
        },
        "id": "YTnsWPgfA5Sq",
        "outputId": "7b87b86f-814d-455a-a9ad-e714dd4fc8fa"
      },
      "source": [
        "plt.imshow(images[2,:,:,0])\n",
        "plt.show()"
      ],
      "execution_count": 16,
      "outputs": [
        {
          "output_type": "display_data",
          "data": {
            "image/png": "[encoded data removed]",
            "text/plain": [
              "<Figure size 432x288 with 1 Axes>"
            ]
          },
          "metadata": {
            "needs_background": "light"
          }
        }
      ]
    },
    {
      "cell_type": "markdown",
      "metadata": {
        "id": "KSzjIvdd_rrZ"
      },
      "source": [
        "## GAN for custom dataset"
      ]
    },
    {
      "cell_type": "markdown",
      "metadata": {
        "id": "Z9GINZz5ItIb"
      },
      "source": [
        "## Строим discriminator\n",
        "\n",
        "размер карты 128x128 и бинарная классификация (настоящее изображение или генерировано)."
      ]
    },
    {
      "cell_type": "code",
      "metadata": {
        "id": "K99eZdkgItIc",
        "colab": {
          "base_uri": "https://localhost:8080/"
        },
        "outputId": "6e7471e3-e9a3-4fcb-ac25-c8c5521c1534"
      },
      "source": [
        "discriminator = keras.Sequential(\n",
        "    [\n",
        "        keras.Input(shape=(128, 128, 3)),\n",
        "        layers.Conv2D(32, (3, 3), strides=(2, 2), padding=\"same\"),\n",
        "        layers.LeakyReLU(alpha=0.2),\n",
        "        layers.Conv2D(64, (3, 3), strides=(2, 2), padding=\"same\"),\n",
        "        layers.LeakyReLU(alpha=0.2),\n",
        "        layers.GlobalMaxPooling2D(),\n",
        "        layers.Dense(1),\n",
        "    ],\n",
        "    name=\"discriminator\",\n",
        ")\n",
        "\n",
        "discriminator.summary()"
      ],
      "execution_count": 17,
      "outputs": [
        {
          "output_type": "stream",
          "name": "stdout",
          "text": [
            "Model: \"discriminator\"\n",
            "_________________________________________________________________\n",
            "Layer (type)                 Output Shape              Param #   \n",
            "=================================================================\n",
            "conv2d (Conv2D)              (None, 64, 64, 32)        896       \n",
            "_________________________________________________________________\n",
            "leaky_re_lu (LeakyReLU)      (None, 64, 64, 32)        0         \n",
            "_________________________________________________________________\n",
            "conv2d_1 (Conv2D)            (None, 32, 32, 64)        18496     \n",
            "_________________________________________________________________\n",
            "leaky_re_lu_1 (LeakyReLU)    (None, 32, 32, 64)        0         \n",
            "_________________________________________________________________\n",
            "global_max_pooling2d (Global (None, 64)                0         \n",
            "_________________________________________________________________\n",
            "dense (Dense)                (None, 1)                 65        \n",
            "=================================================================\n",
            "Total params: 19,457\n",
            "Trainable params: 19,457\n",
            "Non-trainable params: 0\n",
            "_________________________________________________________________\n"
          ]
        }
      ]
    },
    {
      "cell_type": "markdown",
      "metadata": {
        "id": "eodbCQ1WItIh"
      },
      "source": [
        "## Строим generator\n",
        "\n",
        "обратное по отношению к дискриминатору преобразование, меняем `Conv2D` на `Conv2DTranspose` ."
      ]
    },
    {
      "cell_type": "code",
      "metadata": {
        "id": "PY5lCMxqItIi",
        "colab": {
          "base_uri": "https://localhost:8080/"
        },
        "outputId": "ff0580b3-816c-4f97-aaf2-99b49e5b3c1d"
      },
      "source": [
        "latent_dim = 256\n",
        "\n",
        "generator = keras.Sequential(\n",
        "    [\n",
        "        keras.Input(shape=(latent_dim,)),\n",
        "        # строим размер входного вектора 7x7x128 map\n",
        "        layers.Dense(8 * 8 * 128),\n",
        "        layers.LeakyReLU(alpha=0.2),\n",
        "        layers.Reshape((8, 8, 128)),\n",
        "        layers.Conv2DTranspose(128, (4, 4), strides=(2, 2), padding=\"same\"),\n",
        "        layers.LeakyReLU(alpha=0.2),\n",
        "        layers.Conv2DTranspose(256, (4, 4), strides=(2, 2), padding=\"same\"),\n",
        "        layers.LeakyReLU(alpha=0.2),\n",
        "        layers.Conv2DTranspose(512, (4, 4), strides=(2, 2), padding=\"same\"),\n",
        "        layers.LeakyReLU(alpha=0.2),\n",
        "        layers.Conv2DTranspose(1024, (4, 4), strides=(2, 2), padding=\"same\"),\n",
        "        layers.LeakyReLU(alpha=0.2),\n",
        "        layers.Conv2D(3, (7, 7), padding=\"same\", activation=\"sigmoid\"),\n",
        "    ],\n",
        "    name=\"generator\",\n",
        ")\n",
        "\n",
        "generator.summary()"
      ],
      "execution_count": 18,
      "outputs": [
        {
          "output_type": "stream",
          "name": "stdout",
          "text": [
            "Model: \"generator\"\n",
            "_________________________________________________________________\n",
            "Layer (type)                 Output Shape              Param #   \n",
            "=================================================================\n",
            "dense_1 (Dense)              (None, 8192)              2105344   \n",
            "_________________________________________________________________\n",
            "leaky_re_lu_2 (LeakyReLU)    (None, 8192)              0         \n",
            "_________________________________________________________________\n",
            "reshape (Reshape)            (None, 8, 8, 128)         0         \n",
            "_________________________________________________________________\n",
            "conv2d_transpose (Conv2DTran (None, 16, 16, 128)       262272    \n",
            "_________________________________________________________________\n",
            "leaky_re_lu_3 (LeakyReLU)    (None, 16, 16, 128)       0         \n",
            "_________________________________________________________________\n",
            "conv2d_transpose_1 (Conv2DTr (None, 32, 32, 256)       524544    \n",
            "_________________________________________________________________\n",
            "leaky_re_lu_4 (LeakyReLU)    (None, 32, 32, 256)       0         \n",
            "_________________________________________________________________\n",
            "conv2d_transpose_2 (Conv2DTr (None, 64, 64, 512)       2097664   \n",
            "_________________________________________________________________\n",
            "leaky_re_lu_5 (LeakyReLU)    (None, 64, 64, 512)       0         \n",
            "_________________________________________________________________\n",
            "conv2d_transpose_3 (Conv2DTr (None, 128, 128, 1024)    8389632   \n",
            "_________________________________________________________________\n",
            "leaky_re_lu_6 (LeakyReLU)    (None, 128, 128, 1024)    0         \n",
            "_________________________________________________________________\n",
            "conv2d_2 (Conv2D)            (None, 128, 128, 3)       150531    \n",
            "=================================================================\n",
            "Total params: 13,529,987\n",
            "Trainable params: 13,529,987\n",
            "Non-trainable params: 0\n",
            "_________________________________________________________________\n"
          ]
        }
      ]
    },
    {
      "cell_type": "markdown",
      "metadata": {
        "id": "kpX7dJvAItIn"
      },
      "source": [
        "## Класс со своим этапом обучения `train_step`"
      ]
    },
    {
      "cell_type": "code",
      "metadata": {
        "id": "oHP6aHUfItIo"
      },
      "source": [
        "\n",
        "class GAN(keras.Model):\n",
        "    def __init__(self, discriminator, generator, latent_dim):\n",
        "        super(GAN, self).__init__()\n",
        "        self.discriminator = discriminator\n",
        "        self.generator = generator\n",
        "        self.latent_dim = latent_dim\n",
        "\n",
        "    def compile(self, d_optimizer, g_optimizer, loss_fn):\n",
        "        super(GAN, self).compile()\n",
        "        self.d_optimizer = d_optimizer\n",
        "        self.g_optimizer = g_optimizer\n",
        "        self.loss_fn = loss_fn\n",
        "\n",
        "    def train_step(self, real_images):\n",
        "        if isinstance(real_images, tuple):\n",
        "            real_images = real_images[0]\n",
        "        # берем случайный пример из скрытого пространства\n",
        "        batch_size = tf.shape(real_images)[0]\n",
        "        random_latent_vectors = tf.random.normal(shape=(batch_size, self.latent_dim))\n",
        "\n",
        "        # Строим по нему фейковое изображение\n",
        "        generated_images = self.generator(random_latent_vectors)\n",
        "\n",
        "        # собрали с реальным в текзор\n",
        "        combined_images = tf.concat([generated_images, real_images], axis=0)\n",
        "\n",
        "        # задаем метки 1 и 0 соответственно\n",
        "        labels = tf.concat(\n",
        "            [tf.ones((batch_size, 1)), tf.zeros((batch_size, 1))], axis=0\n",
        "        )\n",
        "        # Добавляем шум !!!\n",
        "        labels += 0.05 * tf.random.uniform(tf.shape(labels))\n",
        "\n",
        "        # учим discriminator\n",
        "        with tf.GradientTape() as tape:\n",
        "            predictions = self.discriminator(combined_images)\n",
        "            d_loss = self.loss_fn(labels, predictions)\n",
        "        grads = tape.gradient(d_loss, self.discriminator.trainable_weights)\n",
        "        self.d_optimizer.apply_gradients(\n",
        "            zip(grads, self.discriminator.trainable_weights)\n",
        "        )\n",
        "\n",
        "        #Выбрали случайный пример в скрытом пространстве\n",
        "        random_latent_vectors = tf.random.normal(shape=(batch_size, self.latent_dim))\n",
        "\n",
        "        # собрали метки реальных изображений\n",
        "        misleading_labels = tf.zeros((batch_size, 1))\n",
        "\n",
        "        # Учим generator !\n",
        "        with tf.GradientTape() as tape:\n",
        "            predictions = self.discriminator(self.generator(random_latent_vectors))\n",
        "            g_loss = self.loss_fn(misleading_labels, predictions)\n",
        "        grads = tape.gradient(g_loss, self.generator.trainable_weights)\n",
        "        self.g_optimizer.apply_gradients(zip(grads, self.generator.trainable_weights))\n",
        "        return {\"d_loss\": d_loss, \"g_loss\": g_loss}\n"
      ],
      "execution_count": 19,
      "outputs": []
    },
    {
      "cell_type": "markdown",
      "metadata": {
        "id": "P4rYDb3qItIs"
      },
      "source": [
        "## Callback для сохранения изображений по ходу обучения"
      ]
    },
    {
      "cell_type": "code",
      "metadata": {
        "id": "QoLCvAe7ItIt"
      },
      "source": [
        "\n",
        "class GANMonitor(keras.callbacks.Callback):\n",
        "    def __init__(self, num_img=3, latent_dim=128):\n",
        "        self.num_img = num_img\n",
        "        self.latent_dim = latent_dim\n",
        "\n",
        "    def on_epoch_end(self, epoch, logs=None):\n",
        "        random_latent_vectors = tf.random.normal(shape=(self.num_img, self.latent_dim))\n",
        "        generated_images = self.model.generator(random_latent_vectors)\n",
        "        generated_images *= 255\n",
        "        generated_images.numpy()\n",
        "        for i in range(self.num_img):\n",
        "            img = keras.preprocessing.image.array_to_img(generated_images[i])\n",
        "            img.save(\"generated_img_{i}_{epoch}.png\".format(i=i, epoch=epoch))\n"
      ],
      "execution_count": 20,
      "outputs": []
    },
    {
      "cell_type": "markdown",
      "metadata": {
        "id": "YiMWOk1_ItIz"
      },
      "source": [
        "## Учим end-to-end модель"
      ]
    },
    {
      "cell_type": "code",
      "metadata": {
        "id": "HZSj0hUHItI0",
        "colab": {
          "base_uri": "https://localhost:8080/"
        },
        "outputId": "7b1eb058-7533-4529-e4dd-5e6d5adcbd34"
      },
      "source": [
        "epochs = 300\n",
        "\n",
        "gan_1 = GAN(discriminator=discriminator, generator=generator, latent_dim=latent_dim)\n",
        "gan_1.compile(\n",
        "    d_optimizer=keras.optimizers.Adam(learning_rate=0.0003),\n",
        "    g_optimizer=keras.optimizers.Adam(learning_rate=0.0003),\n",
        "    loss_fn=keras.losses.BinaryCrossentropy(from_logits=True),\n",
        ")\n",
        "\n",
        "gan_1.fit(\n",
        "    train, epochs=epochs, callbacks=[GANMonitor(num_img=3, latent_dim=latent_dim)]\n",
        ")"
      ],
      "execution_count": 21,
      "outputs": [
        {
          "output_type": "stream",
          "name": "stdout",
          "text": [
            "Epoch 1/300\n",
            "1/1 [==============================] - 41s 41s/step - d_loss: 22.3844 - g_loss: 0.7293\n",
            "Epoch 2/300\n",
            "1/1 [==============================] - 2s 2s/step - d_loss: 12.8979 - g_loss: 0.7090\n",
            "Epoch 3/300\n",
            "1/1 [==============================] - 1s 1s/step - d_loss: 4.3233 - g_loss: 0.6889\n",
            "Epoch 4/300\n",
            "1/1 [==============================] - 1s 1s/step - d_loss: 0.4733 - g_loss: 0.6731\n",
            "Epoch 5/300\n",
            "1/1 [==============================] - 1s 1s/step - d_loss: 0.8360 - g_loss: 0.6586\n",
            "Epoch 6/300\n",
            "1/1 [==============================] - 1s 1s/step - d_loss: 0.6911 - g_loss: 0.6420\n",
            "Epoch 7/300\n",
            "1/1 [==============================] - 1s 1s/step - d_loss: 0.8095 - g_loss: 0.6187\n",
            "Epoch 8/300\n",
            "1/1 [==============================] - 1s 1s/step - d_loss: 1.1109 - g_loss: 0.5846\n",
            "Epoch 9/300\n",
            "1/1 [==============================] - 1s 1s/step - d_loss: 1.2255 - g_loss: 0.5458\n",
            "Epoch 10/300\n",
            "1/1 [==============================] - 1s 1s/step - d_loss: 1.4802 - g_loss: 0.5183\n",
            "Epoch 11/300\n",
            "1/1 [==============================] - 1s 1s/step - d_loss: 1.3004 - g_loss: 0.4960\n",
            "Epoch 12/300\n",
            "1/1 [==============================] - 1s 1s/step - d_loss: 1.4035 - g_loss: 0.4731\n",
            "Epoch 13/300\n",
            "1/1 [==============================] - 1s 1s/step - d_loss: 1.3436 - g_loss: 0.4514\n",
            "Epoch 14/300\n",
            "1/1 [==============================] - 1s 1s/step - d_loss: 1.6852 - g_loss: 0.4350\n",
            "Epoch 15/300\n",
            "1/1 [==============================] - 1s 1s/step - d_loss: 1.5489 - g_loss: 0.4214\n",
            "Epoch 16/300\n",
            "1/1 [==============================] - 1s 1s/step - d_loss: 0.8670 - g_loss: 0.4201\n",
            "Epoch 17/300\n",
            "1/1 [==============================] - 1s 1s/step - d_loss: 1.6270 - g_loss: 0.4150\n",
            "Epoch 18/300\n",
            "1/1 [==============================] - 1s 1s/step - d_loss: 2.2587 - g_loss: 0.4034\n",
            "Epoch 19/300\n",
            "1/1 [==============================] - 1s 1s/step - d_loss: 1.3466 - g_loss: 0.3891\n",
            "Epoch 20/300\n",
            "1/1 [==============================] - 1s 1s/step - d_loss: 1.8836 - g_loss: 0.3827\n",
            "Epoch 21/300\n",
            "1/1 [==============================] - 1s 1s/step - d_loss: 2.4659 - g_loss: 0.3747\n",
            "Epoch 22/300\n",
            "1/1 [==============================] - 1s 1s/step - d_loss: 1.6654 - g_loss: 0.3738\n",
            "Epoch 23/300\n",
            "1/1 [==============================] - 1s 1s/step - d_loss: 2.1474 - g_loss: 0.3715\n",
            "Epoch 24/300\n",
            "1/1 [==============================] - 1s 1s/step - d_loss: 1.3731 - g_loss: 0.3656\n",
            "Epoch 25/300\n",
            "1/1 [==============================] - 1s 1s/step - d_loss: 1.8208 - g_loss: 0.3562\n",
            "Epoch 26/300\n",
            "1/1 [==============================] - 1s 1s/step - d_loss: 1.9581 - g_loss: 0.3606\n",
            "Epoch 27/300\n",
            "1/1 [==============================] - 1s 1s/step - d_loss: 1.7075 - g_loss: 0.3531\n",
            "Epoch 28/300\n",
            "1/1 [==============================] - 1s 1s/step - d_loss: 1.4206 - g_loss: 0.3532\n",
            "Epoch 29/300\n",
            "1/1 [==============================] - 1s 1s/step - d_loss: 1.7247 - g_loss: 0.3560\n",
            "Epoch 30/300\n",
            "1/1 [==============================] - 1s 1s/step - d_loss: 2.0360 - g_loss: 0.3491\n",
            "Epoch 31/300\n",
            "1/1 [==============================] - 1s 1s/step - d_loss: 2.4412 - g_loss: 0.3520\n",
            "Epoch 32/300\n",
            "1/1 [==============================] - 1s 1s/step - d_loss: 2.1415 - g_loss: 0.3547\n",
            "Epoch 33/300\n",
            "1/1 [==============================] - 1s 1s/step - d_loss: 1.8388 - g_loss: 0.3554\n",
            "Epoch 34/300\n",
            "1/1 [==============================] - 1s 1s/step - d_loss: 1.7741 - g_loss: 0.3600\n",
            "Epoch 35/300\n",
            "1/1 [==============================] - 1s 1s/step - d_loss: 1.8116 - g_loss: 0.3679\n",
            "Epoch 36/300\n",
            "1/1 [==============================] - 1s 1s/step - d_loss: 1.8703 - g_loss: 0.3686\n",
            "Epoch 37/300\n",
            "1/1 [==============================] - 1s 1s/step - d_loss: 2.2801 - g_loss: 0.3727\n",
            "Epoch 38/300\n",
            "1/1 [==============================] - 1s 1s/step - d_loss: 1.5365 - g_loss: 0.3769\n",
            "Epoch 39/300\n",
            "1/1 [==============================] - 1s 1s/step - d_loss: 1.5014 - g_loss: 0.3829\n",
            "Epoch 40/300\n",
            "1/1 [==============================] - 1s 1s/step - d_loss: 1.4727 - g_loss: 0.3872\n",
            "Epoch 41/300\n",
            "1/1 [==============================] - 1s 1s/step - d_loss: 1.6499 - g_loss: 0.3894\n",
            "Epoch 42/300\n",
            "1/1 [==============================] - 1s 1s/step - d_loss: 2.2148 - g_loss: 0.3949\n",
            "Epoch 43/300\n",
            "1/1 [==============================] - 1s 1s/step - d_loss: 1.4510 - g_loss: 0.4000\n",
            "Epoch 44/300\n",
            "1/1 [==============================] - 1s 1s/step - d_loss: 1.1809 - g_loss: 0.4048\n",
            "Epoch 45/300\n",
            "1/1 [==============================] - 1s 1s/step - d_loss: 1.4958 - g_loss: 0.4094\n",
            "Epoch 46/300\n",
            "1/1 [==============================] - 1s 1s/step - d_loss: 1.2437 - g_loss: 0.4177\n",
            "Epoch 47/300\n",
            "1/1 [==============================] - 1s 1s/step - d_loss: 1.7809 - g_loss: 0.4227\n",
            "Epoch 48/300\n",
            "1/1 [==============================] - 1s 1s/step - d_loss: 1.2515 - g_loss: 0.4326\n",
            "Epoch 49/300\n",
            "1/1 [==============================] - 1s 1s/step - d_loss: 1.6056 - g_loss: 0.4405\n",
            "Epoch 50/300\n",
            "1/1 [==============================] - 1s 1s/step - d_loss: 1.4252 - g_loss: 0.4457\n",
            "Epoch 51/300\n",
            "1/1 [==============================] - 1s 1s/step - d_loss: 1.1123 - g_loss: 0.4519\n",
            "Epoch 52/300\n",
            "1/1 [==============================] - 1s 1s/step - d_loss: 1.3808 - g_loss: 0.4603\n",
            "Epoch 53/300\n",
            "1/1 [==============================] - 1s 1s/step - d_loss: 1.3147 - g_loss: 0.4623\n",
            "Epoch 54/300\n",
            "1/1 [==============================] - 1s 1s/step - d_loss: 1.1035 - g_loss: 0.4657\n",
            "Epoch 55/300\n",
            "1/1 [==============================] - 1s 1s/step - d_loss: 1.4028 - g_loss: 0.4721\n",
            "Epoch 56/300\n",
            "1/1 [==============================] - 1s 1s/step - d_loss: 1.0826 - g_loss: 0.4826\n",
            "Epoch 57/300\n",
            "1/1 [==============================] - 1s 1s/step - d_loss: 0.9101 - g_loss: 0.4874\n",
            "Epoch 58/300\n",
            "1/1 [==============================] - 1s 1s/step - d_loss: 1.3767 - g_loss: 0.4927\n",
            "Epoch 59/300\n",
            "1/1 [==============================] - 1s 1s/step - d_loss: 1.1346 - g_loss: 0.5007\n",
            "Epoch 60/300\n",
            "1/1 [==============================] - 1s 1s/step - d_loss: 1.1004 - g_loss: 0.5059\n",
            "Epoch 61/300\n",
            "1/1 [==============================] - 1s 1s/step - d_loss: 0.8425 - g_loss: 0.5108\n",
            "Epoch 62/300\n",
            "1/1 [==============================] - 1s 1s/step - d_loss: 0.9557 - g_loss: 0.5159\n",
            "Epoch 63/300\n",
            "1/1 [==============================] - 1s 1s/step - d_loss: 1.0517 - g_loss: 0.5232\n",
            "Epoch 64/300\n",
            "1/1 [==============================] - 1s 1s/step - d_loss: 1.1777 - g_loss: 0.5302\n",
            "Epoch 65/300\n",
            "1/1 [==============================] - 1s 1s/step - d_loss: 0.7914 - g_loss: 0.5378\n",
            "Epoch 66/300\n",
            "1/1 [==============================] - 1s 1s/step - d_loss: 1.0468 - g_loss: 0.5470\n",
            "Epoch 67/300\n",
            "1/1 [==============================] - 1s 1s/step - d_loss: 0.9233 - g_loss: 0.5570\n",
            "Epoch 68/300\n",
            "1/1 [==============================] - 1s 1s/step - d_loss: 0.9363 - g_loss: 0.5623\n",
            "Epoch 69/300\n",
            "1/1 [==============================] - 1s 1s/step - d_loss: 0.7744 - g_loss: 0.5692\n",
            "Epoch 70/300\n",
            "1/1 [==============================] - 1s 1s/step - d_loss: 0.7325 - g_loss: 0.5764\n",
            "Epoch 71/300\n",
            "1/1 [==============================] - 1s 1s/step - d_loss: 0.7742 - g_loss: 0.5872\n",
            "Epoch 72/300\n",
            "1/1 [==============================] - 1s 1s/step - d_loss: 0.6655 - g_loss: 0.5982\n",
            "Epoch 73/300\n",
            "1/1 [==============================] - 1s 1s/step - d_loss: 0.6336 - g_loss: 0.5988\n",
            "Epoch 74/300\n",
            "1/1 [==============================] - 1s 1s/step - d_loss: 0.6420 - g_loss: 0.6087\n",
            "Epoch 75/300\n",
            "1/1 [==============================] - 1s 1s/step - d_loss: 0.5642 - g_loss: 0.6140\n",
            "Epoch 76/300\n",
            "1/1 [==============================] - 1s 1s/step - d_loss: 0.5431 - g_loss: 0.6224\n",
            "Epoch 77/300\n",
            "1/1 [==============================] - 1s 1s/step - d_loss: 0.4542 - g_loss: 0.6359\n",
            "Epoch 78/300\n",
            "1/1 [==============================] - 1s 1s/step - d_loss: 0.5079 - g_loss: 0.6418\n",
            "Epoch 79/300\n",
            "1/1 [==============================] - 1s 1s/step - d_loss: 0.5469 - g_loss: 0.6444\n",
            "Epoch 80/300\n",
            "1/1 [==============================] - 1s 1s/step - d_loss: 0.5501 - g_loss: 0.6437\n",
            "Epoch 81/300\n",
            "1/1 [==============================] - 1s 1s/step - d_loss: 0.4786 - g_loss: 0.6412\n",
            "Epoch 82/300\n",
            "1/1 [==============================] - 1s 1s/step - d_loss: 0.4995 - g_loss: 0.6464\n",
            "Epoch 83/300\n",
            "1/1 [==============================] - 1s 1s/step - d_loss: 0.4009 - g_loss: 0.6478\n",
            "Epoch 84/300\n",
            "1/1 [==============================] - 1s 1s/step - d_loss: 0.4622 - g_loss: 0.6480\n",
            "Epoch 85/300\n",
            "1/1 [==============================] - 1s 1s/step - d_loss: 0.4401 - g_loss: 0.6494\n",
            "Epoch 86/300\n",
            "1/1 [==============================] - 1s 1s/step - d_loss: 0.4841 - g_loss: 0.6503\n",
            "Epoch 87/300\n",
            "1/1 [==============================] - 1s 1s/step - d_loss: 0.4709 - g_loss: 0.6540\n",
            "Epoch 88/300\n",
            "1/1 [==============================] - 1s 1s/step - d_loss: 0.4098 - g_loss: 0.6579\n",
            "Epoch 89/300\n",
            "1/1 [==============================] - 1s 1s/step - d_loss: 0.4747 - g_loss: 0.6623\n",
            "Epoch 90/300\n",
            "1/1 [==============================] - 1s 1s/step - d_loss: 0.4704 - g_loss: 0.6668\n",
            "Epoch 91/300\n",
            "1/1 [==============================] - 1s 1s/step - d_loss: 0.4645 - g_loss: 0.6660\n",
            "Epoch 92/300\n",
            "1/1 [==============================] - 1s 1s/step - d_loss: 0.4412 - g_loss: 0.6732\n",
            "Epoch 93/300\n",
            "1/1 [==============================] - 1s 1s/step - d_loss: 0.4637 - g_loss: 0.6736\n",
            "Epoch 94/300\n",
            "1/1 [==============================] - 1s 1s/step - d_loss: 0.4335 - g_loss: 0.6791\n",
            "Epoch 95/300\n",
            "1/1 [==============================] - 1s 1s/step - d_loss: 0.4407 - g_loss: 0.6828\n",
            "Epoch 96/300\n",
            "1/1 [==============================] - 1s 1s/step - d_loss: 0.4303 - g_loss: 0.6869\n",
            "Epoch 97/300\n",
            "1/1 [==============================] - 1s 1s/step - d_loss: 0.4583 - g_loss: 0.6910\n",
            "Epoch 98/300\n",
            "1/1 [==============================] - 1s 1s/step - d_loss: 0.4118 - g_loss: 0.6949\n",
            "Epoch 99/300\n",
            "1/1 [==============================] - 1s 1s/step - d_loss: 0.4366 - g_loss: 0.7008\n",
            "Epoch 100/300\n",
            "1/1 [==============================] - 1s 1s/step - d_loss: 0.4059 - g_loss: 0.6991\n",
            "Epoch 101/300\n",
            "1/1 [==============================] - 1s 1s/step - d_loss: 0.4235 - g_loss: 0.7039\n",
            "Epoch 102/300\n",
            "1/1 [==============================] - 1s 1s/step - d_loss: 0.4044 - g_loss: 0.7075\n",
            "Epoch 103/300\n",
            "1/1 [==============================] - 1s 1s/step - d_loss: 0.3782 - g_loss: 0.7122\n",
            "Epoch 104/300\n",
            "1/1 [==============================] - 1s 1s/step - d_loss: 0.3964 - g_loss: 0.7155\n",
            "Epoch 105/300\n",
            "1/1 [==============================] - 1s 1s/step - d_loss: 0.4162 - g_loss: 0.7214\n",
            "Epoch 106/300\n",
            "1/1 [==============================] - 1s 1s/step - d_loss: 0.4025 - g_loss: 0.7237\n",
            "Epoch 107/300\n",
            "1/1 [==============================] - 1s 1s/step - d_loss: 0.3842 - g_loss: 0.7288\n",
            "Epoch 108/300\n",
            "1/1 [==============================] - 1s 1s/step - d_loss: 0.4139 - g_loss: 0.7317\n",
            "Epoch 109/300\n",
            "1/1 [==============================] - 1s 1s/step - d_loss: 0.3798 - g_loss: 0.7351\n",
            "Epoch 110/300\n",
            "1/1 [==============================] - 1s 1s/step - d_loss: 0.4022 - g_loss: 0.7384\n",
            "Epoch 111/300\n",
            "1/1 [==============================] - 1s 1s/step - d_loss: 0.3976 - g_loss: 0.7463\n",
            "Epoch 112/300\n",
            "1/1 [==============================] - 1s 1s/step - d_loss: 0.3747 - g_loss: 0.7513\n",
            "Epoch 113/300\n",
            "1/1 [==============================] - 1s 1s/step - d_loss: 0.3959 - g_loss: 0.7568\n",
            "Epoch 114/300\n",
            "1/1 [==============================] - 1s 1s/step - d_loss: 0.3685 - g_loss: 0.7597\n",
            "Epoch 115/300\n",
            "1/1 [==============================] - 1s 1s/step - d_loss: 0.3630 - g_loss: 0.7664\n",
            "Epoch 116/300\n",
            "1/1 [==============================] - 1s 1s/step - d_loss: 0.3713 - g_loss: 0.7657\n",
            "Epoch 117/300\n",
            "1/1 [==============================] - 1s 1s/step - d_loss: 0.3730 - g_loss: 0.7675\n",
            "Epoch 118/300\n",
            "1/1 [==============================] - 1s 1s/step - d_loss: 0.3870 - g_loss: 0.7782\n",
            "Epoch 119/300\n",
            "1/1 [==============================] - 1s 1s/step - d_loss: 0.3483 - g_loss: 0.7787\n",
            "Epoch 120/300\n",
            "1/1 [==============================] - 1s 1s/step - d_loss: 0.3770 - g_loss: 0.7818\n",
            "Epoch 121/300\n",
            "1/1 [==============================] - 1s 1s/step - d_loss: 0.3474 - g_loss: 0.7890\n",
            "Epoch 122/300\n",
            "1/1 [==============================] - 1s 1s/step - d_loss: 0.3636 - g_loss: 0.7931\n",
            "Epoch 123/300\n",
            "1/1 [==============================] - 1s 1s/step - d_loss: 0.3724 - g_loss: 0.7953\n",
            "Epoch 124/300\n",
            "1/1 [==============================] - 1s 1s/step - d_loss: 0.3492 - g_loss: 0.7961\n",
            "Epoch 125/300\n",
            "1/1 [==============================] - 1s 1s/step - d_loss: 0.3438 - g_loss: 0.7930\n",
            "Epoch 126/300\n",
            "1/1 [==============================] - 1s 1s/step - d_loss: 0.3353 - g_loss: 0.7975\n",
            "Epoch 127/300\n",
            "1/1 [==============================] - 1s 1s/step - d_loss: 0.3632 - g_loss: 0.8013\n",
            "Epoch 128/300\n",
            "1/1 [==============================] - 1s 1s/step - d_loss: 0.3406 - g_loss: 0.8057\n",
            "Epoch 129/300\n",
            "1/1 [==============================] - 1s 1s/step - d_loss: 0.3556 - g_loss: 0.8102\n",
            "Epoch 130/300\n",
            "1/1 [==============================] - 1s 1s/step - d_loss: 0.3382 - g_loss: 0.8190\n",
            "Epoch 131/300\n",
            "1/1 [==============================] - 1s 1s/step - d_loss: 0.3721 - g_loss: 0.8264\n",
            "Epoch 132/300\n",
            "1/1 [==============================] - 1s 1s/step - d_loss: 0.3232 - g_loss: 0.8337\n",
            "Epoch 133/300\n",
            "1/1 [==============================] - 1s 1s/step - d_loss: 0.3315 - g_loss: 0.8373\n",
            "Epoch 134/300\n",
            "1/1 [==============================] - 1s 1s/step - d_loss: 0.3575 - g_loss: 0.8350\n",
            "Epoch 135/300\n",
            "1/1 [==============================] - 1s 1s/step - d_loss: 0.3497 - g_loss: 0.8401\n",
            "Epoch 136/300\n",
            "1/1 [==============================] - 1s 1s/step - d_loss: 0.3468 - g_loss: 0.8415\n",
            "Epoch 137/300\n",
            "1/1 [==============================] - 1s 1s/step - d_loss: 0.3324 - g_loss: 0.8536\n",
            "Epoch 138/300\n",
            "1/1 [==============================] - 1s 1s/step - d_loss: 0.3400 - g_loss: 0.8494\n",
            "Epoch 139/300\n",
            "1/1 [==============================] - 1s 1s/step - d_loss: 0.3313 - g_loss: 0.8515\n",
            "Epoch 140/300\n",
            "1/1 [==============================] - 1s 1s/step - d_loss: 0.3502 - g_loss: 0.8582\n",
            "Epoch 141/300\n",
            "1/1 [==============================] - 1s 1s/step - d_loss: 0.3279 - g_loss: 0.8660\n",
            "Epoch 142/300\n",
            "1/1 [==============================] - 1s 1s/step - d_loss: 0.3429 - g_loss: 0.8652\n",
            "Epoch 143/300\n",
            "1/1 [==============================] - 1s 1s/step - d_loss: 0.3212 - g_loss: 0.8671\n",
            "Epoch 144/300\n",
            "1/1 [==============================] - 1s 1s/step - d_loss: 0.3195 - g_loss: 0.8703\n",
            "Epoch 145/300\n",
            "1/1 [==============================] - 1s 1s/step - d_loss: 0.3241 - g_loss: 0.8742\n",
            "Epoch 146/300\n",
            "1/1 [==============================] - 1s 1s/step - d_loss: 0.3283 - g_loss: 0.8783\n",
            "Epoch 147/300\n",
            "1/1 [==============================] - 1s 1s/step - d_loss: 0.3098 - g_loss: 0.8825\n",
            "Epoch 148/300\n",
            "1/1 [==============================] - 1s 1s/step - d_loss: 0.3218 - g_loss: 0.8851\n",
            "Epoch 149/300\n",
            "1/1 [==============================] - 1s 1s/step - d_loss: 0.3208 - g_loss: 0.8910\n",
            "Epoch 150/300\n",
            "1/1 [==============================] - 1s 1s/step - d_loss: 0.3236 - g_loss: 0.8962\n",
            "Epoch 151/300\n",
            "1/1 [==============================] - 1s 1s/step - d_loss: 0.2982 - g_loss: 0.9037\n",
            "Epoch 152/300\n",
            "1/1 [==============================] - 1s 1s/step - d_loss: 0.2964 - g_loss: 0.9049\n",
            "Epoch 153/300\n",
            "1/1 [==============================] - 1s 1s/step - d_loss: 0.2972 - g_loss: 0.9105\n",
            "Epoch 154/300\n",
            "1/1 [==============================] - 2s 2s/step - d_loss: 0.3224 - g_loss: 0.9156\n",
            "Epoch 155/300\n",
            "1/1 [==============================] - 1s 1s/step - d_loss: 0.2855 - g_loss: 0.9255\n",
            "Epoch 156/300\n",
            "1/1 [==============================] - 1s 1s/step - d_loss: 0.3007 - g_loss: 0.9274\n",
            "Epoch 157/300\n",
            "1/1 [==============================] - 1s 1s/step - d_loss: 0.3069 - g_loss: 0.9287\n",
            "Epoch 158/300\n",
            "1/1 [==============================] - 2s 2s/step - d_loss: 0.3155 - g_loss: 0.9300\n",
            "Epoch 159/300\n",
            "1/1 [==============================] - 1s 1s/step - d_loss: 0.3081 - g_loss: 0.9327\n",
            "Epoch 160/300\n",
            "1/1 [==============================] - 2s 2s/step - d_loss: 0.3124 - g_loss: 0.9376\n",
            "Epoch 161/300\n",
            "1/1 [==============================] - 1s 1s/step - d_loss: 0.3071 - g_loss: 0.9455\n",
            "Epoch 162/300\n",
            "1/1 [==============================] - 2s 2s/step - d_loss: 0.3052 - g_loss: 0.9449\n",
            "Epoch 163/300\n",
            "1/1 [==============================] - 2s 2s/step - d_loss: 0.3150 - g_loss: 0.9481\n",
            "Epoch 164/300\n",
            "1/1 [==============================] - 2s 2s/step - d_loss: 0.2972 - g_loss: 0.9469\n",
            "Epoch 165/300\n",
            "1/1 [==============================] - 1s 1s/step - d_loss: 0.2912 - g_loss: 0.9415\n",
            "Epoch 166/300\n",
            "1/1 [==============================] - 1s 1s/step - d_loss: 0.3110 - g_loss: 0.9418\n",
            "Epoch 167/300\n",
            "1/1 [==============================] - 1s 1s/step - d_loss: 0.2906 - g_loss: 0.9398\n",
            "Epoch 168/300\n",
            "1/1 [==============================] - 1s 1s/step - d_loss: 0.2905 - g_loss: 0.9453\n",
            "Epoch 169/300\n",
            "1/1 [==============================] - 1s 1s/step - d_loss: 0.2845 - g_loss: 0.9491\n",
            "Epoch 170/300\n",
            "1/1 [==============================] - 1s 1s/step - d_loss: 0.2944 - g_loss: 0.9500\n",
            "Epoch 171/300\n",
            "1/1 [==============================] - 1s 1s/step - d_loss: 0.2871 - g_loss: 0.9465\n",
            "Epoch 172/300\n",
            "1/1 [==============================] - 1s 1s/step - d_loss: 0.3133 - g_loss: 0.9511\n",
            "Epoch 173/300\n",
            "1/1 [==============================] - 1s 1s/step - d_loss: 0.2845 - g_loss: 0.9482\n",
            "Epoch 174/300\n",
            "1/1 [==============================] - 2s 2s/step - d_loss: 0.2928 - g_loss: 0.9445\n",
            "Epoch 175/300\n",
            "1/1 [==============================] - 2s 2s/step - d_loss: 0.2957 - g_loss: 0.9477\n",
            "Epoch 176/300\n",
            "1/1 [==============================] - 2s 2s/step - d_loss: 0.2913 - g_loss: 0.9575\n",
            "Epoch 177/300\n",
            "1/1 [==============================] - 2s 2s/step - d_loss: 0.3054 - g_loss: 0.9600\n",
            "Epoch 178/300\n",
            "1/1 [==============================] - 2s 2s/step - d_loss: 0.2956 - g_loss: 0.9609\n",
            "Epoch 179/300\n",
            "1/1 [==============================] - 1s 1s/step - d_loss: 0.3082 - g_loss: 0.9708\n",
            "Epoch 180/300\n",
            "1/1 [==============================] - 2s 2s/step - d_loss: 0.2864 - g_loss: 0.9668\n",
            "Epoch 181/300\n",
            "1/1 [==============================] - 1s 1s/step - d_loss: 0.3002 - g_loss: 0.9752\n",
            "Epoch 182/300\n",
            "1/1 [==============================] - 1s 1s/step - d_loss: 0.2798 - g_loss: 0.9762\n",
            "Epoch 183/300\n",
            "1/1 [==============================] - 1s 1s/step - d_loss: 0.2804 - g_loss: 0.9657\n",
            "Epoch 184/300\n",
            "1/1 [==============================] - 1s 1s/step - d_loss: 0.3056 - g_loss: 0.9592\n",
            "Epoch 185/300\n",
            "1/1 [==============================] - 1s 1s/step - d_loss: 0.2912 - g_loss: 0.9586\n",
            "Epoch 186/300\n",
            "1/1 [==============================] - 1s 1s/step - d_loss: 0.2905 - g_loss: 0.9628\n",
            "Epoch 187/300\n",
            "1/1 [==============================] - 1s 1s/step - d_loss: 0.2734 - g_loss: 0.9622\n",
            "Epoch 188/300\n",
            "1/1 [==============================] - 1s 1s/step - d_loss: 0.2930 - g_loss: 0.9691\n",
            "Epoch 189/300\n",
            "1/1 [==============================] - 1s 1s/step - d_loss: 0.2876 - g_loss: 0.9740\n",
            "Epoch 190/300\n",
            "1/1 [==============================] - 1s 1s/step - d_loss: 0.2844 - g_loss: 0.9809\n",
            "Epoch 191/300\n",
            "1/1 [==============================] - 2s 2s/step - d_loss: 0.2921 - g_loss: 0.9819\n",
            "Epoch 192/300\n",
            "1/1 [==============================] - 1s 1s/step - d_loss: 0.2946 - g_loss: 0.9878\n",
            "Epoch 193/300\n",
            "1/1 [==============================] - 1s 1s/step - d_loss: 0.2752 - g_loss: 0.9945\n",
            "Epoch 194/300\n",
            "1/1 [==============================] - 1s 1s/step - d_loss: 0.2841 - g_loss: 0.9944\n",
            "Epoch 195/300\n",
            "1/1 [==============================] - 1s 1s/step - d_loss: 0.2644 - g_loss: 1.0068\n",
            "Epoch 196/300\n",
            "1/1 [==============================] - 1s 1s/step - d_loss: 0.2908 - g_loss: 1.0172\n",
            "Epoch 197/300\n",
            "1/1 [==============================] - 1s 1s/step - d_loss: 0.2565 - g_loss: 1.0247\n",
            "Epoch 198/300\n",
            "1/1 [==============================] - 2s 2s/step - d_loss: 0.2875 - g_loss: 1.0240\n",
            "Epoch 199/300\n",
            "1/1 [==============================] - 2s 2s/step - d_loss: 0.2807 - g_loss: 1.0234\n",
            "Epoch 200/300\n",
            "1/1 [==============================] - 1s 1s/step - d_loss: 0.2867 - g_loss: 1.0219\n",
            "Epoch 201/300\n",
            "1/1 [==============================] - 2s 2s/step - d_loss: 0.2801 - g_loss: 1.0213\n",
            "Epoch 202/300\n",
            "1/1 [==============================] - 2s 2s/step - d_loss: 0.2855 - g_loss: 1.0207\n",
            "Epoch 203/300\n",
            "1/1 [==============================] - 1s 1s/step - d_loss: 0.2811 - g_loss: 1.0277\n",
            "Epoch 204/300\n",
            "1/1 [==============================] - 1s 1s/step - d_loss: 0.2615 - g_loss: 1.0274\n",
            "Epoch 205/300\n",
            "1/1 [==============================] - 1s 1s/step - d_loss: 0.2567 - g_loss: 1.0247\n",
            "Epoch 206/300\n",
            "1/1 [==============================] - 1s 1s/step - d_loss: 0.2635 - g_loss: 1.0246\n",
            "Epoch 207/300\n",
            "1/1 [==============================] - 1s 1s/step - d_loss: 0.2557 - g_loss: 1.0195\n",
            "Epoch 208/300\n",
            "1/1 [==============================] - 1s 1s/step - d_loss: 0.2766 - g_loss: 1.0223\n",
            "Epoch 209/300\n",
            "1/1 [==============================] - 2s 2s/step - d_loss: 0.2696 - g_loss: 1.0273\n",
            "Epoch 210/300\n",
            "1/1 [==============================] - 2s 2s/step - d_loss: 0.2822 - g_loss: 1.0331\n",
            "Epoch 211/300\n",
            "1/1 [==============================] - 1s 1s/step - d_loss: 0.2849 - g_loss: 1.0369\n",
            "Epoch 212/300\n",
            "1/1 [==============================] - 2s 2s/step - d_loss: 0.2709 - g_loss: 1.0427\n",
            "Epoch 213/300\n",
            "1/1 [==============================] - 1s 1s/step - d_loss: 0.2625 - g_loss: 1.0392\n",
            "Epoch 214/300\n",
            "1/1 [==============================] - 1s 1s/step - d_loss: 0.2635 - g_loss: 1.0426\n",
            "Epoch 215/300\n",
            "1/1 [==============================] - 1s 1s/step - d_loss: 0.2910 - g_loss: 1.0487\n",
            "Epoch 216/300\n",
            "1/1 [==============================] - 1s 1s/step - d_loss: 0.2580 - g_loss: 1.0557\n",
            "Epoch 217/300\n",
            "1/1 [==============================] - 1s 1s/step - d_loss: 0.2825 - g_loss: 1.0631\n",
            "Epoch 218/300\n",
            "1/1 [==============================] - 1s 1s/step - d_loss: 0.2539 - g_loss: 1.0431\n",
            "Epoch 219/300\n",
            "1/1 [==============================] - 1s 1s/step - d_loss: 0.2714 - g_loss: 1.0475\n",
            "Epoch 220/300\n",
            "1/1 [==============================] - 2s 2s/step - d_loss: 0.2730 - g_loss: 1.0451\n",
            "Epoch 221/300\n",
            "1/1 [==============================] - 1s 1s/step - d_loss: 0.2586 - g_loss: 1.0516\n",
            "Epoch 222/300\n",
            "1/1 [==============================] - 2s 2s/step - d_loss: 0.2725 - g_loss: 1.0544\n",
            "Epoch 223/300\n",
            "1/1 [==============================] - 2s 2s/step - d_loss: 0.2697 - g_loss: 1.0478\n",
            "Epoch 224/300\n",
            "1/1 [==============================] - 1s 1s/step - d_loss: 0.2707 - g_loss: 1.0615\n",
            "Epoch 225/300\n",
            "1/1 [==============================] - 2s 2s/step - d_loss: 0.3071 - g_loss: 1.0587\n",
            "Epoch 226/300\n",
            "1/1 [==============================] - 2s 2s/step - d_loss: 0.2630 - g_loss: 1.0657\n",
            "Epoch 227/300\n",
            "1/1 [==============================] - 1s 1s/step - d_loss: 0.2651 - g_loss: 1.0603\n",
            "Epoch 228/300\n",
            "1/1 [==============================] - 1s 1s/step - d_loss: 0.2895 - g_loss: 1.0538\n",
            "Epoch 229/300\n",
            "1/1 [==============================] - 1s 1s/step - d_loss: 0.2725 - g_loss: 1.0496\n",
            "Epoch 230/300\n",
            "1/1 [==============================] - 2s 2s/step - d_loss: 0.2720 - g_loss: 1.0645\n",
            "Epoch 231/300\n",
            "1/1 [==============================] - 1s 1s/step - d_loss: 0.2603 - g_loss: 1.0443\n",
            "Epoch 232/300\n",
            "1/1 [==============================] - 1s 1s/step - d_loss: 0.2558 - g_loss: 1.0493\n",
            "Epoch 233/300\n",
            "1/1 [==============================] - 1s 1s/step - d_loss: 0.2726 - g_loss: 1.0489\n",
            "Epoch 234/300\n",
            "1/1 [==============================] - 1s 1s/step - d_loss: 0.2531 - g_loss: 1.0428\n",
            "Epoch 235/300\n",
            "1/1 [==============================] - 1s 1s/step - d_loss: 0.2840 - g_loss: 1.0387\n",
            "Epoch 236/300\n",
            "1/1 [==============================] - 2s 2s/step - d_loss: 0.2718 - g_loss: 1.0377\n",
            "Epoch 237/300\n",
            "1/1 [==============================] - 1s 1s/step - d_loss: 0.2937 - g_loss: 1.0262\n",
            "Epoch 238/300\n",
            "1/1 [==============================] - 2s 2s/step - d_loss: 0.2632 - g_loss: 1.0384\n",
            "Epoch 239/300\n",
            "1/1 [==============================] - 1s 1s/step - d_loss: 0.2784 - g_loss: 1.0436\n",
            "Epoch 240/300\n",
            "1/1 [==============================] - 2s 2s/step - d_loss: 0.2805 - g_loss: 1.0471\n",
            "Epoch 241/300\n",
            "1/1 [==============================] - 1s 1s/step - d_loss: 0.2502 - g_loss: 1.0351\n",
            "Epoch 242/300\n",
            "1/1 [==============================] - 1s 1s/step - d_loss: 0.2935 - g_loss: 1.0285\n",
            "Epoch 243/300\n",
            "1/1 [==============================] - 2s 2s/step - d_loss: 0.2715 - g_loss: 1.0371\n",
            "Epoch 244/300\n",
            "1/1 [==============================] - 2s 2s/step - d_loss: 0.2756 - g_loss: 1.0351\n",
            "Epoch 245/300\n",
            "1/1 [==============================] - 1s 1s/step - d_loss: 0.2700 - g_loss: 1.0317\n",
            "Epoch 246/300\n",
            "1/1 [==============================] - 1s 1s/step - d_loss: 0.2936 - g_loss: 1.0384\n",
            "Epoch 247/300\n",
            "1/1 [==============================] - 2s 2s/step - d_loss: 0.2938 - g_loss: 1.0243\n",
            "Epoch 248/300\n",
            "1/1 [==============================] - 1s 1s/step - d_loss: 0.2923 - g_loss: 1.0301\n",
            "Epoch 249/300\n",
            "1/1 [==============================] - 1s 1s/step - d_loss: 0.2816 - g_loss: 1.0345\n",
            "Epoch 250/300\n",
            "1/1 [==============================] - 1s 1s/step - d_loss: 0.2670 - g_loss: 1.0319\n",
            "Epoch 251/300\n",
            "1/1 [==============================] - 1s 1s/step - d_loss: 0.2482 - g_loss: 1.0285\n",
            "Epoch 252/300\n",
            "1/1 [==============================] - 2s 2s/step - d_loss: 0.2751 - g_loss: 1.0227\n",
            "Epoch 253/300\n",
            "1/1 [==============================] - 2s 2s/step - d_loss: 0.2867 - g_loss: 1.0243\n",
            "Epoch 254/300\n",
            "1/1 [==============================] - 2s 2s/step - d_loss: 0.2551 - g_loss: 1.0388\n",
            "Epoch 255/300\n",
            "1/1 [==============================] - 1s 1s/step - d_loss: 0.2822 - g_loss: 1.0348\n",
            "Epoch 256/300\n",
            "1/1 [==============================] - 1s 1s/step - d_loss: 0.2904 - g_loss: 1.0326\n",
            "Epoch 257/300\n",
            "1/1 [==============================] - 2s 2s/step - d_loss: 0.2677 - g_loss: 1.0280\n",
            "Epoch 258/300\n",
            "1/1 [==============================] - 1s 1s/step - d_loss: 0.2674 - g_loss: 1.0261\n",
            "Epoch 259/300\n",
            "1/1 [==============================] - 1s 1s/step - d_loss: 0.2829 - g_loss: 1.0303\n",
            "Epoch 260/300\n",
            "1/1 [==============================] - 1s 1s/step - d_loss: 0.2554 - g_loss: 1.0229\n",
            "Epoch 261/300\n",
            "1/1 [==============================] - 1s 1s/step - d_loss: 0.2896 - g_loss: 1.0423\n",
            "Epoch 262/300\n",
            "1/1 [==============================] - 2s 2s/step - d_loss: 0.2531 - g_loss: 1.0483\n",
            "Epoch 263/300\n",
            "1/1 [==============================] - 1s 1s/step - d_loss: 0.2425 - g_loss: 1.0567\n",
            "Epoch 264/300\n",
            "1/1 [==============================] - 1s 1s/step - d_loss: 0.2507 - g_loss: 1.0508\n",
            "Epoch 265/300\n",
            "1/1 [==============================] - 1s 1s/step - d_loss: 0.2709 - g_loss: 1.0502\n",
            "Epoch 266/300\n",
            "1/1 [==============================] - 1s 1s/step - d_loss: 0.2803 - g_loss: 1.0491\n",
            "Epoch 267/300\n",
            "1/1 [==============================] - 1s 1s/step - d_loss: 0.2573 - g_loss: 1.0598\n",
            "Epoch 268/300\n",
            "1/1 [==============================] - 1s 1s/step - d_loss: 0.2727 - g_loss: 1.0606\n",
            "Epoch 269/300\n",
            "1/1 [==============================] - 2s 2s/step - d_loss: 0.2629 - g_loss: 1.0718\n",
            "Epoch 270/300\n",
            "1/1 [==============================] - 2s 2s/step - d_loss: 0.2476 - g_loss: 1.0758\n",
            "Epoch 271/300\n",
            "1/1 [==============================] - 1s 1s/step - d_loss: 0.2726 - g_loss: 1.0822\n",
            "Epoch 272/300\n",
            "1/1 [==============================] - 1s 1s/step - d_loss: 0.2522 - g_loss: 1.0904\n",
            "Epoch 273/300\n",
            "1/1 [==============================] - 1s 1s/step - d_loss: 0.2604 - g_loss: 1.0874\n",
            "Epoch 274/300\n",
            "1/1 [==============================] - 2s 2s/step - d_loss: 0.2645 - g_loss: 1.0938\n",
            "Epoch 275/300\n",
            "1/1 [==============================] - 1s 1s/step - d_loss: 0.2468 - g_loss: 1.0992\n",
            "Epoch 276/300\n",
            "1/1 [==============================] - 2s 2s/step - d_loss: 0.2490 - g_loss: 1.1102\n",
            "Epoch 277/300\n",
            "1/1 [==============================] - 1s 1s/step - d_loss: 0.2376 - g_loss: 1.1149\n",
            "Epoch 278/300\n",
            "1/1 [==============================] - 2s 2s/step - d_loss: 0.2492 - g_loss: 1.1046\n",
            "Epoch 279/300\n",
            "1/1 [==============================] - 2s 2s/step - d_loss: 0.2441 - g_loss: 1.1206\n",
            "Epoch 280/300\n",
            "1/1 [==============================] - 1s 1s/step - d_loss: 0.2341 - g_loss: 1.1207\n",
            "Epoch 281/300\n",
            "1/1 [==============================] - 1s 1s/step - d_loss: 0.2505 - g_loss: 1.1179\n",
            "Epoch 282/300\n",
            "1/1 [==============================] - 1s 1s/step - d_loss: 0.2593 - g_loss: 1.1124\n",
            "Epoch 283/300\n",
            "1/1 [==============================] - 1s 1s/step - d_loss: 0.2380 - g_loss: 1.1124\n",
            "Epoch 284/300\n",
            "1/1 [==============================] - 2s 2s/step - d_loss: 0.2551 - g_loss: 1.1161\n",
            "Epoch 285/300\n",
            "1/1 [==============================] - 2s 2s/step - d_loss: 0.2633 - g_loss: 1.1162\n",
            "Epoch 286/300\n",
            "1/1 [==============================] - 1s 1s/step - d_loss: 0.2519 - g_loss: 1.1245\n",
            "Epoch 287/300\n",
            "1/1 [==============================] - 1s 1s/step - d_loss: 0.2419 - g_loss: 1.1349\n",
            "Epoch 288/300\n",
            "1/1 [==============================] - 2s 2s/step - d_loss: 0.2326 - g_loss: 1.1332\n",
            "Epoch 289/300\n",
            "1/1 [==============================] - 2s 2s/step - d_loss: 0.2467 - g_loss: 1.1371\n",
            "Epoch 290/300\n",
            "1/1 [==============================] - 1s 1s/step - d_loss: 0.2661 - g_loss: 1.1309\n",
            "Epoch 291/300\n",
            "1/1 [==============================] - 2s 2s/step - d_loss: 0.2521 - g_loss: 1.1383\n",
            "Epoch 292/300\n",
            "1/1 [==============================] - 1s 1s/step - d_loss: 0.2516 - g_loss: 1.1362\n",
            "Epoch 293/300\n",
            "1/1 [==============================] - 1s 1s/step - d_loss: 0.2430 - g_loss: 1.1322\n",
            "Epoch 294/300\n",
            "1/1 [==============================] - 1s 1s/step - d_loss: 0.2038 - g_loss: 1.1381\n",
            "Epoch 295/300\n",
            "1/1 [==============================] - 1s 1s/step - d_loss: 0.2685 - g_loss: 1.1473\n",
            "Epoch 296/300\n",
            "1/1 [==============================] - 2s 2s/step - d_loss: 0.2590 - g_loss: 1.1560\n",
            "Epoch 297/300\n",
            "1/1 [==============================] - 1s 1s/step - d_loss: 0.2504 - g_loss: 1.1643\n",
            "Epoch 298/300\n",
            "1/1 [==============================] - 1s 1s/step - d_loss: 0.2158 - g_loss: 1.1700\n",
            "Epoch 299/300\n",
            "1/1 [==============================] - 1s 1s/step - d_loss: 0.2476 - g_loss: 1.1721\n",
            "Epoch 300/300\n",
            "1/1 [==============================] - 1s 1s/step - d_loss: 0.2366 - g_loss: 1.1680\n"
          ]
        },
        {
          "output_type": "execute_result",
          "data": {
            "text/plain": [
              "<keras.callbacks.History at 0x7fd3a144d990>"
            ]
          },
          "metadata": {},
          "execution_count": 21
        }
      ]
    },
    {
      "cell_type": "markdown",
      "metadata": {
        "id": "cKqdR6bOItI4"
      },
      "source": [
        "Display the last generated images:"
      ]
    },
    {
      "cell_type": "code",
      "metadata": {
        "id": "zZa20XZYItI5",
        "colab": {
          "base_uri": "https://localhost:8080/",
          "height": 1000
        },
        "outputId": "77ca9489-1c9a-4c98-8832-396e05d61e99"
      },
      "source": [
        "from IPython.display import Image, display\n",
        "\n",
        "for i in range(1,30):\n",
        "  print('epoch number : ', str(i)+'9')\n",
        "  display(Image(\"generated_img_0_\"+str(i)+\"9.png\"))"
      ],
      "execution_count": 22,
      "outputs": [
        {
          "output_type": "stream",
          "name": "stdout",
          "text": [
            "epoch number :  19\n"
          ]
        },
        {
          "output_type": "display_data",
          "data": {
            "image/png": "[encoded data removed]",
            "text/plain": [
              "<IPython.core.display.Image object>"
            ]
          },
          "metadata": {}
        },
        {
          "output_type": "stream",
          "name": "stdout",
          "text": [
            "epoch number :  29\n"
          ]
        },
        {
          "output_type": "display_data",
          "data": {
            "image/png": "[encoded data removed]",
            "text/plain": [
              "<IPython.core.display.Image object>"
            ]
          },
          "metadata": {}
        },
        {
          "output_type": "stream",
          "name": "stdout",
          "text": [
            "epoch number :  39\n"
          ]
        },
        {
          "output_type": "display_data",
          "data": {
            "image/png": "[encoded data removed]",
            "text/plain": [
              "<IPython.core.display.Image object>"
            ]
          },
          "metadata": {}
        },
        {
          "output_type": "stream",
          "name": "stdout",
          "text": [
            "epoch number :  49\n"
          ]
        },
        {
          "output_type": "display_data",
          "data": {
            "image/png": "[encoded data removed]",
            "text/plain": [
              "<IPython.core.display.Image object>"
            ]
          },
          "metadata": {}
        },
        {
          "output_type": "stream",
          "name": "stdout",
          "text": [
            "epoch number :  59\n"
          ]
        },
        {
          "output_type": "display_data",
          "data": {
            "image/png": "[encoded data removed]",
            "text/plain": [
              "<IPython.core.display.Image object>"
            ]
          },
          "metadata": {}
        },
        {
          "output_type": "stream",
          "name": "stdout",
          "text": [
            "epoch number :  69\n"
          ]
        },
        {
          "output_type": "display_data",
          "data": {
            "image/png": "[encoded data removed]",
            "text/plain": [
              "<IPython.core.display.Image object>"
            ]
          },
          "metadata": {}
        },
        {
          "output_type": "stream",
          "name": "stdout",
          "text": [
            "epoch number :  79\n"
          ]
        },
        {
          "output_type": "display_data",
          "data": {
            "image/png": "[encoded data removed]",
            "text/plain": [
              "<IPython.core.display.Image object>"
            ]
          },
          "metadata": {}
        },
        {
          "output_type": "stream",
          "name": "stdout",
          "text": [
            "epoch number :  89\n"
          ]
        },
        {
          "output_type": "display_data",
          "data": {
            "image/png": "[encoded data removed]",
            "text/plain": [
              "<IPython.core.display.Image object>"
            ]
          },
          "metadata": {}
        },
        {
          "output_type": "stream",
          "name": "stdout",
          "text": [
            "epoch number :  99\n"
          ]
        },
        {
          "output_type": "display_data",
          "data": {
            "image/png": "[encoded data removed]",
            "text/plain": [
              "<IPython.core.display.Image object>"
            ]
          },
          "metadata": {}
        },
        {
          "output_type": "stream",
          "name": "stdout",
          "text": [
            "epoch number :  109\n"
          ]
        },
        {
          "output_type": "display_data",
          "data": {
            "image/png": "[encoded data removed]",
            "text/plain": [
              "<IPython.core.display.Image object>"
            ]
          },
          "metadata": {}
        },
        {
          "output_type": "stream",
          "name": "stdout",
          "text": [
            "epoch number :  119\n"
          ]
        },
        {
          "output_type": "display_data",
          "data": {
            "image/png": "[encoded data removed]",
            "text/plain": [
              "<IPython.core.display.Image object>"
            ]
          },
          "metadata": {}
        },
        {
          "output_type": "stream",
          "name": "stdout",
          "text": [
            "epoch number :  129\n"
          ]
        },
        {
          "output_type": "display_data",
          "data": {
            "image/png": "[encoded data removed]",
            "text/plain": [
              "<IPython.core.display.Image object>"
            ]
          },
          "metadata": {}
        },
        {
          "output_type": "stream",
          "name": "stdout",
          "text": [
            "epoch number :  139\n"
          ]
        },
        {
          "output_type": "display_data",
          "data": {
            "image/png": "[encoded data removed]",
            "text/plain": [
              "<IPython.core.display.Image object>"
            ]
          },
          "metadata": {}
        },
        {
          "output_type": "stream",
          "name": "stdout",
          "text": [
            "epoch number :  149\n"
          ]
        },
        {
          "output_type": "display_data",
          "data": {
            "image/png": "[encoded data removed]",
            "text/plain": [
              "<IPython.core.display.Image object>"
            ]
          },
          "metadata": {}
        },
        {
          "output_type": "stream",
          "name": "stdout",
          "text": [
            "epoch number :  159\n"
          ]
        },
        {
          "output_type": "display_data",
          "data": {
            "image/png": "[encoded data removed]",
            "text/plain": [
              "<IPython.core.display.Image object>"
            ]
          },
          "metadata": {}
        },
        {
          "output_type": "stream",
          "name": "stdout",
          "text": [
            "epoch number :  169\n"
          ]
        },
        {
          "output_type": "display_data",
          "data": {
            "image/png": "[encoded data removed]",
            "text/plain": [
              "<IPython.core.display.Image object>"
            ]
          },
          "metadata": {}
        },
        {
          "output_type": "stream",
          "name": "stdout",
          "text": [
            "epoch number :  179\n"
          ]
        },
        {
          "output_type": "display_data",
          "data": {
            "image/png": "[encoded data removed]",
            "text/plain": [
              "<IPython.core.display.Image object>"
            ]
          },
          "metadata": {}
        },
        {
          "output_type": "stream",
          "name": "stdout",
          "text": [
            "epoch number :  189\n"
          ]
        },
        {
          "output_type": "display_data",
          "data": {
            "image/png": "[encoded data removed]",
            "text/plain": [
              "<IPython.core.display.Image object>"
            ]
          },
          "metadata": {}
        },
        {
          "output_type": "stream",
          "name": "stdout",
          "text": [
            "epoch number :  199\n"
          ]
        },
        {
          "output_type": "display_data",
          "data": {
            "image/png": "[encoded data removed]",
            "text/plain": [
              "<IPython.core.display.Image object>"
            ]
          },
          "metadata": {}
        },
        {
          "output_type": "stream",
          "name": "stdout",
          "text": [
            "epoch number :  209\n"
          ]
        },
        {
          "output_type": "display_data",
          "data": {
            "image/png": "[encoded data removed]",
            "text/plain": [
              "<IPython.core.display.Image object>"
            ]
          },
          "metadata": {}
        },
        {
          "output_type": "stream",
          "name": "stdout",
          "text": [
            "epoch number :  219\n"
          ]
        },
        {
          "output_type": "display_data",
          "data": {
            "image/png": "[encoded data removed]",
            "text/plain": [
              "<IPython.core.display.Image object>"
            ]
          },
          "metadata": {}
        },
        {
          "output_type": "stream",
          "name": "stdout",
          "text": [
            "epoch number :  229\n"
          ]
        },
        {
          "output_type": "display_data",
          "data": {
            "image/png": "[encoded data removed]",
            "text/plain": [
              "<IPython.core.display.Image object>"
            ]
          },
          "metadata": {}
        },
        {
          "output_type": "stream",
          "name": "stdout",
          "text": [
            "epoch number :  239\n"
          ]
        },
        {
          "output_type": "display_data",
          "data": {
            "image/png": "[encoded data removed]",
            "text/plain": [
              "<IPython.core.display.Image object>"
            ]
          },
          "metadata": {}
        },
        {
          "output_type": "stream",
          "name": "stdout",
          "text": [
            "epoch number :  249\n"
          ]
        },
        {
          "output_type": "display_data",
          "data": {
            "image/png": "[encoded data removed]",
            "text/plain": [
              "<IPython.core.display.Image object>"
            ]
          },
          "metadata": {}
        },
        {
          "output_type": "stream",
          "name": "stdout",
          "text": [
            "epoch number :  259\n"
          ]
        },
        {
          "output_type": "display_data",
          "data": {
            "image/png": "[encoded data removed]",
            "text/plain": [
              "<IPython.core.display.Image object>"
            ]
          },
          "metadata": {}
        },
        {
          "output_type": "stream",
          "name": "stdout",
          "text": [
            "epoch number :  269\n"
          ]
        },
        {
          "output_type": "display_data",
          "data": {
            "image/png": "[encoded data removed]",
            "text/plain": [
              "<IPython.core.display.Image object>"
            ]
          },
          "metadata": {}
        },
        {
          "output_type": "stream",
          "name": "stdout",
          "text": [
            "epoch number :  279\n"
          ]
        },
        {
          "output_type": "display_data",
          "data": {
            "image/png": "[encoded data removed]",
            "text/plain": [
              "<IPython.core.display.Image object>"
            ]
          },
          "metadata": {}
        },
        {
          "output_type": "stream",
          "name": "stdout",
          "text": [
            "epoch number :  289\n"
          ]
        },
        {
          "output_type": "display_data",
          "data": {
            "image/png": "[encoded data removed]",
            "text/plain": [
              "<IPython.core.display.Image object>"
            ]
          },
          "metadata": {}
        },
        {
          "output_type": "stream",
          "name": "stdout",
          "text": [
            "epoch number :  299\n"
          ]
        },
        {
          "output_type": "display_data",
          "data": {
            "image/png": "[encoded data removed]",
            "text/plain": [
              "<IPython.core.display.Image object>"
            ]
          },
          "metadata": {}
        }
      ]
    },
    {
      "cell_type": "code",
      "metadata": {
        "id": "aGPzZXYZHY7Z",
        "colab": {
          "base_uri": "https://localhost:8080/",
          "height": 273
        },
        "outputId": "02e4ebe7-1564-4afd-ba66-2078b86862fa"
      },
      "source": [
        "i = 14\n",
        "display(Image(\"generated_img_0_\"+str(i)+\"7.png\"))\n",
        "#display(Image(\"generated_img_1_'+str(i)+'8.png\"))\n",
        "display(Image(\"generated_img_2_1.png\"))"
      ],
      "execution_count": 23,
      "outputs": [
        {
          "output_type": "display_data",
          "data": {
            "image/png": "[encoded data removed]",
            "text/plain": [
              "<IPython.core.display.Image object>"
            ]
          },
          "metadata": {}
        },
        {
          "output_type": "display_data",
          "data": {
            "image/png": "[encoded data removed]",
            "text/plain": [
              "<IPython.core.display.Image object>"
            ]
          },
          "metadata": {}
        }
      ]
    },
    {
      "cell_type": "markdown",
      "metadata": {
        "id": "Ija2VfZEWx6q"
      },
      "source": [
        "**Вывод:** сеть не обучилась вероятно из-за небольшого размера датасета - 19 картинок."
      ]
    },
    {
      "cell_type": "markdown",
      "metadata": {
        "id": "ylXgkFp6_3aO"
      },
      "source": [
        "## GAN for Fashion_MNIST dataset"
      ]
    },
    {
      "cell_type": "markdown",
      "metadata": {
        "id": "qPdeAjR3AJlx"
      },
      "source": [
        "## Строим discriminator\n",
        "\n",
        "размер карты 28x28 и бинарная классификация (настоящее изображение или генерировано)."
      ]
    },
    {
      "cell_type": "code",
      "metadata": {
        "colab": {
          "base_uri": "https://localhost:8080/"
        },
        "id": "xN8LUjQvAL1u",
        "outputId": "5e0e0af7-381e-41d6-9f64-fedf23a445f6"
      },
      "source": [
        "discriminator = keras.Sequential(\n",
        "    [\n",
        "        keras.Input(shape=(28, 28, 1)),\n",
        "        layers.Conv2D(64, (3, 3), strides=(2, 2), padding=\"same\"),\n",
        "        layers.LeakyReLU(alpha=0.2),\n",
        "        layers.Conv2D(128, (3, 3), strides=(2, 2), padding=\"same\"),\n",
        "        layers.LeakyReLU(alpha=0.2),\n",
        "        layers.GlobalMaxPooling2D(),\n",
        "        layers.Dense(1),\n",
        "    ],\n",
        "    name=\"discriminator\",\n",
        ")\n",
        "\n",
        "discriminator.summary()"
      ],
      "execution_count": 24,
      "outputs": [
        {
          "output_type": "stream",
          "name": "stdout",
          "text": [
            "Model: \"discriminator\"\n",
            "_________________________________________________________________\n",
            "Layer (type)                 Output Shape              Param #   \n",
            "=================================================================\n",
            "conv2d_3 (Conv2D)            (None, 14, 14, 64)        640       \n",
            "_________________________________________________________________\n",
            "leaky_re_lu_7 (LeakyReLU)    (None, 14, 14, 64)        0         \n",
            "_________________________________________________________________\n",
            "conv2d_4 (Conv2D)            (None, 7, 7, 128)         73856     \n",
            "_________________________________________________________________\n",
            "leaky_re_lu_8 (LeakyReLU)    (None, 7, 7, 128)         0         \n",
            "_________________________________________________________________\n",
            "global_max_pooling2d_1 (Glob (None, 128)               0         \n",
            "_________________________________________________________________\n",
            "dense_2 (Dense)              (None, 1)                 129       \n",
            "=================================================================\n",
            "Total params: 74,625\n",
            "Trainable params: 74,625\n",
            "Non-trainable params: 0\n",
            "_________________________________________________________________\n"
          ]
        }
      ]
    },
    {
      "cell_type": "markdown",
      "metadata": {
        "id": "Zsb8ehCmAYP-"
      },
      "source": [
        "## Строим generator\n",
        "\n",
        "обратное по отношению к дискриминатору преобразование, меняем `Conv2D` на `Conv2DTranspose` ."
      ]
    },
    {
      "cell_type": "code",
      "metadata": {
        "colab": {
          "base_uri": "https://localhost:8080/"
        },
        "id": "rTd9liBNAQDv",
        "outputId": "1227a349-3037-4db9-cdb7-ab545049bae7"
      },
      "source": [
        "latent_dim = 128\n",
        "\n",
        "generator = keras.Sequential(\n",
        "    [\n",
        "        keras.Input(shape=(latent_dim,)),\n",
        "        # строим размер входного вектора 7x7x128 map\n",
        "        layers.Dense(7 * 7 * 128),\n",
        "        layers.LeakyReLU(alpha=0.2),\n",
        "        layers.Reshape((7, 7, 128)),\n",
        "        layers.Conv2DTranspose(128, (4, 4), strides=(2, 2), padding=\"same\"),\n",
        "        layers.LeakyReLU(alpha=0.2),\n",
        "        layers.Conv2DTranspose(256, (4, 4), strides=(2, 2), padding=\"same\"),\n",
        "        layers.LeakyReLU(alpha=0.2),\n",
        "        layers.Conv2D(1, (7, 7), padding=\"same\", activation=\"sigmoid\"),\n",
        "    ],\n",
        "    name=\"generator\",\n",
        ")\n",
        "\n",
        "generator.summary()"
      ],
      "execution_count": 25,
      "outputs": [
        {
          "output_type": "stream",
          "name": "stdout",
          "text": [
            "Model: \"generator\"\n",
            "_________________________________________________________________\n",
            "Layer (type)                 Output Shape              Param #   \n",
            "=================================================================\n",
            "dense_3 (Dense)              (None, 6272)              809088    \n",
            "_________________________________________________________________\n",
            "leaky_re_lu_9 (LeakyReLU)    (None, 6272)              0         \n",
            "_________________________________________________________________\n",
            "reshape_1 (Reshape)          (None, 7, 7, 128)         0         \n",
            "_________________________________________________________________\n",
            "conv2d_transpose_4 (Conv2DTr (None, 14, 14, 128)       262272    \n",
            "_________________________________________________________________\n",
            "leaky_re_lu_10 (LeakyReLU)   (None, 14, 14, 128)       0         \n",
            "_________________________________________________________________\n",
            "conv2d_transpose_5 (Conv2DTr (None, 28, 28, 256)       524544    \n",
            "_________________________________________________________________\n",
            "leaky_re_lu_11 (LeakyReLU)   (None, 28, 28, 256)       0         \n",
            "_________________________________________________________________\n",
            "conv2d_5 (Conv2D)            (None, 28, 28, 1)         12545     \n",
            "=================================================================\n",
            "Total params: 1,608,449\n",
            "Trainable params: 1,608,449\n",
            "Non-trainable params: 0\n",
            "_________________________________________________________________\n"
          ]
        }
      ]
    },
    {
      "cell_type": "code",
      "metadata": {
        "colab": {
          "base_uri": "https://localhost:8080/"
        },
        "id": "HgrC6ZTJAinx",
        "outputId": "c46bfa7f-281b-4196-db90-5ac3d01dc60d"
      },
      "source": [
        "epochs = 300\n",
        "\n",
        "gan_2 = GAN(discriminator=discriminator, generator=generator, latent_dim=latent_dim)\n",
        "gan_2.compile(\n",
        "    d_optimizer=keras.optimizers.Adam(learning_rate=0.0003),\n",
        "    g_optimizer=keras.optimizers.Adam(learning_rate=0.0003),\n",
        "    loss_fn=keras.losses.BinaryCrossentropy(from_logits=True),\n",
        ")\n",
        "\n",
        "gan_2.fit(\n",
        "    dataset, epochs=epochs, callbacks=[GANMonitor(num_img=3, latent_dim=latent_dim)]\n",
        ")"
      ],
      "execution_count": 26,
      "outputs": [
        {
          "output_type": "stream",
          "name": "stdout",
          "text": [
            "Epoch 1/300\n",
            "94/94 [==============================] - 10s 87ms/step - d_loss: 0.4150 - g_loss: 1.0819\n",
            "Epoch 2/300\n",
            "94/94 [==============================] - 8s 83ms/step - d_loss: 0.0914 - g_loss: 2.7798\n",
            "Epoch 3/300\n",
            "94/94 [==============================] - 8s 83ms/step - d_loss: 0.0149 - g_loss: 5.2777\n",
            "Epoch 4/300\n",
            "94/94 [==============================] - 8s 83ms/step - d_loss: -0.0257 - g_loss: 8.2491\n",
            "Epoch 5/300\n",
            "94/94 [==============================] - 8s 83ms/step - d_loss: 0.2806 - g_loss: 6.7704\n",
            "Epoch 6/300\n",
            "94/94 [==============================] - 8s 83ms/step - d_loss: 0.6493 - g_loss: 1.3601\n",
            "Epoch 7/300\n",
            "94/94 [==============================] - 8s 83ms/step - d_loss: 0.4856 - g_loss: 1.5628\n",
            "Epoch 8/300\n",
            "94/94 [==============================] - 8s 83ms/step - d_loss: 0.4492 - g_loss: 1.7745\n",
            "Epoch 9/300\n",
            "94/94 [==============================] - 8s 83ms/step - d_loss: 0.3440 - g_loss: 2.1495\n",
            "Epoch 10/300\n",
            "94/94 [==============================] - 8s 83ms/step - d_loss: 0.3247 - g_loss: 1.8131\n",
            "Epoch 11/300\n",
            "94/94 [==============================] - 8s 83ms/step - d_loss: 0.2154 - g_loss: 3.6470\n",
            "Epoch 12/300\n",
            "94/94 [==============================] - 8s 83ms/step - d_loss: 0.2421 - g_loss: 2.4956\n",
            "Epoch 13/300\n",
            "94/94 [==============================] - 8s 83ms/step - d_loss: 0.1586 - g_loss: 2.5396\n",
            "Epoch 14/300\n",
            "94/94 [==============================] - 8s 83ms/step - d_loss: 0.1235 - g_loss: 2.8607\n",
            "Epoch 15/300\n",
            "94/94 [==============================] - 8s 83ms/step - d_loss: 0.1290 - g_loss: 5.0080\n",
            "Epoch 16/300\n",
            "94/94 [==============================] - 8s 83ms/step - d_loss: 0.1541 - g_loss: 4.8782\n",
            "Epoch 17/300\n",
            "94/94 [==============================] - 8s 83ms/step - d_loss: 0.1271 - g_loss: 2.9402\n",
            "Epoch 18/300\n",
            "94/94 [==============================] - 8s 83ms/step - d_loss: 0.1211 - g_loss: 2.8845\n",
            "Epoch 19/300\n",
            "94/94 [==============================] - 8s 83ms/step - d_loss: 0.0968 - g_loss: 3.2634\n",
            "Epoch 20/300\n",
            "94/94 [==============================] - 8s 84ms/step - d_loss: 0.0964 - g_loss: 3.3883\n",
            "Epoch 21/300\n",
            "94/94 [==============================] - 8s 84ms/step - d_loss: 0.0879 - g_loss: 3.5357\n",
            "Epoch 22/300\n",
            "94/94 [==============================] - 8s 83ms/step - d_loss: 0.0854 - g_loss: 3.5967\n",
            "Epoch 23/300\n",
            "94/94 [==============================] - 8s 83ms/step - d_loss: 0.0825 - g_loss: 3.6409\n",
            "Epoch 24/300\n",
            "94/94 [==============================] - 8s 83ms/step - d_loss: 0.1023 - g_loss: 3.3045\n",
            "Epoch 25/300\n",
            "94/94 [==============================] - 8s 83ms/step - d_loss: 0.0938 - g_loss: 5.4325\n",
            "Epoch 26/300\n",
            "94/94 [==============================] - 8s 83ms/step - d_loss: 0.0445 - g_loss: 8.5287\n",
            "Epoch 27/300\n",
            "94/94 [==============================] - 8s 83ms/step - d_loss: 0.0212 - g_loss: 7.0742\n",
            "Epoch 28/300\n",
            "94/94 [==============================] - 8s 83ms/step - d_loss: -0.0589 - g_loss: 11.8988\n",
            "Epoch 29/300\n",
            "94/94 [==============================] - 8s 82ms/step - d_loss: 0.0575 - g_loss: 4.2356\n",
            "Epoch 30/300\n",
            "94/94 [==============================] - 8s 83ms/step - d_loss: 0.0602 - g_loss: 3.9863\n",
            "Epoch 31/300\n",
            "94/94 [==============================] - 8s 83ms/step - d_loss: 0.0587 - g_loss: 4.3554\n",
            "Epoch 32/300\n",
            "94/94 [==============================] - 8s 83ms/step - d_loss: 0.0528 - g_loss: 4.4760\n",
            "Epoch 33/300\n",
            "94/94 [==============================] - 8s 83ms/step - d_loss: 0.0512 - g_loss: 4.5289\n",
            "Epoch 34/300\n",
            "94/94 [==============================] - 8s 83ms/step - d_loss: 0.0536 - g_loss: 4.3374\n",
            "Epoch 35/300\n",
            "94/94 [==============================] - 8s 83ms/step - d_loss: 0.0506 - g_loss: 4.5289\n",
            "Epoch 36/300\n",
            "94/94 [==============================] - 8s 83ms/step - d_loss: 0.0501 - g_loss: 4.5177\n",
            "Epoch 37/300\n",
            "94/94 [==============================] - 8s 83ms/step - d_loss: 0.0479 - g_loss: 4.6246\n",
            "Epoch 38/300\n",
            "94/94 [==============================] - 8s 83ms/step - d_loss: 0.0574 - g_loss: 4.1917\n",
            "Epoch 39/300\n",
            "94/94 [==============================] - 8s 83ms/step - d_loss: 0.2438 - g_loss: 3.4774\n",
            "Epoch 40/300\n",
            "94/94 [==============================] - 8s 83ms/step - d_loss: 0.3964 - g_loss: 2.4635\n",
            "Epoch 41/300\n",
            "94/94 [==============================] - 8s 82ms/step - d_loss: 0.9819 - g_loss: 0.8226\n",
            "Epoch 42/300\n",
            "94/94 [==============================] - 8s 83ms/step - d_loss: 0.8078 - g_loss: 1.0801\n",
            "Epoch 43/300\n",
            "94/94 [==============================] - 8s 83ms/step - d_loss: 0.8894 - g_loss: 1.0523\n",
            "Epoch 44/300\n",
            "94/94 [==============================] - 8s 83ms/step - d_loss: 1.0131 - g_loss: 0.6598\n",
            "Epoch 45/300\n",
            "94/94 [==============================] - 8s 83ms/step - d_loss: 0.8453 - g_loss: 0.7984\n",
            "Epoch 46/300\n",
            "94/94 [==============================] - 8s 83ms/step - d_loss: 0.8590 - g_loss: 0.7736\n",
            "Epoch 47/300\n",
            "94/94 [==============================] - 8s 83ms/step - d_loss: 0.8569 - g_loss: 0.8440\n",
            "Epoch 48/300\n",
            "94/94 [==============================] - 8s 83ms/step - d_loss: 0.7963 - g_loss: 0.8174\n",
            "Epoch 49/300\n",
            "94/94 [==============================] - 8s 83ms/step - d_loss: 0.8271 - g_loss: 0.7227\n",
            "Epoch 50/300\n",
            "94/94 [==============================] - 8s 83ms/step - d_loss: 0.7583 - g_loss: 0.8490\n",
            "Epoch 51/300\n",
            "94/94 [==============================] - 8s 83ms/step - d_loss: 0.7362 - g_loss: 0.8809\n",
            "Epoch 52/300\n",
            "94/94 [==============================] - 8s 83ms/step - d_loss: 0.7990 - g_loss: 0.7956\n",
            "Epoch 53/300\n",
            "94/94 [==============================] - 8s 83ms/step - d_loss: 0.7693 - g_loss: 0.7650\n",
            "Epoch 54/300\n",
            "94/94 [==============================] - 8s 83ms/step - d_loss: 0.7782 - g_loss: 0.7796\n",
            "Epoch 55/300\n",
            "94/94 [==============================] - 8s 83ms/step - d_loss: 0.7746 - g_loss: 0.7571\n",
            "Epoch 56/300\n",
            "94/94 [==============================] - 8s 83ms/step - d_loss: 0.6800 - g_loss: 0.8745\n",
            "Epoch 57/300\n",
            "94/94 [==============================] - 8s 83ms/step - d_loss: 0.5658 - g_loss: 1.1997\n",
            "Epoch 58/300\n",
            "94/94 [==============================] - 8s 83ms/step - d_loss: 0.6757 - g_loss: 1.1290\n",
            "Epoch 59/300\n",
            "94/94 [==============================] - 8s 83ms/step - d_loss: 0.8134 - g_loss: 0.7823\n",
            "Epoch 60/300\n",
            "94/94 [==============================] - 8s 83ms/step - d_loss: 0.7984 - g_loss: 0.7383\n",
            "Epoch 61/300\n",
            "94/94 [==============================] - 8s 83ms/step - d_loss: 0.7234 - g_loss: 0.8091\n",
            "Epoch 62/300\n",
            "94/94 [==============================] - 8s 83ms/step - d_loss: 0.7598 - g_loss: 0.7899\n",
            "Epoch 63/300\n",
            "94/94 [==============================] - 8s 83ms/step - d_loss: 0.7584 - g_loss: 0.8219\n",
            "Epoch 64/300\n",
            "94/94 [==============================] - 8s 83ms/step - d_loss: 0.7529 - g_loss: 0.7970\n",
            "Epoch 65/300\n",
            "94/94 [==============================] - 8s 83ms/step - d_loss: 0.7417 - g_loss: 0.7792\n",
            "Epoch 66/300\n",
            "94/94 [==============================] - 8s 83ms/step - d_loss: 0.6665 - g_loss: 0.8808\n",
            "Epoch 67/300\n",
            "94/94 [==============================] - 8s 83ms/step - d_loss: 0.6498 - g_loss: 0.8877\n",
            "Epoch 68/300\n",
            "94/94 [==============================] - 8s 83ms/step - d_loss: 0.6042 - g_loss: 0.9432\n",
            "Epoch 69/300\n",
            "94/94 [==============================] - 8s 83ms/step - d_loss: 0.6521 - g_loss: 0.9983\n",
            "Epoch 70/300\n",
            "94/94 [==============================] - 8s 83ms/step - d_loss: 0.7153 - g_loss: 0.8972\n",
            "Epoch 71/300\n",
            "94/94 [==============================] - 8s 83ms/step - d_loss: 0.8049 - g_loss: 0.7305\n",
            "Epoch 72/300\n",
            "94/94 [==============================] - 8s 83ms/step - d_loss: 0.7340 - g_loss: 0.7749\n",
            "Epoch 73/300\n",
            "94/94 [==============================] - 8s 83ms/step - d_loss: 0.7054 - g_loss: 0.8535\n",
            "Epoch 74/300\n",
            "94/94 [==============================] - 8s 83ms/step - d_loss: 0.7888 - g_loss: 0.7414\n",
            "Epoch 75/300\n",
            "94/94 [==============================] - 8s 84ms/step - d_loss: 0.7289 - g_loss: 0.8688\n",
            "Epoch 76/300\n",
            "94/94 [==============================] - 8s 83ms/step - d_loss: 0.7089 - g_loss: 0.8311\n",
            "Epoch 77/300\n",
            "94/94 [==============================] - 8s 83ms/step - d_loss: 0.7456 - g_loss: 0.7573\n",
            "Epoch 78/300\n",
            "94/94 [==============================] - 8s 83ms/step - d_loss: 0.7060 - g_loss: 0.8356\n",
            "Epoch 79/300\n",
            "94/94 [==============================] - 8s 83ms/step - d_loss: 0.6240 - g_loss: 0.9537\n",
            "Epoch 80/300\n",
            "94/94 [==============================] - 8s 82ms/step - d_loss: 0.7355 - g_loss: 0.8268\n",
            "Epoch 81/300\n",
            "94/94 [==============================] - 8s 83ms/step - d_loss: 0.6521 - g_loss: 0.9821\n",
            "Epoch 82/300\n",
            "94/94 [==============================] - 8s 83ms/step - d_loss: 0.7295 - g_loss: 0.8538\n",
            "Epoch 83/300\n",
            "94/94 [==============================] - 8s 83ms/step - d_loss: 0.7941 - g_loss: 0.7236\n",
            "Epoch 84/300\n",
            "94/94 [==============================] - 8s 83ms/step - d_loss: 0.7066 - g_loss: 0.8006\n",
            "Epoch 85/300\n",
            "94/94 [==============================] - 8s 83ms/step - d_loss: 0.7117 - g_loss: 0.8237\n",
            "Epoch 86/300\n",
            "94/94 [==============================] - 8s 83ms/step - d_loss: 0.7877 - g_loss: 0.7558\n",
            "Epoch 87/300\n",
            "94/94 [==============================] - 8s 83ms/step - d_loss: 0.7361 - g_loss: 0.7795\n",
            "Epoch 88/300\n",
            "94/94 [==============================] - 8s 83ms/step - d_loss: 0.7622 - g_loss: 0.7409\n",
            "Epoch 89/300\n",
            "94/94 [==============================] - 8s 83ms/step - d_loss: 0.7296 - g_loss: 0.7740\n",
            "Epoch 90/300\n",
            "94/94 [==============================] - 8s 84ms/step - d_loss: 0.6239 - g_loss: 0.9037\n",
            "Epoch 91/300\n",
            "94/94 [==============================] - 8s 83ms/step - d_loss: 0.7033 - g_loss: 0.8362\n",
            "Epoch 92/300\n",
            "94/94 [==============================] - 8s 84ms/step - d_loss: 0.7656 - g_loss: 0.8333\n",
            "Epoch 93/300\n",
            "94/94 [==============================] - 8s 83ms/step - d_loss: 0.7267 - g_loss: 0.8286\n",
            "Epoch 94/300\n",
            "94/94 [==============================] - 8s 84ms/step - d_loss: 0.7096 - g_loss: 0.8140\n",
            "Epoch 95/300\n",
            "94/94 [==============================] - 8s 83ms/step - d_loss: 0.7704 - g_loss: 0.7578\n",
            "Epoch 96/300\n",
            "94/94 [==============================] - 8s 83ms/step - d_loss: 0.7601 - g_loss: 0.7532\n",
            "Epoch 97/300\n",
            "94/94 [==============================] - 8s 83ms/step - d_loss: 0.7476 - g_loss: 0.7344\n",
            "Epoch 98/300\n",
            "94/94 [==============================] - 8s 83ms/step - d_loss: 0.6905 - g_loss: 0.8192\n",
            "Epoch 99/300\n",
            "94/94 [==============================] - 8s 83ms/step - d_loss: 0.7259 - g_loss: 0.7713\n",
            "Epoch 100/300\n",
            "94/94 [==============================] - 8s 83ms/step - d_loss: 0.7566 - g_loss: 0.7149\n",
            "Epoch 101/300\n",
            "94/94 [==============================] - 8s 83ms/step - d_loss: 0.6890 - g_loss: 0.7820\n",
            "Epoch 102/300\n",
            "94/94 [==============================] - 8s 83ms/step - d_loss: 0.6979 - g_loss: 0.8113\n",
            "Epoch 103/300\n",
            "94/94 [==============================] - 8s 83ms/step - d_loss: 0.7174 - g_loss: 0.7743\n",
            "Epoch 104/300\n",
            "94/94 [==============================] - 8s 84ms/step - d_loss: 0.6929 - g_loss: 0.8934\n",
            "Epoch 105/300\n",
            "94/94 [==============================] - 8s 83ms/step - d_loss: 0.6893 - g_loss: 0.8126\n",
            "Epoch 106/300\n",
            "94/94 [==============================] - 8s 83ms/step - d_loss: 0.7672 - g_loss: 0.6974\n",
            "Epoch 107/300\n",
            "94/94 [==============================] - 8s 83ms/step - d_loss: 0.7460 - g_loss: 0.7279\n",
            "Epoch 108/300\n",
            "94/94 [==============================] - 8s 83ms/step - d_loss: 0.7091 - g_loss: 0.7478\n",
            "Epoch 109/300\n",
            "94/94 [==============================] - 8s 83ms/step - d_loss: 0.6898 - g_loss: 0.7840\n",
            "Epoch 110/300\n",
            "94/94 [==============================] - 8s 83ms/step - d_loss: 0.7250 - g_loss: 0.7872\n",
            "Epoch 111/300\n",
            "94/94 [==============================] - 8s 83ms/step - d_loss: 0.7162 - g_loss: 0.8058\n",
            "Epoch 112/300\n",
            "94/94 [==============================] - 8s 84ms/step - d_loss: 0.7113 - g_loss: 0.7849\n",
            "Epoch 113/300\n",
            "94/94 [==============================] - 8s 83ms/step - d_loss: 0.7064 - g_loss: 0.8058\n",
            "Epoch 114/300\n",
            "94/94 [==============================] - 8s 83ms/step - d_loss: 0.6822 - g_loss: 0.8258\n",
            "Epoch 115/300\n",
            "94/94 [==============================] - 8s 83ms/step - d_loss: 0.6593 - g_loss: 0.8502\n",
            "Epoch 116/300\n",
            "94/94 [==============================] - 8s 83ms/step - d_loss: 0.7222 - g_loss: 0.7702\n",
            "Epoch 117/300\n",
            "94/94 [==============================] - 8s 83ms/step - d_loss: 0.7051 - g_loss: 0.8302\n",
            "Epoch 118/300\n",
            "94/94 [==============================] - 8s 83ms/step - d_loss: 0.7168 - g_loss: 0.8729\n",
            "Epoch 119/300\n",
            "94/94 [==============================] - 8s 83ms/step - d_loss: 0.6971 - g_loss: 0.8209\n",
            "Epoch 120/300\n",
            "94/94 [==============================] - 8s 83ms/step - d_loss: 0.6687 - g_loss: 0.8469\n",
            "Epoch 121/300\n",
            "94/94 [==============================] - 8s 83ms/step - d_loss: 0.7301 - g_loss: 0.7720\n",
            "Epoch 122/300\n",
            "94/94 [==============================] - 8s 83ms/step - d_loss: 0.7225 - g_loss: 0.7424\n",
            "Epoch 123/300\n",
            "94/94 [==============================] - 8s 83ms/step - d_loss: 0.6947 - g_loss: 0.7763\n",
            "Epoch 124/300\n",
            "94/94 [==============================] - 8s 83ms/step - d_loss: 0.6591 - g_loss: 0.8336\n",
            "Epoch 125/300\n",
            "94/94 [==============================] - 8s 83ms/step - d_loss: 0.7304 - g_loss: 0.7453\n",
            "Epoch 126/300\n",
            "94/94 [==============================] - 8s 83ms/step - d_loss: 0.6545 - g_loss: 0.8224\n",
            "Epoch 127/300\n",
            "94/94 [==============================] - 8s 83ms/step - d_loss: 0.7026 - g_loss: 0.7915\n",
            "Epoch 128/300\n",
            "94/94 [==============================] - 8s 83ms/step - d_loss: 0.6718 - g_loss: 0.9492\n",
            "Epoch 129/300\n",
            "94/94 [==============================] - 8s 84ms/step - d_loss: 0.7249 - g_loss: 0.8727\n",
            "Epoch 130/300\n",
            "94/94 [==============================] - 8s 83ms/step - d_loss: 0.6762 - g_loss: 0.8539\n",
            "Epoch 131/300\n",
            "94/94 [==============================] - 8s 83ms/step - d_loss: 0.7129 - g_loss: 0.7886\n",
            "Epoch 132/300\n",
            "94/94 [==============================] - 8s 84ms/step - d_loss: 0.7286 - g_loss: 0.7525\n",
            "Epoch 133/300\n",
            "94/94 [==============================] - 8s 83ms/step - d_loss: 0.7077 - g_loss: 0.7507\n",
            "Epoch 134/300\n",
            "94/94 [==============================] - 8s 83ms/step - d_loss: 0.7364 - g_loss: 0.7473\n",
            "Epoch 135/300\n",
            "94/94 [==============================] - 8s 83ms/step - d_loss: 0.7311 - g_loss: 0.7239\n",
            "Epoch 136/300\n",
            "94/94 [==============================] - 8s 83ms/step - d_loss: 0.6869 - g_loss: 0.7894\n",
            "Epoch 137/300\n",
            "94/94 [==============================] - 8s 83ms/step - d_loss: 0.6996 - g_loss: 0.7760\n",
            "Epoch 138/300\n",
            "94/94 [==============================] - 8s 83ms/step - d_loss: 0.6998 - g_loss: 0.7760\n",
            "Epoch 139/300\n",
            "94/94 [==============================] - 8s 83ms/step - d_loss: 0.7127 - g_loss: 0.7659\n",
            "Epoch 140/300\n",
            "94/94 [==============================] - 8s 83ms/step - d_loss: 0.6208 - g_loss: 0.9011\n",
            "Epoch 141/300\n",
            "94/94 [==============================] - 8s 83ms/step - d_loss: 0.7019 - g_loss: 0.8404\n",
            "Epoch 142/300\n",
            "94/94 [==============================] - 8s 84ms/step - d_loss: 0.7210 - g_loss: 0.7905\n",
            "Epoch 143/300\n",
            "94/94 [==============================] - 8s 84ms/step - d_loss: 0.7124 - g_loss: 0.7709\n",
            "Epoch 144/300\n",
            "94/94 [==============================] - 8s 84ms/step - d_loss: 0.6972 - g_loss: 0.7761\n",
            "Epoch 145/300\n",
            "94/94 [==============================] - 8s 84ms/step - d_loss: 0.7047 - g_loss: 0.7796\n",
            "Epoch 146/300\n",
            "94/94 [==============================] - 8s 84ms/step - d_loss: 0.6892 - g_loss: 0.8050\n",
            "Epoch 147/300\n",
            "94/94 [==============================] - 8s 84ms/step - d_loss: 0.7277 - g_loss: 0.7418\n",
            "Epoch 148/300\n",
            "94/94 [==============================] - 8s 84ms/step - d_loss: 0.7038 - g_loss: 0.7584\n",
            "Epoch 149/300\n",
            "94/94 [==============================] - 8s 84ms/step - d_loss: 0.6909 - g_loss: 0.7642\n",
            "Epoch 150/300\n",
            "94/94 [==============================] - 8s 83ms/step - d_loss: 0.6913 - g_loss: 0.7678\n",
            "Epoch 151/300\n",
            "94/94 [==============================] - 8s 84ms/step - d_loss: 0.6644 - g_loss: 0.8068\n",
            "Epoch 152/300\n",
            "94/94 [==============================] - 8s 83ms/step - d_loss: 0.6792 - g_loss: 0.8563\n",
            "Epoch 153/300\n",
            "94/94 [==============================] - 8s 84ms/step - d_loss: 0.7455 - g_loss: 0.7363\n",
            "Epoch 154/300\n",
            "94/94 [==============================] - 8s 83ms/step - d_loss: 0.6594 - g_loss: 0.8177\n",
            "Epoch 155/300\n",
            "94/94 [==============================] - 8s 83ms/step - d_loss: 0.6838 - g_loss: 0.7906\n",
            "Epoch 156/300\n",
            "94/94 [==============================] - 8s 83ms/step - d_loss: 0.7203 - g_loss: 0.7792\n",
            "Epoch 157/300\n",
            "94/94 [==============================] - 8s 83ms/step - d_loss: 0.6626 - g_loss: 0.8117\n",
            "Epoch 158/300\n",
            "94/94 [==============================] - 8s 83ms/step - d_loss: 0.6987 - g_loss: 0.7539\n",
            "Epoch 159/300\n",
            "94/94 [==============================] - 8s 84ms/step - d_loss: 0.6895 - g_loss: 0.7940\n",
            "Epoch 160/300\n",
            "94/94 [==============================] - 8s 83ms/step - d_loss: 0.6949 - g_loss: 0.8025\n",
            "Epoch 161/300\n",
            "94/94 [==============================] - 8s 83ms/step - d_loss: 0.7193 - g_loss: 0.7648\n",
            "Epoch 162/300\n",
            "94/94 [==============================] - 8s 84ms/step - d_loss: 0.6644 - g_loss: 0.8194\n",
            "Epoch 163/300\n",
            "94/94 [==============================] - 8s 84ms/step - d_loss: 0.6933 - g_loss: 0.8242\n",
            "Epoch 164/300\n",
            "94/94 [==============================] - 8s 83ms/step - d_loss: 0.2422 - g_loss: 2.6022\n",
            "Epoch 165/300\n",
            "94/94 [==============================] - 8s 83ms/step - d_loss: 0.6627 - g_loss: 0.9693\n",
            "Epoch 166/300\n",
            "94/94 [==============================] - 8s 84ms/step - d_loss: 0.6943 - g_loss: 0.8169\n",
            "Epoch 167/300\n",
            "94/94 [==============================] - 8s 83ms/step - d_loss: 0.6783 - g_loss: 0.8102\n",
            "Epoch 168/300\n",
            "94/94 [==============================] - 8s 83ms/step - d_loss: 0.6653 - g_loss: 0.8647\n",
            "Epoch 169/300\n",
            "94/94 [==============================] - 8s 83ms/step - d_loss: 0.7444 - g_loss: 0.7224\n",
            "Epoch 170/300\n",
            "94/94 [==============================] - 8s 83ms/step - d_loss: 0.7025 - g_loss: 0.7602\n",
            "Epoch 171/300\n",
            "94/94 [==============================] - 8s 83ms/step - d_loss: 0.6299 - g_loss: 0.8614\n",
            "Epoch 172/300\n",
            "94/94 [==============================] - 8s 83ms/step - d_loss: 0.6358 - g_loss: 0.8868\n",
            "Epoch 173/300\n",
            "94/94 [==============================] - 8s 83ms/step - d_loss: 0.6902 - g_loss: 0.8383\n",
            "Epoch 174/300\n",
            "94/94 [==============================] - 8s 83ms/step - d_loss: 0.7237 - g_loss: 0.7606\n",
            "Epoch 175/300\n",
            "94/94 [==============================] - 8s 84ms/step - d_loss: 0.6972 - g_loss: 0.7808\n",
            "Epoch 176/300\n",
            "94/94 [==============================] - 8s 83ms/step - d_loss: 0.6981 - g_loss: 0.7912\n",
            "Epoch 177/300\n",
            "94/94 [==============================] - 8s 83ms/step - d_loss: 0.6488 - g_loss: 0.8649\n",
            "Epoch 178/300\n",
            "94/94 [==============================] - 8s 83ms/step - d_loss: 0.6891 - g_loss: 0.8036\n",
            "Epoch 179/300\n",
            "94/94 [==============================] - 8s 83ms/step - d_loss: 0.6383 - g_loss: 0.9011\n",
            "Epoch 180/300\n",
            "94/94 [==============================] - 8s 83ms/step - d_loss: 0.4930 - g_loss: 1.1635\n",
            "Epoch 181/300\n",
            "94/94 [==============================] - 8s 83ms/step - d_loss: 0.5140 - g_loss: 1.1145\n",
            "Epoch 182/300\n",
            "94/94 [==============================] - 8s 84ms/step - d_loss: 0.5212 - g_loss: 1.0963\n",
            "Epoch 183/300\n",
            "94/94 [==============================] - 8s 83ms/step - d_loss: 0.5191 - g_loss: 1.1073\n",
            "Epoch 184/300\n",
            "94/94 [==============================] - 8s 83ms/step - d_loss: 0.7014 - g_loss: 0.8503\n",
            "Epoch 185/300\n",
            "94/94 [==============================] - 8s 84ms/step - d_loss: 0.7250 - g_loss: 0.8099\n",
            "Epoch 186/300\n",
            "94/94 [==============================] - 8s 83ms/step - d_loss: 0.6950 - g_loss: 0.8228\n",
            "Epoch 187/300\n",
            "94/94 [==============================] - 8s 83ms/step - d_loss: 0.6887 - g_loss: 0.8325\n",
            "Epoch 188/300\n",
            "94/94 [==============================] - 8s 83ms/step - d_loss: 0.6300 - g_loss: 0.9022\n",
            "Epoch 189/300\n",
            "94/94 [==============================] - 8s 83ms/step - d_loss: 0.6539 - g_loss: 0.8627\n",
            "Epoch 190/300\n",
            "94/94 [==============================] - 8s 84ms/step - d_loss: 0.6907 - g_loss: 0.8254\n",
            "Epoch 191/300\n",
            "94/94 [==============================] - 8s 84ms/step - d_loss: 0.6186 - g_loss: 0.9418\n",
            "Epoch 192/300\n",
            "94/94 [==============================] - 8s 84ms/step - d_loss: 0.6039 - g_loss: 1.1148\n",
            "Epoch 193/300\n",
            "94/94 [==============================] - 8s 83ms/step - d_loss: 0.7293 - g_loss: 0.8599\n",
            "Epoch 194/300\n",
            "94/94 [==============================] - 8s 83ms/step - d_loss: 0.6772 - g_loss: 0.8684\n",
            "Epoch 195/300\n",
            "94/94 [==============================] - 8s 84ms/step - d_loss: 0.6891 - g_loss: 0.8243\n",
            "Epoch 196/300\n",
            "94/94 [==============================] - 8s 83ms/step - d_loss: 0.6105 - g_loss: 0.9273\n",
            "Epoch 197/300\n",
            "94/94 [==============================] - 8s 83ms/step - d_loss: 0.6930 - g_loss: 0.8260\n",
            "Epoch 198/300\n",
            "94/94 [==============================] - 8s 83ms/step - d_loss: 0.6551 - g_loss: 0.8396\n",
            "Epoch 199/300\n",
            "94/94 [==============================] - 8s 83ms/step - d_loss: 0.6305 - g_loss: 0.8972\n",
            "Epoch 200/300\n",
            "94/94 [==============================] - 8s 83ms/step - d_loss: 0.7301 - g_loss: 0.7727\n",
            "Epoch 201/300\n",
            "94/94 [==============================] - 8s 83ms/step - d_loss: 0.6903 - g_loss: 0.8363\n",
            "Epoch 202/300\n",
            "94/94 [==============================] - 8s 84ms/step - d_loss: 0.6804 - g_loss: 0.8356\n",
            "Epoch 203/300\n",
            "94/94 [==============================] - 8s 83ms/step - d_loss: 0.7073 - g_loss: 0.7799\n",
            "Epoch 204/300\n",
            "94/94 [==============================] - 8s 83ms/step - d_loss: 0.6718 - g_loss: 0.8100\n",
            "Epoch 205/300\n",
            "94/94 [==============================] - 8s 83ms/step - d_loss: 0.6873 - g_loss: 0.8104\n",
            "Epoch 206/300\n",
            "94/94 [==============================] - 8s 83ms/step - d_loss: 0.6299 - g_loss: 0.9216\n",
            "Epoch 207/300\n",
            "94/94 [==============================] - 8s 83ms/step - d_loss: 0.6996 - g_loss: 0.7964\n",
            "Epoch 208/300\n",
            "94/94 [==============================] - 8s 83ms/step - d_loss: 0.6898 - g_loss: 0.7955\n",
            "Epoch 209/300\n",
            "94/94 [==============================] - 8s 83ms/step - d_loss: 0.6469 - g_loss: 0.8746\n",
            "Epoch 210/300\n",
            "94/94 [==============================] - 8s 83ms/step - d_loss: 0.5906 - g_loss: 0.9961\n",
            "Epoch 211/300\n",
            "94/94 [==============================] - 8s 83ms/step - d_loss: 0.6637 - g_loss: 0.8818\n",
            "Epoch 212/300\n",
            "94/94 [==============================] - 8s 83ms/step - d_loss: 0.7132 - g_loss: 0.7737\n",
            "Epoch 213/300\n",
            "94/94 [==============================] - 8s 83ms/step - d_loss: 0.7272 - g_loss: 0.7711\n",
            "Epoch 214/300\n",
            "94/94 [==============================] - 8s 83ms/step - d_loss: 0.6998 - g_loss: 0.8165\n",
            "Epoch 215/300\n",
            "94/94 [==============================] - 8s 83ms/step - d_loss: 0.6836 - g_loss: 0.8753\n",
            "Epoch 216/300\n",
            "94/94 [==============================] - 8s 83ms/step - d_loss: 0.6692 - g_loss: 0.8434\n",
            "Epoch 217/300\n",
            "94/94 [==============================] - 8s 84ms/step - d_loss: 0.6747 - g_loss: 0.8931\n",
            "Epoch 218/300\n",
            "94/94 [==============================] - 8s 83ms/step - d_loss: 0.6201 - g_loss: 0.9513\n",
            "Epoch 219/300\n",
            "94/94 [==============================] - 8s 83ms/step - d_loss: 0.5796 - g_loss: 0.9938\n",
            "Epoch 220/300\n",
            "94/94 [==============================] - 8s 84ms/step - d_loss: 0.5899 - g_loss: 1.0360\n",
            "Epoch 221/300\n",
            "94/94 [==============================] - 8s 84ms/step - d_loss: 0.7611 - g_loss: 0.7459\n",
            "Epoch 222/300\n",
            "94/94 [==============================] - 8s 84ms/step - d_loss: 0.7034 - g_loss: 0.7801\n",
            "Epoch 223/300\n",
            "94/94 [==============================] - 8s 83ms/step - d_loss: 0.6982 - g_loss: 0.7899\n",
            "Epoch 224/300\n",
            "94/94 [==============================] - 8s 83ms/step - d_loss: 0.6875 - g_loss: 0.8094\n",
            "Epoch 225/300\n",
            "94/94 [==============================] - 8s 83ms/step - d_loss: 0.6304 - g_loss: 0.8661\n",
            "Epoch 226/300\n",
            "94/94 [==============================] - 8s 84ms/step - d_loss: 0.7169 - g_loss: 0.7781\n",
            "Epoch 227/300\n",
            "94/94 [==============================] - 8s 84ms/step - d_loss: 0.6904 - g_loss: 0.7952\n",
            "Epoch 228/300\n",
            "94/94 [==============================] - 8s 84ms/step - d_loss: 0.6503 - g_loss: 0.8970\n",
            "Epoch 229/300\n",
            "94/94 [==============================] - 8s 83ms/step - d_loss: 0.6916 - g_loss: 0.9138\n",
            "Epoch 230/300\n",
            "94/94 [==============================] - 8s 84ms/step - d_loss: 0.4925 - g_loss: 1.4114\n",
            "Epoch 231/300\n",
            "94/94 [==============================] - 8s 84ms/step - d_loss: 0.6051 - g_loss: 1.0476\n",
            "Epoch 232/300\n",
            "94/94 [==============================] - 8s 83ms/step - d_loss: 0.7489 - g_loss: 0.7587\n",
            "Epoch 233/300\n",
            "94/94 [==============================] - 8s 83ms/step - d_loss: 0.6976 - g_loss: 0.7879\n",
            "Epoch 234/300\n",
            "94/94 [==============================] - 8s 83ms/step - d_loss: 0.6855 - g_loss: 0.7962\n",
            "Epoch 235/300\n",
            "94/94 [==============================] - 8s 83ms/step - d_loss: 0.6154 - g_loss: 0.9074\n",
            "Epoch 236/300\n",
            "94/94 [==============================] - 8s 83ms/step - d_loss: 0.6697 - g_loss: 0.8396\n",
            "Epoch 237/300\n",
            "94/94 [==============================] - 8s 83ms/step - d_loss: 0.7117 - g_loss: 0.7667\n",
            "Epoch 238/300\n",
            "94/94 [==============================] - 8s 83ms/step - d_loss: 0.7135 - g_loss: 0.7786\n",
            "Epoch 239/300\n",
            "94/94 [==============================] - 8s 82ms/step - d_loss: 0.7222 - g_loss: 0.7523\n",
            "Epoch 240/300\n",
            "94/94 [==============================] - 8s 83ms/step - d_loss: 0.7148 - g_loss: 0.7445\n",
            "Epoch 241/300\n",
            "94/94 [==============================] - 8s 83ms/step - d_loss: 0.7058 - g_loss: 0.7750\n",
            "Epoch 242/300\n",
            "94/94 [==============================] - 8s 83ms/step - d_loss: 0.7039 - g_loss: 0.7767\n",
            "Epoch 243/300\n",
            "94/94 [==============================] - 8s 83ms/step - d_loss: 0.7253 - g_loss: 0.7337\n",
            "Epoch 244/300\n",
            "94/94 [==============================] - 8s 83ms/step - d_loss: 0.7052 - g_loss: 0.7591\n",
            "Epoch 245/300\n",
            "94/94 [==============================] - 8s 83ms/step - d_loss: 0.7181 - g_loss: 0.7345\n",
            "Epoch 246/300\n",
            "94/94 [==============================] - 8s 83ms/step - d_loss: 0.7088 - g_loss: 0.7467\n",
            "Epoch 247/300\n",
            "94/94 [==============================] - 8s 83ms/step - d_loss: 0.6949 - g_loss: 0.7645\n",
            "Epoch 248/300\n",
            "94/94 [==============================] - 8s 83ms/step - d_loss: 0.7149 - g_loss: 0.7457\n",
            "Epoch 249/300\n",
            "94/94 [==============================] - 8s 83ms/step - d_loss: 0.7075 - g_loss: 0.7492\n",
            "Epoch 250/300\n",
            "94/94 [==============================] - 8s 83ms/step - d_loss: 0.6902 - g_loss: 0.7757\n",
            "Epoch 251/300\n",
            "94/94 [==============================] - 8s 83ms/step - d_loss: 0.6974 - g_loss: 0.7685\n",
            "Epoch 252/300\n",
            "94/94 [==============================] - 8s 83ms/step - d_loss: 0.7190 - g_loss: 0.7485\n",
            "Epoch 253/300\n",
            "94/94 [==============================] - 8s 83ms/step - d_loss: 0.6973 - g_loss: 0.7714\n",
            "Epoch 254/300\n",
            "94/94 [==============================] - 8s 84ms/step - d_loss: 0.6944 - g_loss: 0.7811\n",
            "Epoch 255/300\n",
            "94/94 [==============================] - 8s 83ms/step - d_loss: 0.6755 - g_loss: 0.8076\n",
            "Epoch 256/300\n",
            "94/94 [==============================] - 8s 84ms/step - d_loss: 0.7029 - g_loss: 0.7599\n",
            "Epoch 257/300\n",
            "94/94 [==============================] - 8s 84ms/step - d_loss: 0.7046 - g_loss: 0.7594\n",
            "Epoch 258/300\n",
            "94/94 [==============================] - 8s 84ms/step - d_loss: 0.7125 - g_loss: 0.7500\n",
            "Epoch 259/300\n",
            "94/94 [==============================] - 8s 84ms/step - d_loss: 0.7090 - g_loss: 0.7418\n",
            "Epoch 260/300\n",
            "94/94 [==============================] - 8s 84ms/step - d_loss: 0.6755 - g_loss: 0.7977\n",
            "Epoch 261/300\n",
            "94/94 [==============================] - 8s 84ms/step - d_loss: 0.6772 - g_loss: 0.7933\n",
            "Epoch 262/300\n",
            "94/94 [==============================] - 8s 84ms/step - d_loss: 0.6833 - g_loss: 0.8560\n",
            "Epoch 263/300\n",
            "94/94 [==============================] - 8s 84ms/step - d_loss: 0.7317 - g_loss: 0.8219\n",
            "Epoch 264/300\n",
            "94/94 [==============================] - 8s 84ms/step - d_loss: 0.7396 - g_loss: 0.7172\n",
            "Epoch 265/300\n",
            "94/94 [==============================] - 8s 84ms/step - d_loss: 0.7103 - g_loss: 0.7481\n",
            "Epoch 266/300\n",
            "94/94 [==============================] - 8s 84ms/step - d_loss: 0.6971 - g_loss: 0.7601\n",
            "Epoch 267/300\n",
            "94/94 [==============================] - 8s 84ms/step - d_loss: 0.6923 - g_loss: 0.7599\n",
            "Epoch 268/300\n",
            "94/94 [==============================] - 8s 84ms/step - d_loss: 0.7076 - g_loss: 0.7435\n",
            "Epoch 269/300\n",
            "94/94 [==============================] - 8s 85ms/step - d_loss: 0.6925 - g_loss: 0.7816\n",
            "Epoch 270/300\n",
            "94/94 [==============================] - 8s 84ms/step - d_loss: 0.7094 - g_loss: 0.7779\n",
            "Epoch 271/300\n",
            "94/94 [==============================] - 8s 84ms/step - d_loss: 0.7252 - g_loss: 0.7327\n",
            "Epoch 272/300\n",
            "94/94 [==============================] - 8s 84ms/step - d_loss: 0.7006 - g_loss: 0.7364\n",
            "Epoch 273/300\n",
            "94/94 [==============================] - 8s 84ms/step - d_loss: 0.6946 - g_loss: 0.7722\n",
            "Epoch 274/300\n",
            "94/94 [==============================] - 8s 84ms/step - d_loss: 0.6481 - g_loss: 0.8404\n",
            "Epoch 275/300\n",
            "94/94 [==============================] - 8s 84ms/step - d_loss: 0.7235 - g_loss: 0.7322\n",
            "Epoch 276/300\n",
            "94/94 [==============================] - 8s 84ms/step - d_loss: 0.7051 - g_loss: 0.7572\n",
            "Epoch 277/300\n",
            "94/94 [==============================] - 8s 84ms/step - d_loss: 0.7013 - g_loss: 0.7527\n",
            "Epoch 278/300\n",
            "94/94 [==============================] - 8s 84ms/step - d_loss: 0.7043 - g_loss: 0.7434\n",
            "Epoch 279/300\n",
            "94/94 [==============================] - 8s 83ms/step - d_loss: 0.6946 - g_loss: 0.7533\n",
            "Epoch 280/300\n",
            "94/94 [==============================] - 8s 84ms/step - d_loss: 0.6972 - g_loss: 0.7473\n",
            "Epoch 281/300\n",
            "94/94 [==============================] - 8s 83ms/step - d_loss: 0.6968 - g_loss: 0.7500\n",
            "Epoch 282/300\n",
            "94/94 [==============================] - 8s 83ms/step - d_loss: 0.6943 - g_loss: 0.7548\n",
            "Epoch 283/300\n",
            "94/94 [==============================] - 8s 83ms/step - d_loss: 0.6891 - g_loss: 0.7638\n",
            "Epoch 284/300\n",
            "94/94 [==============================] - 8s 84ms/step - d_loss: 0.6965 - g_loss: 0.7648\n",
            "Epoch 285/300\n",
            "94/94 [==============================] - 8s 84ms/step - d_loss: 0.7086 - g_loss: 0.7689\n",
            "Epoch 286/300\n",
            "94/94 [==============================] - 8s 83ms/step - d_loss: 0.6583 - g_loss: 0.8077\n",
            "Epoch 287/300\n",
            "94/94 [==============================] - 8s 84ms/step - d_loss: 0.6942 - g_loss: 0.7778\n",
            "Epoch 288/300\n",
            "94/94 [==============================] - 8s 83ms/step - d_loss: 0.7073 - g_loss: 0.7653\n",
            "Epoch 289/300\n",
            "94/94 [==============================] - 8s 83ms/step - d_loss: 0.6704 - g_loss: 0.8361\n",
            "Epoch 290/300\n",
            "94/94 [==============================] - 8s 84ms/step - d_loss: 0.6801 - g_loss: 0.8158\n",
            "Epoch 291/300\n",
            "94/94 [==============================] - 8s 84ms/step - d_loss: 0.7494 - g_loss: 0.7042\n",
            "Epoch 292/300\n",
            "94/94 [==============================] - 8s 85ms/step - d_loss: 0.7100 - g_loss: 0.7327\n",
            "Epoch 293/300\n",
            "94/94 [==============================] - 8s 83ms/step - d_loss: 0.7069 - g_loss: 0.7548\n",
            "Epoch 294/300\n",
            "94/94 [==============================] - 8s 84ms/step - d_loss: 0.6943 - g_loss: 0.7611\n",
            "Epoch 295/300\n",
            "94/94 [==============================] - 8s 84ms/step - d_loss: 0.6971 - g_loss: 0.7525\n",
            "Epoch 296/300\n",
            "94/94 [==============================] - 8s 84ms/step - d_loss: 0.7081 - g_loss: 0.7416\n",
            "Epoch 297/300\n",
            "94/94 [==============================] - 8s 83ms/step - d_loss: 0.6886 - g_loss: 0.7613\n",
            "Epoch 298/300\n",
            "94/94 [==============================] - 8s 83ms/step - d_loss: 0.6989 - g_loss: 0.7458\n",
            "Epoch 299/300\n",
            "94/94 [==============================] - 8s 83ms/step - d_loss: 0.6888 - g_loss: 0.7678\n",
            "Epoch 300/300\n",
            "94/94 [==============================] - 8s 83ms/step - d_loss: 0.6938 - g_loss: 0.7658\n"
          ]
        },
        {
          "output_type": "execute_result",
          "data": {
            "text/plain": [
              "<keras.callbacks.History at 0x7fd3a1250790>"
            ]
          },
          "metadata": {},
          "execution_count": 26
        }
      ]
    },
    {
      "cell_type": "code",
      "metadata": {
        "colab": {
          "base_uri": "https://localhost:8080/",
          "height": 1000
        },
        "id": "6WHWftGdAtJW",
        "outputId": "7c4577a5-e0e1-4bb6-c93d-6cb7a0e02e8e"
      },
      "source": [
        "for i in range(1,30):\n",
        "  print('epoch number : ', str(i)+'9')\n",
        "  display(Image(\"generated_img_0_\"+str(i)+\"9.png\"))"
      ],
      "execution_count": 27,
      "outputs": [
        {
          "output_type": "stream",
          "name": "stdout",
          "text": [
            "epoch number :  19\n"
          ]
        },
        {
          "output_type": "display_data",
          "data": {
            "image/png": "[encoded data removed]",
            "text/plain": [
              "<IPython.core.display.Image object>"
            ]
          },
          "metadata": {}
        },
        {
          "output_type": "stream",
          "name": "stdout",
          "text": [
            "epoch number :  29\n"
          ]
        },
        {
          "output_type": "display_data",
          "data": {
            "image/png": "[encoded data removed]",
            "text/plain": [
              "<IPython.core.display.Image object>"
            ]
          },
          "metadata": {}
        },
        {
          "output_type": "stream",
          "name": "stdout",
          "text": [
            "epoch number :  39\n"
          ]
        },
        {
          "output_type": "display_data",
          "data": {
            "image/png": "[encoded data removed]",
            "text/plain": [
              "<IPython.core.display.Image object>"
            ]
          },
          "metadata": {}
        },
        {
          "output_type": "stream",
          "name": "stdout",
          "text": [
            "epoch number :  49\n"
          ]
        },
        {
          "output_type": "display_data",
          "data": {
            "image/png": "[encoded data removed]",
            "text/plain": [
              "<IPython.core.display.Image object>"
            ]
          },
          "metadata": {}
        },
        {
          "output_type": "stream",
          "name": "stdout",
          "text": [
            "epoch number :  59\n"
          ]
        },
        {
          "output_type": "display_data",
          "data": {
            "image/png": "[encoded data removed]",
            "text/plain": [
              "<IPython.core.display.Image object>"
            ]
          },
          "metadata": {}
        },
        {
          "output_type": "stream",
          "name": "stdout",
          "text": [
            "epoch number :  69\n"
          ]
        },
        {
          "output_type": "display_data",
          "data": {
            "image/png": "[encoded data removed]",
            "text/plain": [
              "<IPython.core.display.Image object>"
            ]
          },
          "metadata": {}
        },
        {
          "output_type": "stream",
          "name": "stdout",
          "text": [
            "epoch number :  79\n"
          ]
        },
        {
          "output_type": "display_data",
          "data": {
            "image/png": "[encoded data removed]",
            "text/plain": [
              "<IPython.core.display.Image object>"
            ]
          },
          "metadata": {}
        },
        {
          "output_type": "stream",
          "name": "stdout",
          "text": [
            "epoch number :  89\n"
          ]
        },
        {
          "output_type": "display_data",
          "data": {
            "image/png": "[encoded data removed]",
            "text/plain": [
              "<IPython.core.display.Image object>"
            ]
          },
          "metadata": {}
        },
        {
          "output_type": "stream",
          "name": "stdout",
          "text": [
            "epoch number :  99\n"
          ]
        },
        {
          "output_type": "display_data",
          "data": {
            "image/png": "[encoded data removed]",
            "text/plain": [
              "<IPython.core.display.Image object>"
            ]
          },
          "metadata": {}
        },
        {
          "output_type": "stream",
          "name": "stdout",
          "text": [
            "epoch number :  109\n"
          ]
        },
        {
          "output_type": "display_data",
          "data": {
            "image/png": "[encoded data removed]",
            "text/plain": [
              "<IPython.core.display.Image object>"
            ]
          },
          "metadata": {}
        },
        {
          "output_type": "stream",
          "name": "stdout",
          "text": [
            "epoch number :  119\n"
          ]
        },
        {
          "output_type": "display_data",
          "data": {
            "image/png": "[encoded data removed]",
            "text/plain": [
              "<IPython.core.display.Image object>"
            ]
          },
          "metadata": {}
        },
        {
          "output_type": "stream",
          "name": "stdout",
          "text": [
            "epoch number :  129\n"
          ]
        },
        {
          "output_type": "display_data",
          "data": {
            "image/png": "[encoded data removed]",
            "text/plain": [
              "<IPython.core.display.Image object>"
            ]
          },
          "metadata": {}
        },
        {
          "output_type": "stream",
          "name": "stdout",
          "text": [
            "epoch number :  139\n"
          ]
        },
        {
          "output_type": "display_data",
          "data": {
            "image/png": "[encoded data removed]",
            "text/plain": [
              "<IPython.core.display.Image object>"
            ]
          },
          "metadata": {}
        },
        {
          "output_type": "stream",
          "name": "stdout",
          "text": [
            "epoch number :  149\n"
          ]
        },
        {
          "output_type": "display_data",
          "data": {
            "image/png": "[encoded data removed]",
            "text/plain": [
              "<IPython.core.display.Image object>"
            ]
          },
          "metadata": {}
        },
        {
          "output_type": "stream",
          "name": "stdout",
          "text": [
            "epoch number :  159\n"
          ]
        },
        {
          "output_type": "display_data",
          "data": {
            "image/png": "[encoded data removed]",
            "text/plain": [
              "<IPython.core.display.Image object>"
            ]
          },
          "metadata": {}
        },
        {
          "output_type": "stream",
          "name": "stdout",
          "text": [
            "epoch number :  169\n"
          ]
        },
        {
          "output_type": "display_data",
          "data": {
            "image/png": "[encoded data removed]",
            "text/plain": [
              "<IPython.core.display.Image object>"
            ]
          },
          "metadata": {}
        },
        {
          "output_type": "stream",
          "name": "stdout",
          "text": [
            "epoch number :  179\n"
          ]
        },
        {
          "output_type": "display_data",
          "data": {
            "image/png": "[encoded data removed]",
            "text/plain": [
              "<IPython.core.display.Image object>"
            ]
          },
          "metadata": {}
        },
        {
          "output_type": "stream",
          "name": "stdout",
          "text": [
            "epoch number :  189\n"
          ]
        },
        {
          "output_type": "display_data",
          "data": {
            "image/png": "[encoded data removed]",
            "text/plain": [
              "<IPython.core.display.Image object>"
            ]
          },
          "metadata": {}
        },
        {
          "output_type": "stream",
          "name": "stdout",
          "text": [
            "epoch number :  199\n"
          ]
        },
        {
          "output_type": "display_data",
          "data": {
            "image/png": "[encoded data removed]",
            "text/plain": [
              "<IPython.core.display.Image object>"
            ]
          },
          "metadata": {}
        },
        {
          "output_type": "stream",
          "name": "stdout",
          "text": [
            "epoch number :  209\n"
          ]
        },
        {
          "output_type": "display_data",
          "data": {
            "image/png": "[encoded data removed]",
            "text/plain": [
              "<IPython.core.display.Image object>"
            ]
          },
          "metadata": {}
        },
        {
          "output_type": "stream",
          "name": "stdout",
          "text": [
            "epoch number :  219\n"
          ]
        },
        {
          "output_type": "display_data",
          "data": {
            "image/png": "[encoded data removed]",
            "text/plain": [
              "<IPython.core.display.Image object>"
            ]
          },
          "metadata": {}
        },
        {
          "output_type": "stream",
          "name": "stdout",
          "text": [
            "epoch number :  229\n"
          ]
        },
        {
          "output_type": "display_data",
          "data": {
            "image/png": "[encoded data removed]",
            "text/plain": [
              "<IPython.core.display.Image object>"
            ]
          },
          "metadata": {}
        },
        {
          "output_type": "stream",
          "name": "stdout",
          "text": [
            "epoch number :  239\n"
          ]
        },
        {
          "output_type": "display_data",
          "data": {
            "image/png": "[encoded data removed]",
            "text/plain": [
              "<IPython.core.display.Image object>"
            ]
          },
          "metadata": {}
        },
        {
          "output_type": "stream",
          "name": "stdout",
          "text": [
            "epoch number :  249\n"
          ]
        },
        {
          "output_type": "display_data",
          "data": {
            "image/png": "[encoded data removed]",
            "text/plain": [
              "<IPython.core.display.Image object>"
            ]
          },
          "metadata": {}
        },
        {
          "output_type": "stream",
          "name": "stdout",
          "text": [
            "epoch number :  259\n"
          ]
        },
        {
          "output_type": "display_data",
          "data": {
            "image/png": "[encoded data removed]",
            "text/plain": [
              "<IPython.core.display.Image object>"
            ]
          },
          "metadata": {}
        },
        {
          "output_type": "stream",
          "name": "stdout",
          "text": [
            "epoch number :  269\n"
          ]
        },
        {
          "output_type": "display_data",
          "data": {
            "image/png": "[encoded data removed]",
            "text/plain": [
              "<IPython.core.display.Image object>"
            ]
          },
          "metadata": {}
        },
        {
          "output_type": "stream",
          "name": "stdout",
          "text": [
            "epoch number :  279\n"
          ]
        },
        {
          "output_type": "display_data",
          "data": {
            "image/png": "[encoded data removed]",
            "text/plain": [
              "<IPython.core.display.Image object>"
            ]
          },
          "metadata": {}
        },
        {
          "output_type": "stream",
          "name": "stdout",
          "text": [
            "epoch number :  289\n"
          ]
        },
        {
          "output_type": "display_data",
          "data": {
            "image/png": "[encoded data removed]",
            "text/plain": [
              "<IPython.core.display.Image object>"
            ]
          },
          "metadata": {}
        },
        {
          "output_type": "stream",
          "name": "stdout",
          "text": [
            "epoch number :  299\n"
          ]
        },
        {
          "output_type": "display_data",
          "data": {
            "image/png": "[encoded data removed]",
            "text/plain": [
              "<IPython.core.display.Image object>"
            ]
          },
          "metadata": {}
        }
      ]
    },
    {
      "cell_type": "code",
      "metadata": {
        "colab": {
          "base_uri": "https://localhost:8080/",
          "height": 73
        },
        "id": "WXEaB14dA1Sa",
        "outputId": "a9f2705f-c5ea-4303-e7c7-2bbd5b97d63b"
      },
      "source": [
        "i = 14\n",
        "display(Image(\"generated_img_0_\"+str(i)+\"7.png\"))\n",
        "#display(Image(\"generated_img_1_'+str(i)+'8.png\"))\n",
        "display(Image(\"generated_img_2_1.png\"))"
      ],
      "execution_count": 28,
      "outputs": [
        {
          "output_type": "display_data",
          "data": {
            "image/png": "[encoded data removed]",
            "text/plain": [
              "<IPython.core.display.Image object>"
            ]
          },
          "metadata": {}
        },
        {
          "output_type": "display_data",
          "data": {
            "image/png": "[encoded data removed]",
            "text/plain": [
              "<IPython.core.display.Image object>"
            ]
          },
          "metadata": {}
        }
      ]
    },
    {
      "cell_type": "markdown",
      "metadata": {
        "id": "JbdZ1zYuXZ4y"
      },
      "source": [
        "**Вывод** С бОльшим количеством итераций результ сети улучшился, сеть обучается"
      ]
    },
    {
      "cell_type": "markdown",
      "metadata": {
        "id": "SxL7r1jmVH7a"
      },
      "source": [
        "Ссылка на статью https://arxiv.org/pdf/1812.04948v3.pdf"
      ]
    },
    {
      "cell_type": "markdown",
      "metadata": {
        "id": "G4XmFFY0VIqq"
      },
      "source": [
        "Сеть StyleGAN \n",
        "Может генерировать изображения с упраляемым заданием стилей. В случае генераци изображения людей можно целенаправленно изменять длину/цвет волос, цвет кожи, лицо и т.д. меняя знак и уровень шума для каждого слоя разрешения сети синтеза.\n",
        "\n",
        "В традиционном генераторе подаётся скрытый код только через входной слой, в StyleGAN сначала сопоставляется вход с промежуточным скрытым пространством W при помощи Mapping Network, которое затем управляет генератором посредством адаптивной нормализации экземпляров (AdaIN) на каждом уровне свертки. Гауссов шум добавляется после каждой свертки перед оценкой нелинейности(В зависимости от уровня шума и слоя куда добавляется управляет разными \"стилями\". Уровень шума с +/- отклонение изображения в ту или инную сторону от \"среднего изображения\", к примеру изображение кошка/собака, если обучить на соответствующем датасете.). Здесь «A»(см. изор. в оригинальной статье) обозначает изученное аффинное преобразование, а «B»(см. изор. в оригинальной статье) применяет изученные коэффициенты масштабирования для каждого канала к входному шуму. Сеть отображения f(Mapping Network) состоит из 8 уровней, а сеть синтеза g состоит из 18 слоев - по два для каждого разрешения ($4^{2}$ - $1024^{2}$). Выходные данные последнего слоя преобразуются в RGB с использованием отдельной свертки 1 × 1. Генератор имеет в общей сложности 26,2 млн обучаемых параметров по сравнению с 23,1 млн в традиционном генераторе.\n",
        "\n",
        "В сравнении с обычной GAN сетью плюс в том, что можно управлять генерируем изображением. "
      ]
    },
    {
      "cell_type": "code",
      "metadata": {
        "id": "NoAq31UzVTc8"
      },
      "source": [
        "from google.colab import files\n",
        "import cv2 as cv"
      ],
      "execution_count": 32,
      "outputs": []
    },
    {
      "cell_type": "code",
      "metadata": {
        "colab": {
          "resources": {
            "http://localhost:8080/nbextensions/google.colab/files.js": {
              "data": "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",
              "ok": true,
              "headers": [
                [
                  "content-type",
                  "application/javascript"
                ]
              ],
              "status": 200,
              "status_text": ""
            }
          },
          "base_uri": "https://localhost:8080/",
          "height": 110
        },
        "id": "AMNd-rTCVxkc",
        "outputId": "7d78f6c0-055f-413e-c0ad-2ca15df763ea"
      },
      "source": [
        "files.upload()"
      ],
      "execution_count": 30,
      "outputs": [
        {
          "output_type": "display_data",
          "data": {
            "text/html": [
              "\n",
              "     <input type=\"file\" id=\"files-d3b28c32-2586-4b95-9849-275ce2bb65f6\" name=\"files[]\" multiple disabled\n",
              "        style=\"border:none\" />\n",
              "     <output id=\"result-d3b28c32-2586-4b95-9849-275ce2bb65f6\">\n",
              "      Upload widget is only available when the cell has been executed in the\n",
              "      current browser session. Please rerun this cell to enable.\n",
              "      </output>\n",
              "      <script src=\"/nbextensions/google.colab/files.js\"></script> "
            ],
            "text/plain": [
              "<IPython.core.display.HTML object>"
            ]
          },
          "metadata": {}
        },
        {
          "output_type": "stream",
          "name": "stdout",
          "text": [
            "Saving 2021_10_07_11_31_28_1812.04948v3.png to 2021_10_07_11_31_28_1812.04948v3.png\n"
          ]
        },
        {
          "output_type": "execute_result",
          "data": {
            "text/plain": [
              "{'2021_10_07_11_31_28_1812.04948v3.png': b'\\x89PNG\\r\\n\\x1a\\n\\x00\\x00\\x00\\rIHDR\\x00\\x00\\x01f\\x00\\x00\\x01\\x9c\\x08\\x06\\x00\\x00\\x00\\xea/\\ni\\x00\\x00\\x00\\x01sRGB\\x00\\xae\\xce\\x1c\\xe9\\x00\\x00\\x00\\x04gAMA\\x00\\x00\\xb1\\x8f\\x0b\\xfca\\x05\\x00\\x00\\x00\\tpHYs\\x00\\x00\\x0e\\xc2\\x00\\x00\\x0e\\xc2\\x01\\x15(J\\x80\\x00\\x00\\x00\\x12tEXtSoftware\\x00Greenshot^U\\x08\\x05\\x00\\x00\\xad\\x16IDATx^\\xed\\x9d\\x05\\x9c\\x14\\xe5\\x1b\\xc7\\x1f\\xffJ#*H\\x97 \\x88\\xa0H+\\x92\\x82\\x80\\x84\\xa8\\xa4\\x94 \\x12Jw\\x83t\\x88H7(JK\\x83H\\n\\xd2!Hw\\n\\xd2\\xdd\\xa9\\xde\\x7f\\xbe\\xef\\xcd\\xc0\\xb2\\xec^\\xec\\xed\\xde\\xed\\xec\\xbd_>\\xfb\\xe1v\\xb6wg~\\xf3\\xbcO>\\x13d \\x1a\\x8dF\\xa3\\xf1\\x1b\\xfeg\\xfe\\xaf\\xd1h4\\x1a?A\\x0b\\xb3F\\xa3\\xd1\\xf8\\x19Z\\x985\\x1a\\x8d\\xc6\\xcf\\xd0\\xc2\\xac\\xd1h4~\\x86\\x16f\\x8dF\\xa3\\xf13\\xb40k4\\x1a\\x8d\\x9f\\xa1\\x85Y\\xa3\\xd1h\\xfc\\x0c-\\xcc\\x1a\\x8dF\\xe3gha\\xd6h4\\x1a?C\\x0b\\xb3F\\xa3\\xd1\\xf8\\x19Z\\x985\\x1a\\x8d\\xc6\\xcf\\xd0\\xc2\\xac\\xd1h4~\\x86\\x16f\\x8dF\\xa3\\xf13tw\\xb9Hd\\xd3\\xa6M2f\\xcc\\x18Y\\xbcx\\xb1\\\\\\xbf~]\\x12\\'N,Y\\xb3f\\x95\\xcc\\x993K\\xbcx\\xf1\\xe4\\x9f\\x7f\\xfe\\x91\\xde\\xbd{\\x9b\\xf7\\xd6h4\\xd1\\x95G\\xc2\\xfc\\xef\\xbf\\xff\\xca\\xe5\\xcb\\x97\\xd5\\xff\\x16\\xcf=\\xf7\\x9c$J\\x94H\\xfe\\xf7?mXG\\x84\\xff\\xfe\\xfbOZ\\xb5j%w\\xef\\xde\\x95\\xaf\\xbe\\xfaJ\\xee\\xdd\\xbb\\'\\x87\\x0e\\x1d\\x92]\\xbbv\\xc9\\xc9\\x93\\'e\\xcb\\x96-\\xea{^\\xb7n\\x9d\\xc4\\x8e\\x1d\\xdb|\\x94F\\xa3\\t+\\x1ccW\\xaf^\\x95\\x07\\x0f\\x1e(\\xbd\\xe2xB\\xbf\\x1c\\xb9r\\xe5\\x8a\\xdc\\xbf\\x7f_\\xfd\\xfd\\xec\\xb3\\xcf\\xaa\\xfb\\xf0\\x7fH\\xf0\\xbc\\xb3g\\xcf\\x96\\x9b7oJ\\xcd\\x9a5\\x9fzN\\x9f\\x810\\xc3\\xed\\xdb\\xb7\\x83\\xe6\\xcd\\x9b\\x17\\x94\\'O\\x9e \\xe3\\xc5\\x83\\xaaU\\xab\\x16\\xb4|\\xf9\\xf2 CL\\xcc{D_\\xf8\\x0e\\x96-[\\x16\\xf4\\xf3\\xcf?\\x07M\\x9b6M]\\xe6\\xce\\x9dk\\xde\\x1a:\\xc3\\x87\\x0f\\x0f\\xca\\x9e={\\x90!\\xc8\\xe6\\x96\\xc7l\\xdc\\xb81(g\\xce\\x9cA\\x17.\\\\0\\xb7h4\\x9a\\xf0\\xc2\\xb1e\\xacD\\x83\\xca\\x95+\\x17\\x143f\\xcc\\xa0f\\xcd\\x9a=q\\xbc=|\\xf80h\\xed\\xda\\xb5A\\x15+V\\x0c\\xca\\x9d;w\\xd0\\xfc\\xf9\\xf3\\x83n\\xdd\\xbae\\xde\\xea\\x1eC\\xc8\\x83\\x1a4h\\x10T\\xa9R\\xa5\\xa0\\x1b7n\\x98[}\\xcfS\\xae\\x8c\\x9e={\\xca\\x90!C\\xd4Y\\xa2p\\xe1\\xc2\\xe6\\xd6\\xf0a|`1\\x84L>\\xf9\\xe4\\x13\\xafY\\xdbK\\x97.U\\xcb\\xfe\\x14)R\\x98[|\\x0fg\\xd7N\\x9d:\\xc9\\xd6\\xad[\\xa5H\\x91\"\\x92$I\\x12y\\xe6\\x99g\\xd4mX\\xb6\\x9f\\x7f\\xfe\\xb9\\xfa;4\\xb6m\\xdb&\\xd9\\xb2e{\\xea\\xec\\xbco\\xdf>\\xa9]\\xbb\\xb6\\xcc\\x993GR\\xa6Lin\\xd5h4\\x9e\\x82\\xd5\\xfc\\xf1\\xc7\\x1f\\xcb\\x9f\\x7f\\xfe)\\xdf~\\xfb\\xadZ\\xa1:j\\x10\\xba\\xb6w\\xef^\\xe9\\xdc\\xb9\\xb3_{\\x02\\x9e\\x12\\xe6\\xfe\\xfd\\xfb\\xcb\\x80\\x01\\x03\\xc4\\xb0\\x9e%_\\xbe|\\xe6\\xd6\\xf01u\\xeaT1\\xacm\\x19?~|\\xa8K\\x85\\xb0\\xc0\\xb2\\xbfE\\x8b\\x162t\\xe8Py\\xf5\\xd5W\\xcd\\xad!\\x83\\xe8\\xfd\\xf0\\xc3\\x0f\\xe6\\xb5\\'a9\\xd2\\xa5K\\x17\\xe5\\xd7u\\x87\\xb1\\x82\\x90*U\\xaaH\\x8d\\x1a5\\xe4\\xd3O?5\\xb7z\\x8f#G\\x8eH\\xd5\\xaaUe\\xc6\\x8c\\x19\\x92.]:s\\xabF\\xa3\\x89\\x08w\\xee\\xdc\\x91:u\\xea(a&\\x8e3y\\xf2d)^\\xbc\\xb8y\\xab\\x88a)\\xcb\\x81\\x03\\x07\\xa4M\\x9b6~-\\xcc\\x1e\\xbf\\xb3\\xe3\\xc7\\x8f\\xcb\\xa8Q\\xa3\\xa4_\\xbf~\\xf2\\xeb\\xaf\\xbf*\\xeb\\x92\\xe0\\xd5\\xe8\\xd1\\xa3\\xa5y\\xf3\\xe6\\xea\\x8b\\xe9\\xd1\\xa3\\x87\\xf2\\x9f\\x02\\xb7\\xfd\\xf6\\xdbo\\xea,6q\\xe2D\\xe5\\xef\\xb1\\xd8\\xb1c\\x87\\xfc\\xf2\\xcb/J\\x0cg\\xcd\\x9a\\xa5\\x02d\\xe7\\xce\\x9dS\\xb7\\x110\\xab^\\xbd\\xba\\x18K~\\x19>|\\xb8\\x12}G?\\xb8;xN,\\x7f\\x84\\xfc\\xcb/\\xbf\\x94\\x86\\r\\x1b\\xaa\\xd7\\xff\\xee\\xbb\\xefd\\xcf\\x9e=\\x127n\\\\\\xf3\\x9e\\xaea\\xe5P\\xabV-\\xaf\\x8a\\xf2O?\\xfd$_|\\xf1\\x85\\xb2\\x92\\xb1\\xc0\\xe3\\xc4\\x89\\xa3\\xce\\xde\\x1a\\x8d\\xc6{\\xbc\\xf4\\xd2K\\xca\\xb8|\\xe1\\x85\\x17\\x94A\\x87\\x10\\x87\\x04+|V\\xadh\\x13\\xffs\\xdd\\x11\\xf4\\x02C\\x15\\r\\x03\\xb4\\x8e\\xeb\\x96\\x01\\xbb~\\xfdz\\xe5\\x8b\\x86\\x90t.<x$\\xcc\\x04\\xa9*U\\xaa$i\\xd2\\xa4\\x91\\xb7\\xdf~[\\x05\\xb6x#P\\xbati\\xc9\\x95+\\x97\\xba\\rg\\xf9\\xeb\\xaf\\xbf.\\xd7\\xae]\\x93\\x8e\\x1d;\\xaa@\\x17\\xb7!\\xae\\xdc\\x8f/l\\xec\\xd8\\xb1\\xea\\xef\\x81\\x03\\x07J\\xfb\\xf6\\xed\\xd5\\x17Cf\\x02B\\xca\\x17\\xf4\\xdak\\xaf)\\xcb5~\\xfc\\xf8R\\xae\\\\9y\\xff\\xfd\\xf7\\xc3d\\x85\\xf3\\x9a\\x8d\\x1b7\\x96\\x06\\r\\x1aH\\xc6\\x8c\\x19\\x95\\xf5\\xbes\\xe7Ny\\xe5\\x95Wd\\xd2\\xa4I\\x8f\\\\\\x12\\xae\\xe0\\x04\\xc1\\x89\\xa5b\\xc5\\x8a\\xe6\\x16\\xefP\\xb0`\\xc1G\\xcb,\\xbe\\x03\\xac\\xf1\\xb0\\x9cd4\\x1aM\\xf8x\\xf3\\xcd7\\x95\\xa6\\\\\\xb8pAZ\\xb6l\\xa9\\x12\\x1b\\\\\\xc1j\\x1c\\x9d\"0_\\xa2D\\t\\xf9\\xf9\\xe7\\x9f\\xa5L\\x992r\\xf4\\xe8Q\\x15HD\\\\\\xd1\\'\\x8cE\\xaes\\xbc~\\xf3\\xcd7J_\\xea\\xd6\\xad\\xab\\x1e\\xcf}p<\\xb8\\xd39\\x8c\\xd8\\xf0\\xe2\\x910#,1c\\xc6\\x94<y\\xf2H\\xa1B\\x85\\xe4\\xad\\xb7\\xdeR~T\\xc0\\x07\\x8c%\\xc8\\x05\\x11|\\xfe\\xf9\\xe7e\\xfa\\xf4\\xe9\\xeaM\\xe7\\xcc\\x99SEB\\xcb\\x96-\\xab,\\xc5E\\x8b\\x16)\\x0b\\x12q\\'S\\xa1C\\x87\\x0e\\xea\\xc3 \\xf4X\\xbcg\\xce\\x9c\\x91\\x84\\t\\x13\\xaa\\x0b\\xee\\x07\\xfc\\xb0I\\x93&U\\xaf\\x13\\x1a\\xc9\\x93\\'\\x97\\x92%K\\xaa\\xbf\\xb1\\xc6\\xb1\\xecy\\xcf3g\\xceTg\\xd4\\x90\\xe0\\x0c\\x89\\x0f\\x19\\x7f\\x94\\xbb\\xcb\\xc2\\x85\\x0b\\xcd{\\x87\\x9d\\x1b7n\\xc8\\xc8\\x91#\\x95\\xff\\x1d\\x91\\xae_\\xbf\\xbe\\x12j\\x8dF\\xe3}\\x10\\xc5\\xaf\\xbf\\xfeZ\\xd6\\xae]+\\xdd\\xbau{\\x94\\x91a\\xc1\\xf5>}\\xfaH\\xaaT\\xa9\\x94[\\x918\\x10:q\\xe9\\xd2%\\xb5\\x1dX\\xad;\\xbat\\xb1\\x80W\\xadZ\\xa5,\\xe4\\x17_|Q\\xad\\xc61\\x161\\xf4\\xdc\\xe9\\xdc\\xdc\\xb9s\\xcdG\\x87\\x1d\\x8f\\x84\\xb9Q\\xa3FJ\\\\N\\x9c8\\xa1\\xdc\\x15\\xf8s1\\xe1]Y\\x7fl[\\xb3f\\x8d\\xfa\\x12\\x0e\\x1f>\\xac\\xce0\\x04\\xd1&L\\x98\\xa0|?| D\\x17!e; \\xbe|p\\xe7/2<`]\\x7f\\xf0\\xc1\\x07\\xeal\\x85K\\x823\\xda\\xa0A\\x83$w\\xee\\xdc*\\xf5%4K\\x95\\x13\\x05gYw\\x97\\xf0.QV\\xaf^\\xadv\\x92\\x193fH\\xb2d\\xc9\\xcc\\xad\\x8f\\xb1\\\\7\\x1a\\x8d\\xc6;\\xe0C\\xaeW\\xaf\\x9e\\xba\\xfc\\xf8\\xe3\\x8f2n\\xdc\\xb8G.\\x07\\xf8\\xeb\\xaf\\xbf\\x94h\\xa7O\\x9f\\xfe\\x91\\xbf\\x99\\x95>\\x1a\\x81{\\xe2\\xec\\xd9\\xb3j\\x1b\\x06\\x9d\\x05\\xee\\x11\\xbc\\x00M\\x9b6Ub\\xce\\xaa\\xbfr\\xe5\\xcaJ_B\\xd2\\xb9\\xf0\\x12.a\\xe6C!h\\xe7\\xcf\\x9fW\\xbe\\x1b\\xc4\\xb9Y\\xb3f\\xeaL\\xe3\\xce5\\x80`\\xe3\\x92\\xc0\\x82._\\xbe\\xbcr\\x81p\\xc1M@\\x96\\x058?\\x96\\xeb\\xee\\x9e/<\\xf0%\\xf1ZDj\\xabU\\xab\\xa6\\xdc#\\xc0R\\xe5\\xd4\\xa9S\\xeaoWP\\xf0\\xc1\\xc9\\x02\\x8b\\xd6\\xdd\\x85\\xe5OX!\\xe0\\x80?\\x1eQ\\xe6\\x87u\\x84\\x1f\\x14W\\rgj\\x8dF\\xe3]b\\xc5\\x8a\\xa5\\x02\\xfd\\x88#q#\\x84\\xd8\\xcaw\\xc0@#X\\xc8\\xc5\\x02\\xdd\\xc10t44\\x1d\\xb5\\x08\\x91\\xc6m\\x8b\\xbb\\x95\\xb8\\xd7{\\xef\\xbd\\xa7V\\xfah\\\\h:\\x17\\x1e\\xc2%\\xcc\\xb806l\\xd8 \\xdd\\xbbwW\\x16c\\xeb\\xd6\\xad\\x959\\x0f\\xd6\\x87u&F\\x8c\\x18\\xca\\xbdA\\x96\\xc6\\xee\\xdd\\xbb\\xcd\\xad\"\\x7f\\xff\\xfd\\xb7Z\\x12\\xf8\\x12\\xcej\\xbcg\\x84\\x16_6\\\\\\xbcxQ\\xbd\\x0fWV\\xabE\\x82\\x04\\t$S\\xa6L\\xb2d\\xc9\\x12s\\x8b\\xe7\\x0c\\x1b6L\\xb9l\\xa6L\\x99\\xe2\\xb2x\\x84\\xef\\x80T@\\xdc7\\x1a\\x8d\\xc6\\xfb\\xe0\\xba$\\xe8\\x8f5L\\x02\\x01\\xaba@\\x80_~\\xf9e\\xe5\\x86\\xb5\\xb6\\x01\\xfef\\x92\\x06\\xa8\\xccu\\x86\\xf8\\x13\\x161\\x06)\\x8f#e\\x96\\xa0>\\xeeOo\\xea\\xdc\\x13\\xc2\\x8cE\\xcc\\x1b\\xe4L\\xe1\\xf8F\\x01\\x876f9\\x82\\x86C\\x9d\\xebX\\x9d\\x98\\xfc\\xb828\\xfb \\xda\\x9c]\\x10 \\x04\\x90\\x0f\\x800b\\xea\\xe3_\\xe5L\\xd2\\xb7o_\\xb5\\xa4\\xc0I\\x8e\\xf5\\x88\\xa0\\xf3z\\x8e\\xc2\\xce\\xdf\\xbc\\x17k\\xd9\\xc1Y\\x8a\\xf7\\xc3k\\x12xt<\\xc3\\xb9\\x03\\x87<b\\xcccG\\x8c\\x18\\xa1^\\x9f3\\x1c>#\\xe0L\\x1a\\x12\\xf8\\xa4\\x06\\x0f\\x1e\\xacV\\x05\\x9e\\xc0g\\xe2\\xc4\\xc0\\x85\\xef\\r_;\\xee\\x1a\\xfc\\xf2\\x9cE\\x9b4i\\xa2^\\xa3k\\xd7\\xaeJ\\x98S\\xa7Nm>R\\xa3\\xd1x\\x8a\\xa5]\\x0f\\x1f>4\\xb7\\x04CJ*F\\x12q*Kk\\xf8\\x9b\\x00<\\xbae\\x89\\'\\xde\\x80\\xfd\\xfb\\xf7\\xab\\x94;\\x8eY\\xe09\\xd1\"\\x1e\\xc7s\\x93H\\x80\\x16\\x11\\xfbb\\xf5\\x8c \\x93\\x9c\\x10\\x92\\xce\\x85\\x97g\\rq\\xe8\\xc6\\x1f\\x08+Kmr\\x7fyQ\\xde\\xec\\x82\\x05\\x0bT\\x1e \\x11ILw>\\x1c\\xfeZ,J\\xd2D\\xb8/g\\x1d\\x82||0\"\\x919r\\xe4P\\x1f\\x04G\\xb8%\\xca\\xd9\\xb3gW\\xd9\\x15\\x9b7oV\\x813|\\xd3\\x9cq\\xde}\\xf7]u\\x1dk\\x92/\\x04\\x9f\\x0c\\xa2\\xcb\\x07\"\\x83\\x02\\xf1d\\x19\\xc0v|\\xb4<\\'A\\xb3\\xb0,\\rx\\x7f<\\x0e\\x7f\\x10\\x05\"X\\xbf\\xa4\\xde\\xb1\\xd4(P\\xa0\\xc0\\xa3\\xc0\\xa0;8\\xb9P Cd\\x97\\x80\\x1d~e|R8\\xf3\\xb9\\x10\\xb5\\xe5\\xb9\\xddA\\xca\\x0cA\\x05\\x96O\\xb8=\\x08D\\xf0\\xdd\\xf0c[\\'@\\xce\\xca\\xf8\\xbd\\xf9\\xfe\\xa2#\\xb8\\x9a\\xf8\\x1e,\\x1f\\x1eQoo\\xe4\\xbd\\xbb\\x83\\xdf\\x8d\\x136>E\\x0e$oA\\xbe,\\x07=~\\xca\\xe8p\\x82e\\x99\\x8f1\\xc11\\x8f\\x1b\\xd3_\\xf2\\x81\\xd1\\x15\\xb4\\x83\\xcc\\n\\xdc\\x97\\x18\\x91\\x8e\\x05i\\x1c\\x8f\\\\\\xd8\\xcf\\xf2\\xe6\\xcd\\xab\\xde7\\xfed\\xf69~?|\\xc4|&4\\x0b\\xe3\\t!F\\x03\\xb1\\x88ID\\xe0\\xf9XI\\xb3\\x0fM\\x9b6M\\x0e\\x1e<(\\x7f\\xfc\\xf1\\x87\\xba?\\x01@\\x8ecW:\\x87f\\x85\\x17\\xdd\\xc4(\\x0c\\x10ieG\\xe4\\xc7\\xb6\\xacx\\x84\\x9b\\x8c\\x12M\\xf8a\\'\\xc7\\xef\\xc7\\x8a\\x8b\\xe5\"\\x81ONXd\\xf7\\xb0\\x82\\xf0\\xc5\\x81\\xcej\\x89*N\\x822,7qoy\\x0b\\x02\\xcc\\xac\\xc4\\x88c\\x90\\xa2\\x19\\xc8 j\\x18H\\xfc~\\xfc^\\xd4\\x1d\\x84\\xb6\\xfa\\xd4\\x84\\x1f-\\xcc\\x9aH\\x05\\x0b\\x99\\xe5\\x1f\\xe9D\\xe4\\x83b-cq\\x12\\xaf\\xe0dGQ\\x90\\xb7\\x84\\x19\\x17\\x1bKK\\xac#\\xf8\\xfe\\xfb\\xefU|\\x84\\x93\\xac7\\x859*!\\xe0\\xe4\\xed\\xf6\\x07\\xa1\\xc1\\x8a\\x98\\xc2+V<Z\\x98}\\x83\\x7f\\xacA4\\xd1\\x06\\\\V\\xb8\\x96p\\x8bY.\\x0c|p\\x04?\\xd3\\xa6M\\xab\\xae{\\x03N\\x00\\x88<q\\x0e\\x0b\\x02\\xd1\\xde\\xc8\\xf6\\xf1\\'Xj\\x93\\xa7\\x1f\\xd9\\xf6\\x15\\xdf\\xa5\\xc6w<\\xf21k4\\x91\\x01\\xae \\xfc\\xff\\xf8\\xfc\\xf1\\xc9\\xe1\\xb3C,\\xf1\\xf9\"\\xd0\\x04H\\xf1\\xcfS\\x9dI\\\\\\x017G\\x86\\x0c\\x19\\x94u\\x86\\xef\\x10!B\\xd0\\x89\\x1f\\xf0\\x1c\\x080\\xcbk\\n\\x93p\\x8d\\xe0?&c\\x08\\xa1\\xe79\\x10,\"\\xe3<\\x07\\xfdI~\\xff\\xfdw\\xe5v\\xc0\\xa5A\\x95)\\xd6\\x1e\\xafi\\x81\\xfft\\xe5\\xca\\x95\\xcaGH\\x1c\\x01\\x9f1q\\t\\xe0\\xbd\\x10\\x0f!VA\\xcc\\x01\\x0b\\x95\\x00\\x10\\xaf\\x8f{\\x04\\x97\\x97\\xe5\\xd3tw_g8QQ\\xac\\xc4{\\xa0\\r,\\x16(\\xa9\\x9a\\x8e\\xbeQW\\xef\\ta$\\xb8\\xdd\\xae];\\x15\\x1f\" O\\xd0\\x8a\\x0c |\\xa5|\\xa7\\x14J\\x90\\xbf\\xbbb\\xc5\\nu\\x1b1\\r\\xee\\xc7\\xca\\x01?\\xa8\\xe5k\\xc7\\xea\\xe6=p\\xe1\\xfd\\xf0\\xfc\\xd6I\\x93\\xef\\x9d\\xcfF\\xa6\\x82\\xf5\\xfd\\xf18\\xee\\xcb\\xe7\\xc6\\xbf\\xca\\xf7\\xce{\\xe1w\\xc3\\xaf\\xcawm=\\xde\\x1d\\xb8\\x968A\\xe3\\x93\\xe5\\xbd\\x06\\xda\\t3\\xc2\\xe0\\xca\\x08\\x04\\x8c\\x1d(\\xc8\\xd8\\xa9\\x83\\x8c\\x83\\xc3\\xdc\\xa2\\xf1W\\x0cq\\rJ\\x9a4\\xa9j\\xcfX\\xbe|\\xf9\\xa0\\xed\\xdb\\xb7\\x9b\\xb7\\x04c\\x08M\\x90!\\x9eA)S\\xa6\\x0c\\xda\\xbd{\\xb7\\xb95\\xf8q_}\\xf5U\\x90!\\x10A\\r\\x1b6\\x0c2\\x043\\xa8q\\xe3\\xc6\\xea\\xbe\\x1f\\x7f\\xfcq\\xd0\\x8b/\\xbe\\xa8Z\\xac\\xd2\\xa6\\xd5\\x10\\xf5\\xa0T\\xa9R\\x05\\r\\x1c80\\xc8\\x10\\x0b\\xd5\\xf6\\xf1\\xa7\\x9f~R\\xcf\\xd9\\xbe}\\xfb\\xa0:u\\xea\\x04\\xbd\\xf7\\xde{A\\x86X=z\\x8d\\xabW\\xaf\\x06\\xb5i\\xd3&\\xc8\\x10\\xae C\\xcc\\x82>\\xf8\\xe0\\x83\\xa0w\\xdey\\'\\xe8\\xd8\\xb1cAg\\xce\\x9cQ\\x8f\\xd9\\xb1cG\\xd0_\\x7f\\xfd\\x15d\\x08\\x92j\\x03k\\x08pP\\xcb\\x96-\\x83\\xe2\\xc6\\x8d\\x1b4x\\xf0`\\xf5<\\xee\\xee\\xeb\\xcc\\xbau\\xeb\\x82\\xf2\\xe7\\xcf\\x1fd\\x88p\\x90!\\xb0AU\\xabV\\r\\xca\\x9b7o\\x90q\\xc2R\\x8f\\x05w\\xef\\x89\\xef\\x80\\xcfU\\xb2d\\xc9\\xa02e\\xca\\xa8\\xeb\\xbc\\x97\\x1a5j\\x04e\\xcb\\x96-\\xe8\\xf4\\xe9\\xd3A\\xff\\xfe\\xfb\\xafzO|\\xd7\\x86\\xa0\\xaa\\xe7c\\xdb\\xd7_\\x7f\\x1d4s\\xe6Lu\\xfd\\xe0\\xc1\\x83\\xaaU\\xe6\\xe4\\xc9\\x93\\xd5k\\xf2^\\x0b\\x15*\\xa4\\x9e\\xcf\\x10\\xdcG\\xdfs\\xdd\\xbau\\x83\\x8a\\x14)\\x12\\x94(Q\\xa2 C\\x94\\x83\\xaaT\\xa9\\x12\\xf4\\xe1\\x87\\x1f\\xaa\\xd6\\x9a\\xbc\\x16\\xcf1}\\xfa\\xf4 \\xe3$\\xa2\\x9e\\xd7\\x1d\\xc6I \\xe8\\xd3O?Ums9V[\\xb4h\\xa1~\\x13\\xcd\\x93\\x04\\x8c+\\x83\\xfcB\"\\xa9XG\\x1a\\xff\\x86RU\\xfc\\xbc\\xc5\\x8a\\x15S\\x160Y2\\xa4\\x15\\x92b\\tXq4\\xc2\\xc2*$;\\x08\\xf0kbaU\\xa8PAY~\\xa4\\x1b\\x92\\x83J\\x87@\\xb2\\x83\\xb0\\x98\\xf1%c\\xd1aq\\x12A\\xe7\\x7f|\\xd9\\xe4\\xaf\\xf27`\\xe5\\x11A\\'\\xe5\\x89n\\x85X\\xa3\\x94\\xffCH%\\xb5X\\x9cX\\xb4\\xbc\\'\\\\.\\xa4A\\x11\\xe1\\'+\\x89JXG\\xab\\xdb\\xdd}\\x9d1DY\\xe5\\xc1\\xf2\\x9ehm\\xc0g\\xa0\\x10\\x89\\xf7d\\x9c\\xac\\xd4}\\xdc\\xbd\\'\\x8a\\x96\\xb0\\xaa\\xb1\\xe6\\xb9\\xb0\\xfa\\xe0\\xbd\\x90\\x01\\xc4\\x8a\\x81\\\\Z\\xact\\x8a\\xa9X\\x89`\\xa1\\x02V4\\xaf\\xc7w\\x8f5\\x1cRI2\\x81Y~\\x17\\xeb{f\\xf2\\x0e\\xd9R<\\xd6\\x02\\x0b\\xb9W\\xaf^\\xaa[\\x1b~\\xe7\\xd0\\xb2jX\\xad\\x902\\x8aO\\x9c\\xf7\\xc5k{R\\x80\\xe1)d\\x95Y5\\r\\x8e`\\xed\\xbb\\xcb\\x9e\\xe0\\xf3\\xd2\\xa8\\xcd\\x19V#\\x14\\x87\\xf9\\x02\\xedc\\xd6D\\t\\x88\\x00\\xa2\\xcc\\xd2\\x9d\\xb4Cr\\xcdi\\n\\x83\\x08\\x01\\x11\\x7f\\x0e\\x08R\\x95\\x10l\\x04\\x80e8\\xe9M\\x80\\xe8!\\xb6\\xb8BX6\\xe3\\x92@@pm l\\xee@\\xc4\\xc8_\\x05N\\x00<\\x8e\\xa5<\\xc2\\x1fRI-\\'\\x03rc\\xf9\\x9b\\xcc\\x11D\\xcb\\xea\\xa1\\x80\\x00:\\nRH\\xf7u\\x86\\xf7\\xce\\xfb`\\xf9\\x0f\\x14l\\xd1\\xf9\\x10C#\\xb4\\xf7\\xe4\\n\\xbe\\x1f^\\x1f\\xe1\\xe6\\xf1\\xa4t\\xf1\\x99\\xb9\\xce\\xf7G\\xb7G\\x9az\\xf1:a)I\\xe6;\\xe6\\xc2\\xef\\xc5w\\xc5wg\\x9d\\xe4\\xf8Mj\\xd7\\xae\\xad~\\'R_C\\x83\\x1a\\x04N\\xc8\\x8e\\xd9L\\x9cl=\\xed\\xfb\\xee\\td\\xd0X\\x06\\x80#\\x04\\x89\\xddu\\xa1\\xe3;$@\\xed\\x0c.*c5e^\\xf3.Z\\x985\\x91\\n\\xfeP\\xab\\x15,bF\\x13\\'|\\xa0X\\x1e\\xf8\\x94-\\xcb\\x0e\\xc1\\xc2\\xba!\\xa7\\x1eK\\x8d\\xfcR\\xf2\\xe1\\xadJSWX\\xe2\\x12V,\\xdf&\\x02\\x86\\x98\\x87TR\\x8b\\xe5\\x8b\\xe5\\\\\\xaaT)\\x95\\xdbN\\xe3-\\x82n\\xae\\x08\\xcf}]a\\xf9[C{O\\xae\\xa0\\xca\\xed\\xa3\\x8f>R\\xdf%\\x96;y\\xb6\\xa4\\t\"\\xb2|\\x87\\x08!\\x96:\\xf0[\\x84\\xa5$\\xd9\\x1dX\\xbc\\x884Uu\\xa7O\\x9f6\\xb7\\xba\\x87\\xdc_\\xda\\xdd:6\\x11\\xe3}F\\xa60\\xdb\\x05-\\xcc\\x9aH\\x05\\x11@\\xb4\\x10\\x05\\x0b\\x0ep\\x96\\xe0X\\x8a,\\xb3-\\xb0\\xdcX^R\\xe0\\x83\\xa8pP\\xfb\\n,p\\\\\\x03\\xeeJj9A Z\\xb8@\\xb02\\xb9/\\xc5A\\xae,\\xa9\\xf0\\xdc7$B{O\\xee\\xa0y\\x17\\xc2J\\xe5*\"K1\\x95\\xd5\\x06\\x93\\xe0+\\x165p[xK\\x92\\x1d\\xe1$IOb\\\\\\x1f\\xb8k\\xb0\\xf2C\\x82:\\x00ke\\x00\\xac\\x02X!Y\\xab \\xcdc\\xb40k\"\\x1d\\xc4\\n_*Kt@D\\xf0%#\\x06X\\x97\\x16V\\x11\\x0fKI|\\x9c\\x96\\xa0\\x00\\x8fAd\\xac\\x82\\x1f\\x08\\nz\\\\\\xca\\x8f%\\x87E\\xcer\\x1d\\x1f2b\\x89\\x05\\xc8}\\xb8X\\xf07\\xdb\\xb1\\xb6\\xc90pWR\\xcb\\x12\\x18_6\\'\\x0e,w\\x8aI\\xa8\\x80\\xe5u\\xac\\xe7\\xb4\\xdeKH\\xf7u\\xc6\\xfa\\x1c\\x9e\\xbc\\'\\xc4\\xdf\\xb1\\xfd\\x81\\xb5\\x12A\\xfcp\\x9d\\xf0=\\xe3O\\xa7x\\x07\\xdf<\\x19\\x1d\\xb8\\x1c\\xac\\xf7\\x81[\"\\xb4\\x92d\\xeb\\xb39\\x9e0\\xc1\\xfa.\\xb1\\xdc\\xf1G\\x93!CzbHV6\\x95\\xc1\\x8e\\xdf\\x01\\xd3\\x92x\\x9f\\x9c\\x804O\\x120\\xe9r\\x9c\\xf1)X\\xa0\\x83\\x1c~8\\x8d\\x7f\\x82UE\\xe1\\x07K_|\\xa5\\xa4\\xce\\x91\\xbe\\x85O\\x96%\\xb1sy:\\xbf%\\xc1\\xae\\xcf>\\xfb\\xec\\x910#D\\x04pH!\\xc3\\x02\\xe71\\x88\\x12\\xe9q</\\x81?\\x02\\x81\\x882\\xaf\\x81o\\x14\\xcb\\x13?6\"\\x8f\\x9b\\x04k\\x90\\xf4;\\xacQ\\xac\\xf77\\xdexC\\x89\\x96\\xbb\\x92Z\\x84\\x1d\\xe1!\\xb8\\x88\\xf5\\xca\\xeb\\x10\\xf0\\xe2\\x84\\x81XR\\xe4\\x81\\xdb\\x01\\x9f7B\\xeb\\xea\\xbe\\xce\\xe5\\xda\\x04\\xd2(\\x05\\xc6\\xb7\\x89\\xc0:\\xbf\\'\\x8a`\\x10.w\\xef\\t\\xe1F\\x08\\t\\x10Z\\xed\\x0fp\\x13pBB\\x00\\xb1\\x88\\t\\xb2!\\xe0l\\'(\\xc8\\xca\\x04\\xd7\\x08\\xb0\\x1dk\\x95\\xfb\\xbb*I\\xe6{\\xe6\\x04\\xca\\xe7 \\xfd\\x8f@\\x1d\\x17Z7\\xe0\\x96\\xc0=\\xc2\\xef\\xc3w\\xc7\\xe7\\'f\\x80\\xb0sb P\\xe9\\x0c\\xdf/>f\\x1e\\xc7\\xfb\\xe5\\xc4\\xc1*\\x88\\xc0gd\\xc1\\xfe\\xc0\\xfbs~MNF\\xa4\\x00\\xb6m\\xdb\\xd6\\xdc\\xf2\\x18V;\\xf8\\xf4\\x9d\\xddG\\xb8\\xdd\\xd87i+\\xeau\\x8c\\xb3^@`\\xect\\x98\\x1cO\\xa4Wi\\xec\\x0f\\xe9fM\\x9a4\\xd1i\\x90\\x01\\x08ir\\x868\\x9b\\xd7\"\\x07\\xe3\\x84\\x16\\xd4\\xabW/\\xf3\\xdac\\x8c\\x93^\\xd0\\xcb/\\xbfl^{\\x12\\xe3d\\x144e\\xca\\x14\\xf3\\xdac\\x06\\x0c\\x18\\x10\\x94\\'O\\x1e\\xf3\\x9aw\\xd1\\xae\\x0c\\x8d_\\x82%\\x88\\xe5\\xc9\\x12\\x99T1\\x96\\xee\\x1a\\xfb\\x82\\x85\\x8c\\x8f\\xdb\\x82\\x0c\\r~\\xdfw\\xdey\\xc7\\xdc\\xa2q\\xc4\\xb6\\xc2L\\x9e\\xa75a\\xc0\\x1d\\x04\\x16H\\xfb\\xd1\\xd8\\x0b\\x96\\xedd6P\\xb6\\xcd\\xb2\\x9e,\\x03\\x8d\\xbd!\\xed\\x91\\xdf\\xd50\\x06\\x95\\x0b\\x80i>\\xe4\\x0ek\\xff\\xb2kl+\\xccY\\xb2dQ\\xfe3+\\xbd\\xca\\x19\\xfc\\x98\\x04>Bj\\xcd\\xa9\\xf1O\\xf0\\xa9~\\xf5\\xd5W\\xaaS\\x1b-g]\\x952k\\xec\\x05\\x19\"\\xb5k\\xd7Vm\\x84\\xc9\\xfa\\xc0\\'\\xcd1\\xacq\\x8dm\\x85\\x99\\x80\\x0ey\\xae\\xe4@:W\\xf2\\x90\\x8e\\xc5\\x12\\x894!WA\\x08\\x8d\\x7fC\\xa0\\xaas\\xe7\\xce*`\\xa6\\x7f\\xbf\\xc0\\x80@%\\xc7#A\\xdc\\xa2E\\x8b\\xba\\xccP\\xd1<\\xc6\\xd6m?I\\xb7\"RO\\xd4\\x9b\\xc4{&`cE\\x13\\xe9\\xa7\\x9a\\x8a\\xa8\\xbc>\\xb0\\xed\\tY\\x1a\\xa4\\x89i\\xec\\r\\x19 \\xe4\\xa7\\xfb\\x0bdc\\x90\\xe7M\\xd1\\x8d#4\\xb4b\\xe2\\xb5\\xab\\xaa@\\xb2i\\xc8\\xf8\"\\xed\\xd1\\x11\\xb2\\x88\\xc8\\xa2\\xa1\\x88\\xc7\\xdb\\xd8\\xbe\\x1f3\\xc5\\x07\\xf4*p\\x86\\\\O\\xa6\\xaeh\\xec\\t\\xe9ot3\\x0b\\xa9\\xd2O\\xe3\\xdf\\x90\\xc2JJ\\x1e\\xc6\\x92\\xbf\\xa0\\x859\\x92p\\xb4\\x9a-\\xb4\\xb5l\\x7fh\\x97I\\x81\\x03\\xbd\\x1b4\\xf6\\x84\\x9cuD\\xcb\\x9f\\x82\\xb7v\\x11f\\xdb\\xa7\\xcb\\xe1k\\xc6:v\\x84\\x8eXZ\\x945\\x1a\\x8d]\\t\\x88<f\\xcaG\\xad\\x8eaXY-[\\xb6T\\x7fk4\\x1a\\x8d\\x1d\\t\\x08av\\xb4\\x9a\\xb5\\xb5\\xac\\xd1h\\xec\\x8e\\xc7\\xc2L\\xd4\\x1c\\xff\\xae\\xbf\\\\h\\xc6B\\xce2\\xbd2\\\\\\xdd\\x1eU\\x17\\xbe\\'\\x8dF\\xa3\\t\\x0f\\x1e\\t3N}\\x1a\\xc1\\xe06\\xf0\\x97\\x0b\\xed\\x0b\\x89\\xe2\\xd3\\xd0\\xc6\\xd5\\xedQu\\xe1{\\xd2SU4\\x1aMx\\xf0(+\\x83.U\\x94\\xcbZm\\x065\\xee\\xa1\\x11<\\x91[&rh\\xc2\\x8e\\xce\\xca\\xb0?:+\\xc3s\\xb40\\xfb\\x18-\\xcc\\x9e\\x11\\x9a0\\x8f\\x181L~_\\xf5\\xbb<\\x17CW\\x90E%/\\'zY\\x06\\x0f\\x1a\\xea\\xb2\\x92O\\x0b\\xb3\\xe7Dka\\xa6\\xb2\\x8c\\xaa$v*:]\\xd1O\\x97\\x1c\\xe8\\xf0\\x8e(\\n\\t-\\xcc\\x9e\\x11\\x9a0gy#\\xb3|Z\\xa7\\x98dy+\\xbd\\xb9E\\x13\\x15\\xd4)\\xdfU\\xb9\\xea\\\\u\\xff\\xd3\\xc2\\xec9^\\x17f&\\x1d\\xd0p\\x9b&%4\\xe0\\xa6*\\x8f\\xe6\\xda\\xc0\\xb4\\x06>\\xc4\\xa2E\\x8bT?\\x84\\xd2\\xa5K\\xabf\\xe0\\x91\\r_>\\xcd\\xcdy\\x9f4\\x02\\xe7\\xb30{\\x8cI\\x0c4[\\xf1\\xe6{\\xd2\\xc2\\xec\\x19\\xa1\\ts\\xdew\\xf3\\xc8\\xb0\\xa9\\xad\\ra~<\\xd5D\\x13\\xf9dLPV\\xf6\\xef;\\xa0\\x85\\xd9\\xcbx=]\\x8e`\\x17Ss\\x19e\\xc3\\xe4\\x03>\\x905\\xdf\\r\\xcb\\x94\\xc9\\x12\\x04\\xe8\\x98\\xba\\x1b\\x15\\xa2\\x0cL\\x8a` %\\xe5\\xa2\\x16\\\\g\\xba\\x01\\x9d\\xcd4\\x1a\\x8d&*\\xf1Y\\x1e3\\xa3|\\xb0D\\xe9\\xc1J\\xf77\\xace\\xc0M\\x80\\xbb \\xaa\\xfb\\xb0\\xf2\\xfaX\\xf4\\x16\\x9c4x\\xcf\\x8e\\xdb4\\x1a\\x8d&*\\xf0\\x990C\\x8e\\x1c9\\xa4n\\xdd\\xba\\xca\\xdc\\x9f?\\x7f\\xbe\\xb9\\xf5i._\\xbe\\xac\\xee\\xc3\\xdc1\\xaclK\\xc4\\x99\\xe7\\xc6\\xe8z\\x9a\\xe23\\xfe\\xfd\\xd7_\\x7fU=1\\x98}v\\xe6\\xcc\\x195\\xdd\\x82~\\xbd\\xccA\\xc3*g\\x16\\x19.\\n\\xe6\\x8eY\\x1c:tHM+\\xe6\\xb9\\x19:\\xe9nX$\\xcf\\xc7\\xf3\\xe2\\xa6\\xc1\\xf7\\xcc\\xc9\\x84a\\x91L\\x01\\xfe\\xf6\\xdbo\\xa5_\\xbf~\\x8f\\x9a\\xee\\xf3\\x1e\\xb0\\xae\\x87\\x0e\\x1d\\xaa&3\\xe0\\x9f\\xd6\\xf8\\x0f\\x17\\xcf_\\x91\\x1f\\x86\\xcf\\x95\\xee\\xadGI\\xff\\xaf\\'\\xc8\\xe4q\\x0be\\xdb\\xe6\\xfd\\xea\\x12\\x95\\xdc\\xb9sOZ\\xd7\\xffN\\xc6\\r\\x99mn\\t\\x1f3\\'-\\x93\\xfa\\x9f\\xf6\\x90[7\\xef\\x98[B\\xe7\\x9f\\x7f\\xfe\\x95a\\xfd\\xa6J\\x8d2\\x1d\\xd4\\xa5W\\xfb\\'[\\xe4n\\xdd\\xb8W\\x1a\\xd5\\xe8-+\\x16o6\\xb7\\x04\\xf3\\xdb\\xa2M\\xf2a\\xbe\\xc6\\x92+\\xcd\\xa7\\xea\\xf6\\x93\\xc7C\\x1eJ\\xa1\\xf1.>\\x15f\\xac\\xcf\\xea\\xd5\\xabK\\xa9R\\xa5\\xd4pJW>i&\\xf7\\xf6\\xea\\xd5K\\r:d\\x00\\xe4\\xd4\\xa9S\\x95\\xaf\\x17\\xa1\\xc5\\x17M\\x87\\xb8\\x89\\x13\\'*QE\\xa4\\x11^F\\xd4 \\xe4\\x080\\xbe\\xc8V\\xadZ)\\xa1$x\\xc70I\\xc4\\x14_7\\x03\\x16\\x99\\x94P\\xa0@\\x01\\xe5B\\xe9\\xd9\\xb3\\xa7\\x12yg.\\\\\\xb8\\xa0\\x06\\x82\\xd2\\xa9\\x8e\\x11\\xf3\\xf8\\xc6\\x08\\n6o\\xde\\\\]\\xb0\\xaey\\x1d|\\xe5{\\xf6\\xecQ\\'\\x00\\xcb?\\xde\\xae];\\xe5O\\xd7\\xf8\\x07\\x08J\\xcd\\xb2\\x9d$\\xc1\\x8b\\xf1\\xa5C\\x9f\\xba\\xd2\\xb6Gm\\xc9\\xfd\\xee\\x1b\\xd2\\xab\\xdd\\x18Y\\xff\\xfb\\xd3\\xbf\\xbd7@\\xfcvl=\\x18\\xea\\t\\xfa\\x97\\x99\\xabe\\xf1\\xdc\\xb5r\\xd7\\x10\\xe8\\xf0rp\\xefq\\x197x\\xb6\\\\\\xbex-\\\\\\x86\\xc0\\x9e\\x1dGd\\xff\\xee\\xe3\\x92:]2I\\x93>\\xb9\\xfa.,\\xce\\x9f\\xbd,\\xfbv\\x1d\\x93Mkv\\xc9\\xbd\\xbb\\xc1\\x13\\xcb\\x81\\xd7Z4g\\xad4\\xebX]\\xda\\xf7\\xae#\\xdb\\xff8 ]\\x9a\\x8f\\x08\\xd7\\tA\\x131|*\\xcc\\xc0\\xf4_\\xa6\\xfa2=\\x18\\x91e\\xda\\xb0\\x05\\xd6+\\x93\\x8d)\\x0e\\xa1j/y\\xf2\\xe4j\\x8a\\xef\\x8a\\x15+\\xd4ta&\\xe8\\xe2^@\\xb4\\x19\\xdd>|\\xf8p%\\x88\\x8c\\x82G\\xeci\\x94\\x8fC\\x9e\\xf6\\x82\\xe5\\xca\\x95S\\xa3\\xee\\t\\xb6\\xf1\\x1a\\x884\\'\\x06\\x1a\\xe6\\xf3\\xbc\\x04\\x92p\\xa3`\\x9d;\\xc3\\xa4_\\xa6\\x9dX\\xd3\\x83)\\xe9&`\\x81\\xbf\\x9cI\\xccX\\xeb|\\x06\\x84y\\xd6\\xacYJ\\xbc\\x11c,u\\xdaR\\xea\\xb4A\\xff`\\xff\\xeec\\xd2\\xad\\xe5()[\\xf9=\\xa9X\\xa3\\xb8\\xf1\\xfb\\x05\\xbb\\xcb^\\x7f3\\x9dt\\x1f\\xd4H\\xe2\\xc5\\x0f\\xfe}\\xbd\\xcd\\x96\\r{\\xe4\\xe7\\t\\x8b\\xd5\\xd8$w\\xec\\xdbuT\\x8e\\x1e\\xfc[^\\xcf\\xfa8\\x8b\\xe4\\xde\\xbd\\x072\\xa0\\xfbO\\xb2a\\xf5Ns\\x8b\\xc8\\xdf\\x7f\\x9d\\x93\\xae-G\\xca\\xa9\\x93\\x8fW}\\xb7o\\xdd\\x95\\xf9?\\xaf\\x92\\xb7\\x0b\\xbci\\xec\\xc3\\x8f\\xe3\"\\x0bg\\xafQ\\xd67\\'\\x06\\xe0\\xf9\\x86\\xf4\\x99\\xa2NN\\xc0\\xf6\\xdf\\x16n\\x94\\xeauKK\\xdf\\xe1\\xcd\\xa4\\xcf\\xb0\\xa6R\\xf2\\xe3\\xfc\\xea6H\\x9a<\\x91\\x14-\\xf5\\xb6\\xbc\\x9c\\xe4%sK0wn\\xdf\\x93\\xe6\\x9djH\\xf1\\x0f\\xdf\\x95J\\x9f\\x95P\\x02}h\\xdf_J\\xc85\\x91\\x83\\xcf\\x85\\x19\\x18\\r\\xd4\\xa1C\\x07u\\xa6\\'\\x18\\x88E\\n\\xb8\\x0c\\x18\\'\\x8f\\xcf\\xd9\\x82\\xc0 \\x82\\x88\\xb8\\x12\\x9cCL\\x11b\\x0b\\xae#\\xb8VJ\\x1b\\xd6,\\xfea+\\x90\\xc7cy\\x1d.\\x04\\xf2\\x08D2o\\x8c\\xac\\x0b\\x0e\\x1cw\\xd6\\x06\\xcf\\xe9\\xf8\\x1c\\xbc&\\xd6<.\\x10D\\x9fh.\\xae\\x15\\xdc\\x18\\x8c\\x94g\\x12\\x03n\\x1a\\x84\\xbaK\\x97.\\xeaq\\x9a\\xa8\\x83\\xdfu\\xce\\xd4\\x15r\\xff\\xfe\\x03)V&\\xaf\\xb9\\xf51\\x99\\rAD\\x84,\\xb0$G\\xf4\\x9f.C\\xfbNQ\\x82\\x0e\\x18\\n\\x88\\xec/3W)\\x81\\xe4\\xf6\\xd9S~S\\xcf\\t\\xfc\\xbf\\xc8\\xb0x\\xbf\\x1f6G\\xa6~\\xbfH\\x0e\\x1ab\\xb5\\xe6\\xb7?\\xa5u\\xbd\\xef\\x0ck|\\x87\\x0c\\xec1QN\\x1c;\\xa3\\xee\\xeb\\x08\\x96\\xe6\\xc2Yk\\xa4\\\\\\xd5\\xa2\\x86\\xa1\\x12\\xd3\\xdc\\x8a\\xd1\\x12S\\xde)`\\x18\\x1d\\x1d\\xc7+qF\\x8c;4\\x1a\"\\xc9S%\\x96\\xe4)_6\\xef\\x85\\xa5\\xbdJ\\xde\\xc8\\xfe\\xaa\\xa4I\\x97\\xdc\\xdc\\x12L\\xeew\\xb3\\xc8\\xba\\x95\\xdbe\\xd4\\x80\\x9f\\r1\\xbd+\\x83{M\\x92\\xbd;\\x8fJ\\xf6<\\xc1\\xe3\\xd4\\xf8{\\xca\\xf8ER\\xe5\\x83\\xb6R\\xb5d[\\xd9\\xf9\\xe7!\\xb5\\xdd\\x91g\\x9f\\xfd\\x9f\\xb1\\xdf\\x9bWLr\\xbc\\x9d\\xf9\\x89\\xd7z9\\xe9K\\x92\\xd8\\xb8\\xf8\\xea\\xc4\\xa6y\\x9aH\\x11fH\\x9f>\\xbdJQ\\xc1\\x12F\\xcc\\x00Q\\xa5\\x01\\xd1\\xa9S\\xa7\\x1e\\t&\\xe2\\x88\\xe5\\xea\\x8d9ok\\xd7\\xaeUn\\x8d\\xf2\\xe5\\xcb\\xabf\\xdd\\xe1\\x99\\xa4\\xc0I\\x03\\x97\\tCA\\xb1\\xcc\\x11n+\\x89\\x9e\\xf4\\x18\\xcb\\x0f\\xce\\xc1|\\xfc\\xf8q\\xf5\\xb7&\\xea\\xb8{\\xe7\\xbe\\xec2\\x84\\x07\\xeb/a\\xa2\\xc7\\'r\\x8b\\xe7\\x9e{V^y5\\xb8\\x03!b;e\\xfc\\xafR\\xcd\\xb0$\\xb3\\xe5\\xce$\\r\\xab\\xf7V\\xe2\\xb7s\\xeb!\\xe9\\xd1f\\x8c!\\xd6S\\xe5\\xa7\\xd1\\x0b\\xe4\\xfa\\xb5[J4\\x17\\xcf]\\xa7\\x1e\\xf7\\xd3\\xa8\\x05\\xeauj5\\xf8X\\xae]\\xb9aX\\x91\\'\\xa4@\\xd1\\x1cR\\xf2\\x93\\xfc\\x92\\xe9\\x8dW\\xa4\\xe5\\xd75%m\\xfa\\x14\\xea\\xbe\\x16\\xec\\xd7\\xf3\\x7f\\xfe\\xdd\\x10\\xcbL\\xc6mO\\n+\\x14|?\\xa7\\xb4\\xeeVKz\\xb6\\x19-\\xf5+w\\x97|E\\xb2K\\xbdf\\xe5\\xd5\\xfe\\x06\\xb8H.\\x9e\\xbf\\xea\\xf2d\\x93,\\xc5\\xcb\\xd2od3\\xf9c\\xfd\\x1eCx\\xdb\\xc9\\xb1C\\xa7\\xa4\\xcf\\xf0\\xa6\\xf2r\\xe2\\xe0\\xe1\\x02od{U\\xe6\\xad\\x19,\\xdf\\x8do-W.\\xdd\\x90z\\x95\\xba\\xc9\\xf6-\\x07\\xd4m\\xe1\\xe1\\xe0\\x9e\\xe3\\x92\\xbfH\\x0eI\\x92L\\xcf^\\x8c,|&\\xcc\\xec\\x90\\xce\\r|p+\\xb4h\\xd1B\\xf9\\x8f\\xb1^\\xb1\\x94\\x8b\\x17/.\\xbbv\\xed\\x92\\xc3\\x87\\x0f\\xab\\xfb`\\x91\\xe2z`d\\xbd\\x85\\xb3\\x95\\xcbcCZ6Z\\xb7\\xf1\\xbcX\\xb9\\x88?I\\xf0\\x96\\xff\\xf8\\xd2\\xa5K\\xeav\\xc7\\xe7\\xb1\\xfe\\xe6\\x82\\xd8be\\xf3\\x18\\xde/n\\x10\\xfc\\xd9{\\xf7\\xee\\x95w\\xdf}W\\x8d\\xae\"\\xdfy\\xe7\\xce\\x9d2m\\xda4e\\xf5k\\xa2\\x96\\x87\\x0f\\xff\\x91\\xfb\\xc6R>f\\xcc\\xe7\\xe4YC\\x84\\xddq\\xfa\\xef\\x0b2a\\xc4<y\\xbf\\xd4;\\xf2R\\xc2\\x04J\\x18\\xdf+\\x91[F\\x0f\\x9c)\\xa9\\xd2&U\\xee\\x82\\x14\\xa9\\x93H\\x9b\\xee\\x9f+\\xa1\\xcd\\xfcVz9\\xb8\\xf7/\\xe5\\x168r\\xe0\\xa4,]\\xb0A\\xce\\x9d\\xb9$U\\xbe(\\xa5\\xc464vl9\\xa8\\x04\\xfe\\xbd\\x0f\\xf2\\x98[\\x9e\\x06Q\\x8f\\x9f \\xae!\\xf67%W\\xde,\\x8fD\\xf9\\xda\\xd5\\x9b\\xb2\\xccx\\xbd\\xf2\\xd5\\x8b\\x19\\xfb\\xf0cK\\xdb\\x91D\\x86\\x08\\xbf\\x99=\\x83\\x1c5D\\xf9\\xad\\\\\\xaf\\x19\\x9f\\xe9y\\xf3\\x96\\xe0\\x93\\x11\\'\\x8a\\xca5?\\x90\\x89\\xbf\\xf4\\x96Ti\\x92\\xc8\\xe4\\xb1\\x0b\\xcd[\\xc3\\x06+\\x07\\x9e\\xbbF\\xfd\\x0f\\x1f\\xadR5\\xbe\\xc7\\'\\xdf4\\x19\\x0e\\x0cD%`G&\\x05\\xe2hQ\\xb6lY\\xf9\\xfc\\xf3\\xcf\\x1f\\xa5\\xcb\\x11\\xf0\\xc3\\xa2%\\xeb\\x81\\x0b\\xfee\\x82y\\xb8\\x12\\xb0x\\x11j\\xfc\\xb9\\x07\\x0e\\x1c\\x90k\\xd7\\xae\\xa9\\xac\\rD\\x12\\xdf/M\\x8bpQ\\x9c={V=\\x8e\\x0c\\x0c\\x1e\\xc3\\xf5u\\xeb\\xd6I\\xc1\\x82\\x05\\xd5D^\\\\\\x0e\\x88(>\\xe2\\xa5K\\x97*a\\xa6\\xb8\\x84\\xe7a\\x84:n\\x13\\x82\\x86\\xe7\\xce\\x9dS\\xcf\\xc3kL\\x992E\\xdd\\x9f\\xcc\\x0f|\\xdb\\x04$y/\\x9f~\\xfa\\xa9\\xf2kc\\xf5\\x93\\x90N\\x16\\x07\\x03a5QK\\xdcx\\xb1\\rk\\xf9EC\\xccn)\\x1f\\xa9;N\\x1c=\\xa3,\\xd0\\xb8\\xe6\\xb2\\x1c\\xb1y\\xc3\\x10\\xb6\\x0bg\\xaf\\x18V\\xe5u%\\x8a\\x88;\\xa2\\x16#\\xc6\\xb3\\x86 \\xc6P\\xa2\\x8fo\\xb7\\xe6W\\x1f\\xc9\\xdf\\xc7\\xcfJ\\xf1\\x1c\\xf5eh\\x9f)\\x12\\'nl\\xf5\\x1c\\xee \\x0bc\\xfc\\xd09\\xb2y\\xedniY\\xe7[iU\\xef;\\xe56\\xf9u\\xf6Z\\x199\\xe0gy\\xf0\\xe0\\xa1\\\\8wE:6\\x1ejX\\xde9\\xa5\\xdbw\\r\\x94\\x85\\xfe\\xe7\\xa6}\\xea\\xf1X\\xda\\x04,\\xd9\\xd6\\xf8\\xb3>2w\\x9a\\xb1\\xcf\\x1f\\xf8[z\\xb7\\x1f\\xa7N0\\x9c,F~\\xfb\\xb3:qLY\\xd4O6\\xaf\\xdb-\\xdf\\x0f\\x9b\\xeb2\\xf3\\x08\\x7f2\\xef\\x9f\\xd7\\x0b+\\xbc\\x7f\\xdcC\\xd5\\xeb\\x96\\x91\\x94\\xc6\\xc9J\\x13y\\xe8^\\x19>FW\\xfey\\x86\\'\\x95\\x7f3&.\\x95\\xee\\xadF\\xc9\\x80q\\xad\\xa5\\xd4\\'\\x05\\xcc\\xad\\xc1(\\x97\\xd3\\x91\\xd3r\\xf3\\xc6\\x1d\\xa9[\\xa1\\xabt\\xec[O*\\x18\\x96( \\x80\\xc3\\xbf\\x99&?\\xcc\\xed!\\x93\\xc6,\\x94\\xe3\\x87O\\xc9\\xe8\\xe9\\xc1q\\x83/?\\xed!\\xafdH)\\x1d\\xfb\\xd4U\\x16l\\xdcxqd\\xfe\\xf4\\x95*h\\x87\\xb5=`l+\\xe9\\xdda\\x9c\\x9c<vV=\\xc6\\xb2v\\x01\\xe1\\xc5\\xc2>c\\x88(\\xfck\\x08\\xe9\\xcf?-\\x93t\\x19R\\xc8\\xa7\\x9f\\x97\\x94\\xc2%r\\xa9`%>\\xe5&\\xed\\xab\\xa9\\x93\\xc1o\\xbfnR>\\xec\\xfecZ\\xca%\\xe3\\x04\\xb2e\\xc3\\xdeG\\xab\\xba\\xad\\xc6\\xdf\\x07\\xf6\\x1c\\x97\\xda\\x8d>\\x91O\\xaa\\x16\\x95UK\\xb7(\\xdfu\\xdf\\x11\\xcd\\x94\\xf0\\xfe}\\xe2\\x9ctj2\\xccx\\xee\\x0f\\xa4L\\xf9B\\xea1\\x8e\\xe0\\x0f_\\xf6\\xcb\\x06\\xe95\\xa4\\x89\\xb9E\\xe4\\xec\\xe9\\x8bR\\xfb\\x93.\\xd2\\xa4C\\xb5\\'\\x1e\\x83\\xe8O\\xfba\\xb1\\xbc\\xf2j\\n\\xf59\\xdd\\xa1+\\xff\\xf4h)\\x8d&D\\x10\\x96\\xe2e\\xf3\\xc9w\\x86h:\\x06\\xba\\x10\\x99%\\xf3\\xd7\\xcb\\x8dk\\xb7\\xe5\\xb5\\xcciUp\\xec\\xd7\\xd9kT\\xb6\\x03n\\xb2\\xc3\\xfbO\\xc8\\xfb\\xa5\\xdfQ>[\\xae;\\xdb*\\xc1\\xee\\xad\\xffd\\xf6\\xe4\\xdfT\\x8e4\\xa2\\xda\\xb2\\xcbg\\xca\\xf5\\x00\\x08\\xea\\xdd\\xbb\\xf7\\xe5\\xd2\\x85kOX\\xa4d\\x85\\x94\\xadXX\\xbelQI]>o\\xf8\\xb1r\\'\\xe4|\\'\\xb3:q\\xc4\\x8d\\x1bG\\xba\\rl(M\\rQ\\xe49\\x00_\\xf2\\xb8\\x99\\xdd$u\\xdad*\\x08W\\xbfy\\xc5G\\x8f\\xcf\\x93\\xffMI\\x96\\xf2e\\xa9\\xf8YqI\\x98\\xe8\\x05\\xf9\\xd0x\\xee\\x91S;+Q\\x06\\x1e3vFW\\xf9\\xe0\\xa3\\xe0\\xcc\\x8bK\\x17\\xae\\xca\\xa5\\x8b\\xd7\\xd4\\xdf|\\x07\\xbb\\xb7\\x1d\\x96\\xd2\\xe5\\n\\xaa\\xeb\\x16\\xff\\xfd\\x87\\xfb\\x8e\\xcfhn0\\xe0\\xbe\\x047Y9\\xbc\\x96%\\xad\\xca\\xc6 8\\x89\\xa8k\"\\x07-\\xcc\\x9a\\x80\\x81\\xac\\x81>\\xc3\\x9aH\\xa5\\x9a%\\xa4}\\xc3\\xc1R\\xf1\\xfdV\\xd2\\xec\\xf3~\\xd2\\xb7\\xd3x%\\xba\\x08\"\\xf7\\xe96\\xb0\\x81\\xc4\\x89\\x1bK\\x9a\\xd6\\xea\\'=\\xdb\\x8eQ\\x1d\\xea\\x1a\\xb6\\xf9T\\xa5\\x84a\\x95\\x12\\xd4[\\xb5l\\xab\\xac^\\xfe\\xa7\\x1c>\\xf0\\xb7l\\xdb\\xb4_\\xe5\\xfbbq\\xb7\\xfbj\\x90*\\xd88\\xbc\\xff\\xa44h]Y\\xb9B\\xde.\\x90U]\\xefcX\\xce\\x8e\\xe9la!n\\xdc\\xd8OX\\xd9\\x10\\xff\\xf9\\xb0\\x05\\xa9\\x11~\\xc7,\\x0f\\xe0:\"\\xcf\\t\\x86U@\\xd1\\xb7\\xeaH\\xb3\\xda\\xdf\\xc8\\xd7-FH\\xc6\\xcci$o\\xa1\\xc7+\\xb7+\\x97\\xaf\\xab\\x13\\xd4)\\xc3\\xd2^\\xbep\\xa3\\xca2\\xe1qc\\x06\\xce\\x94\\xae\\xc6\\xfd\\x9b\\xd7\\xee/\\xd9STR\\x97:\\xe5\\xbf\\x96\\xe7_\\x88g>R\\xe3k\\xb4+\\xc3\\xc7hW\\x86g\\xe8&F\\x11\\x07W\\n\\xab\\x01\\x84?\\xfdk\\xa9\\x94\\x90{\\x1b\\xed\\xca\\xf0\\xb3\\xeer\\x14aP\\x15\\xa7\\t\\x19+{C\\x0bs\\xf8\\xd0\\xc2l\\x0f\\xb40\\xfb\\x91\\x8f\\x99\\x96\\x9d\\x08\\x0e\\xf9\\xc6\\xfer\\x01\\xca\\xbeI\\xc5su{T]\\xc8\\xe6\\xa0\\xaaQ\\xa3\\xd1h\\xc2\\x8aG\\x16\\xb3?r\\xf5\\xeaUU\\x94B\\x01\\xcb\\x9bo\\xbein\\xd5\\xd8\\x95\\xd0,\\xe6\\xfc\\x05\\xf2\\xc9\\x81\\xfd\\x07$i\\xf2\\xc4\\xe6\\x16{\\xc1aG\\xb5\\x1e)wv\\xce\\x0f>u\\xf2\\xacJ3uU\\xbc\\xa5-f\\xcf\\xd1\\xc2\\xac\\xf1KB\\x13fVF\\xb8\\xd4\\xec\\n\\xef\\x9f\\xd2~:\\x1a\\xda\\xb9\\x078Eb\\xb85]\\xa1\\x85\\xd9s\\x02V\\x98)j\\xa1\\xac\\x9a\\x8fG#%\\xdc/\\xee`\\x07\\xe2@\\x01\\xeeKc\"_C\\x97:Z\\xa1R\\xfc\\x924iRs\\xab\\xc6\"4a\\xb6;T\\xa1r\\xc0o\\xdc\\xb8Q\\xdex\\xe3q\\xc7\\xb7@\\xc2\\x9d0S\\x80\\xc6\\xb1\\xe9\\r81X\\x13\\x92\\xc2\\x82\\xcec\\x8eb\\xe8\"G+O\\xfc\\xbb\\x94\\x82\\xbb+\\x9bF\\xc0iH\\x84\\x00t\\xeb\\xd6MU\\x13F\\x06\\xb4$eg`\\'\\xd5h\\xa2\\x0b\\x18@)S\\xa6\\x94\\xb2\\x9f\\x94\\xf4\\xca\\x05\\xd1t%\\xa6v\\'`\\x85\\x99\\x1f\\xacN\\x9d:\\xaa\\xdd\\xe8_\\x7f\\xfd\\xa5J\\xc4]A\\xca\\x1fV\\x0b\\xd6\\x19\\xbd\\xa3s\\xe7\\xcem\\xde\\xe2[*U\\xaa\\xa4\\x9a\\xec3L@\\xa3\\x89.\\xd0?\\xe7\\x85\\x97\\x12\\xc8\\xda\\x03\\x13\\xbcrI\\x91*\\xa9j\\xfb\\x1bh\\x04t\\x81\\tA\\x15\\x9a\\xd9\\xd3\\xcf\\x99\\xe6\\xf6\\xce\\xd6)\\x1d\\xe2\\x16,X \\xb9r\\xe5\\x12:\\xc79\\'\\xfak4\\xbe\\x80\\xd5\\x9ce(,\\\\\\xb80\\xd2Vi\\x1a\\xfb\\x10\\xd0\\xc2\\x0c\\xf1\\xe2\\xc5S\\xbe!z+\\xd3P\\xc9\\x11\\xba\\xc5\\xe1\\xebs\\xecdg\\xc1\\x92\\x0b1\\'\\xdd\\x8d\\xe9(L9\\xb1\\xa0\\x99\\x11A\\x1b\\x0e0\\x84\\x9d\\xd4A|\\xdb\\x16\\xb8Gh\\xaeOS%&\\xa6\\x0c\\x1a4H\\xbd6SU,x,\\xcfo\\x8d\\xc1\\xe2\\xff\\xe9\\xd3\\xa7\\xab\\xed\\xf8Wy\\xce\\xad[\\xb7\\xaa\\xdb,8\\x91\\xd0\\xbc\\x89\\xb4@\\x9a,q_\\x8d}\\xa0YV\\xe3\\xc6\\x8d%{\\xf6\\xec\\xaay\\x16\\xcd\\xbc\\x8e\\x1d;&%J\\x94P\\x8d\\xbc\\xf8\\xdd5\\x1a\\x08xa\\x06v|\"\\xdf\\x88\\x99\\x15\\xc9\\xa7\\xf4\\x14Qer\\x89s\\xaa\\x0f>+\\xc4|\\xdf\\xbe}\\xea\\x80AT\\xb9N\\x80q\\xf9\\xf2\\xe5R\\xa6L\\x19\\xe9\\xdc\\xb9\\xb3t\\xec\\xd8Qu\\xc4c2K\\xd1\\xa2E\\x95\\x18\\xd3\\x9b\\x99 B\\x8d\\x1a5TW:&\\x9f\\x8c\\x1e=Z5\\xdb\\'\\xe0\\x808\\xe3>\\xa9\\\\\\xb9\\xb2*\\xd0\\xa1\\x13\\x1e\\xb3\\x04\\x99*NW=\\xe6\\x0b2K\\x90\\xa0\\x02\\xee\\x0e\\x8aS\\x80\\xe5Z\\xeb\\xd6\\xad\\xd5x-&\\xb5`\\xfdg\\xc8\\x90A\\x8d\\xccB\\xa85\\xfe\\r\\xee4\\xa6\\xee0\\x91\\x87\\x16\\xb7\\x04~9\\xe13J\\x8d\\xf6\\xb2U\\xabVU\\xfb\\x18\\x82\\x1d\\x16HQc\\xfa\\x8f\\xabNrv\\xe4\\xc8\\xc1\\x93\\xaa1\\xd4ge;J\\xcb\\xba\\xdf\\xca\\xb7]\\'\\xa82\\xf2>\\x1d\\xc7\\xab\\xa1\\x06\\x11\\x01\\xe3\\xc8\\xd9(\\xf3w\\xa2\\x850\\'N\\x9cX\\xaaT\\xa9\";v\\xecP-=\\x81\\x03\\x05k\\x05Au\\x06\\x8b\\x98\\xe5e\\xfe\\xfc\\xf9U\\xf0\\x90V\\xa5X\\xdcX\\xcd\\x089\"\\xcb\\xe8*Z\\x80\\xd2\\xda\\x94\\xd6\\xa0\\xf8\\xa8\\x11T2C\\xea\\xd7\\xaf\\xaf,uFfq\\xa01)\\xfc\\xc3\\x0f?\\x94\\xc9\\x93\\'\\xab\\x9d$O\\x9e<R\\xbbv\\xedG\\xae\\x13^\\x07\\xeb\\t\\xd1&j\\xcc\\xc1:j\\xd4(e![3\\n\\xb1\\x9e\\x11~N2\\xbc\\x16\\xa2\\x9d,Y2u\\xb07i\\xf2\\xb8[\\x98\\xc6\\xff`U\\xc6\\xc9\\xbcm\\xdb\\xb6jD\\x1a\\xfb#\\xd0/\\x1ca%\\x13\\x88\\x93-b\\xcd\\xbe\\xe3\\xbcRr\\x04A\\xe6yh5K[\\xdb@q\\xbfe\\xc8\\x94F\\xde/\\xf5\\xb6\\xec\\xd9n\\x1cwErH\\x9b\\xee\\xb5\\xa5\\xf37\\xf5Us\\xfeZ\\x1fu\\x92\\xa5\\x0b\\x82\\x07!\\x87\\x87m\\xdb\\xb6\\xa9\\x8c\\x10V)\\xf4}\\xb7\\x13\\xd1B\\x98\\x81\\t&\\x08\\x19V\\x06\\xa2\\xca\\xa0W\\x04\\xd2:H\\x1ca\\xa9I\\nL\\x96,Y\\x945J\\xf6\\x04\\x07\\x10\\x17\\xfc\\xd6\\xf8\\xa3\\xc9\\xdd\\xb4*\\xfa\\xb8?\\x82\\x89x\\xd3\\xeb\\x99\\x83\\x85~\\xd3lgL\\x15\\xe9w\\xcc2\\xa47\\xb45\\x10\\x80\\xdb\\x1d\\x0b\\x0b\\xb8\\x1f\\xa9?X\\xc1\\xc0c\\xb0\\xe4I9\\x02\\\\+X\\xcd\\xf7\\xef\\x07\\x0f\\xcd\\xa4\\xaa\\x10\\x81\\xe6\\xa0\\xd7\\xf87\\x9c\\x90\\xc9YF \\x1c\\xe1d\\xec\\x18\\xb8\\xe2>\\xdd\\xbbwWn,g,A&^\\xc2\\x04wVa\\x8ca\\x0b$(\\xb6a\\xd4\\x95\\x05\\xbd=*\\xd4(\\xa6\\x06\\x18\\xcc\\x9a\\xb4\\\\\\xf5\\xfe\\x08\\x0b\\x96 \\x13;\\xe2$G\\xeft\\x8e/;\\x11m\\x84\\x99\\xa6KX\\xba4\\xd2G\\x94\\xc9\\x88\\xc0\\xdatUu\\x85\\xf81\\x8d\\x9bY~\\x9ci\\xb1\\x8cC\\xb2L\\xb8\\x8d\\x83\\x84\\xe7\\xb2\\xe6\\x06:\\xc3T\\x16\\xac\\xe8\\xf0\\xe0\\xf8\\\\\\xf8\\xc1\\x11m\\x1a\\xfdcY3\\x8e\\x8b\\x087\\x96\\x98\\xab\\xcf\\xa0\\xf1\\x0fp\\x99\\xb1/5m\\xda\\xd4\\xdc\\x122\\x9c\\xc0\\x19\\xe2\\x80{\\x03pu\\xb5i\\xd3F\\t2b\\xcc\\xbe\\x89x3\\xa88:\\xc0T\\x1a\\x06\\x1f\\xc4\\x8a\\x1d3\\xd4\\xfd\\x9cc\\x9a\\xd5-\\x82\\xcc\\xea\\x121&\\x16\\xc4\\xb1g7\\xa2\\xcd\\x11\\xcd\\x8f\\x8a\\xc0b\\x85\\xb6o\\xdf^^}\\xf5U5\\xcf\\xcf\\x15D\\xca\\xb1J8 \\xb0\\x9a-\\x1ckq\\xf8\\xdb\\xba\\xce\\xc1\\x87EK.\\xb4\\xe3\\xacB\\xc7\\xfb\\x13\\x10D\\x98y]O\\xa0\\x08\\x85\\x13\\x05>\\xf2\\xfe\\xfd\\xfb\\xab\\x1do\\xc4\\x88\\x11\\xca\\xb5\\xa2\\xf1_\\x88K\\x10\\xa4e$\\x19 \\xb4\\xb8\\xca\\xb8p\\x82%V`]\\xe7D\\xcb\\xaa\\xa9@\\x81\\x02\\xca\\xe5\\xc6\\xfeG\\xf3\\xab1c\\xc6<Z)\\x01.2\\xe2%\\xfe~!N\\xc2D \\xc6\\xb4Y\\x17F\\xb1Y\\xf32]\\xc11s\\xec\\xd0\\xdf\\xb2u\\xe3^5\\xed\\x9b\\x89\\xe1\\xf4\\xc2\\xae\\xd3\\xb4\\xfc\\xa3\\x9e\\xd5\\xce\\xe0\\x12B\\x90Iu\\xe5\\xd8\\xb5\\xc0gO\\x00\\xde\\xf1\\xf51\\xcc\\xec@@\\x97d\\xb3\\xfcc:7\\xc19\\x82.\\xec\\x10_}\\xf5\\x95\\xf2\\xfb\"lX!\\x88j\\xcf\\x9e=\\x85i\\xd8\\x9c]\\xf1\\xdd!\\xca\\x04\\xf6\\xf8\\x1fK\\x15\\x0b\\x85\\xa0\\x1bn\\r\\xce\\xc6\\xecp\\xf8\\x80y\\x0e\\xf2\\x90y\\x1dv\\x02\\x96\\xa6X<\\xf8\\x9d\\t\\xe6\\xb5k\\xd7N\\x05\\xf8p\\x81\\x10,\\xe4~\\x88)\\'\\x07vP\\x96\\xa6\\x04 y\\x8e\\x1f~\\xf8A\\xbd\\x0ec\\xb4\\xac\\xdck*\\x94\\x1a5j\\xa4\\xac-\"\\xfa\\xf5\\xea\\xd5\\x93\\x96-[\\xca\\xdbo\\xbf\\xadD\\xden\\xcb\\xb3\\xf0\\x10(\\x95\\x7f\\xacl\\x98\\xd4\\x8e\\xf0\\x02m`-\\xf7\\x13\\xcbl~{k5\\xf6\\xe3\\x8f?\\xaa\\x95\\x17\\x81a\\\\Xd\\xe0\\xb8\\xca\\xd1\\xb5\\x8b\\x0b\\x83c\\x8b\\x13\\x8a\\xe3J\\x91c\\xe1\\xfc\\x85sr\\xfc\\xcebs\\xcbc\\x98\\xceR\\xbdt{5, g\\xde,r\\xf1\\xdc\\x15\\xd5\\'\\x1a\\xa3\\xaaE\\x97\\xcf\\xa4P\\xb1\\\\\\xe6=\\x1f\\x93=Ee\\xc9\\x965\\xa7:n\\x1c\\xe1;\\xe5\\x98\\xb7\\x06([\\xf0}\\x12\\x84\\xe7\\xb8r\\xc4\\xdf*\\xff8C\\x05\\x04\\x86%\\xc9\\t&\\xc8\\x10fu}\\xff\\xfe\\xfdA\\x86(\\x07\\x19\\xcb\\x98 \\xc3B\\x0e\\xda\\xbbw\\xaf\\xda\\xbez\\xf5\\xea \\xe3\\x87\\t2\\xac\\x93 \\xc3\\xca\\r\\x9a4iRP\\xb6l\\xd9\\x82\\x8c\\x1f0\\xc8\\xf8\\xe2\\x83\\x0cK%\\xe8\\xf8\\xf1\\xe3A%J\\x94\\x08z\\xe9\\xa5\\x97\\x82\\xaaV\\xad\\x1ad\\x88h\\x90a]\\x07\\x19?\\\\\\xd0\\xb5k\\xd7\\x82z\\xf5\\xea\\xa5\\x9e\\xb7z\\xf5\\xeaAM\\x9a4\\t2\\x0e\\xa4 c\\x99\\xa9\\x9e\\x13\\xd6\\xaf_\\x1f\\x942e\\xca\\xa02e\\xca\\x045l\\xd80\\xc8\\x10\\xec\\xa0f\\xcd\\x9a\\x05\\x9d?\\x7f^\\xdd\\xbeg\\xcf\\x9e \\xe3\\x00\\r\\x8a\\x1d;v\\x90!\\xdcA\\xc6N\\x15T\\xaaT\\xa9 c\\x07V\\xefy\\xe7\\xce\\x9dA\\x86H\\x07%H\\x90 \\xa8h\\xd1\\xa2A\\x9b7o\\x0e:z\\xf4h\\x90qR\\x08z\\xe6\\x99g\\xd4\\xe7\\xe4\\x7f\\xee\\xcfk\\x1c<xP=o \\xb1q\\xe3F\\xf5=\\xdd\\xb8q\\xc3\\xd6\\x17\\xc3\"V\\xbf\\xb3!\\xb4\\xe6\\'{\\x8c!\\xcaA\\xb7n\\xdd2\\xaf=\\xc6\\xb0\\xae\\x83\\xe6\\xce\\x9d\\x1bt\\xf8\\xf0a\\xb5\\xff\\xf0x~s.\\xec\\x93\\xec\\x1f\\xae^\\xcb\\xdf.\\xc6\\xea h\\xfe\\xfc\\xf9\\xe6\\xa7\\n\\xc6X=\\x04\\xbd\\xf0R\\x82\\xa0\\xb3A+\\x9f\\xba\\xfc\\xbe\\xfb\\xfb\\xa0\\x94i\\x92\\x04\\r\\x9f\\xdc\\xf1\\xd1\\xb6}\\x97\\xe7\\x05\\xe5/\\x9a#(\\xfdk\\xa9\\x826\\x1c\\x9e\\xf4\\xc4\\xfd\\xb9\\xa4H\\x954\\xc80Z\\x82\\xb6m\\xdb\\xa6\\x8e)\\xeb{\\xe2\\xc2\\xf7h\\x9c\\x18\\xccW\\x0e\\x19\\xc3(\\x0b2V\"\\xe6\\xb5\\'I\\x95*U\\x90\\xb1\\x020\\xaf=f\\xc0\\x80\\x01Ay\\xf2\\xe41\\xafy\\x17\\xdd\\xc4\\xc8\\x03\\xb0\\xc0g\\xce\\x9c\\xa9|\\xd5\\x9c\\x95\\x9d\\xc1b&\\xfd\\t+\\xdc[\\r\\\\N\\x9c8\\xa1\\xacl\\x9e\\x0f\\xb7\\x08\\x01L,/\\xac*\\xdc\\x1cX\\xf8\\x81D \\xf5\\xca\\xc0\\x02f\\xe80\\x95\\xa8\\x8e\\xb0\\x1aci\\xedhQR\\xaa\\xcf\\xaa\\x8dTM\\xa6\\xbb\\x039\\xee\\xe4\\xc2\\xb3\\xaa\\xc2\\xe2\\xa3\\xb7\\x06.\\x02W\\x1d\\xdd\\xfc\\tW\\xbd2p\\xc5\\xa5\\xcf\\x90N\\x0e\\\\\\x99gny\\x0c\\x16s\\x8d2\\x1d\\xa4C\\x9f\\xba\\x8f\\xe61bu\\xf7\\xeb\\xfc\\x83\\x9a\\xee=~vw\\xc9W8\\x9b\\xdan\\x91+uU\\xd9\\xb4a\\x8b\\xb2j\\x81,&V\\x9ed\\xb8\\x00\\xabLV\\xbe\\xa1\\xa1{eh\\xc2\\r\\x07c\\x8f\\x1e=\\xd4\\xe4p|\\xde\\xf8\\xd2\\xde{\\xef=\\xb5,\\xc6\\xdd\\x911cF\\xf3\\x9e\\x1a\\x7f\\x84\\x148\\xc3\\xbaz\\x94ac\\x91>}\\xfa\\'\\x02\\xbc\\xd8H\\x9c\\xf4k\\xd5\\xaa\\xf5H\\x94\\x81\\x13/\\xf9\\xf2\\x18\\x1d\\x86\\x05\\xad\\xb2\\x7f\\xf8?\\xd0\\xc0\\xcd\\xe1l\\'2\\xb9|\\xeb\\x86=\\xf2J\\x86\\x14\\x92!S\\xb0\\xf8\\x86\\x04\\xae\\xa1y\\xf3\\xe6\\xa9\\xcc\\x0c\\x8e\\x0f\\x02\\xaf\\xf8\\xe8\\xed\\x86\\x16\\xe6p\\xc2\\x19\\x9c\\x03\\x8c\\xd47\\xc7\\x80\\x8c#\\x08)\\xb79\\x1f\\x88\\x9e\\xc2k\\x02M\\x96\\xe8FG\\xbe4\\xbe\\xea\\x16-Z\\xa8\\x1d\\xb0t\\xe9\\xd2\\xeav\\x8d{\\xf8\\x0eYUE\\x05\\xe4\\xcas2%\\x0b\\xc8q\\x9f \\x8d\\xcb\\xb2z\\x11$\\n\\x8c\\xe8:\\xe8./\\xddQ\\xa0I\\xfd$K#P\\xa0\\xc0\\xe4\\xe7\\x1f\\x97\\xca\\xe5\\x8b\\xd7d\\xe2\\xe8\\x05\\xd2\\xa1\\xf1\\x10u\\xa9W\\xa9\\xbb$|\\xf9\\x05\\xf9n\\\\k\\x95\\xd3\\x1cV\\x1c\\x05\\x9aU%\\xfdp\\xec\\x84\\x16\\xe6p\\xc0\\x19\\x9db\\x92\\x1b7n\\xa8(;?\\xbcURm\\xc1Rt\\xf5\\xea\\xd5*\\xaf\\x99\\x82\\x16\\xab@$\"p\\xf0\\x12l\\xa4R\\x8c\\x11>D\\xa1y]\\xb2Lpa8.\\x855OC\\x90\\x8d\\xe54\\x82\\x17RF\\x80\\xaf xE\\x15(Y@\\x04\\x9cqKX\\x15\\xa8\\x9c\\xc0)\\xcd\\xb721\\x08\\x06\\x87\\xd4\\xa2\\x16,\\x81\\xc6=\\xc2>\\x19\\x08P`\\xd2cP#\\xf9\\xeb\\xeeR\\x99\\xbfv\\xa8\\xf4\\x1d\\xdeL]\\xe6\\xae\\x1e,\\xe3gu\\x97\\xccY\\xd3\\x9b\\xf7\\x0c\\x1f\\x084\\xee\\x06\\xd2e\\xed\\x84\\xf61k\\xfc\\x92\\xb0\\xf8\\x98i\\xe5J\\x81\\x90c\\x8a\\xa2+\\xb0\\x96\\xc9\\xce!7x\\xe2\\xc4\\x89OE\\xea#\\x0b\\x0e5\\xaa@\\xf1y\"\\xc0\\xd6\\xd2\\x9d\\x93<\\xfeMr\\xd2)<\\n\\x14\\xc2\\xebc\\xf6\\x04g\\x1f\\xb3\\xa7h\\x1f\\xb3F\\xe3\\x05\\xa8\\xb0\\xa4B\\xee\\xda\\xb5k\\xe6\\x96\\x90\\xa1\\xec\\xd9]\\xf1Od\\xc1\\xeb\\xd3\\xdb\\x84 \\x1e%\\xff\\x083\\xc1?R1\\xa9L\\r$Q\\xd6D\\x0cm1\\xfb!\\xb8C\\xc8\\xf8 \\xb3\\xc3U\\xd6GX\\xa1\\x17\\x08\\xfe5\\x8a\\x14\\xc8}\\xb6\\x13\\x8e\\x163\\xae\\x08|\\x85X\\xbaX/\\xe4yS$\\xb4n\\xdd:\\xb5\\x9c\\'\\xbb\\x81\\xac\\x15\\xb2Up\\t\\xe0F\"\\x7f\\x98n}\\xe4\\xfc\\xd2W\\x84H=bH\\x91\\x01\\xcf\\x835Gc\\x9b\\x03\\x07\\x0e\\xa8\\xd2zz\\x99Df\\x96\\x03\\x195|\\x96\\xe86\\xc1\\x04\\x8b\\x99v\\x06#\\xa6x\\'\\x8b\\xa8Q\\xf5>*\\xc7_[\\xcc\\x1a\\x9fB\\xe79|\\xa1\\xf8!#\\x12\\xac\\xa2\\xe2\\x89T!\\x84\\x89\\xaa(\\xbb\\xc2N\\xcfAC\\xa6\\x02\\x1d\\x02)Wf\\x02\\x06\\x9f\\x8dR[\\n\\x05\\xe8\\xe4\\x87\\x80S\\xf0\\xc3m\\x14\\x17P\\x1dG\\xc5\\x9d\\xab\\xc1\\x07X\\xd9dI\\xf0\\xdd\\xd0\\xdc\\x8aI7\\x14\\x1d\\xb8\\x0b\\xe6j\\xbc\\x07\\x99E\\x8d\\x9b4\\x945\\x0b\\x0fy\\xe5\\xf2e\\x83z\\xca\\xe7\\x1ehha\\x0e\\x01r\\x85\\x11\\x05++\"2\\xa0\\xb1\\x12\\xa3\\xae\"\\xda\\xff\\x02?&MqX\\x1e\\x7f\\xfd\\xf5\\xd7\\xe6V\\xfbA\\x90\\x131\\xc67\\x8b\\x1b\\x80U\\x84+\\x97\\x04\\x16/\\xe2\\x8c[\\x80\\xdf\\x8b<\\xe0$I\\x92\\xb8\\xac\\x92#8K`\\x96\\xde\\nV\\x1e8\\xd9\\x10\\xae\\xac%\\x8dwa\\xb52l\\xe8\\x08\\x99>u\\xa6W.\\xa3G\\x8e\\r\\xc8\\nX\\xed\\xca\\x08\\x01\\xdao\\xd2\\x7fy\\xfc\\xf8\\xf1!61\\xf26\\xf4\\x19 \\xdb\\x02w\\x86\\xa7\\xcb\\\\\\\\\\x17<\\x07\\xbeKo\\x83\\x7f\\xd7[]\\xed\\xf0\\xfdb\\xe5:c\\xb92\\xb0\\xb0(g\\xa7\\\\\\x9e\\x13\\r\\x9f\\x89\\xb2x2\\x18pg\\xf0\\x1bY\\xfdG\\xe8\\xe2F\\xce*\\x01>\\x82k\\x9c\\xe4x\\x0cB\\xed\\xe8\\xca\\xa0\\xb4\\x9e\\x92w|\\xd4\\xae~\\xd7\\x193f\\xca\\xc1\\x83\\x07|\\xea\\x93\\xbegX\\xe7C\\x8d\\xf7A\\xfbWW\\x1d\\x0e\\xbdI\\xb2d\\xc9\\xa5N\\x9d/\"\\xdd\\xc7\\xee\\xca\\x95\\xe1\\xaf\\xf8\\x9b+#\\xa0\\x85\\x19k\\x8b\\x03\\x98\\x0eq\\xb4\\xdb\\xe4`\\xc7\\x07\\xe9\\xb8\\xbc%}j\\xd5\\xaaU*\\xad\\r\\xcb\\t\\xcb\\x0b1@\\x8c\\xb14\\xc9\\x17\\xa5+\\x1di7d\\x01\\x90\\xbf\\x8c\\x10P\\x9d\\xc5\\xc1\\x8fHQ\\x0c\\xc0\\xe3\\xd8\\x8e\\x80p\\xd0\\x97,YR\\t\\x03V7u\\xfc\\x14\\x05p;\\xfeO\\x1a\\xd5\\x00Kg,6\\x84\\x89&H\\x08\\x07=6\\xa8Z\\xb2\\x84\\x994\\x1f|\\xa5\\xf8\\xd1\\x10*\\xde\\x0b\\x85\\t!\\xc1g\\xe2\\xbeLh\\t\\xed\\xbe\\x9e\\xc0\\x01\\x9e:mr\\xaf\\x9c\\xac\\xfe:vJ}\\xaf\\xce#\\xfc-a&u\\x0c\\xab\\x9f\\x14Az\\x9a\\xf0\\x9b\\x92^\\xc6@\\x02ga\\xa6_6s\\x1b\\xb1\\xac\\x81^%|\\xd7\\xce\\xc2\\xccj\\x82\\xef\\x94\\x8b\\xe5\\xc3\\'c\\x83\\xd7\\xe2\\xfe\\xfc\\xfe\\x15\\xea4\\x93\\x04/\\x86=o\\xd6\\x9f\\x99\\xf0]W\\xd5,\\xc9\\xda\\xef\"\\x0b-\\xcc\\x9e\\x13\\xb0\\xc2\\xccT\\x10\\x0eL\\x0e`\\\\\\x03\\x08\\x1b\\x7f\\xd3H\\x88\\xfc\\xe3l\\xd9\\xb2)_#\\xa3\\xa3\\x08\\xfe\\xb0\\xe4\\xa5k\\x1b\\xdb\\xb0X\\x11\\x03~(\\xc4\\x07\\x0b\\x8be1\\xa2K\\xc7/|\\x92\\xecl,\\x85\\x99pB\\xe3\"\\x0e|\\xdc\\x0f\\xe49s2\\xa0R\\x8f\\x80\\x14\\xe2\\x81\\xd8\\xf2\\x9ex-^\\x9f\\xa8<\\x96\\xa25\\xb6\\n1A\\xb8\\x11\\x1f\\xac>|\\xa3\\x960\\x13\\xe8\\xa2\\xb0\\x84\\xcec<Wh9\\xae\\x93&MR\\xe5\\xba\\xbcW\\x9a\\x1fq\\xb2\\tk\\xcb\\xc9\\xb0\\xf2\\xecs\\xcf\\xca\\x89{K\\x8dei\\xc4\\x85\\xb9d\\xaeF\\xf2\\xfd\\xd8I\\xca\\nv\\xc4\\x12fD\\x9b\\xec\\x05Nt\\xf8\\xcd\\xa9x\\xe3\\xf7\\xe0;\\xa2\\xc0\\x86\\xef\\x12!\\xb5\\xf2T\\xb1\\x98\\xa9\\x9e#\\xcf\\xd7:\\x90\\x10fk\\x02:\\xd64Sa\\xf0KSEI\\x8fd\\n\\x828\\x89\\xf1\\xdc\\x04\\x00S\\xa5N#\\x93\\xd7\\x1d\\x95\\x04/\\x05\\x860\\x97z-\\x9e\\x1c5>\\xbb\\x16f\\xf7\\xe8\\xe0_$\\x11\\x96\\xa9 XL\\x081Q}\"\\xc5\\x04\\xc98@\\xb1X\\xb1\\xa4hF\\xcf\\x05\\xd1F$\\xa8\\xb0\\xc3\\x02\\xc5\\xe7\\xc9\\xc1\\x8e\\xb8\\xf3:\\xf4\\xc6\\xc0\\xe2e\\x1b\\x8f\\xb7\\xdc\\x07\\x08o\\xaaT\\xa9\\x94_\\x94\\xfb\"\\x16X\\xd8lg\\xf9\\x8a`\\x12\\xa4\\xa2@\\x04\\xdf(\\x82A\\'2\\x0b\\x04\\x83 \\x15\\x165b\\x13\\x9a(\\x03\\'!Z\\x81\\xf2\\x99x\\x8c\\xb7E9\\xb2\\xe1;\\xe0{\\xe3DG\\x7f\\x12\\x04\\x95\\x93\\x15\\xbd\\xa9Y\\xcd \\xce\\x8eE>\\x088\\xe5\\xea\\xac\\x8c,\\xc8rA\\xe8\\x11yV(\\xac~xNN\\xd6\\x04\\xff\\xe8\\xea\\xc6\\xc9\\xd3\\xdf{Oh\\xa2\\x0f\\x01\\x1d\\xfc\\x0bi*\\x08V\\x18\\x02\\x8b;\\x017\\x07\\xd6\\x18V1\\x16\\xac\\xbb14\\x88(E\\x00\\xb4\\r\\xa5\\x8d#\\xbduqU\\x90rEJ\\x17\\xd7I\\x07\"=\\rw\\x069\\xaa\\x08\\xb9\\x15\\xc8#8\\x85\\x1b\\x05k\\x9e\\xfb\\x12\\x08\\xe1\\x82h\\xe3\\x0eA\\x80\\xb9\\x0e\\xbc/|\\xab\\xa4}\\x91\\x81`m\\x0f\\x0b\\x04\\xb6\\x98\\x9e\\x12^\\xfcq\\xf1\\xc4\\xc9\\x12W\\x13n%2\\'8\\xd9\\xf2]p\\xe2$\\xdd\\r\\xa1\\xb5\\\\\\x17\\x80%\\x8d\\x0b\\x89\\x13\\xa2\\x05~z\\xdcI\\xacpp%\\xf1{\\xd0G\\x81\\x0c\\x18D\\x1d\\xab\\'2*\\xc30\\nn\\xdd\\xd0\\x13g4\\xa1\\x13\\xed\\xb22\\xac\\x00\\x88:H\\x0cQ\\xc5\"\\xc6\\x1dA\\xae+\\x17\\xf2b)\\x9bu\\x05\\x074\\xc2\\x8cuL\\x0e-\\xa2\\x805L\\x13!\\xac9\\xb6\\xf1X,`\\xeeC^-\\x17\\x0b^\\x1b\\xd7\\x02\\xaf\\x1dZ)-\\xae\\x14N\\x14,\\xb1\\x98Z\\x12\\x1e\\xb0\\xbc=\\x11f\\x04\\n\\xeb\\xdf\\x1b\\xac^\\xbeU\\x8e\\x1e\\n\\x9e\\xc2\\xe1kX\\xa9\\x90U\\x81\\x1b\\x8b\\x95\\x07\\xab\\x18\\xebd\\xe8\\x08\\'P\\xc4\\xdc\\x9b\\'\\xa0\\xadk\\x96\\xcb\\xdf\\xc7\\x0e\\x99\\xd7\\\\\\xc3\\xfb[\\xbfl\\x814,\\x9bW\\xa6\\x8e\\xe8\\xa7\\xae\\xbb\\xe2\\xee\\x9d\\xdb\\xf2\\xdb\\xbci\\xd2\\xa3aU\\xe9R\\xaf\\x82\\xfc:\\xed{\\xd9\\xb9i\\x8d\\x8c\\xee\\xd5V:\\xd7)\\'\\x9bV,2\\xef\\x19\\xcc\\x89#\\x07d\\xc2w\\xdd\\xa4_\\x8b\\xda\\xb2a\\xf9/\\xe6VM \\x10\\xed\\x84\\xd9\\x02\\xe1\\xc3\\xea\"\\xeb\\x82\\x03\\xda\\x82 \\x10\\x16\\x9a;\\xb0\\xbep\\x13\\xe0\\xdbD\\x0cX:\\xe3\\xba\\xc0\"\\xc3\\'lM\\xaa@\\x80\\xb1\\xb0)\\x8c`9na\\x05\\x0fC\\x8b\\xc4#,\\xf8<q\\xc3\\xe0\\xd7&\\xfd+\\xac \\xcc,\\xd7\\xc3\\x0b\\x9f\\x03\\x9f+\\'\\'k6\\xa1\\'\\\\\\xbdrC\\x86\\xf4\\x99\"s\\xa7\\xaep+B\\xde\\x84\\xf8\\x02.\\r\\x9a\\x04\\xf1\\x9d\\xb3\\x02q\\x05\\xb1\\x04V+\\xb89\\xbc!\\xd07\\xae^\\x91\\xc9\\xc3\\xfa\\xc8os\\xa7\\x86\\xf89\\xf9-s\\x17*!\\x89\\x92$\\x0f\\xf15\\xe3\\xc4\\x8d\\'E\\xcaV\\x96g\\x8c\\xfb\\xdf\\xb8zY\\n\\x95\\xae \\xd9\\xf2\\x16\\x92*\\r\\xda\\xc8\\x8dkWdH\\x97&rx\\xcf\\xe3\\xde+i3\\xbc.\\xb9\\n\\x16\\x93DI\\x93K\\xde\\xf7\\xcb\\x98[5\\x81@@\\x0b3\\x96)\\x07\\x8c\\xe3\\xc1\\xc0\\xdfX\\xab\\x1c,\\xf4\\xc9\\xa5!\\x11\\x163\\xd3\\x8bi\\x11H\\xd0\\x8dFAX\\xb7\\x04\\xe8\\x08\\x06 R,{\\x81m\\xdc\\x9fe1\\xd61~_Zo\\xf2|\\x88\\x82U\\x81\\x84[\\x02\\x7f(\\x16\\xa8%\\xf4,\\x9b\\xf1w\\xd2\\x97\\x17\\x9f5\\xef\\x85\\x0b~pG\\xac\\xf7\\x8c\\xdb\\x85\\xf7\\xc5\\xffL.\\tK\\x9e-\\xae\\x0fR\\xd9\\x1cGb\\x85\\x15>\\x1b=\\x9f\\t`\\xf2x\\xfc\\xd3\\xf8\\xc4\\xc3\\xcb\\x1f\\xebv\\xcb\\xd9S\\x17e\\xc9\\xfc\\xf5r\\xfe\\xeces\\xab\\xef >\\xc0\\x8a\\x85\\x13\\x92\\x15\\xb0u\\x07\\xbej\\x82\\xc4\\xact\\x10hF\\x119\\xee\\x1f\\xe1a\\xf7\\x96ur\\xf1\\xec)Y\\xbft\\xbe\\\\>\\x7f\\xd6\\xdc\\xea\\x9a\\xe7\\x0cC \\x96\\xb1:\\x0b\\x0b1c\\xc6\\x92\\x18\\xc6\\xe5Y\\xd3}\\xf5\\xfc\\x8b\\t%u\\xfa\\xd7\\xe4\\x9f\\x87\\x0fd\\xe8\\xd7\\xcd\\xe4\\xd2\\xb93j;\\xc4\\x8c\\x15\\xdb\\x10\\xf4\\xc8\\r\\xeai|O\\xc0\\n3\\x07)m\\x15\\xf19\\x92\"E\\xc6\\x03\\x11y\\xb2\"\\x08\\xee\\x11I%HD\\xea\\x14B\\xcc\\x01K\\x1bE\"\\xafX\\x9b\\x1c\\xdcX\\x90dK4k\\xd6L\\x89\\xae\\x05V,\\xa2\\x8e\\xb5\\x0c\\xb82\\xb02Ie\\xb3\\x96\\xd0\\xfc\\xcf\\xe3\\x10Tf\\xf5!\\xd2\\x88>m;\\t4!\\xd2dw \\xb6\\xbc?\\xcb]A\\x90\\n\\x97\\x02\\x82\\xc8\\xfb%\\x1b\\x03\\x0b\\x9dL\\x0b\\xc4\\x04\\xd1\\x0c\\xc9:\\xc3\\xbf\\x9c9sf\\x8f\\x93\\xee\\t\\xac\\x8d\\x1c9R\\x9d\\xd4h\\xf4\\x8fuO\\xa0\\x0cK?,\\xdc\\xbb\\xf7@\\xfeX\\xbfG\\x9a\\xb4\\xaf&\\x97/^\\x975\\xbfm3o\\xf1-\\xc4\\x0f\\x10\\xe8\\xd0\\xc0?M\\xb0\\x8f\\x13(+%~oO\\x04\\xfa\\xbe\\xb1\\n\\xda\\xbde\\xbdTk\\xd4^\\xae]\\xb9(\\x7f\\xae\\xfb\\xcd\\xbc\\xe5I\\x8e\\xec\\xdd)SG|#\\xf3~\\x1a)\\xb7o\\xde0\\xb7\\x06[\\xdb\\x0b\\xa7\\x8e\\x97\\x1f\\x06t\\x95E?O\\x08\\xd5\\xf7\\x9c\\xe0\\xa5D\\xd2\\xa0\\xcb\\x00\\xb9p\\xfa\\xa4\\x8c\\xed\\xd7A\\xb9=4\\x81\\x8b.0\\t0z\\xf5\\xea\\xa5\\xfc\\xdb\\xa4\\xf7x\\x02\\xbb\\x03\\x81I\\x82n\\xb8a,\\x102\\x9e\\x9b\\x13L\\x8c\\x981\\xdc\\xa6\\xcbm\\xdb\\xbc_\\xcdi\\xfb\\xaaUeiR\\xb3\\xafa\\xe5\\xfd#cgt\\x95\\xf8\\xcf\\xbb\\xcex(\\x9a\\xb5\\x9eT\\xafR\\xfb\\xa9\\xe0\\x1b\\xab\\x14\\xfc\\xffa\\x11[O`?!\\xed\\xce\\x11V@t\\xa1\\xfb\\xf2\\xab\\x062e\\xfd\\xb1\\x10\\xd3\\xe5\\xf6m\\xdb,\\x1b\\x7f[(\\x95\\xbfl%}\\x9a\\xd5\\x94\\x7f\\xffy(\\xddF\\xcf\\x90\\xb8\\xf1\\x9f7\\xef!\\xb2v\\xf1\\\\Y\\xbbt\\x9e|\\xd9\\xa1\\x9f\\xf2Cs\\xbf\\xf7?\\xa9*\\xd5\\x1bw\\x90o\\xdb\\xd4\\x95ly\\x0bK\\xd1\\x8f>\\x95\\xee\\r\\xabH\\xb6w\\nI\\xcd\\xe6]\\xd4\\xf7?\\xa0M=\\xb9x\\xee\\xb4\\xf4\\x187[\\xe2\\xc6\\x8b\\xafVx\\xdf\\xf7\\xef,e\\xaa\\xd6\\x95\\x83\\xbb\\xb6\\xca\\x90\\xceM\\xa4B\\x9d\\xa6\\xeaypml]\\xbdL\\xaa5n\\xff\\xc8(pF\\xa7\\xcb\\x85\\x8e\\xcec\\xf6\\x11\\xd1Y\\x98\\xb1\\xaaqy\\xb0c\\xd5\\xae][\\xedD\\xee\\x02\\x98\\xee\\xc0\\xd2\\xa6g0\\x96;\\xae\\x10\\xc4\\xdd\\x15\\x08\\xf3\\x94\\xa9S\\xe4\\xe4\\xfdeO\\t3\\x96\\xfc\\xe0\\xde\\x93\\xe5\\xed\\xfcoJ\\x81\\xa29e\\xd6\\xe4\\xe5\\xd2\\xb3\\xed\\x18\\x191\\xb9\\xa3\\xba\\xee\\x8a\\xfc\\x19k\\x19\\xd6\\xe2\\xfd\\xa7,|\\xb2R\\x10\\x1ao\\x14\\xb1\\xb8\\x02\\xb1sL\\xb3\\xb3\\xa0\\xd0\\xe5\\xf4\\xe932m\\xd3\\t\\xb7\\xc2\\xcc\\xe7\\x9c4\\xb4\\xb7d\\xcd\\x9d_r\\x16(*\\xcbfO\\x96\\xd1\\xbd\\xdbJ\\xe7\\xa1\\x93\\xd5u\\xb8r\\xf1\\xbc\\xf40\\x04\\xb7r\\xfd\\x96\\x92\\xafxY\\xb5\\x02\\xe9\\xde\\xe0SI\\x95.\\xa3\\x12\\xd4\\x19c\\x07J\\xfe\\x12\\x1fI\\xeaW3\\xc9\\xb7\\xad\\xebJ\\x1cC\\x80[}\\x13<i\\xc3\\x9d0\\x7fX\\xad\\x9e$M\\x95V\\xa6\\x8d\\xec/\\xb3\\xc6\\x0f\\x96f\\xbd\\x86I\\xf24\\xe9\\xb50{\\x01\\x9d\\xc7\\xac\\xf1:\\xf8\\xbfq\\x8b\\x10\\xb8\\xc4-\\x13\\x1eQF\\x9cp\\xad\\x90?M0\\x94F@\\xb8Sp\\r8Bn4\\x19\\x0f\\xb8W\\xdc\\x95\\xf6\\x9e<~V6\\xae\\xde)\\x8b\\xe6\\xae\\x93\\xee\\xadG\\xc9\\xe6\\xb5\\xbb\\x95\\xc5<\\xff\\xe7U\\x860\\xb9\\xceBy>A|\\x154\\xe5\\xbd;^\\xa8\\xaa\\xc4}C&\\x85/.\\x14\\xf58\\x82 \\x93*IO\\x0e\\xcb\\xb7\\xeb\\x8e\\xb3\\'\\x8f\\xcb\\xce\\x8d\\xabe\\xed\\x92\\xb92\\xb2Gk\\xd9\\xf5\\xc7Z\\xf9\\xd789\\xae\\xfc\\xe5g%\\xc0p\\xca\\xb0\\x90\\xf1\\x05\\xbf\\x900\\xd8\\x05\\xc6w\\xf6\\xec\\xb3\\xc1\\xcf\\x8bU]\\xee\\xf3F\\xb2c\\xe3*\\x99\\xf3\\xfdP\\xb9{\\xe7V\\x98\\xdd(\\x9c\\xa8*\\xd6m\\xa6D}l\\xdf\\x0erl\\xff.\\xf3\\x16M \\xa1\\x859\\x00 \\x13\\x84nt\\xf8\\xd5\\xf1\\x9f\\x86\\x15\\x84\\x8f\\x9ck\\nh\\xc8\\xbb\\xc6\\xcfN\\xc76R\\x02)\\xbc\\xc1\\x1f\\x8b\\x85LA\\x0e\\xb9\\xdb\\xf8\\xd4\\xdd\\x892\\xe0O\\xaeV\\xa7\\xb4\\xf4\\x19\\xd6T\\xba\\x0eh \\xdf\\x8cj.\\xb5\\x1b}\"kWl\\x8b\\xb4\\xd4\\xb9\\xb0@\\xe5\\xe7\\xc0\\x81\\x03\\xd5\\xdf\\xf8\\xd4-A\\xe6\\x04\\x15\\x16\\x0b\\xfd\\xcf\\xb5\\xbfI\\xe9\\xaau\\x94\\xc5\\xda\\xf0\\xeb\\x01\\xd2\\xb2\\xef(\\xf9\\xc4\\x10\\xdam\\xebV(A\\xb6\\xb8\\x7f\\xef\\xae\\\\\\xb9p\\xce\\xbc\\x16\\x0c\\x02L\\xa0\\xb0o\\xf3Z\\x92,\\xd5+R\\xb5Q;\\xf5\\x7fx\\x88\\x1d\\'\\xae\\xd4i\\xdbKR\\x18\\xd6\\xf2x\\xc3\\x92\\xbe}\\xeb\\xb1\\xefZ\\x13\\x18\\xb8\\x15fv \\x96Pv\\xba\\x80\\xab\\xed\\xfe|\\t)\\x90\\x17V\\x10K2E\\xc8\\xf6p\\x1c\\xe2\\x19\\x12,\\xdd\\xc8\\xdbF\\xc8Y\\x92\\xb1\\xcc%\\xe7\\x9ae\\'E2\\xa4\\xe8Q\\xc2N\\x89wXr\\xa2/\\x9e\\xbf\"\\xfbv\\x1e\\x95\\xfcE\\x1e\\xa7\\xe9\\xb1\\xb4.U\\xae\\x80\\xb2\\x9a\\x17\\xcdY\\xeb\\x95\\xcf\\x1aQH;\\xfc\\xea\\xab\\xaf\\x1e\\t2\\xab\\x83\\xb0\\n2\\xe0\\xa28\\xbao\\xa7\\xe4\\xc8W\\xc4\\xdc\\x12\\xfc9\\x0b\\x96,g|\\xce\\x87\\xb2fqp7\\xc24\\x19^\\x97\\xa4)\\xd3\\xc8\\xfcI\\xa3\\x95\\xe5|\\xf7\\xf6-\\xb9u\\xe3\\x9a\\xdc\\xbey\\xdd\\xb0\\xb8\\x8f\\xc9\\xa9\\xe3\\x87\\x95\\xfb\\x82\\xb4\\xb8\\xf3\\xa7N\\xc8\\x83\\xfb\\xf7T`/\\xc8x\\xec\\xbf\\xff\\xfd\\xab\\xfe7\\x0eB\\xf3\\x15D\\x1e>x\\xf0\\xc4\\xf7\\x970qRi\\xdas\\xa8\\xea\\xe7\\xc1\\t@\\x13X\\xb8\\xf51S,\\xc1\\x922$\\x0b\\xc9\\x9f\\xa0X\\x84\\n9\\xfa]X)k\\xfe\\x0e_=\\xdf/e\\xc1\\x91\\t\\x962\\xa2L.\\xaf\\x95w\\xcdI\\xa2u\\xeb\\xd6\\xaa:\\x11\\x81\\xa7\\xff\\x84;\\x9c{e\\x9c=}Q\\xbe\\xed\\xfa\\xa3\\n\\xfc\\xb5\\xefUG\\x8a\\x95\\xc9\\xabn{\\xf0\\xe0\\xa1\\xcc\\xff\\xf9w\\xe9\\xd5.x||\\x8b.\\x9f\\xc9\\xe7\\r>V\\x7f[\\x84\\xd6+\\x83\\xf7\\xe3-\\x88C4h\\xd0@}v2n\\xdc\\x89\\xb1\\xbb^\\x19\\x17\\xcf\\x9eV\\r\\x81\\xf6o\\xdf\\xac,Vr\\x87YU \\x9a+\\x17\\xfc,c\\xfa\\xb4S\\xf7#\\x88\\xf7I\\xcd\\x06rx\\xef\\x0e\\x19\\xd9\\xa3\\x95\\x12\\\\\\x02}g\\x0cAFH\\xcbV\\xaf/\\x8b\\x7f\\x9e\\xa0\\xd2\\xed\\x10\\xf4\\x98\\xb1\\xe3\\xc8\\xba%\\xf3\\xa4~\\x87\\xbe\\xf2\\xf0\\xe1\\x03\\x990\\xa0\\xab\\xdc\\xbb{[\\xf9\\xa2qY\\xec\\xda\\xbcV\\xa6\\x8e\\xfcF\\xf2\\x17\\xffH\\xcaT\\xabkX\\xd8i\\xd5\\xeb\\xc0\\xb6u+e\\x9f\\xf1~\\xaa\\x19\\x96\\xb7\\xf61{\\x8em\\x82\\x7f,]I\\x95rL\\x13\\xf3g8\\xe8\\x18v\\xc9\\x01\\xedI\\x0eoT\\x80\\x18\\x12lc\\xa8jdA\\xfa\\x1fb\\x8c\\xb5\\x88\\xcb\\xc2\\x02k\\x99\\x00\\\\XJ\\xbf#\\xb3\\x89\\x917\\x85\\x99TI\\n{B\\xb3\\x8eu\\x13#\\xef\\xa0\\x85\\xd9s\\xb4\\x8f9\\x1a\\xc1\\x89\\x80&G\\xe4W;\\x8a2P\\xc4\\x12\\x16Q\\xb634=\\n\\xab\\xcbB\\xa3\\x89J\\xb40G#h\\x0c\\x8f\\x9f\\x92v\\xa8\\x1a\\x8d\\xc6\\x7f\\xb1\\xad0\\xe3S\\x0e\\x0ba\\xbd_\\xa0C\\xd1\\x08\\x8d\\xe6\\xe9\\xf1\\x11Q\\xcb\\xf8\\xbf\\x7f\\xff\\x93_f\\xae\\xf2\\xcae\\xcf\\xae\\x83\\xe6\\xb3j4\\x1a\\x0b\\xdb\\xfa\\x98\\xe99A^-%\\xcf\\xe0\\xca\\xc7L\\xc6\\x01\\x9f\\xa1`\\xc1\\x82\\xea\\xba\\xbf\\x11\\x99>f\\xfcg\\x08\\xf2\\x88\\x11#\\xcc-\\x9e\\xd3\\xb2u\\x0b9\\xf1\\xd7qc\\xef17D\\x80\\xd8\\xb1b\\xcb\\xa8\\x91c\\x9f\\n6\\xfa\\xc2\\xc7\\x1cV^y%\\x9d\\\\\\xb9rYb\\xc5\\x8emn\\xf1\\r\\xe4<\\x93\\xdb\\xec\\xeb\\xf8:\\xe5\\xe3\\xf8N\\xc3\\x9a\\xb1\\xe3-\\xb4\\x8f\\xd9sl\\x1d\\xfc#\\xc7\\x16\\xe8qA\\xf5\\x9b%\\xcc\\xf4_&\\xdd\\x8b\\xa6\\xf5|\\x0e\\x7f%\\xb2\\x84\\x99\\xc9\\x1d\\xf4\\x81\\xb6zN\\xdb\\x81\\xa8\\x14f\\xf6%.\\xbe\\x84\\xe6Y\\x14\\xb50\\xed\\x86\\xde&\\xbe\\x84\\x13rT\\x0c,\\xd5\\xc2\\xec9\\xb6\\xf61\\xd3\\xd7\\x80\\n\\xb1\\xa2E\\x8b\\xca\\xb1c\\xc7\\xd46\"\\xef\\x04\\xb6\\xc8:`\\x14\\x93F\\xd4\\x14\\x14R\\xe0\\xec\"\\xcaQ\\r-a\\t\\x86\\xfa\\xf2B\\x1f\\x10\\xa0\\xa3\\x9f\\xab\\xdb\\xbdy\\x89\\nQ\\xd6D\\x0c[\\x0b3\\xbd\\x919\\x1bSbK\\xc90\\x90\\x9fJ\\x15\\x17S\\xa2\\x1d\\xc74EW(\\xb9f\\xacV\\xf3\\xe6\\xcd\\xcd-\\x1a\\x8d\\xc6\\xdf\\xb1}V\\x06V38W\\x95ik9\\x18zh0\\xc1\\xdb.E7\\x1a\\x8d&\\x00\\x84\\xd9\\xb2\\x9a\\x1d\\xd1\\xd6r0\\x9c\\xac\\xc8\\xc2\\xa8_\\xbf\\xbe\\xb9E\\xa3\\xd1\\xd8\\x01\\xdb\\x0b3XV\\xb3\\x85\\xb6\\x96\\x83a\\x18,e\\xba\\x85\\x0b\\x176\\xb7h4\\x1a;\\x10\\x10\\xc2\\xech5kk\\xf91S\\xa6L\\x91\\x9a5k\\xaa~\\x1c\\x1a\\x8d\\xc6>\\x04L\\xaf\\x0cR\\xe3\\xe8\\x01A\\xda\\x8b]\\x84\\xd9\\x97\\xe9r\\xa4{\\xd1\\xc2\\x93\\x99\\x83\\xa4e\\xd9\\x8d\\xd0\\xd2\\xe5\\xe6\\xcc\\x9d#\\x9b7o\\xb2\\xedI\\x879\\x8f\\x8c\\x14\\xa3\\xb3\\x1d\\x03\\x1e\\xec\\nC\\x87\\x9b5m\\xee\\xb2\\x81\\x92N\\x97\\xf3\\x1c\\x8f\\x84\\x19\\xdf\\xe5\\xc0A\\xdf\\xc9\\x85\\x0b\\x17\\xcc-\\xfe\\xc1\\x9e\\xdd{\\xe4\\xcd\\xac\\xfe5\\xbd$~\\xbc\\xf8\\xd2\\xb6m;\\x95\\x16\\xe5\\x8c/\\x85\\x99\\xd9\\x80\\x94^\\xd3\\xa3\\xd9\\x8e\\x84&\\xccY\\xde\\xc8,\\xf9\\x8be\\x95\\xd7\\xdf|r$\\x95&r\\xe9\\xdej\\x94\\xeaB\\xc9\\x80\\x06g\\xb40{\\x8eG\\xc2L\\xbf^\\x9a\\xabw\\x1f\\xd4\\xd0\\xdc\\xa2qG\\xd7\\x16#\\x95\\xd5\\xeaj\\xdc\\x95/\\x85\\xb9a\\xc3\\x86*o\\xb9[\\xb7n\\xe6\\x16{\\x11\\x9a0\\xe7}7\\x8f\\x0c\\x9b\\xdaZ\\xb2\\xbc\\xf5\\xaa\\xb9E\\x13\\x15dLPV\\xf6\\xef;\\xa0\\x85\\xd9\\xcbx,\\xccoe\\xcb*\\x07\\xaf\\xcd7\\xb7h\\xdcQ4k}\\xf9~\\xec\\xc4H\\x15f~R\\x86\\x9b2\\xd2?O\\x9e<\\xe6V{\\xa1\\x85\\xd9\\x1eha\\xd6\\x95\\x7f\\x9a0B\\xc1\\xcd\\xdd\\xbbw\\x9f\\xeaq\\xac\\xd1h\\xec\\x81\\x16\\xe6\\x00\\x04+\\xfc\\x83\\x0f>p;\\xd1B\\x132\\xf7\\xef?\\x90%\\xf3\\xd7K\\x8f\\xb6c\\xa4o\\xa7\\xf12\\xfc\\x9bij:\\xcbo\\xbfnr;T\\xd6\\x17\\xfc\\xb1~\\x8fT(\\xdaR\\xf2\\xbcRU\\xda5\\x18$W._7o\\t\\x9d\\x0b\\xe7\\xaeH\\xeb\\xfa\\xdfI\\x9etU\\xd5sl\\xdfr\\xc0\\xbcEc\\x07ls\\xe4^\\xbbzS&\\x8f[(u+v\\x95\\xc6\\x9f\\xf5\\x91^\\xed\\xc7\\xaaK\\xabz\\x03\\xa4i\\xad~r\\xfa\\xef\\xc7\\x81H\\xe6\\xcf\\xfd0|\\xae\\x9a\\xd4\\xdc\\xff\\xeb\\t\\xeaq\\x1cX\\\\\\xa2\\x034\\xc6\\xa1\\x7f\\x88&\\xfc\\xfc}\\xe2\\x9c\\xb1\\x8fu\\x93u+\\xb7I\\xe3vU\\xa4C\\xef\\xbaR\\xa3\\xfe\\x87jD\\xd6\\xf7\\xc3\\xe6\\xc8\\x9d\\xdb\\x913_\\x8f\\xf7\\xb1u\\xe3^\\xe9;\\xa2\\x99t\\xe9__\\x96/\\xdc(\\xd3\\',1o\\r\\x19N,\\xbf\\xceY+\\xe5\\xab\\xbd/\\xe3guW\\xdb\\xfaw\\xf9An\\xdd\\xbc\\xa3\\xfe\\xd6\\xf8?\\xb6\\x11\\xe6\\x17_z^>\\xaa\\xfc\\x9e!\\xd0\\xc1\\xfd\\x95;\\xf4\\xae#\\x9d\\xfb\\xd5\\x97>\\xc3\\x9bJ\\x86\\xd7S\\xcbuC\\xb8\\xe1\\xb7E\\x9b\\xa4f\\xd9N\\x92\\xe0\\xc5\\xf8\\xd2\\xa1O]i\\xdb\\xa3\\xb6\\xe4~\\xf7\\r\\xe9\\xd5n\\x8c\\xac\\xff}\\xbb\\xbaO \\x83\\xdfz\\xf5\\xea\\xd5\\xf2\\xde{\\xef\\x99[4a\\x05\\xd1\\xed\\xd9v\\xac\\xea7\\xcd~\\x930Q\\xb0\\xdf\\x94}\\xafM\\xf7\\xcf%O\\xfe7\\xe5\\xc1\\x83\\x7f\\xd46_\\x938iB\\xa9\\xdb\\xb4\\xbc\\xbc\\x969\\xad\\x94._H\\xed\\xc3wn\\xdfS\\x19Q\\xf7\\xee=\\x90\\x01\\xdd\\x7f\\x92\\r\\xab\\x1fg\\xdc\\xfc\\xfd\\xd79\\xe9\\xdar\\xa4\\x9c:y^\\x8d\\xfc\\xfa\\xb4V\\t\\xc9\\xf7^v\\xc9\\x96\\xeb5\\xa9\\\\\\xb3\\x84z\\xdf\\x91i\\xedk\"\\x86\\xad\\xd6\\xba\\xecp\\xces\\xe6b\\xc5\\x8a)\\x9f}YVR\\xa5M*\\xfbw\\x1f\\x93n-GIYC\\xc0+\\xd6(.1c\\xc6P\\xf7!\\xa5\\xaa\\xfb\\xa0F\\x12/~pG\\xaf@\\x86\\xf4\\xb8\\x97^zIe\\xcdh\\xc2\\xc7\\x9f\\x9b\\xf6\\xcbz\\xc3R.]\\xbe\\xa0$x\\xe1\\xc9\\xf9x\\xf1\\x9f\\x8f+\\x95k} q\\xe3\\x06\\xf74\\xbet\\xe1\\xaaL\\x1a\\xbbP\\x06t\\xfbQY\\xb3\\x96\\xe8\\xdd\\xbeuW\\x16\\xcc\\xf8]v\\xfeyH6\\xad\\xdd%\\xdf\\xf5\\x98\\xa8,_\\xc4t\\xc6\\xc4\\xa5J<\\xc7\\r\\x99-\\x97.^S\\xf7\\x9d2\\xfeW\\x193h\\xa6Z\\x11:\\x12;v\\xccG\\xfb/\\x96.\\x86F\\xd9J\\x85\\x95{\\x8a\\xdb\\xde)\\x90U\\xfav\\x1c\\xaf\\xc4\\x191\\xee\\xd0h\\x88$O\\x95X\\x92\\xa7|Y\\x8d\\xcf\\x8a\\x1b/x_G\\xc8\\xaf\\\\\\xbe\\xa1\\xc4\\x99\\x13\\x8c\\xc6\\x1e\\xd8\\xde\\t\\x89\\x1f\\x8e\"\\x03\\x0e\\x9c9SW\\xa8e\\x1cS\\x9a\\x9d\\xc9\\x9c5\\xbd\\x14-\\xf5\\xb6y-pY\\xbf~\\xbd\\x14(P\\xc0\\xbc\\xa6\\t\\x0f{v\\x1c1V\\x1c\\xffI\\x9at\\xc9\\xcd-O\\x92*MR%x\\x87\\x0f\\x9c\\x94NM\\x87I\\xf6<\\x99\\xa4j\\x9d\\xd2\\xf2\\xe3\\xc8\\xf9\\xf2u\\x8b\\x11r\\xe3\\xfa-5\\x95\\xa5K\\xf3\\x112\\xa2\\xfftY\\xbdl\\xab\\x1c?|J\\xf9z\\xcf\\x9f\\xb9$\\x85\\x8b\\xe7V\\xfb+\\xab\\xbb\\x84\\x89\\x12(C\\xe1\\xd9g\\xff\\'od{\\xd5\\xadh\\x1e\\xdc{\\\\\\xba\\xb5\\x1a%\\xf7\\ra\\xe71\\x16\\x05\\xdf\\xcf)\\xad\\xbb\\xd5\\x92\\x9emFK\\xfd\\xca\\xdd%_\\x91\\xecR\\xafY\\xf9\\'f\\x1a\\xe2\\x93\\x1e;x\\xb6,\\x99\\xb7N\\xd2\\xbf\\x96\\xca\\xdc\\xaa\\xb1\\x03\\xb6\\x14\\xe6c\\xc6\\xce>n\\xc8\\x1c\\x19\\xd4k\\x92\\x8c7\\xac\\x8f\\x07\\xf7\\x1f\\xca\\xdd;\\xf7e\\x97a\\xa5\\xbc\\x9c\\xe4\\xa5\\'v`\\x0b,\\xedW^Mi^\\x0b\\\\H3\\xa3\\x02R\\x13>\\xb0,\\xb1`\\x11\\xca\\x181\\xdd\\x8f\\xde\\xc2U\\xf4\\xfd\\xd09\\x92$YB%\\xa8)S\\'\\x91\\xba\\xcd*\\xc8\\xd2\\xf9\\xebe\\xe7\\xd6C\\xca(`\\xf5\\x96\\xdf\\x10\\xcav=\\xbf\\x90Fm\\xabH\\xd0\\x7fAr\\xfa\\xe4\\x05I\\x9a<\\x91\\x94\\xabZTV\\x19\\x82}\\xd9\\xb0\\x98\\xb1\\x92/\\x9e\\xbfj\\x08\\xfc\\xeb\\xe6\\xb3?\\tV\\xf8\\x99S\\x97\\x94\\x85\\xbc\\xec\\x97\\rJ\\xa0\\xef\\xdc\\xb9g\\xde*\\x92\\xe9\\x8dW$~\\x82\\xb8r\\xed\\xcaM\\xc9\\x957\\xcb\\x13\\xa2\\x0c\\x17\\xcf]Q\\x82~\\xf9\\xe2ui^\\xbb\\xbf\\x1c\\xda\\x7f\\xc2\\xbcE\\xe3\\xef\\xd8R\\x98\\xf1\\xbf\\x15(\\x9aC\\xf9\\xd0\\xd2\\xa4\\x0f\\xb6n\\x1e>\\xfcG\\xed\\x841\\x8d\\x83\\x8a\\xf1\\xfa\\xd1\\x15\\x849o\\xde\\xa7W\\x0c\\x9a\\x90\\xc1E\\x902ubc?\\xfaW\\xae\\\\r\\x9f\\xfdp\\xfd\\xda-\\xd9\\xb7\\xeb\\xa8<\\x9f \\x9e\\xb9E$}\\xc6\\x94\\x123V\\x0c9~\\xe4\\xb40\\'\\nq\\x8f\\x1d\\'\\xd8\\xe5\\xc1\\xff\\xcf\\xfc\\xef\\x99G\\xae\\x8e\\xe2\\x1f\\xbe\\xab\\x8c\\x88u+\\xb7+C\\x02K\\x96\\xd5\\x9e+0&\\x8a|\\x90G\\xfa\\x8dl\\xae|\\xde;\\xb6\\x1cTb\\x0bd]tl<\\xd48\\x0erJ\\xb7\\xef\\x1a(\\xb7\\xc6\\x9f\\x9b\\xf6\\xa9\\xdb,2\\xbd\\x91N\\x9au\\xac.\\xa3\\xa6uV\\xaf\\xcf\\xebi\\xec\\x81-\\x85\\xf9y\\xc3J\\xc8\\x9c5\\x9d\\xf2\\xb3}\\xfayIc\\xe7\\x8fi,1c\\x1b\\xd6\\xf2\\x8b*8H\\x90$:Br<CW\\xdfz\\xeb-s\\x8b&<\\x10\\xdcK\\x9c\\xf4%Y\\xfb\\xdb\\x9f.\\x03e\\xf8r\\x11U\\xc4\\xf6\\xe4\\xf1\\xb3\\x86\\x95\\x1d\\\\\\x9b\\x85\\xa8\\xc7\\x89\\x1b[\\x12%~\\xba\\xc8\\xc2\\x994\\xe9\\x92I\\xc1\\xf7s\\xc8\\xec\\xc9\\xbf\\xa9,\\xa1\\x9c\\xef\\x84m\\xac\\xd4\\xbb\\x85\\xb3I\\xd2\\x14\\x89\\xe4\\x7f\\x86\\xe8\\xe3\\xae\\xc3\\xb7\\x9d5gFe\\x91\\x97(\\x9bO\\x1a\\xb7\\xab\\xaa\\xb6\\x91\\xcd\\xe1L\\xc6\\xcci\\x95u\\x1f\\xcb8yh\\xec\\x81\\xed}\\xcc\\x19_O\\xa3\\x025\\x04JJ|\\x94O.\\x9d\\xbf\\xe2\\xd22`\\tz\\xe4\\xe0I\\xf3Z`\\xb2m\\xdb6\\xc9\\x96-\\x9baiEl\\nvt%C\\xa64\\xd2\\xb4C5Y\\xba`\\x83L\\x9f\\xb0\\xf8\\tq\\xde\\xbd\\xfd\\xb0l\\xdd\\xb0W\\xb9#J\\x95+(\\xdb\\xff8 \\x07\\xf6\\x1cW\\xb7\\x91\\x11\\x912M\\x12y\\xdb\\x10v\\t\\n\\n\\x16l\\xd7\\x05\\xb5\\xca\\xdd\\xf0a\\xc5\\xc2\\xb2w\\xe7Q\\xe5>\\xe1\\xf9\\xdc\\xc1\\xed\\x16\\xb8Br\\xbc\\xfd\\xba$O\\x99X\\x05\\xbc\\xbb\\rl\\xa8\\xde\\xab\\x15\\x0c\\xc7\\x852nf7I\\x9d6\\x99\\xba\\xee\\xf8\\xd8\\xab\\x97\\xaf\\xcb\\xf3/\\xc4\\x93\\xec\\xc6\\xe35\\xf6\\xc0V\\xc2\\xcc\\x0e\\xcf\\x0egY*\\xce\\x94)_H\\x8a\\x1b\\xd6\\xc3w\\xdd\\x7fRQq\\x0b\\x0e0\\n\\x06n\\\\\\xbbmn\\tL\\xb6o\\xdf.9r\\xe40\\xafi<\\xa1R\\xcd\\x12\\xf2\\xdd\\xf86\\xb2h\\xceZ\\xf9\\xb8`S\\xa9\\xffi\\x0f\\x15\\xe8;\\xb8\\xf7/\\x95\\xad\\x81\\x10V\\xfd\\xa2\\x94T\\xa9]R\\xf9|\\xc9\\x95g\\xdf\\xea\\xd4\\xb7\\x9e\\xbc\\x94\\xe8\\x05YcX\\xdb\\x08\\xf5\\xca%\\x7f\\x18\\xe2{D\\x89\\xfc\\xf93\\x97e\\xe5\\xe2\\xcd*\\x13\\x03\\xde\\xcc\\x91QeX`\\xe9\\xba+\\x02\\x9a5y\\xb9\\xe4JSE\\x15\\x96\\x90\\x1a\\xb7c\\xcb\\x01i\\xd0\\xaa\\xf2#!\\x8ekX\\xe8\\xce>e\\xcb%\\x82K\\xa5H\\xd6:R\\xa3L\\x07\\x19\\xdc{\\xb2\\x8c\\x198Sj~Y\\xf6\\x91hk\\xfc\\x1f\\xdb\\xf4\\xca P\\xf2\\xcb\\xcc\\xd52\\xb0\\xc7Dc\\xd9\\x18KZt\\xf9\\xcc\\x10\\xe2\\x82\\x8f\\xd2\\x82,\\xc8E%\\x8di\\xde\\xf4\\xdfU\\xd4\\x1b\\xbf\\xe1\\xcb\\xc6\\xf2\\xb4\\xb4a\\xe5\\x10 \\x89l\"\\xb3W\\x06\\xcfC\\xcb\\xd3z\\xf5\\xea\\x99[\\xecKt\\xef\\x95\\x11\\xbc\\xc2\\xfb[n\\xdf\\xbc\\xab\\xdc\\x1f\\x04\\xb5\\xc3\\xc3\\xd9\\xd3\\x17\\x95\\x95\\x8d{\\x8f,\\x13_U\\x81\\xea^\\x19\\xd1\\xbcW\\x06\\xe9D\\x9f\\xd5\\xffP\\xb6\\x9f\\x9a!\\x1b\\x0eM\\x92J\\x9f\\x95xJ\\x94\\x81m_\\xb6\\xa8$\\x8b7\\x8f\\x94Y+\\xbe\\x93!?\\xb6\\x97.\\xdf|\\x19%\\xa2\\x1c\\xd9\\xec\\xd8\\xb1C\\xb2g\\xcfn^\\xd3\\xd8\\x19\\xac\\xe1LY^Q>\\xe8\\xf0\\x8a2\\xe0\\xf2\\xa0(\\x85L$_\\x89\\xb2\\xc6w\\xe8_,@\\xb8w\\xef\\x9e\\x1c;vLMs\\xd1h4\\xf6F\\xb7\\xfd\\xf41\\x91\\xe5\\xca\\xc0Zf\\x1a\\xc6\\xd1\\xa3G\\xcd-\\xf6&4WF\\xce\\\\9\\xe4\\xfe\\x83;\\x92\\xca\\xa6~S\\x8e\\xba\\x1b7n\\xc8\\xf3\\xf1\\xe3\\xabL\\x0b\\xbb\\xb2q\\xcdv9s\\xe6\\x8c\\xc47>\\x873\\xda\\x95\\xe19\\x1e\\t3;T\\xaaT\\xa9\\xe4\\x9d\\x02~\\xb4l6>\\xc6\\xcd[\\xb7$^\\xdcx~\\xb5\\xa3o^\\xb7C\\xb6n\\xdd\\xear\\xbc\\x937\\x85\\x99\\xf9~\\xec$\\x0b\\x16,0\\xb7\\xd8\\x9b\\xd0\\x84\\xf9\\xd4\\xa9Sr\\xfcxpV\\x84\\x1dA\\xb4*W\\xae,#F\\x8c\\xb0u\\xf9|\\xa2D\\x89$K\\x16\\xd7nB-\\xcc\\x9e\\xe3\\x910\\xc3\\xfe\\xfd\\xfb\\x95\\xe5\\xec/\\xdc2D\\xb9R\\xa5J2j\\xd4(\\xbf\\xda\\xd1\\xe3\\xc5\\x8b\\xe7\\xd6\\xef\\xebMa\\xee\\xd4\\xa9\\x93z\\xbe~\\xfd\\xfa\\x99[\\xecMh\\xc2lw\\xae_\\xbf\\xae\\x0e\\xf8\\x8d\\x1b7\\x06\\xac\\xfb\\xc9\\x9d03\\x8f\\xd21\\x9d/\"\\xe0?\\x8f\\x11#\\xe2\\xf9\\xd9\\x01#\\xcc\\xfe\\xc6\\xb5k\\xd7\\xd4A\\xcc\\x01\\xed\\xee\\x0c\\xeeoxS\\x98+V\\xac(\\x1f~\\xf8\\xa1|\\xfe\\xf9\\xe7\\xe6\\x16{\\xa3\\x85\\xd9\\xfe\\xb8\\x12f\\xb6\\xe1\\xf6\\x08\\xa9\\xec=<<|\\xf0\\x8f2\\x10i\\xdc\\x15\\x11tV\\x86\\xc6\\'\\x1c:t\\xc8\\x96\\xd3\\xb05\\xd1\\x8b\\xfb\\xf7\\xef\\xcb\\x0b/%\\x90\\x93\\xf7\\x97y\\xe5\\x92\"UR\\xb5Z\\x0e4<\\xb2\\x98\\x19[\\x94\\xe9\\xf5L\\xc6_.\\x1f\\x1a5\\x18\\x1f\\xe3\\x8e\\xf1\\xbe\\xe2\\xc4\\x8e-\\xcf\\xf8Qz\\x10y\\xd5{\\xf7\\xeeUc\\xde\\x9d\\xf1\\x96\\xc5\\xcc\\xb2\\x10\\x97\\t\\xd3\\x8a\\xed\\xb2\\xc2\\t\\x8d@\\xb6\\x98\\xb1\\xf0~\\xf9\\xe5\\x17i\\xd2\\xa4\\x89t\\xee\\xdcY\\x05m9\\xd6\\x02\\rW\\x163\\x9f=}\\x86tr\\xe0\\xca<sK\\xc4\\xc8\\x95\\xba\\xaal\\xda\\xb0EY\\xb5\\x11! \\\\\\x19|\\xb9\\x192d\\x90\\x9d\\xe7f\\x9a[4\\xee(\\x99\\xab\\xa1\\xfc<m\\xb6O\\xb32N\\x9e<\\xa9\\xfc\\xd8\\x97/_V-P\\x03\\x81@\\x14f\\x02\\x96\\x1c\\xe0\\xf3\\xe6\\xcd\\x93B\\x85\\nI\\xc2\\x84\\t\\x95\\x05\\xb9|\\xf9r5\\x9f\\xb1m\\xdb\\xb6\\xf2\\xf6\\xdb\\x81\\xd3\\x9aV\\x0b\\xb3\\xe7xlZR\\xc8\\xc1\\x84\\x07}\\t\\xf9\\x12\\xff\\xf9\\xc7]\\xc8|\\xc5\\x91#G\\xd4\\x892PD9\\x10\\xe1\\xe4Y\\xaaT)I\\x92$\\x89\\x1c<xPe\\xcf\\xfc\\xf8\\xe3\\x8f2m\\xda4\\xb5\\xd2!FP\\xa5J\\x155\\x16,,\\xb0j\\xc5\\xea\\xe6\\xe4\\x1e\\x08\\xd0\\xc7\\x86\\xd2\\xf3\\xcf\\xcav\\x94\\x96u\\xbf\\x95o\\xbbNP=\\xae\\xfbt\\x1c\\xaf\\xfadG\\x04\\xd2\\xf9V\\xacXa^\\xb3\\x07\\xda\\xc7\\x1c\\x00\\x906\\x96.]:\\xf3\\x9a\\xc6\\xdf \\xbd\\x94\\xc0l\\xf3\\xe6\\xcd\\xa5\\x7f\\xff\\xfe\\x8f\\xdcZ\\'N\\x9cPn\\xa88q\\xe2\\xa82z\\xac\\xb6:u\\xea\\xa8\\x9ctw \\xc8\\xc3\\x86\\rS\\x965\\xab\\t\\xe7~\\x19v\\x85\\x06R\\xef\\x97z[\\xf6l?\"\\xf9\\x8b\\xe4\\x906\\xddkK\\xe7o\\xea\\xab\\xbe\\xd7\\xb5>\\xea$K\\x17\\xac7\\xef\\x19v\\x10d\\xdcEe\\xca\\x94\\xb1\\xddJ\\xc46\\xc2\\xac\\x87\\xb1\\xba\\xe7\\xaf\\xbf\\xfe\\xd2\\xc2\\xec\\xc7`\\x15\\xe7\\xcc\\x99S\\t\\xb3#\\xe5\\xca\\x95SBkQ\\xb0`A\\x95\\xf68x\\xf0`s\\xcbc,A\\xc6%\\xc6}\\xbat\\xe9\\xa2:\\t\\x06\\x12\\xb4N\\xa5\\x97\\xb5\\x05\\x1d#+\\xd4(\\xa6\\x06\\x0f\\xcc\\x9a\\xb4\\\\\\x1e<xh\\xde\\x122\\x96 \\xa7O\\x9f^&N\\x9c(\\xd3\\xa7OWn1;a\\x1ba\\xd6\\xc3X\\xdd\\x83\\xc5\\x9c6mZ\\xf3\\x9a\\xc6\\x9f \\x843n\\xdc8i\\xda\\xb4\\xa9\\xb9%dj\\xd7\\xae\\xad\\x96\\xdd\\xf4\\xd5\\x06K\\x90\\xb3f\\xcd\\xaa\\x04\\x19\\x1fh\\xa3F\\x8dTqJt\\x80\\xe1\\x17\\xf4W\\x8f\\x15;f\\xa8=?,A&66|\\xf8pC\\xc8\\x1f\\xc8\\xe4\\xc9\\x93%S&\\x12\\x15\\xec\\x85\\xc7\\xc1\\xbf\\xa8(\\xc9&\\xc3\\xe1\\x8b\\xf2]U\\xc7\\xac!?\\xb6{\\xb4\\x8c\\xbbz\\xe5\\x86:\\xd3\\xd2M\\xab^\\xa5\\xeeR\\xadnii\\xd8\\xfa\\xc9\\x80\\x1a\\xfdt\\xb7\\xac\\xdf#_4.gn\\x89\\x1c\"\\xa3$\\x9b\\x19\\x7f\\x1c\\xb4\\xf80\\x03\\x85@\\t\\xfe\\x11\\x90\\xc5\\xb2%\\xcf\\x9e\\x18\\x00\\x011\\x8b|\\xf9\\xf2\\xa9\\xc0\\x1f\\x195\\x80K\\x03\\xf1a\\xe9\\x8d\\xf0\\x9e>}ZY\\xcf\\x8e\\x01\\xa9X\\xb1b\\xc9\\xec\\xd9\\xb3m\\xe1\\xc2\\xe0\\xa4r\\xe0\\xc0\\x01\\xc9\\x9f?\\xbf\\xb9%\\xd8\\xadS\\xadzU9t\\xfd\\xe9\\nU\\xfa[W/\\xdd^\\xb5T-R\\xf2m\\xb5J\\x9e9q\\x99\\x1c\\xde\\x7fR\\xbe\\x1b\\xdfZr\\xb8\\x18\\xc1E\\xf0o\\xde\\x9c_\\x94e\\xcc\\t\\x90`\\xaa\\x059\\xfda\\xcd\\xeb\\xc7\\x8d\\xc4\\xe3\\xef\\xdc\\xb9cny\\x8c\\xad\\xb22\\xfcE\\x98\\x19n\\xf9Z\\x96\\xb4\\x92\\xe0\\x85x\\xd2\\xb7\\xd3\\xf72o\\xfaJ\\x99\\xb2\\xa8\\x9f\\x1a\\xfb\\xee\\x08=\\x99O\\x9d8\\x17\\xe9s\\xff\"C\\x98\\xb1\\x96\\x17-Z\\x14P\\x85\\n\\x81\"\\xcc\\x04\\xf6\\x8a\\x17/\\xaeD\\x16\\n\\x17.\\xacD\\x1a\\xc8=\\xe7\\x18\\xb3D\\x16q\\xe0:\\xfb\\xc3\\xf9\\xf3\\xe7e\\xf5\\xea\\xd5j\\xbb\\xddq\\x0cJ#7X\\xbf\\x7f\\xdd]bny\\x8c%\\xcc4\\xfd\\xcf\\x997\\x8b\\x1a\\xa3\\xc5\\x04rNV\\xb4\\xf9-T,\\x97y\\xcf\\xc7dOQYR$K\\xadz\\x91;\\xc2c\\xf0\\xdf\\x875 \\xce\\xfbJ\\x9c8\\xb1\\\\\\xb8\\xf0\\xd8%ja\\xab\\xac\\x8c\\xa8D\\x0fc}\\x0c\\xe2\\xceA\\x1f\\xd1t!\\x8dox\\xf1\\xc5\\x17\\x95!cYr\\x88\\xed\\xce\\x9d;\\xd5%s\\xe6\\xcc\\xb2y\\xf3\\xe6G\\xd7\\x11e8w\\xee\\x9c4n\\xdcX\\xd6\\xad[\\xa7\\xacgG\\xf8\\x9dq]ay\\xfa\\xfb\\x05w\\xcc\\xfc\\xf9\\xf3\\x95@Z\\x17V\\x10\\xb1\\xe3\\xc46?\\xcd\\xd3 \\xa4o32\\xae\\xd6\\x07j\\\\\\xd6\\x8f\\xf3{\\xa9\\x19\\x9e\\x1d\\x1a\\r\\t\\x9e\\xa9\\xe8\\x04\\'5\\xd2\\x0f\\xe7\\xce\\x9d\\xfbD\\xeb\\x03^\\xabl\\xd9\\xb2\\xea\\xf8p|}w\\x17\\x84\\xd9\\x95(G\\x15\\xb6\\x14f=\\x8c\\xf51\\xec\\xfc\\x94\\xb8&H\\xf0\\xf4\\xc9H\\x13\\xf5`\\xf53\\x1c\\x17\\xf7CX \\x90\\xbbg\\xcf\\x1e\\x15\\x08dv#\\x81CG\\x81\\xc6\\x02\\xafY\\xb3\\xa6\\xb1\\x02\\xfcG]\\x0ft^x1\\xbe\\xeaI}\\xf5\\xb2!\\xf4\\xa7/\\x99[\\x9f\\x041\\xff\\xe4\\x93O\\xd4h5G\\x81&\\x9d\\xb0{\\xf7\\xee\\xeao\\xbbaKa\\xd6\\xc3X\\x1f\\xc3\\x81\\xaa\\xade\\xff\\xa6~\\xfd\\xfa2p\\xe0@\\xd5\\xbc\\xc7\\x11\\xdc\\x84\\xceKm\\x96\\xc7,\\x99\\xe3\\xc6}<9\\xdbY\\xa0\\xd7\\xae]\\xab*\\x06\\x03\\r\\xac[g\\xcf*\\x13\\xcb\\xb7n\\xd8#\\xafdH!\\x192\\x85\\xbc\\x9f\\xbb\\x12\\xe8\\x1e=z(\\xab\\xddn\\xd8R\\x98\\x1d\\x89\\xee\\xc3Xqc\\xa4L\\x19x.\\x1ao\\xc3r\\xf5\\xea\\xd5\\xab\\xe6\\xb5\\xc8\\xa5d\\xc9\\x92J\\x84\\xabV\\xad\\xfa\\x848/[\\xb6\\xec\\t\\x01F\\x94\\x89\\x15\\xb8\\xcb\\xe0p\\x14h\\nV\\xf0o\\x06\\n\\x1c\\x9b?\\xff\\xb8T._\\xbc&\\x13G/\\x90\\x0e\\x8d\\x87\\xa8\\x0b\\xc1\\xfc\\x84/\\xbf \\xdf\\x8dk\\xadr\\x9a\\xc3\\x82\\xa3@\\xe3\\xb7\\xe7\\xa4H\\x10\\xd2N\\xd8J\\x98\\xf50\\xd6\\xa7!EH\\x0bs\\xc8\\xd0\\x0f\\x9b\\xb2`R\\xa9\\xa2\\xc2\\x05\\xc0\\xd4r\\xd2\\xb6n\\xde\\xbc\\xa9\\x82\\x7fXs\\x18\\n\\x16\\xf8\\x99\\x11mz3/\\\\\\xb8P\\x92%\\x0b\\xb9\\xf9?\\x02=u\\xeaT\\x95\\x1b\\xed\\xf8<v\\x86\\x02\\x93\\x1e\\x83\\x1a\\xc9_w\\x97\\xca\\xfc\\xb5C\\xa5\\xef\\xf0f\\xea2w\\xf5`\\x19?\\xab\\xbb\\xb1BNo\\xde3\\xecX\\x02m\\xc7 \\xaam\\x84\\x99\\xd4\\x99\\xb9\\xd3V\\xaa\\xd4\\x19&\\x06\\xcf\\x99\\xbaBei8\\xc2\\xf0\\xd5>\\xc3\\x9a\\x08\\x93\\x8e\\xdb7\\x1c,\\x15\\xdfo%\\xcd>\\xef\\'};\\x8d\\x97d)^V\\xbe\\xaa@\\x03\\x1fs\\x8a\\x14)\\xcck\\xd1\\x0bJ\\x9b\\t\\xac\\x85\\x06\\x02F\\xc6\\n\\'\\xf5\\xa8\\x8247\\xac\\xdd\\xbau\\xeb\\xaa\\x9e\\xd9X\\xd0\\xfcn\\x880Y\\x18d\\xed\\xacZ\\xb5J\\r\\xa0\\x08+\\x193f\\xb4E\\xda\\x9c?\\xf0\\xfa\\xebO\\xa7\\xda\\xf93\\xb6\\x11f=\\x8c\\xd55\\xd1U\\x98/]\\xba\\xa4r|\\xad\\xd4\\xb3\\xd0\\x88M\\xd7A\\'\\x7fndCCw\\x869\\x90\\x8aj\\x15\\x91\\x8c\\x1e=Z\\x95`\\xe3\\xbe\\x88hOaM\\xe0`{\\x1fst\\x87\\x83;y\\xf2\\xe0\\xcc\\x94@\\x05W\\xc4\\xd8\\xb1c\\xe5\\x87\\x1f~P\\x05\\x19\\xf8W\\x11\\xb2_\\x7f\\xfdUUx\\xe1&\\xe8\\xdd\\xbb\\xb7*\\xb2Y\\xbcx\\xb1Z\\xde\\xd3\\x87\\x82\\xdcSw~X\\n=f\\xcc\\x98\\xa1\\x82C\\xfc\\xef\\xaa\\xb0\\xc0\\x97\\xd0\\xcc\\x08\\xb0\\x98\\xa3\\x9b\\xd5{\\xfd\\xea\\r\\xd9\\xb2a\\x8fW.gN\\x9d7\\x9f5\\xb0\\xd0\\xc2ls\\xc8y\\rda&y\\x9f\\x00N\\xadZ\\xb5\\xd4 \\x805k\\xd6(\\x9f:M\\x7f\\xf8\\xdc\\x94\\'\\xd7\\xa8QC\\x15\\xa2\\x90\\x1e\\xc5m\\x08\\x1d\\xae\\x02rfs\\xe7\\xcem>\\xd3c\\xb0\\xb2\\x07\\x0c\\x18\\xa0F\\x90\\xd1\\xd1\\xed\\xfb\\xef\\xbfW\\xa2\\xeeX5\\xa6\\xf1\\r\\xa4v\\x16\\xff\\xe0}\\xe9\\xd3z\\xa2W.E\\x8a\\x16Rs\\x07\\x03\\r\\x8f+\\xff\\xd8\\xa9\\xff\\xf8k\\xaa\\xb9E\\xe3\\x8e\\x0f\\xf36\\x95ys\\x16\\xf8\\xac\\xf2\\x0fq\\xda\\xb0aC\\xc051\\xb2*\\xff(\\xbc\\xc0\\xf2\\xed\\xd3\\xa7\\x8f*a\\xa6Z\\x0e\\x7f!\\x01\\x9d\\xf6\\xed\\xdb\\xab \\x18\\xfb)\\x19\\x17\\x9f}\\xf6\\x99\\xca\\xffm\\xd3\\xa6\\x8d\\xfc\\xf9\\xe7\\x9f\\xea>-Z\\xb4P.\\x0c\\xf2Yi\\x8f\\xfa\\xd3O?)K\\x9b\\x96\\x9b%J\\x94P\\xb7\\xf1\\xfd\\xb1\\xf2\\x980aB\\xb8|\\xbc\\x11!:\\xcf\\xfc\\xb3\\x1bQQ\\xf9\\xe7\\x910\\xdf\\xbbwO\\xde~\\'\\xcfSy\\x99QIP\\xd0\\x7f\\xca\\x12J\\x90\\xe0\\x05\\xbfZ\\x1a\\xf2\\x1dm\\xdc\\xb0I\\x95{:\\x13Qa&\\x98\\x153fLu\\x90[\\xfd\\x16\"\\x03\\x1a\\xbe\\xd3 \\xc6\\x1b\\xf0[\\xb9j\\xc0d\\t3\\x853\\xe4\\xecR\\xa0\\x810w\\xec\\xd8Q5\\x95\\xa7o\\xb1\\xa30\\x03.\\x8d1c\\xc6\\xa8\\xbe\\t\\xf4;\\xce\\x93\\'\\x8fz\\x0c\\xdf\\x93\\xa30\\x0f\\x192D\\x15r\\xe0\\xa3v\\xb5\\xaf\\xcc\\x9c9K\\x0e\\x1e<\\xe0S\\x9f\\xf4=\\xc3:\\x1f1|\\xb8*\\x16q\\xb5ox\\x93d\\xc9\\x92\\xcb\\x17_\\xd4\\x8et\\x1f\\xbb\\x16f\\xcf\\xf1H\\x98\\xfd\\x11D\\x99\\xe5,\\x07tt\\x19\\xc6Js\\x1bV.\\x8e\\x8dq|\\xcd\\xee\\xdd\\xbbU\\xbaV\\xdat\\xde\\xb1,O\\x1c?\\xa5\\x02aE\\x8b\\x165\\xb7\\x04c\\t3\\x011\\x82f\\xbbv\\xed\\x92\\x9e={\\xaa\\x1e\\x12\\xf8\\x84)Kv\\x16fJj\\xabW\\xaf\\xae*\\xed\\xa0]\\xbbvj\\xe9\\xec,\\xcc\\xf8\\xabi\\x05\\xc9\\xc5\\n\\x9cR\\xa8\\xc3kYU\\x94\\xe5\\xbfh*\\t^\\x0c[\\xde\\xac\\xbf\\xf3\\xe3\\xc0n*\\xad\\x92\\xcf\\x16\\x99ha\\xf6\\x1c-\\xccQHD\\x85\\x99Y\\x82T\\x82a\\xfdE\\x16\\xeb\\xd7\\xaf\\x97\\x16m\\x1b\\xc9\\x82\\xf5\\x83\\xcc-\\x11\\xa3N\\xf9\\xeeR\\xa7FS)_\\xbe\\xbc\\xb9%\\x18K\\x98I\\x89\\xe3{\\xa2H\\x037F\\xc3\\x86\\r\\x95\\xc5\\x8b\\xff\\x187\\x05\\x01A\\x84\\xd4r\\xe5`1\\x13\\x08$%\\xcd:\\x90\\x10\\xe6n\\xdd\\xba)a\\xc6\\x9a\\xc6=\\x82_\\x9a\\xfd\\x84\\x9e\\x14\\xac\\x00\\xf9.yn\\n>R\\xa5N#\\x93\\xd7\\x1d\\x95\\x04/\\x05\\x860\\x97z-\\x9e\\x1c5>\\xbb\\x16f\\xcf\\xb0\\x950SqF\\xc2\\xbc\\xbf@\\xd3\\x94b\\xc5\\x8a\\xa9\\\\Q\\xcb\\x82\\xf2\\x07h\\xe5\\xe8\\xaeWrD\\x85\\x19\\x1fj\\xeb\\xd6\\xade\\xcb\\x96-\\xe6\\x16\\xdf\\x13\\xd9\\xc2\\x8c\\x88r\\x00`Q\\xe3v \\xb8\\x87\\xa8b\\x1d\\x13\\x00\\xa4\\xb5$\\xfeg\\xcbJ&\\x1b\\x83&\\xf2\\xbdz\\xf5z\\xd4\\x99\\x0e\\xd1E\\xc4\\x11\\xf3\\xbe}\\xfb\\xaa\\xfd\\x84@!\\xf7!\\xc3\\xe3\\xbd\\xf7\\xdeSBn\\x89\\xbb\\x16f\\xef\\xa0\\x85\\xd9s<\\x12f\\x04\\x99\\x03$\\xe3\\xeb\\xfe\\x13p\\xe2c0\\xc6<^\\xdcx\\xf2?\\x87)\\x08Q\\xcd\\xe1\\x03\\xc7U\\x9e*\\xd3\\x14\\x9c\\x89\\xa80[=dI\\x11\\x8b,\"[\\x98\\xc3\\xdb\\xf6\\x932\\\\\\xde#\\xd9\\x1a\\xa15Vw\\x87\\xaf\\x84\\x99\\xaa\\xc3{wnK\\xfc\\x04/\\x98[\"\\x07-\\xcc\\x11\\xc36\\xc2\\x1cU\\xfd\\x98\\xed\\x88/\\xfb1#\\xcaX\\xcd\\x04\\xbd\"\\n\\xbb\\x01\\xed\\x13\\t\\x96Y3\\xe9\\\\\\x11Va^\\xbd|\\xab\\x1a\\t\\xf4\\xeak!7\\x9e\\xf1\\x860\\xe3\\xaa\\xd8\\xb7o\\x9f\\xfa\\x0c\\x04\\xfd\\x18\\x18@\\xb5\\x9f3\\xf4\\xec%{\\xa3H\\x91\"!\\x06\\xc2\\xc2#\\xcc[\\xd7,\\x97\\xa4\\xa9\\xd2J\\xea\\xf4\\xaf\\x99[\\x9e\\x86\\xf7\\xb7\\xf1\\xb7\\x85\\xf2\\xd3\\xa0\\x1e\\x92\\xbbPq\\xa9\\xdb\\xae\\xb7\\xcb\\x93\\xc6]C\\xb4\\xd7/[ \\x1b\\x8c\\xcb\\xc3\\x87\\x0f$o\\xd1\\xd2\\x92*]F\\xf5\\xd8S\\xc7\\x0f\\xcb\\x87\\xd5\\xeaI\\xde\\xf7K\\x9b\\xf76V\\x07G\\x0e\\xc8\\xca\\xf9\\xd3\\xe5\\xfc\\xa9\\x13R\\xa8ty\\xc9W\\xbc\\xacy\\xcb\\x93ha\\x8e\\x18Q!\\xcc:\\x8f\\xd9\\xc6\\xb04\\xf7V\\x0c\\x00\\xa1z\\xf7\\xddw\\xd5\\xb4\\x89\\xaf\\xbf\\xfeZ\\xb9\\x86<\\x85\\x892C\\xfaL\\x91\\xb9SW(Q\\xf25\\x88-\\xae\\n\\x04\\x99\\xef\\xc3\\xdd,<\\xba\\x8d\\x118$Mn\\xe5\\xca\\x95Ou2\\x0b/7\\xae^\\x91\\xc9\\xc3\\xfa\\xc8os\\xa7\\x86\\xf89\\x11\\xe1\\xdc\\x85JH\\xa2$\\xc9C|\\xcd8\\xc6j\\xafH\\xd9\\xca\\xf2\\x8cq\\xff\\x1bW/\\x1bb[A\\xb2\\xe5-$U\\x1a\\xb4\\x91\\x1b\\xd7\\xae\\xc8\\x90.M\\xe4\\xf0\\x9e\\xc7\\r\\xe1\\xd3fx]r\\x15,&\\x89\\x92&7\\x04\\xfb\\xc9\\xbe\\xcd\\x1a{\\xa3\\x85\\xd9\\xc6\\xb0r\\xf1fr=Uhd,\\x10<c\\xb5D:\\x99\\'E\\x17\\x7f\\xac\\xdb-gO]T\\x8d\\xa3\\xce\\x9f\\xbdln\\xf5\\x1d|\\x073g\\xceT\\xfe\\xe8/\\xbf\\xfc\\xd2m\\xba$\\'\\x1f>\\x13\\xa9~4\\xb7\\x89\\xa8@\\xef\\xde\\xb2N.\\x9e=%\\xeb\\x97\\xce\\x97\\xcb\\xe7\\x83g\\xf4\\xb9\\xe3\\xb9\\x181$V\\x9c\\xa7[\\x08\\xb8\"f\\xccX\\x12\\xc3\\xb8<\\xfb\\xdcs\\xea\\xfa\\xf3/&T\\x16\\xf9?\\x86\\x15=\\xf4\\xebfr\\xe9\\xdc\\x19\\xb5\\x1db\\xc6\\x8am\\x08z\\xe4Z\\xc2\\x1a\\xdfc\\x1ba\\xd6S\\xb2\\x9f\\x06K1aB\\xef\\xfaA\\t\\xb2u\\xed\\xdaU\\xf5\\xa2\\xc0\\ne\\x90%\\x99\\x0c\\xb8]\\xc2\\xc2\\xbd{\\x0f\\xd4\\xb8\\xaf&\\xed\\xab\\xc9\\xe5\\x8b\\xd7e\\xcdo\\xdb\\xcc[|\\x0b\\x93B\\xc2r\\x92\\xa2g\\xc6\\x94)S\\x94eMW7O\\x05\\xfa\\xfe\\xbd{\\x860\\xaf\\x97j\\x8d\\xda\\xcb\\xb5+\\x17\\xe5\\xcfu\\xbf\\x99\\xb7<\\xc9\\x91\\xbd;e\\xea\\x88od\\xdeO#\\xe5\\xf6\\xcd\\xc7\\xab\\x10\\xac\\xed\\x85S\\xc7\\xcb\\x0f\\x03\\xba\\xca\\xa2\\x9f\\'\\xc8\\xad\\x1b\\xd7\\xcd[\\\\\\x93\\xe0\\xa5D\\xd2\\xa0\\xcb\\x00\\xb9p\\xfa\\xa4\\x8c\\xed\\xd7A\\xb9=4\\x81\\x8bm\\x84YO\\xc9~\\x1aR\\x04\\x11$o\\xd3\\xa1C\\x87G\\xa5\\xccd9P\\x0e\\x9d#G\\x0eU1\\x17\\x9ax\\xed\\xdbyT\\xf5\\xc6.S\\xa1\\x90d\\xcd\\x99Q\\xe6O_)\\xb7n\\xba\\xefC\\xc1Hz\\x1a\\xbf\\x93M\\xe3x\\xa1W1\\xbd\\x89\\xb1\\x84\\xbd}\\xa1\\xda\\xce\\xd1\\xef\\xe9\\x89@\\x1f\\xdd\\xb7Sb\\xc4\\x88\\xa9\\xdc\\r\\x19\\xdf\\xcc\\xa9|\\xbdwn=\\x99\\xa5\\xb4v\\xf1\\\\\\x991n\\xa0|P\\xb1\\xa6\\xbc\\x9a\\xf9-9q8\\xd80\\xe0~\\xdf\\xb5\\xffR\\x1e\\xdc\\xbf\\'\\xe5k7\\x96\\xe5s&\\xcb\\xac\\xf1\\x83Ct\\x87`\\xedgz+\\xb7|\\xd9\\xe9\\x1b\\xd9\\xbcr\\xb1\\xcc\\x1c7(\\xcc\\'K\\x8d\\xfd\\xb0U\\xf0OO\\xc9~\\x12\\x86|6o\\xde\\xfc\\xa9\\xb9p\\x9e@\\xcf\\rzF\\x10<#\\x8b\\xc4]e\\x1f\\xf9\\xc4\\x17\\xaf\\x9d\\x96\\x85\\x1b\\x87\\x98[\\x1e\\x83\\xb0\\x0c\\xee=Y\\xde\\xce\\xff\\xa6\\x14(\\x9aSfM^.=\\xdb\\x8e\\x91\\x11\\x93;\\xaa\\xeb\\xae\\xa8\\\\\\xac\\xad\\xec\\xdd~L\\xa5\\x15:\\x82\\x0b\\x05\\xdf\\xac;\\xb7DD\\xe1\\xf3\\xe1\\xa3w&k\\xd6\\xacr\\xec\\xf8_2m\\xe3_n\\x83\\x7f|\\xceIC{K\\xd6\\xdc\\xf9%g\\x81\\xa2\\xb2l\\xf6d\\x19\\xdd\\xbb\\xadt\\x1e:Y]\\x87+\\x17\\xcfK\\x8f\\x86U\\xa4r\\xfd\\x96*(GFF\\xf7\\x06\\x9f\\xaa`^\\xf5\\xc6\\x1dd\\xc6\\xd8\\x81\\x92\\xbf\\xc4G\\x92\\xfa\\xd5L\\xf2m\\xeb\\xba\\x12\\'^|i\\xf5\\xcd\\x18\\xf5\\xd8\\x01m\\xea\\xc9\\xc5s\\xa7\\xa5\\xc7\\xb8\\xd9\\x12\\xd7\\xd8\\xce~\\xf2}\\xff\\xce*\\xf8G\\xa0q\\xda\\xc8\\xfeJ\\xc8\\x9b\\xf5\\x1a&\\xc9\\xd3\\xa4\\x97\\xad\\xab\\x97I\\xb5\\xc6\\xed\\xddf\\xa1\\xe8\\xe0_\\xc4\\xd0\\xc1?\\x0f`\\xd9\\x8c5\\x11\\xff\\xf9\\xb8\\xaaG\\xf3\\xfd\\xfb\\x0f\\xd4\\x94]gh\\xb4]\\xb4\\xd4\\xdb\\xe6\\xb5\\xc0\\xc0\\x1b\\x163\\x02EU\\x1c.\\x0b\\x8a9\\xf8\\x9b\\x99s\\xce\\xd9\\x10T\\xfb\\x91\\xfdA\\xb5\\x9d;\\x018y\\xfc\\xacl\\\\\\xbdS\\x16\\xcd]\\xa7\\xdcH\\x9b\\xd7\\xee\\x96\\x7f\\x1e\\xfe#\\xf3\\x7f^\\xa5\\x86\\x15\\xb8\\xe2\\xf9\\x04\\xf1Tv\\te\\xde\\x8e\\x17\\xf2\\x8c\\xb1^yO\\xbe\\xb8|\\xfc\\xf1\\xc7\\xe6;\\x08\\x06A\\xc6Rg:Hh\\'\\x83\\xb3\\'\\x8f\\xcb\\xce\\x8d\\xabe\\xed\\x92\\xb92\\xb2Gk\\xd9\\xf5\\xc7Z\\xf9\\xf7\\xe1CY\\xf9\\xcb\\xcf\\x8f\\x1a\\xf1\\x9f:vH\\xf9\\x82_H\\x18l\\xd8\\xb0\\x8f>\\xfbl\\xb0\\xcf8n\\xfc\\xe7\\xa5\\xdc\\xe7\\x8dd\\xc7\\xc6U2\\xe7\\xfb\\xa1r\\xf7\\xce\\xad0\\xbbQxo\\x15\\xeb6S\\xa2>\\xb6o\\x079\\xb6\\x7f\\x97y\\x8b&\\x90\\xb0\\xa50\\xeb)\\xd9\\xc1DT\\x98)\\xe9~\\xff\\xfd\\xf7U\\xca\\x1dM\\x7f\\xf0%3a\\x83f@\\x14^\\x00\\xd7q)`ES\\xee\\xcc4\\x0ew\\xe0O\\xaeV\\xa7\\xb4\\xf4\\x19\\xd6T\\xba\\x0eh \\xdf\\x8cj.\\xb5\\x1b}\"kWl\\x93\\xa3\\x87\\xfe6\\xef\\x15\\xf5P\\x96M\\xc5 8\\n2+\\x0f\\x0444\\xfe\\\\\\xfb\\x9b\\x94\\xaeZGY\\xac\\r\\xbf\\x1e -\\xfb\\x8e\\x92O\\x0c\\xa1\\xdd\\xb6n\\x85\\x12d\\x8b\\xfb\\xf7\\xee\\xca\\x95\\x0b\\xe7\\xcck\\xc1 \\xc0\\x04\\n\\xfb6\\xaf%\\xc9R\\xbd\"U\\x1b\\xb5S\\xff\\x87\\x87\\xd8q\\xe2J\\x9d\\xb6\\xbd$\\x85a-\\x8f7,\\xe9\\xdb\\xb7<\\xcf\\xa0\\xd1\\xf8\\'\\xb6\\x14f=%;\\x98\\x88\\x083\\xcbx\\xf2y\\xf1\\x1d\\xe3\\xcf\\xcd\\x90!\\x83Z\\xa2\\xd7\\xae][-\\xcd\\xca\\x95+\\xa7r\\x89\\x99\\xaaA\\x1aZh\\x82E\\xc0\\x15\\xffr\\xfe\"9\\xcc-\\xc6\\xceeX\\xd6\\xa5\\xca\\x15PV\\xf3\\xa29kC\\xf4\\xa1F\\x16|\\xb6\\x96-[z$\\xc8\\x80\\x8b\\x02\\xffr\\x8e|E\\xcc-\\xc1\\x9f\\xb3`\\xc9r\\xc6\\xe7|(k\\x16\\xcfQ\\x9f3M\\x86\\xd7%i\\xca42\\x7f\\xd2he9\\xdf\\xbd}Kn\\xdd\\xb8&\\xb7o^7,\\xeec*/\\x19\\xf7\\x05iq\\xe4!\\xe3o&\\xb0\\x17d<\\xf6\\xdf\\xff\\xfeU\\xff\\x1b*n\\xbe\\x82\\xb1\\x7f\\x1b+\\x1b\\xc7\\xef/a\\xe2\\xa4\\xd2\\xb4\\xe7P\\xd5\\xcf\\x83\\x13\\x80&\\xb0\\xb0\\xa50\\xeb)\\xd9\\xc1\\x96\\x97\\xa7\\xc2L\\xc7;\\x82]\\x083}\\',+\\x98re\\xfc\\x90\\xfb\\xf7\\xefWU\\x85\\xef\\xbc\\xf3\\x8e\\xda\\x1e\\x1agO_\\x94\\xbe\\x9d\\xbe\\x97Mkw\\xa9\\xcc\\x17\\xcbmA`o\\xdf\\xaec\\xea\\xa4\\xf9\\xe3\\xc8\\xf92q\\xcc/j{T\\x81\\x1f\\xfd\\xdbo\\xbfU+\\x83\\xf0\\n2\\\\<{Z\\xc6\\x7f\\xd3I\\xb9.\\xf6o\\xdf\\xfc\\xc8m\\x81h\\x1e\\xdd\\xbf\\xcb\\xb8\\xfePe_,\\x98<F^L\\x94X\\x9a\\xf5\\x1e.\\xff\\xfe\\xfb\\x8f4\\xabXXF\\xf6h\\xa5n\\xbf~\\xe5\\x92\\x12\\xd2\\xd7\\xb3\\xe5\\x91o\\xdb\\xd4\\x95ICzI\\xda\\xd7\\xb2\\xc8\\xc1\\x9d[U\\x8e\\xf2\\xeaE\\xb3e\\xdf\\x9f\\x9b\\xe4\\xc4\\x91\\xfd\\xb2t\\xd6D\\xb9p\\xe6o\\xf9}\\xc1\\xcf*\\xebc\\xe9\\xcc\\x9f\\xe4\\x9c!\\xe2\\x16i3f\\x96\\xa6=\\x86\\x1a\"\\x1d\\xf2\\x8c@\\x8d\\xfd\\x08\\x88\\xe0\\x9f\\xc5\\x8c\\x89K\\xa5{\\xabQ2`\\\\k)\\xf5I\\x01sk0\\x04P\\x8e\\x1f9\\xad\\x86>F&\\xbe\\n\\xfe\\x11XA\\x94\\xf1\\x11\\x87G\\\\\\x00?1\\x96#\\xd3@\\xac\\xef\\x90\\x9e\\x13\\xa4\\xdf\\x856\\xa6\\xca\\xdfK\\xb2C\\x82\\x0ek\\xf4\\xaf\\x0e\\xed\\xfb\\x8a\\xae\\xbd2XA,Y\\xb2DM\\x85\\xe1\\xbb\\x0f\\x0f4\\x98j\\xdb\\xb6\\xad*N\\xb2\\xaa.u\\xf0\\xcfsle1\\xeb)\\xd9\\x8f\\xb1\\xac\\xe5\\xf0\\x8a2\\xbd$\\x08\\xb6\\x11\\xc8s<\\xb1\\x91\\x15\\x11\\xe8\\xb3\\x03\\xf9|\\xe1\\xfd\\xbe\\xa2\\x0b\\xac\\x92F\\x8e\\x1c\\xa9\\xf2\\xd7\\xc3\\xebrB\\x80YyQ\\x16\\x1f\\x15S\\xc8\\x03\\x11\\xdb\\x08\\xb3\\x9e\\x92\\xfd$\\x9e\\xb81X\\x1c\\xd1\\xdc\\x87\\xaej\\xd1q\\x80\\xab\\xc654\\xffb\\x10\\x01%\\xf9\\x8e\\x197\\xf3\\xe7\\xcfWbm\\x89-\\xedQ\\x19\\xc9\\xc5*\\xcf\\x11\\xee\\xc7\\xfe\\xe4i\\xbcC\\xf34\\xb6\\x11f=%\\xfbI\\xe8eA\\x1f\\xe2\\xf0@\\n\\x1a\\xee\\x8a\\xfa\\xf5\\xeb\\x9b[<c\\xcf\\x8e\\x03\\xf2\\xcb\\xac\\xd5^\\xb9l\\xdd\\xb4\\xc7|VMT1w\\xee\\xdc\\xe0\\xe1\\x07N\\xedi\\xdf~\\xfbm5cq\\xe8\\xd0\\xa1\\xca*\\xee\\xdf\\xbf\\xbf\\x1a\\x94\\xc0\\x04\\x19\\x0b\\x06\\x18\\xd0\\x02\\x98\\x9cz\\xbd\\x1a\\xf1\\x1e\\xba\\xbb\\x9c\\x8f\\xf1\\x95\\x8f\\x19\\xff0\\x96/\\xa9na\\x81\\x9f\\x99QK\\xadZ\\xb5\\x92\\xaaU\\xab\\x9a[\\xc3\\x0f\\xc2\\xde\\xa0\\xe1\\x97\\xf2\\xe0\\xa1wFK\\xc1\\xd0\\xc1\\xc3\\x9f\\x9a\\xb5\\xe7\\x0b\\x1fsXy\\xe5\\x95t\\xc6>~Yb\\x87\\xb1\\xb7\\x85\\'\\xf0{\\xfckX\\xa2\\xf4\\xc3\\xf0\\xb5\\xa0\\xdd\\xbb{W\\xa5F\\xc6\\x8a\\x15\\xcb\\xdc\\xf2\\x18\\\\[d\\xde\\xb0\\x92\\x1a?~\\xbc\\xf21\\xe3\\xe6z\\xe1\\x85\\xe0\\xd6\\xa4\\xf8\\xe5)bb\\x85F/\\x95\\x81\\x03\\x07>\\xd2\\x04\\xb6\\xe1\\x8f&\\xbd\\x92\\xbf9\\xe1\\x0f\\x1b6L\\t:h\\x1f\\xb3\\xe7ha\\xf61\\xbe\\x12f\\xac\\x1c\\x0e$\\xca\\xa4\\xc3\\x02Y\\x08\\xe4!\\x1f=z4\\xc4\\\\d\\x7f!*\\x85\\x99\\xac\\x15w\\x95\\x8f\\xde\\x82\\x15\\x0fE=\\x8c\\xd5\\xf2\\xf5\\xc4\\x1d~oW\\xa2\\xccIv\\xc4\\x88\\x11\\xf2\\xf9\\xe7\\x9f\\xab\\x13#\\x7f;\\x0b3\\xdf\\x03\\xa2\\xc4\\xa0\\xda&M\\x9aH\\xd3\\xa6MUl\\x02?4\\xf9\\xe0\\xf4e\\xa7\\x94\\x9d\\x06RZ\\x98\\xbd\\x87\\xc7\\xc2\\xcc\\xac\\xb9\\xa1\\x13\\xdb\\x9b[4\\xeehZ\\xb3\\x9f\\x9a\\xc2\\xecma\\x9e4i\\x92,\\\\\\xb8P\\xed\\x18a\\x01+\\x99\\x9ce\"\\xe7v *\\x8592\\xb0\\xa6d\\xbb\\xdb7\"\\x03J\\xf0\\xd9\\x7f,\\x17\\x06\\xa3\\xb7\\xb0\\x90\\xc9[g2\\x0e\\x16\\xf2\\xa0A\\x83T\\x1fk&\\x8f\\x93NI\\xc1\\xd1W_}%\\x07\\x0e\\x1cP\\x964\\x9f\\x01\\xa1\\xe6DC\\x0f\\x12&\\xc94h\\xd0@\\xa5bja\\xf6\\x1c\\x8f\\x84\\x99`@\\xe7.\\x9d\\xe4\\xd2\\xa5\\x8b\\xe6\\x96\\xa8\\x07+\\x87B\\x89B\\x85\\n\\x85;\\xd5\\xc7\\x970C\\xaeo\\x9fo\\\\N\\xb1\\x8e\\x880\\x8f\\x1a5J\\xb6n\\xdd\\xaa\\x0e\\xae\\xd0@\\x04\\xb0\\x88\\x0e\\x1f>\\xac\\x0e6;\\xa0\\x85\\xd9\\xf7\\xb0\\xff\\xd0\\xc0\\xc9\\x92\\x00\\xfe&\\xb3\\x02\\xcb\\xb7b\\xc5\\x8a\\xca\\x9agx\\x02\\xee\\x0b\\xf6\\x1b\\xaaA\\x11hV^X\\xc5T\\x84\\xde\\xb9\\x13\\xdc\\xa0\\x8aQ_\\x88T\\xa5J\\x95\\xd4\\xfeL\\x01\\x8f\\x16f\\xcf\\xf1H\\x98\\xfd\\x11|\\\\\\x1c\\xc4\\x1c\\xd0\\xd1a\\x18+\\xd1q&;\\x93\\xa6\\x14\\x1a,C\\xe9\\xaa\\xc6\\x81d\\x17\\xb40G>\\xce\\xae\\x0c\\xdc\\x18\\xb8,h\\x95jAf\\x06\\xae\\x11gw\\x98vex\\x17[V\\xfei\\x82S\\x9c\\xc2\\xda-l\\xd6\\xacY\\x1e\\x89\\xbf&z\\x133f\\xcc\\'D\\x19\\xb8n\\x87\\x18\\x85\\xdd\\xf1\\xd8b&\\xf5\\x8a\\xe5\\x8b\\xbf\\xc0\\x92\\xaaS\\xa7N\\xca\\x87Ju\\x97\\xbf\\x80xV\\xae\\\\\\xd9e\\xe4=\"\\x163>@\\x9a\\xe4w\\xec\\xd8\\xd1\\xdc\\xe2\\x1a|\\x7f|\\x1fX\\xd7\\xden\\xaa\\xefK\\xb4\\xc5l\\x7f\\xb4\\xc5\\xec9\\x1e\\t3\\xd1\\\\\\x02\\x06\\x9f\\xd5\\xf7\\x9f/\\x9c\\x8f\\xc12+v\\xacXjf\\x9a\\xbf0i\\xec\\x02\\x15\\x14y\\xe3\\x8d7\\xcc-\\x8f\\x89\\x880\\x13\\x80\\xc1eC\\x94<$\\xe8yA\\x1e*)QvB\\x0b\\xb3\\xfd\\xd1\\xc2\\xec9\\x1ege\\xe8t\\xb9\\xb0\\xe1\\xabt\\xb9\\x1a5j\\xa81P_|\\xf1\\x85\\xb9\\xc55\\r\\x1b6T)M\\xac&\\xec\\x84\\x16f\\xfb\\xa3\\x85\\xd9s\\xb40\\xfb\\x18_\\t3m9\\xabT\\xa9\\x12\\xeac\\xad\\x99}a\\xed\\x14\\xe7/\\x901@\\x16Ix\\xab\\x1b\\xed\\x02\\xa2\\xc5o\\xc7j&}\\xfa\\xf4\\xe6\\xd6\\xc0\\xc2\\x9aBC\\'C;\\xa3\\x859\\x00\\xf1\\x950\\x93\\xd4\\x8f\\x1b\\xe3\\xc3\\x0f?4\\xb7<\\xcd\\xf9\\xf3\\xe7\\xd5oH\\xc6\\x8a\\xdd\\x026\\xa4d\\xe2\\x1f\\x0fT\\xf8l\\xe9\\xd2\\xa5S%\\xcf\\xae\\xdc\\\\\\x81\\x02\\xcd\\xb1\\x9c\\xc7\\x86\\xd9\\r-\\xcc!@\\x13\\xa3\\x85\\xb3V\\xcb\\xaa\\xa5[$v\\x9cX\\x92,e\\xf0\\xfb\\xbaz\\xf9\\x86<|\\xf0\\x8f\\xb4\\xeb\\xf5\\x85\\xa4L\\x9dDm\\xa3i\\xfb/3W\\xcb\\xdf\\x7f\\x9d\\x938qcK\\x8a\\xd4\\x89%\\xcb[\\xaf\\xaa\\xdb\"\\xbb\\x91\\x91\\xaf\\x84\\xb9`\\xc1\\x82j\\x9au\\xb1b\\xc5\\xcc-O\\x83\\x7f\\x99&4\\xfc\\x96\\x1a\\xff\\x02W\\x06M\\x7fH3\\xa3O\\x85\\xc6\\x7f\\x89\\na\\xb6U\\x13#=%\\xfb1\\xf4O\\x0e\\xcd\\x12!\\xe8\\x98/_>\\xf3\\x9aF\\xa3\\xb1\\x0b\\xb6\\xcacfn\\x1f\\x17Gb\\xc5\\x8a)\\x9f}YVR\\xa5M*\\xfbw\\x1f\\x93n-GIYC\\xc0+\\xd6(\\xae\\xc6\\xe8\\xc3\\xebo\\xa6\\x93\\xee\\x83\\x1a\\xa9\\xb6\\xa0\\x81BX\\x84y\\xcb\\x96-\\x92;wn\\xf3\\x9aF\\xa3\\xb1\\x0b\\xb6/0\\x89\\xaeS\\xb2\\xc9\\xdb\\x0eI\\x98\\xa9\\xd8b\\xc0\\xaa\\x16f\\x8d\\xc6~\\xd8R\\x98\\xf5\\x94\\xec\\xd0-\\xe6c\\xc7\\x8e\\xa9>\\x1d\\xba!\\xbeFc?l)\\xcczJv\\xe8\\xc2\\xbcg\\xcf\\x1e\\xd5HF\\xa3\\xd1\\xd8\\x0f[\\n\\xb3\\x9e\\x92\\xad\\x85Y\\xa3\\tdl\\xefc\\xce\\xf8z\\x1aI\\xf0B|\\x15\\xe8+\\xf1Q>\\xb9t\\xfe\\x8ari8Cj\\xda\\x91\\x83\\'\\xcdk\\xf6\\x86\\xcfB\\x9b\\xd3\\x90\\x84\\x99\\xe1\\x9av\\xe9\\xb2\\xa7\\xd1h\\x9e\\xc4V\\x05&\\xb7n\\xde\\x91/\\xca\\x7f\\xad\\xfc\\xc8\\xc3&\\xb6\\x7fb\\xca3\\xdc\\xbeuW:5\\x1d&{\\xb6\\x1f\\x96\\xef\\xc6\\xb7\\x91l\\xb9^S\\xdb\\x99\\x92\\xbdt\\xc1zI\\x9e2q@\\xe41\\xd3Y\\x8e\\xb6\\x8c\\x14a\\xb8\\x1bK\\xc4\\\\6\\x9a\\x9c\\xd3\\x9f\\xda\\x8e0\\xad\\x99\\xfe\\xbf\\x81\\n\\xbf!M\\xe7\\xa7O\\x9f.\\x193f4\\xb7\\x06\\x1e4\\xceb\\xa8\\x86\\x9d\\xd1y\\xcc!\\xa0\\xa7d?\\xc6rc\\xb8\\x13e\\xce\\xb5\\x07\\x0f\\x1eT\\xe5\\xd8v\\x85i\\x1aT.R\\xd2\\x1b\\x88\\x17\\xeb\\xb7\\xe3\\x7fW\\xb7\\x07\\xc2\\x85\\xfd\\x94\\xd2zM\\xf8\\xd1%\\xd9>\\xc6\\x17\\x16\\xf3\\xa9S\\xa7$[\\xb6lr\\xf9\\xf2es\\xcb\\x930\\x1e\\xe8\\xf5\\xd7_W\\xd5e\\xee\\xc4\\xdb\\xdf\\xd1M\\x8c\\xec\\x8fnb\\xe49\\xb6\\xf71GGh\\x0e\\xe3j\\xb8\\xa6\\xc5\\xf1\\xe3\\xc7Uc\\x1c\\xbb\\x8a\\xb2F\\x13\\xdd\\xd1\\xc2lC\\x18\\xf9\\x13\\x920\\x93\\xc3\\xccjG\\xe3?0\\xd0\\xf4\\xc4\\x89\\x13\\xe65\\xd7\\xe0Wg\\x9a\\xb9F\\xe3\\x91+\\xc3j\\x94_\\xa3^Ys\\x8b\\x1f`|\\x8a\\xbb\\xf7\\xeeJ\\xecX\\xb1\\xe5\\x99\\xff\\xf9\\x8f\\xa58y\\xdc/^o\\x94\\xbfc\\xc7\\x0e\\xf5\\x18\\xfc\\xc8\\xae\\xe8\\xd9\\xb3\\xa7\\xea(\\xc7R\\xcb\\xae\\x04\\x9a+\\x83,\\x9a\\xe2\\xc5\\x8bK\\xb7n\\xdd\\xe4\\xbd\\xf7\\xde{\\xca\\x95\\xc1o\\xcat\\xe9\\xc5\\x8b\\x17\\xab\\xe6F\\x81\\x80vex\\x8eG\\xc2\\x0c\\x8c\\xce\\xf7\\xb7\\xd1R\\x8cYj\\xd7\\xae\\x9d\\xdf\\x8d\\x96br\\xb0+\\xb7\\x82\\xa7\\xc2\\xcc4\\xe3z\\xf5\\xea\\xc9\\xae]\\xbb\\xcc-O\\xf2\\xe5\\x97_*\\x1fs\\x8b\\x16-\\xcc-\\xf6#\\x10}\\xcc\\xf4\\xc5n\\xd2\\xa4\\x89\\xf4\\xea\\xd5K>\\xfb\\xec3\\xf5\\xd9\\x10\\xe6\\xbd{\\xf7J\\xe3\\xc6\\x8d\\xd5\\xef\\x15\\xda\\xa80;\\xa1\\x85\\xd9s<\\x16f\\x7f#:M\\xc9^\\xbbv\\xad\\xb4l\\xd9R5)r\\x05=\\x9ak\\xd6\\xac\\xa9f\\r\\xda\\x95@\\x14f\\xac\\xe6\\x1c9r\\xa84@\\xfai/[\\xb6L\\xa53\\xd2\\x93\\x99\\x81\\x00\\x14\\x05\\x05\\x8a\\xb5\\x0cZ\\x98=G\\xfb\\x98m\\x08\\xc1?&\\x18\\xbb\\xe3\\xf4\\xe9\\xd3j\\x9c\\x94\\xc6\\xbf\\x88\\x11#\\x86\\x1a\\x16\\x0c\\x882 \\xca\\xc0\\x08\\xb0@\\x12eM\\xc4\\xf0\\xc8b&\\xf8T\\xa5je\\xb9y\\xd3\\x7f&L`}\\x1e:tHe#\\x84\\x14\\x18\\x8bl\\x9e{.\\x86L\\x9d2]^z\\xe9%s\\xcbc<\\xb5\\x98\\x7f\\xfd\\xf5Wu\\xb6^\\xb9r\\xa5\\xb9\\xe5I\\x12\\'N\\xac\\xaci;\\'\\xf6\\x07j\\xba\\x9c\\xa3\\xd5l\\x11\\x88\\xd62h\\x8b\\xd9s<\\xcec\\xe6\\xa0\\x9f\\xb7v\\x88\\xb9E\\xe3\\x8ej\\x1f\\xb43\\xbe\\xcb\\x95^\\xcdc\\x9e;w\\xae\\x8c\\x193F\\x96,Ybny\\x0c\\xd64\\xc5\\'L\\x0c\\x0f\\xc9\\xaa\\xf6w\\x02U\\x98\\x01_3>e\\x8b\\xf6\\xed\\xdb\\x07\\x94o\\xd9B\\x0b\\xb3\\xe7x,\\xcc\\xba\\xc0$l\\xf8\\xa2\\xc0\\x842\\xdei\\xd3\\xa6\\xc9\\xfc\\xf9O\\x7f\\xff\\xe403x\\xd5\\x9f\\x02\\xb3\\x9e\\x10\\xc8\\xc2\\x8c\\xd5\\x9c3gN\\x95>\\x17\\xa8\\xd62ha\\xf6\\x1c\\xedc\\xb6!!\\xe51\\x9f;w\\xce\\xaf\\xb2R4O\\x83\\xaf\\xb9M\\x9b6\\xea\\xefF\\x8d\\x1ai\\xdf\\xb2\\xe6)\\xb40\\xdb\\x10\\x84\\x99\\x83\\xdb\\x15\\x17/^T>\\xe6@\\x07\\x97\\r\\xf9\\xf4v\\xbd\\x94,YR\\xad\\xa2\\xaaV\\xad\\xea\\xf2v\\xbb\\\\\\xb0\\x8a5\\xde\\xc76\\xae\\x0c=%\\xfb1\\xa3F\\x8dR\\xcb\\xa7\\t\\x13&\\x98[\\x1e\\xf3\\xc3\\x0f?\\xa8\\x88?\\xee\\x0e;\\x13\\x9a+\\xa3H\\x91\"jt\\x16\\xae\\x00\\xbb\\xc2\\xf8/\\x9a\\xfd\\xd8\\x99\\x1b7n\\xa8fS\\xaeZ\\xd0jW\\x86\\xe7\\xd8\\xca\\xc7|\\xe3\\xfa-\\xf9\\xa2|WI\\x96\"\\x91\\x0c\\xf9\\xb1\\x9dj\\xfb\\xc9\\x8c\\xbf1\\x03g\\xaa9\\x7f\\x88/S\\xb2\\xbf\\xeb\\xf6\\x93\\xd4iZ^M\\xd5\\xa6O\\xf3\\x81=\\xc7\\xa5c\\xe3!R\\xa4\\xe4\\xdb\\xd2\\xa4\\xfd\\x93_\\xae\\xaf\\xf1\\x850\\x0f\\x1d:T\\xf9%\\xc7\\x8e\\x1dknyL\\xff\\xfe\\xfd\\xe5\\xef\\xbf\\xff\\x96a\\xc3\\x86\\x99[\\xecIh\\xc2\\x8c\\x1f\\xbd_\\xbf~\\xaa\\x90F\\x13u\\xd0^\\x96\\xde\\xdf\\xb4\\xa1uF\\x0b\\xb3\\xe7\\xd8\\xeat\\xad\\xa7d\\x07C\\xf0($W\\x86\\xab\\x93\\xa9F\\xa3\\xb1\\x0f\\xb6\\xf71G\\xc7)\\xd9\\x08\\xb3\\xbbT8\\x1a\\xe1ha\\x8e\\xbe\\xe0Z`\\x80\\x82\\xc6\\xde\\xd8R\\x98\\xa3\\xfb\\x94\\xec\\x90,f\\x849:\\x04\\xff\\xbc\\xcd\\xee\\xdd\\xbb\\xd5r\\xb5~\\xfd\\xfa2p\\xe0@9p\\xe0\\x80\\xda\\x8e\\xc8\\xd1\\xcf\\xa2s\\xe7\\xce\\xd2\\xa3G\\x0f\\xd9\\xb9s\\xa7\\xda\\xeeo\\xb0R\\xea\\xd3\\xa7\\x8f*\\xc3\\xc7\\x95\\xa5\\xb17\\xb6\\x14\\xe6\\xe8>%;$a\\xa6y>\\xe3|4\\xe1\\x83\\xc1\\xb5\\xd9\\xb3gW\\x02\\x8d\\xdf\\xd4\\xf2]?\\xf7\\xdcs\\x92/_>I\\x97.\\x9d\\xe4\\xce\\x9d[\\r(\\xf0G8\\x19\\xe7\\xcf\\x9f_\\xf7\\xe0\\x0e\\x10l)\\xcc\\xd1}JvH\\xc2L3\\'W\\xe5\\xdf\\x9a\\xd0\\x89\\x1d;\\xb6\\xca\\x0fw\\x95a@ 2n\\xdc\\xb8\\xe65\\xff\\x84}\\xc2y\\x0e\\xa6\\xc6\\x9e\\xd8\\xde\\xc7\\x1c\\x1d\\xa7d\\x87$\\xcc\\xf8\\x18]E\\xc85\\xde\\x03W\\xc1\\xbcy\\xf3T\\xbf\\x0b\\xca\\xab\\'O\\x9e\\xfc\\xc4\\x98/\\xda\\xb1\\xb2\\x8d\\x94E\\x9a\\x14\\x91\\x16\\x87Kd\\xd5\\xaaU2|\\xf8p\\x197n\\xdc\\xa3\\xa6\\xf9\\xcc\\xc5\\xa3\\xb4\\x9e~\\xccX\\xeb#G\\x8e\\x94\\xf5\\xeb\\xd7\\xab\\xfb\\xd3E\\x90\\xec\\x9am\\xdb\\xb6\\xa9\\xfb\\xb2\\x0f\\xd3\\x03\\xe5\\xf7\\xdf\\x7fWY9#F\\x8cP\\xa9\\x91\\xe4\\xb5\\xbb\\x82\\xd7e\\xe6\\x1e\\xcfA\\x1a%#\\xc74\\xf6\\xc0V\\xc2\\xfc\\xdf\\x7fAjg\\xe3\\x7fW\\x94)_H\\x8a\\x97\\xcd\\'\\xdfu\\xffIv:\\x883S\\xb2\\x97\\xcc_/7\\xae\\x05F2|H\\xc2L\\x03v]I\\xe6;\\x107\\xc4\\x15\\xb1\\xa3_\\t\\x8d\\xb3H[\\xa4\\r+i\\xa4\\x08\\xec\\xa2E\\x8b\\x94\\xaf\\x97\\x86Z\\xf4\\xce&#\\x15\\x91\\x9e={\\xb6|\\xfe\\xf9\\xe7JH\\xbbt\\xe9\\xa2\\xfc\\xc2\\xa4K\\xf6\\xee\\xdd[\\xa6N\\x9d\\xaaD\\x97\\xe7\\xa0o\\x06\\x13\\xce\\xf7\\xed\\xdb\\xa7J\\xeb\\xb9/B\\x8e\\xc8\\xd2\\xcby\\xfc\\xf8\\xf1*M\\x8bA\\t\\x1d:tP\\xef\\x83\\xe3\\xc2\\x11\\xae\\xf3z\\x94\\xe8\\xd7\\xa8QC\\xbd\\x16\\xfd9\\xb4\\xff\\xd9\\x1e\\xd8F\\x98\\xf5\\x94\\xec\\xc7\\xb8\\x13f,*\\xc6\\xe2k\\x8b\\xd9w\\xa4H\\x91B\\x8a\\x16-*\\xf1\\xe2\\xc5S\\x03\\t\\x10J\\xa6\\x92\\x1c>|X\\t\\'\\x02H\\x0e6V.\\xfd0>\\xfe\\xf8c\\xe5\\xf7\\xa5\\x10\\x86\\xde\\xcb\\xb8I\\xf0\\x07s\\x02\\xe5wd\\x9a\\ty\\xb2\\xe4\\xb9\\x7f\\xf1\\xc5\\x17R\\xa7N\\x1d\\xe5\\x8ab\\xc29\\xcf\\x8f\\x90\\x03\\xad\\\\\\xf1qs?Z\\xba\"\\xd6\\x04)\\xcb\\x95+\\xa7,n\\x8a<\\x1c\\xa14\\x9f.\\x84X\\xf2\\x0c\\xb5\\xa0\\x90\\x85a\\x12\\xee\\xa6\\xdeh\\xfc\\x0b\\xdb\\x08\\xf3\\x8b/=/\\x9f\\xd5\\xffP\\xb6\\x9f\\x9a!\\x1b\\x0eM\\x92J\\x9f\\x95\\x90\\xb8\\xf1\\x9e\\xf6\\x05\\xb2\\xed\\xcb\\x16\\x95d\\xf1\\xe6\\x912k\\xc5w2\\xe4\\xc7\\xf6\\xd2\\xe5\\x9b/%W^{4\\xcf\\x0f\\x0b,s\\tJ9\\x83\\x1b\\x83\\x03\\xdf\\x9d5\\xad\\t\\x19\\xeb;u\\x95n\\x86\\x88:\\xa6(\\xf2\\xb7\\xd5\\xaf\\x84@!\\x01WD\\x90\\xc2\\x17\\xc4\\x931Q\\\\\\xe8\\xf2\\x87(R\\x82\\x8d\\x98cm3\\x93\\x11\\xb0\\xa4\\x11mn\\xb7|\\xc3\\xfc\\xef\\xe8+\\xe6on\\xe7\\xa4\\x0b\\xdc\\x9f\\xdf\\x98\\xf7\\xca%O\\x9e<\\xca\\x02\\xe7\\x84\\xec\\x08B\\xcd{\\xa6\\xb8\\x83i)\\xf4\\xe6@\\xc0\\x8b\\x15+f\\xdeC\\xe3\\xcf\\xd8\\xde\\xc7\\x1c\\x1dA8\\\\\\x89/V\\x98\\xb6\\x96=\\x87\\x00\\x1f.\\x00\\xdc\\t\\x8eX\\xdb\\xdc\\xb9\\x88\\x10Q\\x02\\x87\\x883\"\\x8a5K\\xb9<\\xc2\\x88\\xab\\x017\\x04\\xae\\x0fJ\\xc8\\x11\\xeb\\xb7\\xdf~\\xdbkA:\\xc4\\x99\\xf7\\x8d\\xe8;\\xc2\\xfb!u\\xd2J\\xfb\\x03\\xf6\\x0fg\\xcbZ\\xe3\\x9fha\\xb6!\\xee,f-\\xcc\\x11\\x83\\x948\\x86\\xe62\\x10\\x95\\xd5\\x87\\x05\\xbe_\\x1a\\xf68\\x96\\x87Snl5\\xf0\\xc1o\\x8b\\xab\\x82t;\\\\\\x18\\x0c\\xdf\\xe5o\\x04\\x9a\\x99\\x8f\\x08$\\xbeg,l\\xacd,f\\x82~X\\xd8\\xd6s\\xb8\\xe9\\x8c\\xf0\\x08\\xebv\\xfe\\'\\xf3\\x86}\\x80\\x13\\x06\\xe5\\xd0\\x08}\\xd2\\xa4I\\x1f\\xdd\\xce%U\\xaaT\\xea\\xfd\\x92\\xdbL\\xffn\\xde\\x17\\x81Jg\\xcbZ\\xe3\\x9fx\\xd4+\\x83\\x9d\\x89\\xd6\\x92\\xb1c\\xfb\\xcf\\xa4\\x10`g%\\x87\\xf9\\x19\\xe3\\x9f\\xbfp\\xef\\xde}\\x15\\xc4\\xe1@q\\xc6\\xd3^\\x19\\xd4\\xec3q\\xb9v\\xed\\xda\\xe6\\x96`\\x88\\xe67o\\xde\\xdc\\xed,@;\\x11U\\xbd2\\xf0\\xe5\\xe2n\\xf8\\xeb\\xaf\\xbf\\x94/\\x98\\xdf(Y\\xb2d\\xaa\\xf0\\xc4\\x12?~3\\x04\\xafp\\xe1\\xc2\\xca\\x1f\\x8c_\\xb9J\\x95*\\xf2\\xd6[o\\xc9\\xf2\\xe5\\xcbU0\\x8e\\x9cb\\xacb\\x1e\\xfb\\xc9\\'\\x9f\\xa8\\xe0\\x1f\\xd9\\x18\\x993g\\x96\\x82\\x05\\x0b\\xaa\\xac\\x8dR\\xa5J\\xa9\\x93\\xc1\\x80\\x01\\x03\\xd4c\\x19\\xd4JF\\xc7\\xe0\\xc1\\x83\\xa5@\\x81\\x02R\\xb7n]Y\\xb7n\\x9d\\x8c\\x1e=Z\\xca\\x96-\\xab|\\xceC\\x86\\x0cQ\\x19\\x19<\\x07\\x169\\x16:\\x83y\\xf9\\x9f\\xfb\\xcd\\x9a5K\\xbdW\\xba\\xd6\\xf1\\xbe(\\x9a\\xe1\\xbb\\xc47\\x8e;\\x03\\xff\\xb87\\xd1\\xbd2\\xfc\\xa8\\x89\\x11\\xe0\\xd7r\\xe5\\x8b\\x8b*\\xb0\\x16\\t\\x98\\x90\\x92\\xe4O\\x8dm88\\xdd\\xf5N\\xf6T\\x98\\x89\\xf8s\\xa0\\xe2;t\\x84\\xd4)\\x04\\x83\\xef\\xc0\\xee\\xf8s\\x13#~3D\\x96t5K\\xac#\\x03\\xf6\\x97\\xae]\\xbb\\xaa}\\x8a\\xff\\x11\\xe3\\xa8F\\x0b\\xb3\\x9f51\"\\xf8A\\xc2\\xbd\\xbf\\\\\\xac\\xa2\\x00|k\\xaen\\x8f\\xaa\\x8b;Q\\x8e\\x08\\xee\\\\\\x19\\x1c\\x08\\xce\\xbeF\\x8dopc\\xcf\\xf8\\x9c\\xa8z]M\\xe4\\xe2\\xb10\\xb3\\x83\\xf8\\xdb\\xc5\\x9f\\xdf\\x977Q.\\x1b\\x17\\xc1#\\xfc\\x87\\xf845\\xbe\\x03\\xff\\xee\\xde\\xbd{U~1\\xff\\xbb+\\xee\\xf0\\x05\\xb8W\\x08$\\x92\\x9bl\\x15\\xa8h\\x02\\x13\\x8f\\\\\\x19\\xe4C\\xe2;\\xd3\\x84\\r\\x96z\\xe4\\x9e:\\xe3\\xa9+\\xa3t\\xe9\\xd2\\xca\\xffX\\xbe|ysK0\\xf8\\x18YVQ\\xe5ewBse\\x10\\xa4ci\\x19\\xd9\\xae\\x0cN~\\x04\\x029lX\\xb5$I\\x92\\xc4\\xe5\\xea\\xc5\\x17\\x10D\\xe4\\xd8\\xb3R\\xe6\\xfc\\xa1\\x8b q\\x0e\\x82\\x9f\\xda\\x95\\xe1]l\\xd5(\\xdf\\x8e\\xf8\\xa2Q~\\x89\\x12%T\\x15\\x97\\xf3\\x0e\\xcf\\x8e\\x82Ue\\xf7&\\xf9\\x10\\x9a03\\x10\\x80@\\x9b/\\\\E\\x91\\x01\\xab\\x1e\\x82x\\xc4E,7\\x9c\\x1d!\\x85\\xf0\\xc7\\x1f\\x7ft\\xebZ\\xd3\\xc2\\xec\\x19Z\\x98}\\x8c/\\x84\\x99\\xc8z\\xeb\\xd6\\xad\\x95\\xe5\\xecH\\xf7\\xee\\xddUAC\\xdf\\xbe}\\xcd-\\xf6%4a\\xb6;\\xb8D\\xf8l\\xa4\\xd6a\\xfd\\x07\"Z\\x98=G\\xe71\\xdb\\x10\\x04\\xdd\\x95\\x8f\\x99e.\\x01G\\x8dFcol#\\xcc\\xf4\\xca\\x98<n\\xa1\\xd4\\xad\\xd8U\\x1a\\x7f\\xd6Gz\\xb5\\x1f\\xab.\\xad\\xea\\r\\x90\\xa6\\xb5\\xfa\\xc9\\xe9\\xbf/\\x98\\xf7\\x0c\\x1e\\xc6\\xfa\\xc3\\xf0\\xb9\\xd2\\xbd\\xf5(\\xe9\\xff\\xf5\\x04\\xf5\\xb8m\\x9b\\xf7\\xabK \\xe0.\\xf8G\\xd1\\x82\\x9d\\x97\\xc5\\x1a\\x8d&\\x18\\xdb\\x083\\xbd2\\x18\\xaeJ\\xbfe\\xe8\\xd0\\xbb\\x8et\\xeeW_\\xfa\\x0co*\\x19^O-\\xd7\\r\\xe1\\x06\\x86\\xb1\\xd6,\\xdbI\\x12\\xbc\\x18_:\\xf4\\xa9+m{\\xd4\\x96\\xdc\\xef\\xbe!\\xbd\\xda\\x8d\\x91\\xf5\\xbfoW\\xf7\\xb1;\\xee\\xd2\\xe5\\xb40k4\\x81\\x81\\xad\\\\\\x19z\\x18k0\\xb82\\xdc\\t3y\\xdc\\x1a\\x8d\\xc6\\xde\\xd8\\xde\\xc7\\x1c\\x1d\\x87\\xb1\\x86\\xe4\\xca\\xd0\\xc2\\xac\\xd1\\xd8\\x1f[\\nst\\x1f\\xc6\\xea.\\xf8GF\\x86veh4\\xf6\\xc7V\\xe9r4\\xc6\\xff\\xa2|W\\x89\\x15;\\xa6\\xb4\\xe9\\xfe\\xb9\\xdc\\xbeuW\\x96/\\xdc(\\xf5\\x9bW\\x94\\x98\\xb1b\\xc8\\xe7\\x1fwV\\x89\\xff?\\xce\\xef%/%|Z\\x9c\\xa3\\x02_\\xa4\\xcbe\\xc9\\x92E&M\\x9a\\xa4\\xfa\\x148\\xe2.\\x8d\\xce\\x8e\\x84\\x96.\\xc7$\\x11r\\xb6\\xed\\xca\\xcd\\x9b7\\xa5R\\xa5J2j\\xd4(\\xd5\\xc8\\xc8\\xae\\xd0\\xea\\xd4]\\x91\\x8fN\\x97\\xf3\\x1c[\\n3CW\\x87\\xfc\\xd8NY\\x8d\\x87\\x0f\\x9c\\x94\\xa4\\xc9\\x13J\\xec8\\xb1\\xa4a\\xb5^\\xc6\\xf5\\xbfe\\xea\\xe2~\\x922u\\x12\\xf3QQ\\x8b/\\x84\\xf9\\xb5\\xd7^\\x93\\x993g>5\\xb1\\xf9\\xddw\\xdfUc\\x8a\\xbc\\xddA,*\\x08M\\x98s\\xe5\\xce!w\\xee\\xde\\x92\\x94i\\xecY\\x81\\xcaaw\\xf3\\xc6\\r\\x89\\x1f\\xffy\\xf9\\xdf\\xb3\\xf6\\xf5(\\xfe\\xb1~\\xa7:I\\xbaj\\x05\\xa0\\x85\\xd9sl/\\xcc\\x8e\\xcc\\x98\\xb8T\\xba\\xb7\\x1a%\\x03\\xc6\\xb5\\x96R\\x9f\\x140\\xb7\\x06\\x83\\x08\\x1e?rZ2d\\x8a\\xdc\\x82\\x05_\\x083\\xbf\\xcb\\xfc\\xf9\\xf3\\x9fz\\xce\\x1c9r\\xa8\\x8eg\\x8c\\xdb\\xb7;\\xa1\\ts\\xdew\\xf3\\xc8\\xb0\\xa9\\xad%\\xcb[\\xaf\\x9a[4QA\\xc6\\x04ee\\xff\\xbe\\x03\\xba$\\xdb\\xcb\\xd8\\xeaT\\xad\\x87\\xb1\\x06\\xe3\\xce\\xc7|\\xff\\xfe}\\xdb\\x96(k4\\x9a\\xc7\\xd8F\\x98\\xf50\\xd6\\xc7 \\xcc\\xae\\xd2\\xe5\\xb40k4\\x81\\x81m\\x84Y\\x0fc}\\x8c\\xbbt9-\\xcc\\xde\\x81\\x94KVX=\\xda\\x8eQ\\'\\xf5\\xe1\\xdfLSU\\xa3\\xbf\\xfd\\xbaI\\xad\\xbe\"\\x0bRA+\\x14m)y^\\xa9*\\xed\\x1a\\x0c\\x92+\\x97\\xaf\\x9b\\xb7\\x84\\xce\\x85sW\\xa4u\\xfd\\xef$O\\xba\\xaa\\xea9\\xb6\\x1b\\xc6\\x8c\\xc6>\\xd87\\xea\\x10\\x8d\\xd1\\xae\\x0c\\xdf\\xf1\\xf7\\x89sR\\xb7b7Y\\xb7r\\x9b4nWE:\\xf4\\xae+5\\x0c\\x83`\\xfe\\xcf\\xbf\\xcb\\xf7\\xc3\\xe6<\\xb5J\\xf3\\x15\\xbc\\x8f\\xad\\x1b\\xf7J\\xdf\\x11\\xcd\\xa4K\\xff\\xfa*\\xfbh\\xfa\\x84%\\xe6\\xad!\\xc3\\x89\\xe5\\xd79k\\xa5|\\xb5\\xf7e\\xfc\\xac\\xeej[\\xff.?\\xc8\\xad\\x9bw\\xd4\\xdf\\x1a\\xffG\\x0b\\xb3\\rqW\\x92\\xad\\x859b \\xba=\\xdb\\x8e\\x95\\xff\\xfe\\xfdO\\x95\\xf2\\'L\\x14\\x1c\\xd0b\\xb5Fzf\\x9e\\xfco\\xca\\x83\\x07\\x913N-q\\xd2\\x84R\\xb7iyy-sZ)]\\xbe\\x90j+p\\xe7\\xf6=\\x15c\\xb9w\\xef\\x81\\x0c\\xe8\\xfe\\x93lX\\xbd\\xd3\\xbc\\xb7!\\xe4\\x7f\\x9d\\x93\\xae-G\\xca\\xa9\\x93\\xe7U\\xce\\xfe\\xa7\\xb5JH\\xbe\\xf7\\xb2K\\xb6\\\\\\xafI\\xe5\\x9a%\\xd4\\xfb\\x8eLk_\\x131<\\xce\\xcax\\xe5\\x95Wd\\xc9\\xd6\\xd1\\xe6\\x16\\x8d;*\\x15m-K\\x97,\\xf3jV\\x06\\x11\\xf0C\\x87\\x0e=5o\\x8e\\xaa\\xbf\\xb3g\\xcf\\xaa\\x01\\xa1v\\'*\\xb22\\xd6\\xae\\xd8&_U\\xe9!\\x1d\\xfb\\xd6\\x93\\xeau\\xcb\\x98[\\x1f\\x83\\xe8Q\\xbc\\x84\\xbb\\xec\\xd2\\x85\\xab\\xb2x\\xdez9\\x7f\\xe6\\x92d\\xcb\\x9dI\\x8a\\x94|[\\t\\xe2\\xed[we\\xc5\\xa2M\\x92\\xf6\\xd5\\x94r\\xf7\\xce=Y\\xff\\xfb\\x0e)\\\\<\\x97\\xbc\\x99#\\xa3,\\x98\\xf1\\xbb\\xec\\xddqT\\xb5\\x0f(gX\\xb3q\\xe2\\xc4\\x92y\\xd3W*K\\xf6\\xd3\\xcfK\\xaa\\x13\\x80+\\x88\\xaf\\xf4j7V\\xea5\\xaf \\x99\\xb2\\xbc\\xa2\\xb6\\xf1^i\\xd0E?\\x984\\xe9\\x92I\\xfb\\x06\\x83\\xa5\\xc0\\xfb9\\xa5^\\xb3\\xf2O\\xac\\xa6\\x10\\xf21\\x83f\\xa9\\xf7\\xcdkx\\x1b\\x9d\\x95\\xe1G\\xe9rXf\\x1f}\\xfc\\xa1\\xdc\\xbe\\xe3?Y\\x0eX9\\'N\\x9eP\\x93B\\x98G\\xe8/<c,J\\xe6\\xcf[\\xa0\\x12\\xf1\\x9d\\xf1T\\x98\\x99\\xebw\\xf2\\xe4II\\x94(\\x91\\xb9%8/\\x96\\xe1\\x9c\\x1c\\x0c\\x81\\xd0\\xfa3*\\x84y\\xd4w3dH\\xef\\xc92nf7)h\\x88\\x9c;\\xc8\\x9d\\x1f\\xd0\\xedGi\\xdc\\xae\\xaa$|\\xf9\\x05i\\xfb\\xe5@C\\x88SH\\xfb^_\\xc8\\xa29k\\xa5o\\xa7\\xef\\xe5\\x9d\\x82o\\xc9\\xab\\xaf\\xa5R\\x96\\xec\\x9e\\x1dG\\xe4\\xa7\\xf9\\xbdT\\xae\\xfd\\xe7\\x9ft\\x91\\xf7K\\xbd--\\xbf\\xae\\xa9~\\xaf\\xe9\\x13\\x16+\\xa1.P\\xd4\\xf5\\xeb\\x1d\\xdc{\\xdcx_3\\xe5_\\xc3\\xda\\xfd\\xfa\\xdb/\\x95%m\\xb1z\\xf9V\\xe9g\\xbc\\xd63\\xff{F>\\xacXX\\xbelQ\\xf1\\tQ\\xc6\\'=\\xe3\\xa7e\\xb2x\\xeeZ\\xe9\\xfcM}\\xc9\\x93\\xefi\\xe3 \\xa2ha\\xf6#a\\xf6G\\xac\\xc6\\xe3\\x1c\\xd0T\\xc6\\xd9\\x01O\\x85\\x19w\\xc5\\xf9\\xf3\\xe7\\xd5\\xf4\\x08\\x0bf\\xcf\\xb1\\x9d\\x91\\xf6\\xae\\xdc\\x1cv#\\xb2\\x85\\x19\\xcbr`\\xcfI2a\\xf8\\\\\\xf9~N\\x0f\\xc9k\\x08\\xab+\\xf8\\xcd:5\\x19&1b>\\'\\xdd\\x076T\\xe2\\xfa\\xfb\\xd2-\\xd2\\xba\\xde\\x00\\x19<\\xa1\\x9dd\\xce\\x9aNj}\\xdcY*\\xd7\\xfa@j}\\xf5\\x91j\\xac\\xf5U\\x95\\x9e\\xcaW\\x8cka\\xec\\xe0Y\\x86\\xe5\\xbcJ&\\xcc\\xeda<G\\x0c\\x994\\xe6\\x17\\xa9\\xdd\\xe8\\x13\\xd5\\xeb\\xc5\\x19\\\\\\x0fX\\xc6K\\xe7\\xaf\\x97\\xb9\\xd3V\\xa8\\x1e0\\xdf\\x8eme\\x9cx\\x83\\xfb\\xa1\\x9c3\\xac\\xf5&5\\xfb\\xca\\xe9\\x93\\x17d\\xd0\\x0fm\\xe5\\x9d\\x02Y\\xd5v\\x0bD}\\xc9\\xfc\\r2s\\xe22u\\xe2\\x9e0\\xaf\\xa7r\\x8dx\\x13-\\xcc:\\x8fYc\\x8288\\x8b/\\x82\\x8cH\\x04\\x82(G\\x05|w)S\\'6\\xbe\\xc7\\x7f\\xe5\\xca%\\xf7\\xd9\\x0f\\xd7\\xaf\\xdd\\x92}\\xbb\\x8e\\xca\\xf3\\t\\x1eO#O\\x9f\\xd1X\\xa5\\xc5\\x8a\\xa1\\n\\x98\\xe4\\x99g\\x0c\\xab\\xf5\\x7f\\xca:\\x06\\xfe\\xc7\\xa2\\xb5\\xfc\\xbb\\xc5?|W\\xf5uY\\xb7r\\xbb\\xea\\xed\\x92\\xde\\xb0\\xaa]\\x892\\xe0\\x1a)\\xf2A\\x1e\\xe97\\xb2\\xb9\\xf2y\\xef\\xd8rP.\\x9e\\xbb\\xa2n#\\xeb\\xa2c\\xe3\\xa1\\xca\\xd2\\xee\\xf6]\\x03\\xe9\\xdbq\\xbc\\xfc\\xb9i\\x9f\\xba\\xcd\"\\xd3\\x1b\\xe9\\xa4Y\\xc7\\xea2jZg\\xf5\\xfa\\xbc\\x9e\\xc6\\x1exl1s;\\x93\\x82\\xfd\\x05\\xa6w\\xb4l\\xd9R\\xbe\\xfe\\xfakI\\x91\"\\x85\\xb95\\xea\\xc1\\xea\\xfb\\xf0\\xc3\\x0fU\\x07<g<\\xb1\\x98\\xf9\\xb9\\x10\\x11\\xe7Nr\\x0c\\x08\\xe5s\\xb3=\\x10\\x88\\nW\\xc6\\x91\\x83\\'\\xa5\\xd6G\\x9d\\xa5P\\xb1\\x9c\\xd2sH\\x13%\\x8c\\x8e\\xe0c\\xe6wl\\xf1E\\x7fI\\x92,\\xa1\\xb2\\x90\\xb9\\x0f\\xee\\n\\xac\\xe4V]k*\\x17\\xc6\\x17\\xe5\\xbaH\\xf5z\\x1f\\xca\\xa7\\x86\\xd5\\x8cX\\xd76\\xae\\xf7\\x18\\xd4\\xc8x\\xde\\\\\\xea7\\xef\\xd9v\\x8c\\x1c9\\xf0\\xb7\\xe4\\xce\\xf7\\x86|\\xfa\\xf9\\x07\\x92<eb\\xf3\\x15\\xdc\\xc3\\xc9\\xa0s\\xb3\\xe1\\xaa\\xe2\\x95\\xd7\\xeeb\\xfc\\x9d<Ubi\\xd2\\xbe\\x9az\\x0f\\xa4\\xf2\\x915\\xd2\\x7fLKI\\x9d\\xf6\\xc92u\\x82\\x85\\xb4+(W\\xb5\\xa8\\x94\\xad\\xf4\\x9e\\xb9\\xd5;h\\x8b\\xd9\\x8f\\\\\\x19\\x88@\\xda\\xb4i\\xa5b\\x8d\\x0f\\xcc-Q\\x0f\\x1f\\xe3\\xce\\xed;\\x12\\'n\\x1c%\\\\\\xfe\\xc2\\xac\\xc9K\\xdd\\xbaW<\\x11f22b\\xc4\\x88\\xa1\\\\\\x17\\xfco\\x81k\\x83\\x1e\\x1a\\xd7\\xaf\\x87=\\xd7\\xd5\\x9f\\x89\\na\\x86\\x9f\\x7f\\\\\"\\xdft\\xf9A\\xf9\\x80\\xab\\xd4.\\xf5H\\x9cwo?,G\\x0f\\xfe\\xad|\\xb9\\x93\\xc6.T]\\r\\xc7\\xfc\\xfc\\xb5\\xbc\\x99=\\x83lX\\xb5C\\xf9\\xa7\\x07\\x8eo\\xad\\x84\\x1b?29\\xf7\\x04\\xdb\\x9c\\x85\\x19H\\x83\\xabW\\xa9\\xbb|\\xf6\\xe5\\x87\\xd2\\xbcS\\r\\xb7\\xfb+\\xee\\x15\\xeb6\\xd2\\xe56\\xad\\xdd\\xa5\\xd2\\xf7xOw\\xee\\xdc\\x93X\\x86\\x95\\xee\\xe8S&\\x88hY\\xdf\\x8e\\x8f={\\xfa\\xa2\\xf4\\xeb\\xfc\\x83\\xb4\\xeeV\\xeb)\\xd1\\x8e(Z\\x98\\xfdH\\x98\\xf50\\xd6\\xb0\\xe3\\xed^\\x19VkO\\x1e\\xebx@3B>g\\xce\\x9cr\\xf1\\xe2Es\\x8b\\xbd\\x89*aF\\xd0V/\\xffS\\xc6\\r\\x9e\\xa5\\xdc\\x16)\\xd3$\\x95\\xc4I_\\x92\\x1co\\xbf\\xae&\\xe80|\\x01\\x0b\\x94\\xdb\\xb9_\\xd6\\x1c\\x19\\x8c\\xdf\\xe2?\\xa9V\\xa7\\xb4dx=\\x8d\\xca\\xbc\\xe8\\xdez\\xb4\\xe4-\\xf4\\x964\\xedPM\\xd6\\xae\\xd8\\xae\\x02\\x8aX\\xc6\\x8d\\r\\xeb\\xf6\\xe5\\xc4/\\xaa\\xc7\\xf7\\xe90N\\xf9\\xa1\\x11vW\\xcc\\x9a\\xbc\\\\z\\xb7\\x1f\\'%\\xca\\xbe+\\x89\\r\\x0b9\\xc8x_\\xf8\\xa2ik\\x1b\\x1a\\x9c\\x0c\\xe8\\xb4\\x98\\xfa\\x95d\\xca*\\xbfv\\xe5\\x86\\xb2\\x94}Qd\\xa5\\x85Y\\x0b\\xb3-\\xf1\\xb60\\xb3\\xb3\\'H\\x90@=\\xd6\\x91\\xa3G\\x8fJ\\xa1B\\x85\\xe4\\xf4\\xe9\\xd3\\xe6\\x16{\\x13U\\xc2\\xec/\\xf0\\xfb\\x1e1,\\xf4\\xdb7\\xef\\xaat\\xb8\\xb0\\x08\\xb2#X\\xc9\\x04\\x05i\\xf8\\x95&]r\\x9f\\xad\"\\xb50\\xeb\\xe0\\x9f\\xc6\\xc0]q\\t\\xae\\r\\x7fJ\\x13\\xd4D\\x0c\\\\\\x14\\xe4,\\xd3\\xdf%\\xbc\\xa2\\x0c\\xf8\\xad)Ja8\\x84\\xafDY\\xe3;l\\xf3\\x8b\\xe9)\\xd9\\xc1\\xb8\\xeb\\x93\\xa1\\x85Y\\xa3\\t\\x1cl\\xe5\\xca\\xb8q\\xfd\\x96\\xea\\xc7\\x9c,E\\xa2G\\xfd\\x98\\xe9\\x0b0f\\xe0L\\x95\\xe3\\xc9\\xb2\\x96)\\xd9\\xdfu\\xfbI\\xea4-\\xff\\xc8\\'x`\\xcfq\\xe9\\xd8x\\x88\\xaa\\xce\"\\x8a\\x1d\\x99x\\xdb\\x95\\xe1.\\xc8\\xb7e\\xcb\\x16\\xa9]\\xbb\\xb6\\xec\\xd9\\xb3\\xc7\\xdcboBsedy#\\xb3\\x14\\xfa \\x9b\\x9a\\xe5\\xa8\\x89:\\xc8\\x0e!\\xbe\\xa1]\\x19\\xde\\xc5V\\xc2\\xec\\xaeQ\\xfe\\xd5+7\\x8c\\xbf\\xff\\xa7|jD\\xbb\\xab\\xd5--\\r[?)vD\\xd5\\xb7\\xac\\xdf#_4.gn\\x89\\x1c\\xbc-\\xcc\\xf8\\x90\\xdfz\\xeb-\\xb9|\\xf9\\xb2\\xb9%\\x98\\xf5\\xeb\\xd7K\\x93&Md\\xdb\\xb6m\\xe6\\x16{\\x13\\x9a0\\xcf\\x9a=K6o\\xdah\\xec\\xc1O\\xa7!\\xda\\x01V8S\\xa6L\\x91O>\\xf9\\xc4\\xd6%\\xf4\\xb4\\x05h\\xd9\\xa2\\x95Kw\\x89\\x16f\\xcf\\xb1\\xbd0\\xd3\\x1a\\xf1\\xb5,i%\\xc1\\x0b\\xf1T),\\xbd\\x07\\xa6,\\xea\\xf7T\\x85\\x13\\t\\xf6\\xa7N\\x9c\\x8b\\xf4\\x81\\xac\\xde\\x16\\xe6\\x13\\'N\\xc8\\xdbo\\xbf\\xad,gGV\\xadZ%\\xed\\xda\\xb5\\x93\\xcd\\x9b7\\x9b[\\xecMh\\xc2lw\\xacJ\\xd5\\x8d\\x1b7\\xca\\x1bo\\xbcan\\r,\\xb40{\\x8e-\\xa3\\x02\\xd1yJ\\xb6\\x95\\xc7\\xec\\x8c\\xf61k\\xec\\x00\\x15\\xaaU\\xab}*\\x1f\\x94*\\xe6\\x95K\\xc5\\xca\\xe5U\\ni\\xa0aKa\\xa6\\x91K\\x81\\xa29T\\xef\\x814\\xe9\\x93\\xabm\\x0f\\x1f\\xfe#\\xf7\\xef!N\\xcf\\xc9\\xb3fQ@ \\xe2.+\\x83\\x1d\\xde\\x95`k4\\xfe\\x04\\xd3\\xc1\\xa7O\\x9b!5\\x9b\\x16\\xf3\\xcae\\xf6\\xcc\\xb9\\x01\\x93\\xbb\\xef\\x88-\\x85\\xf9\\xf9\\x04qU\\xb3\\x18\\x9a\\xb6P]\\x15;NL\\x89\\x1b/\\xb6rq\\\\\\xbbzK\\xf5\\xad\\rTB\\x12fm1k\\xec\\xc0\\x0b/%\\x90\\xf7K\\xbd\\xe3\\x95K\\x8aTO\\xb6\\xbe\\r\\x14l)\\xcc\\x8ed|=\\x8d$x!\\xbe\\xca\\xbe(\\xf1Q>\\xb9t\\xfe\\x8a\\xcbf-\\xc1\\t\\xfb\\'\\xcdk\\xf6%$W\\x86\\xb6\\x98\\xfd\\x9f\\xbd{\\xf7J\\xf3\\xe6\\xcdU\\x95&\\xe5\\xdb%J\\x94P1\\x86\\x15+V\\xa8\\xaaC\\x8d\\x06l%\\xcczJ\\xb6\\xb6\\x98\\xed\\n1\\xf6\\xf6\\xed\\xdbK\\xb9r\\xe5T\\xd0\\x8f\\xf4F\\x1aN\\x1d;vL\\xca\\x97/\\xaf\\x9ao\\xd1\\xec\\xea\\xd6\\xad[\\xe6#B\\x8745\\x0c\\x8e@\\x00\\xa3\\x89\\xa9,\\x9f\\x95\\xed(-\\xeb~+\\xdfv\\x9d _\\xb7\\x18!}:\\x8eW\\xfd\\xac#\\xca\\xf1\\xe3\\xc7\\xcd\\xbf\\xec\\x81m\\x84YO\\xc9\\x0eF[\\xcc\\xf6\\x03Q\\xb62f\\xf6\\xef\\xdf/]\\xbbvU\\x13\\x80\\xe8\\x9fM\\xd6S\\xdd\\xbaue\\xc7\\x8e\\x1d\\x92)S&\\xa9P\\xa1B\\xa8\\xe2L\\xf9\\xfdW_}%+W\\xaetYldG2dJ#\\x0c\\x10\\xd8\\xb3\\xfd\\x88\\xe4/\\x92C\\xdat\\xaf\\xad\\x9a\\xfb\\xd3I\\xaf\\xd6G\\x9dd\\xe9\\x82\\xf5\\xe6=\\xc3\\xc7\\xef\\xbf\\xff.\\xa5K\\x97\\xb6]s/\\xdb\\x08\\xb3\\x9e\\x92\\x1d\\x0c\\x96\\xb1+\\x8bY\\xcf\\xfb\\xf3_\\xd6\\xad[\\'\\xcb\\x96-S)\\xa8\\x8e\\xc3\\r>\\xff\\xfc\\xf3GmZ\\xc9\\x03\\x1e;v\\xac$O\\x9e\\\\F\\x8c\\x18\\xa1\\xb69c\\tr\\xae\\\\\\xb9\\xd4>P\\xabV-\\xf3\\x96\\xc0 N\\xdc\\xd8\\xaa\\x1e\\xc1\\x02\\xf7d\\x85\\x1a\\xc5\\xd4\\x84\\x97Y\\x93\\x96\\x1b\\xc6\\xc7C\\xf3\\x96\\xd0A\\x90\\xdf{\\xef=)Z\\xb4\\xa8|\\xf6\\xd9g\\x92={v\\xf3\\x16{`{\\x1fst\\xc3\\x9d+C\\xa7\\xcb\\xf9/c\\xc6\\x8cQ\\xbd\\xc2\\x1dE\\x19v\\xed\\xda\\xf5\\x84_\\x19q\\xc6\\x9a\\xfe\\xe1\\x87\\x1f\\xd4\\t\\xd8\\x02A\\xfe\\xf2K\\xc3\\xb80\\x04y\\xea\\xd4\\xa9\\xea\\xff\\x81\\x03\\x07\\x9a\\xb7\\x066dZ\\x11\\xcc\\x8f\\x15;f\\x98z~\\xb0\\x8a(\\\\\\xb8\\xb0\\x12\\xe4\\xd5\\xabWK\\xabV\\xad\\xa4j\\xd5\\xaa\\xe6\\xad\\xf6A\\x0b\\xb3\\xcdp\\x97\\x16\\xa7-f\\xff\\x84\\x01\\x0e\\xcb\\x97/\\x97\\x9a5k\\x9a[B\\x86\\xaa\\xceT\\xa9R)+\\xdbQ\\x90\\xa7M\\x9b\\xa6D\\x9cJ\\xbb\\xc9\\x93\\'\\x07\\xecI\\x18\\xb7\\xcf\\xb1C\\x7f\\xab\\x9e\\xd5\\xb4W`\\xf27mUi\\xb1`\\xf5\\xc6v\\x85%\\xc8\\xef\\xbf\\xff\\xbe\\xacY\\xb3Fm+V\\xac\\x98*\\x0c\\xb1#\\x1eW\\xfe\\xe1#\\xab\\xdb\\xb4\\xa2\\xb9\\xc5\\x1f\\x08z\\xe4g}\\xe6\\x19\\xff9\\xdf\\x8c\\x1f:K6l\\xd8\\xe0\\xb5\\xca\\xbf_\\x7f\\xfdU\\x06\\r\\x1a\\xa4~\\x1fGz\\xf5\\xea\\xa5\\x06\\x18P\\x8d\\x14\\x08\\x04J\\xe5\\xdf\\xa9S\\xa7\\x94X\\x9c9sF]\\xc7\\x9fL./\\xf0\\xdbs\\x9b\\xb5\\x02\\xe2\\xb7C\\x94+W\\xae\\xac\\x8e1\\x96\\xe3\\xae25\\xecR\\xc2\\x8d\\xb4\\xb0\\xc2s<\\x89\\xf0y\\xee\\xdd\\xbf+\\xc7\\xef,6\\xb7<\\x86\\x9e6\\xd5K\\xb7W}or\\xe6\\xcd\\xa2\\xc6h1 \\x00K\\xb9E\\x97\\xcf\\x1e\\r\\x1ap${\\x8a\\xca\\x92\\xfe\\x95\\x8c\\xaa\\x82\\xd2\\x11\\x1e\\xc3\\xfe\\x13\\x16+;48\\xae(\\x9f\\xf7\\xfb\\x92l\\x1e2k\\xd6,\\xbf\\x1a-\\x85\\xaf\\xaeG\\x8f\\x1e*\\x15\\xc9y\\xac\\x7fT\\xc2\\xceQ\\xa3\\x86\\xeb)\\x15\\x9e\\x08\\xf3\\xdc\\xb9se\\xdc\\xb8q\\xb2h\\xd1\"sK0D\\xf59\\x08\\xfa\\xf4\\xe9cn\\xb17\\x81\"\\xcc\\x97.]R\\x16/B\\x0b\\xb8/\\xacL\\n\\x96\\xd8\\xb8-\\x18|\\x00\\xaf\\xbf\\xfe\\xba\\xfa\\xfb\\xe3\\x8f?\\x962e\\xca\\xa8L\\x82\\x91#G\\xca\\x8d\\x1b7\\xd4\\xed@\\x8a\\x1d\"\\xe1jT\\x99\\xbfAE\\xde\\xe1\\xc3\\x87U\\x0b\\x01\\x0bNJ\\r\\x1a}%\\x87\\xaf\\xffbny\\x0c\\xc2\\\\\\xa3L\\x07\\xe9\\xd0\\xa7\\xaeT\\xa8^Lm\\xa3\\x0f\\x0e\\xfdo\\xce\\x9e\\xba(\\x93\\x7f\\xed+\\xe92<Y\\xbd\\x9b+uU\\x99>u\\xa6\\x8c\\x1f?^}/\\x8eY*\\xf8\\xf0\\xe9E\\xe2\\r\\xf8\\r9i:\\xe2w\\xc2\\xec\\x8fD\\x97)\\xd9\\xec\\x08\\xf8\\x19\\xe7\\xcf\\x7f\\xb2O\\tQ\\x7f\\x0e\\xean\\xdd\\xba\\x99[\\xecM\\xa0\\x083\\x16b\\xd6\\xacYe\\xce\\x9c9\\x92;wnsk0\\xe42\\xaf]\\xbbV\\xe2\\xc5{<\\xd8\\x15\\xd7\\x07\\xbd\\x19\\xb0\\x96\\xd3\\xa5K\\xa7\\xf6k\\xc4\\xd9Q\\xa0\\xdb\\xb6m+\\x9d;wV\\x7f\\xfb3\\xaezep\\x82J\\x9f!\\x9d\\x1c\\xb82\\xcf\\xdc\\xf2\\x18W\\xc2\\xcc\\xf7\\xc7X\\xac\\xc9\\x8c\\xf3\\x9a\\xdd]\\xf2\\x15\\xce\\xa6\\xb6[ \\xcc\\x9b6lQ\\xdf\\xd9\\x91#G\\xa4g\\xcf\\x9e\\x8f\\x04\\x9a\\x8c\\x15kU\\xe2\\x0bt\\xaf\\x0c\\xcd#\\xb4\\x8f\\xd9^\\xb0R\\xc2}1l\\xd80sK\\xc8p\\xd2\\xcd\\x93\\'\\x8f\\x12e `\\xd8\\xb1cG\\xd5\\xce\\x95<h\\xa6\\xd7\\xf4\\xef\\xdf_\\x16.\\\\\\xa8n\\x0f$\\x10Sg;\\x91\\x89\\xe5[7\\xec\\x91W2\\xa4\\x90\\x0c\\x99R\\x9b[]\\x93!C\\x06\\xf9\\xe9\\xa7\\x9f\\xe4\\xc0\\x81\\x03\\x8f|\\xfa\\x18=\\x7f\\xfd\\xf5\\x97\\xfa\\xdbNxd1\\xf3\\x05\\xf6\\xea\\xd5C.^\\xf2\\x9f\\x1auRi\\xe6\\xcf\\x9f\\xa7*\\xa9\\\\\\xf5\\x86\\x8d*\\xe2\\xc6\\x8d\\'\\xdd\\xbb\\xf5x\\xb4\\\\u\\xc4\\x13\\x8b\\x99\\xa5/\\xc1$\\x82A\\x8e4h\\xd0@2f\\xcc\\xa8\\xa2\\xff\\x81\\x80\\xb7-f,/rY\\xa3\\xc2?K\\x8b\\xd6w\\xdf}W\\t*\\xa9[\\x16\\xf8E\\x11a\\xcb\\xc7\\xbcs\\xe7N\\xb5\\xffN\\x9c8Q\\xf2\\xe5\\xcb\\xa7\\xb69cY\\xd0\\x93&M\\x92y\\xf3\\xe6\\xa9\\xdcg\\x7f%<\\x163\\x05&\\x13G\\xffb\\\\\\x16H\\xb6\\xdc\\x99$K\\xb6\\xe0\\x91a\\x07v\\x1f\\x97D\\x89_\\x90V]k\\xb9\\xec\\xbd\\xedh1;cY\\xd0\\xfb\\xf6\\xedS\\x19\\x1aq\\xe3\\x06\\x0f\\xaa\\xf5\\x16~\\xe7\\xca\\xb0\\x82\\x7f\\xdf\\x8e\\r\\x0c\\x11\\xf0%m\\xea\\x0f\\xf4j\\xf0o\\xf4\\xe8\\xd1\\xea\\xf98x\\x1d\\xf9\\xe2\\x8b/\\xd4R\\xb9a\\xc3\\x86\\xe6\\x16{\\xe3Ma\\xde\\xbau\\xabr\\xf1`}\\xfe\\xf8\\xe3\\x8f.\\xd3\\r}\\rV\\x1c\\xbe\\xe3f\\xcd\\x9a\\xa9\\xdf\\x88\\xcffAl`\\xc1\\x82\\x05\\xea\\xe4\\xca\\xc1\\xce\\xfdB\\x83\\x93\\x0c\\'h*\\t\\xfd\\xb5\\xc8$\\xbc\\xae\\x0cO\\x08I\\x98-\\x10h2\\\\>\\xf8\\xc0\\xbbS\\xfd\\xfdR\\x98\\xf50\\xd6\\xb0\\xe1\\xed~\\xcc,\\x89\\xb1\\xac\\x08v8B\\xc4\\xb8x\\xf1\\xe2j\\x8aI \\x10\\x16a>x\\xf0\\xa0$N\\x9cX\\x12&Lhnq\\r\\xd6r\\x87\\x0e\\x1dT\\t3\\'\\xb4\\xa8\\x10f8t\\xe8\\x90\\xb2\\xe0\\xb0\\xde\\xca\\x96-\\xab\\x8aI\\x08\\x86\\xe1\\x96\\xe0o\\xde\\xa3\\xaf\\xfc\\xa1Q\\x81\\xbf\\x08\\xb3\\xaf\\xd0>f\\xcd#\\xdc\\x95^\\x13\\x01\\x8f\\x1d;\\xb6y-\\xf0!\\xdba\\xf0\\xe0\\xc1ji\\x1f\\x16\\xf8n\\xa2:\\x93\\x81\\x91`\\xb8 X\\xf1\\xe0\\x82\\xc0\\xb5A*\\x19y\\xc9\\x18B\\x81$\\xca\\x9a\\x88\\xa1\\x85\\xd9fDGa\\xc6\\x15A\\xb9\\xb2\\xe5_?y\\xf2\\xa44m\\xdaT\\xe5t\\x0f\\x1f>\\\\\\t[\\xef\\xde\\xbd\\xa5S\\xa7N\\xb2x\\xf1b\\xb5\\x12a\\xd2\\x0b\\xc5\\x05X4\\xae\\xc0\\x9a\\x9b1c\\x86J\\xb1\\xe4\\x7f\\xb2!\"\\x0b\\xd2\\xae\\xac\\xe0T\\x95*U$G\\x8e\\x1c\\xeao\\x8d\\xc6\\xc26\\xc2\\xac\\xa7d\\x07\\x830\\xbb\\xca\\xbe@\\x98]\\x05\\x18\\xed\\x0e\\xcbDR\\xcd\\xe8\\x0b\\x81\\xc5IUW\\xca\\x94)\\xa5^\\xbdzj\\xf9\\xdf\\xa8Q#\\x95\\'\\x8e\\xcb\\xe3\\x97_~Q\\xb7\\xe1s\\xc5\\x05G\\xd0\\xcd9E\\r\\xb0\\xb2\\x07\\x0c\\x18\\xa0\\xe2$\\x08\\xe3\\xf7\\xdf\\x7f\\xafD\\x9d\\xcc\\x16\\x8doa\\x85p\\xfd\\xea\\r\\xc9\\x9a\\xb4\\xa2W.gN\\x9d\\xf7zP\\xcf\\x1f\\xb0\\x8d0\\xd3\\xc4\\x88\\xa9\\xd74\\xc2\\x87\\x0e\\xbd\\xebH\\xe7~\\xf5\\xa5\\xcf\\xf0\\xa6\\x92\\xe1\\xf5\\xd4\\xc6\\x8f\\x1d\\\\ME\\x19g\\xcd\\xb2\\x9d$\\xc1\\x8b\\xf1U>d\\xdb\\x1e\\xb5%\\xf7\\xbboH\\xafvcd\\xfd\\xef\\xdb\\xd5}\\xec\\x0c\\x02\\xecN\\x98\\x03\\xd1bf\\xb6!bLg\\xb6\\xbcy\\xf3\\xaa\\xa2\\x0cW.\\tZf\"\\xceX\\xcc\\xf8\\x94\\x89\\xc4\\'I\\x92D\\x89\\xaf3\\xf8x\\xe9\\xe6\\xf6\\xe7\\x9f\\x7f\\xaaR^\\n\\x92HG\\x0b\\xc4I\\x18\\xfeF\\xfc\\xf8\\xf1\\xd5\\x89q\\xcf\\xae}^\\xb9P\\x95\\x97(Q\"\\xf3\\xd9\\x03\\x07[\\x05\\xff\\xf4\\x94lQ\\xe9p\\x04\\xbb\\x9c\\x0b\\x0c(V \\x8d\\n\\xf1\\n\\x04\\xac\\xe0\\x1fy\\xbb|\\xd6\\xd9\\xb3g\\xab\\x142rz\\xa9\\xc2\\xa2\\x00\\x83\\xbc^\\xf2~\\xd9O\\x01\\x97\\x06\\r\\x83\\x08\\xf0\\x91\\xe5@*\\x1a\\x8fA\\xa8\\xbbw\\xef\\xae\\xa2\\xf3\\xe4\\xb9\\x0e\\x192D\\xe5\\xb6\\xe2\\xa3v\\x95\\xd1p\\xf6\\xecY\\x9f\\x8b4A\\xbfR\\xa5J\\xa9\\xf7c\\xbd\\x7f_A6\\x8a\\xb7\\xd2\\x0e\\xc3\\x83\\xab\\xe0_ \\xa1\\xb32L\\xf4\\x94lQKw\\xac\\xc06m\\xda\\x98[\\x82\\xc9\\x9c9\\xb3\\xcam\\xf6u{Cz>\\xbc_\\xbc\\x88\\xc4\\xf0Rf\\xc3\\x9d\\xbb\\xf7d\\xe1\\x82_U9\\xb2#\\x960\\x93w\\x8cO\\x9dRf2\\x1a\\xb0\\xa0\\xf1\\tS\\xae\\xec,\\xcc\\xb4\\x08\\xa8^\\xbd\\xfa\\xa3\\x93\\x13\\xd5\\x90Xh\\xce\\xc2\\x8c\\xbfz\\xfa\\xf4\\xe9\\xea\\x92\"E\\nu_26x-\\xee\\xcf\\x89/Y\\xca4\\x127^|u\\x9b/\\xe0\\xb0C\\x9c\\xe3\\xc5\\x8f\\'\\xcf\\xfe\\xcf\\xb7\\xe9n\\x87\\xf6\\xedR\\xdf[d\\xbb\\xba\\xb40{\\x8e-\\x85\\xf9\\xc6\\xf5[\\xf2Q\\xe5\"r\\xf7\\xce=\\xd9\\xbf\\xeb\\x98\\xf4\\x1a\\xdaD5\\xc9\\xff\\xa2\\xfc\\xd7\\xc6m\\xb7e\\xd2/\\xbd\\xd5\\xb4l\\x7f\\xc0\\xdb\\xc2L\\x15\\x19\\x1d\\xc8\\x08~9\\x926mZ\\xf5\\x9bQd\\xe2K\\xd6\\xaf_/\\x95>-\\'\\x93~\\xedmn\\x89\\x18Mk\\xf6\\x97\\x9e]\\xbfQS<\\x1c\\xb1\\x84\\x99\\x948\\xbe\\xa7\\x92%K\\xaat3r\\x80\\xb1x\\xf1\\x1f\\xb7h\\xd1B\\x05\\x04\\xb1\\xaa\\xadJ9,f\\x02\\x81\\xfd\\xfa\\xf5{\\xd4t\\x06a&\\x8f\\x19a\\xc6\\x9a&\\xdd\\x10\\xbf4\\xa5\\xfb\\x8d\\x1b7Vn F>\\xf1\\xdc\\xf8+S\\xa5N#\\x93\\xd7\\x1d\\x95\\x04/\\x85\\x9c\\x86g\\x17J\\xbd\\x16O\\x8e\\x1a\\x9f\\x9d\\x93Nd\\xa2\\x85\\xd9sl\\x99\\x95\\x11\\x9d\\xa7d\\x13\\xa0re\\xf9p\\x10DV\\x10$U\\xda\\x14\\xf2F\\xb6\\x0c^\\xb9\\x84\\xb6\\x82A4\\x11Y\\xb2\\'f\\xce\\x9c\\xa9\\x04\\x95T3\\xcao\\x93%K\\xa6\\xc4\\x19k\\xd0\\x02\\x01\\xa7Az\\x81\\x02\\x05\\xcc-\\xa2\\xa6\\x86 \\xf4\\x88<>e\\xb2 xN\\xb2;\\x08\\xfeQt\\xc2\\xe4\\x90@\\x0c\"i\\xec\\x89-\\x859:O\\xc9\\xa6\\x8b\\x9e+a&\\xdd+\\x10\\x85\\x85B\\x8cU\\xabV\\xa9\\xeeydN\\xd01\\x8c\\x02\\x11\\\\\\x10\\xa4\\xcb!\\xb4\\x8e~u,i|\\xcb\\x8e\\x9d\\xc0\\xdex\\xe3\\r5A\\x84`\\x1f%\\xcf\\xf4\\xaf\\xa0\\xba\\x8e\\xb9{\\x88:V\\x8feq\\xfb\\x12*\\xfcn\\xdd\\xb0\\xd7\\x88#M\\xd4`\\xfb<\\xe6\\xe86%\\xdbU\\xf6\\x05Ku\\x04;\"\\xc2L\\xe72\\x9a\\xb3{\\x8b\\xd5\\xcb\\xb7\\xca\\xd1C\\x7f\\x9b\\xd7|\\x0b\\x9f\\x9f\\xac\\x8a\\xdd\\xbbw\\xab\\xac\\x8c\\xfc\\xf9\\xf3\\xbbl\\xb3\\x8a+\\x84\\x95\\x857\\xd9\\xbaf\\xb9\\xfc}\\xec\\xe9\\xfd\\xcd\\x11\\xde\\xdf\\xfae\\x0b\\xa4a\\xd9\\xbc2uD?u\\xdd\\x15w\\xef\\xdc\\x96\\xdf\\xe6M\\x93\\x1e\\r\\xabJ\\x97z\\x15\\xe4\\xd7i\\xdf\\xcb\\xceMkdt\\xaf\\xb6\\xd2\\xb9N9\\xd9\\xb4\\xe2\\xc9V\\xaf\\'\\x8e\\x1c\\x90\\t\\xdfu\\x93~-j\\xcb\\x86\\xe5O\\xb7\\xd1\\xd4\\xd8\\x17[\\t\\xb3\\x9e\\x92\\xed:_\\x19QF\\x88\"2\\xd5\\x02?\\xed\\xb6m\\xdb\\xd4H\\x1e\\xfc\\xc8\\x11\\x81,\\x99!}\\xa6\\xc8\\xdc\\xa9\\x913\\x92\\x9f\\x94)\\\\\\x1ad9\\x10\\x13\\xc9\\x96\\xed\\xc9\\xd6\\x90\\x16X\\xd9\\xf8\\xf3\\xf1Q{C\\xa0o\\\\\\xbd\"\\x93\\x87\\xf5\\x91\\xdf\\xe6N\\r\\xf1s\\xf2\\xdb\\xe4.TB\\x12%I\\xfeT\\xf74G\\xe2\\xc4\\x8d\\'E\\xcaV\\x96g\\x8c\\xfb\\xdf\\xb8zY\\n\\x95\\xae \\xd9\\xf2\\x16\\x92*\\r\\xda\\x18\\xfb\\xee\\x15\\x19\\xd2\\xa5\\x89\\x1c\\xde\\xf38\\xe53m\\x86\\xd7%W\\xc1b\\x92(ir\\xc9\\xfb~\\x19s\\xab&\\x10\\xb0\\x8d0\\xeb)\\xd9\\xc1\\xb8\\xb2\\x98-\\xffrDK\\x8e\\x9b4i\\xa2\\x8a6\\xf0\\xcf\\xe2\\xab\\xf54\\xa8\\xf1\\xc7\\xba\\xdd\\xaa\\xb19\\'\\xc3\\xf3g/\\x9b[}\\x07y\\xac\\xf8\\x9f\\t\\xea1\\x8a\\xc9]S\\x1f\\x82_\\x882\\xc5%\\x04c#*\\xd0\\xbb\\xb7\\xac\\x93\\x8bgO\\xc9\\xfa\\xa5\\xf3\\xe5\\xf2\\xf9\\xb3\\xe6V\\xd7<\\x17#\\x86\\xc4\\ncVD\\xcc\\x98\\xb1$\\x86qy\\xd6\\xcc|y\\xfe\\xc5\\x84\\x92:\\xfdk\\xf2\\xcf\\xc3\\x072\\xf4\\xebfr\\xe9\\\\\\xf04\\x14\\x88\\x19+\\xb6!\\xe8\\x91\\x1b\\xd4\\xd3\\xf8\\x1e\\xdb\\x08\\xb3\\x9e\\x92\\x1d\\x8c+\\x97\\x05\\xfee\\xc7f\\xeb\\x9e\\x82\\xb0\\x93JFcw\\xb2E\\xdey\\xe7\\x1d\\x15Q\\xa7\\x18#\\xac\\xdc\\xbb\\xf7@\\xa506i_M._\\xbc.k~\\xdbf\\xde\\xe2[\\xc8\\xd5\\rK\\xa1\\x01\\x99FT\\xfa\\xe1\\x8b\\xee\\xd2\\xa5\\x8b\\xc7\\x02}\\xdf8A\\xee\\xde\\xb2^\\xaa5j/\\xd7\\xae\\\\\\x94?\\xd7=9\\xea\\xcb\\xe2\\xc8\\xde\\x9d2u\\xc472\\xef\\xa7\\x91r\\xfb\\xe6\\xe3I$X\\xdb\\x0b\\xa7\\x8e\\x97\\x1f\\x06t\\x95E?O\\x08\\xd5\\xf7\\x9c\\xe0\\xa5D\\xd2\\xa0\\xcb\\x00\\xb9p\\xfa\\xa4\\x8c\\xed\\xd7A\\xb9=4\\x81\\x8b\\xed}\\xcc\\xd1\\rD\\xd8\\xd9\\x95q\\xeb\\xd6-\\xaf\\x05\\xfe\\x10xJ\\xa0\\xad\\x9e\\xd6\\x949\\x93\\xc5P\\xb1bE\\x95R\\x16\\x1a\\xfbv\\x1eU\\xfe\\xfe2\\x15\\nI\\xd6\\x9c\\x19e\\xfe\\xf4\\x95r\\xeb\\xa6\\xfb>\\x14\\xb8\\x00\\xc84\\xe1\\x84\\xe3xae\\xc0\\xc5y\\xbb7.\\x05\\x0b\\x16|\\x94\\x07\\xee\\xa9@\\x1f\\xdd\\xb7Sb\\xc4\\x88\\xa9\\xdc\\r\\x19\\xdf\\xcc)+\\xe7O\\x97;\\xb7\\x82\\xabO-\\xd6.\\x9e+3\\xc6\\r\\x94\\x0f*\\xd6\\x94W3\\xbf%\\'\\x0e\\x07\\xb7\\x04\\xe0~\\xdf\\xb5\\xffR\\x1e\\xdc\\xbf\\'\\xe5k7\\x96\\xe5s&\\xcb\\xac\\xf1\\x83Ct\\x87p\\xd2\\xcc\\xf4Vn\\xf9\\xb2\\xd37\\xb2y\\xe5b\\x999n\\x90\\x8a\\x9bh\\x02\\x13-\\xcc6\\xc3U\\xf6\\x05\\x81\\xbb\\x88\\x0e\\x07\\xc0\\xf7\\x89o\\x19W\\x00\\xbeZ\\xfa\\xfd:B\\xe5\\x1d\\x96\\xb4\\xf3H+G\\x10\\x96U\\xcb\\xb6H\\xfe\"\\xd9\\xe5\\x85\\x17\\xe3\\xab\\x12\\xfa\\xbd\\x86P\\xe3zr\\xc7\\xcd\\x1bwT\\xbe1\\x9f\\xc9\\xf1R\\xa4H\\x11\\xd5\\xe7\\x82ri_\\\\\\xbe\\xfd\\xf6[\\xf3\\x1d\\x04c\\t4\\x05:\\xa1\\t\\x1e\\x9fs\\xcb\\x9ae\\x92#_\\x11y\\xfe\\x85\\x17\\x95_\\xf8\\x88!\\xd4\\x07vl1\\xef!r\\xe5\\xe2y\\x99\\xfd\\xc3Py\\xafLE\\xe5\\x03~3O~\\xc9\\x94\\xedq\\xdf\\x8e\\xb4\\x19\\xb3\\xc8\\x1b\\xb9\\xde\\x95\\x98\\xb1\\xe3\\xc8\\x8b\\t\\x13\\xcb\\x853\\x7f\\x87\\xe8\\x7f\\x06\\xc4\\xb9\\xb0\\xf1|\\x95\\xea\\xb5\\x909?\\x0c\\x935\\x8bf\\x9b\\xb7h\\x02\\r\\x8f\\nL\\x10\\x02\\xd2\\x91\\xde\\xcc\\xeeG\\xd3\\x13\\x8c\\x8fq\\xd3\\xb0\\x1c\\xe3\\xc5\\x8d\\'\\xff{\\xd6\\x7f\\xce7{v\\x1cTA5\\xf2n\\x9d\\xf1\\xa4\\xc0\\x84\\xfe\\xc3\\xdb\\xb7o\\x7f\"\\x1dl\\xc9\\x92%\\xd2\\xb7o_\\xd5\\x03\\xc2\\x13\\xc8\\xef\\xa5I\\xfb\\xb1c\\xc7\\xa4N\\x9d:\\xaaX\\x85\\xffI\\xef\\xb2 \\xcd\\x0c\\xe1B\\x1cZ\\xb4m$\\x0b\\xd6\\x0f2oy\\xcc_GOK\\x9b/\\x07J\\xc6\\xcci%V\\xac\\x18\\x86\\xa5|W\\x16\\xcdY#\\xa5\\xcb\\x17\\x92\\xbe#\\x9a\\x89\\xab\\xf1\\xf3\\xb5>\\xea\"\\xef\\x17\\xf8H\\t\\xb1#dX \\xd0\\xe4*\\xfb\\x02V\\x05\\x8e\\xe3\\x9e\\x08\\xd0\\x91\\xd3\\x8c%]\\xf8\\xbd\"!\\x16\\x98\\x9c\\xfe\\xeb\\xa8|\\xd7\\xeeKC\\\\3+_\\xf0\\x9d\\xdb7e\\xed\\xa29R\\xb0tyi\\xde{\\x84J\\xe7\\xdb\\xb5y\\xad\\xf4o]W:\\x0c\\xfeQ\\t0\\xbfu\\xcfF\\xd5$y\\x9atR\\xaf}\\x1f\\xb9~\\xe5\\x92,\\x9b=I\\x1e\\x1a\\xab\\x85=\\x7fn\\x90\\x97^N*\\xad\\xfb\\x8fU\\xcf?\\xa0M=\\xb9x\\xee\\xb4\\xf4\\x187[U\\x1f\\xf2\\xd8\\xef\\xfbw\\x96\\x0f\\xab\\xd5\\x93\\x14i\\xd3\\xcb\\xbd\\xbbwd\\xd8\\xd7\\xcdd\\xdb\\xfa\\x95\\xf2Y\\xd3Nr\\xe5\\xc29\\xa9\\xd6\\xb8\\xbd\\xcbL\\x14\\xd0\\x05&\\xbe\\xc1\\xef*\\xff\\x80\\x92Xg\\xab**\\xe1dA#\\x1b\\x8a\\x05\\xd2\\xa7\\x7fz\\x04MT\\x81\\xb8\\xd0\\x15\\xcd\\x15\\x9e\\x083\\xae\\x06\\n#\\x1c\\xfd\\xa9\\xec\\x1c\\x0c\\xa0\\xa4?Dxa\\xea6\"\\x8c \\xb5j\\xd5J\\x95\\t3\\xd5\\x18\\x91\\x06\\xbeSzU\\xe0o\\x06\\xacjw\\xc2<q\\xcc/*\\xc7\\xbc\\\\\\xd5\\xe0\\xbe\\xc2X\\x96\\x03{L\\x94Y\\x93\\x7f\\x93\\x9f\\x16\\xf4\\x92LY\\x9en(T\\xa7|w\\xa9S\\xa3\\xa9\\xdb\\xca?_\\xf4x@\\xf4\\x8b\\x15+\\xa6\\xdc\\x1a\\x8e\\x82l\\x95v\\x87V\\xf9\\xb7`\\xd2\\x18\\x89\\xfb|\\x02)\\xf6IUu\\x9d\\xcf\\xf9\\xd3\\xa0\\x1e\\xca%\\xd1g\\xc2\\x02y\\xe5\\xb5,J\\x98{6\\xae.M{\\x0c\\x91\\x82\\xa5\\xca=\\x12\\xe6d\\xa9_\\x91\\n_4\\x95o\\xdb\\xd4\\x952U\\xebJ\\x81\\x92\\x9f(\\x91\\xbd\\x7f\\xefn\\x98\\x85\\x19\\xb0\\xc8{7\\xa9!\\xc7\\x0f\\xedU\\xae\\x12\\xc4^\\x0bs\\xe4\\xe2\\x97\\x95\\x7f$\\xe4\\xb3\\xec\\xf3\\x97\\x0b\\xcbl\\xa0\\xe7\\x82\\xab\\xdb\\xa3\\xea\\xe2N\\x94=\\x01\\x01\\xc0\\x95\\xe1|\\x80qR\"\\xdd-\\xbc\\xd0g\\x02\\xd7\\x05~d\\xa6gp`s\\x92@\\x94\\x11J,}n\\xb3D9$h\\xb5\\x8a\\x7f9\\x7f\\x91\\xc7\\xbd\\x85y\\xbeR\\xe5\\n\\xc8?\\x0f\\xff1,\\xe7\\xb5\\xea\\xfdG5\\xb8,p\\x9d\\xe0\\xd7\\xe6\\x7f\\x8aN\\x18\\xd7e\\x89rh \\x88\\xf8\\x97qcX\\xf09\\x0b\\x96,g|\\xce\\x87\\xb2f\\xf1\\x1c\\xf59\\xd3dx]\\x92\\xa6L#\\xf3\\'\\x8dVY\\x14wo\\xdf\\x92[7\\xae\\xc9\\xed\\x9b\\xd7\\xe5\\xec\\xc9cr\\xea\\xf8a\\x89c\\x88.iq\\xe7O\\x9dP\\xfef\\x02{A\\xc6c\\xff\\xfd\\xef_\\xf5?\\xab@\\x8b\\x87\\x0f\\x1e<\\xf1\\xfd%L\\x9cT\\x9a\\xf6\\x1c*\\t^L\\xa8D]\\x13Xh\\x1f\\xb3\\x8d@\\x94Y&;\\xe7+{\"\\xccT\\xcc\\x91\\x1e\\x87\\x1b\\x84\\x82\\x0c\\xa0\\xe9\\x0f\\xae\\x12,J|\\xcaam\\xe0~\\xf6\\xf4E\\xd5@j\\xd3\\xda]\\xaa\\xe75y\\xe3\\xc0\\x80\\xdc}\\xbb\\x8e\\xa9r\\xf9\\x1fG\\xceW\\x16uT\\x82k\\xa6~\\xfd\\xfa\\xea\\xf3\\x86W\\x90\\xe1\\xe2\\xd9\\xd32\\xfe\\x9bN\\xb2\\xeb\\x8f\\xb5\\xb2\\x7f\\xfb\\xe6G\\xae\\x1eD\\xf3\\xe8\\xfe]\\xc6\\xf5\\x87*\\xfbb\\xc1\\xe41\\xf2b\\xa2\\xc4\\xd2\\xac\\xf7p\\xc3\\xda\\xfdG\\x9aU,,#{\\xb4R\\xb7\\xe3\\xc2@H_\\xcf\\x96GY\\xcd\\x93\\x86\\xf4\\x92\\xb4\\x86\\x85}p\\xe7V\\x95\\xa3\\xbcz\\xd1l\\xd9\\xf7\\xe7&9qd\\xbf,\\x9d5Q\\xf9\\x9e\\x7f_\\xf0\\xb3\\xca\\xfaX:\\xf3\\'9g\\x88\\xb8\\x05\\xae\\x94\\xa6=\\x86\\x1a\"\\xed\\x1bw\\x8f&\\xea\\xf0\\xd8\\x95\\xe1oPd\\x80o\\x94%0\\xcdi\\xec@x]\\x19\\xe7\\xce\\x9dS+\\x02\\xe7qJ]\\xbbvU\\x16 \\xfd\\x1f\\xc2\\x02m-\\xb1\\xe6i\\x00T\\xa6Lpa\\x02m.iN\\x15\\xda\\xd4\\xe5\\x90\\\\\\x19\\x9e\\x10\\x99\\xae\\x0c:\\xd4\\xe1\\n\\nM\\x8cu\\x13#\\xef\\xa0]\\x19\\x9e\\xa3-f\\x1bAZ\\x9c\\xab\\x83\\x0b_\\x7fX-f\\xce\\xc3X\\x8d\\x8c6\\xb2D\\x19\\xb0\\x94\\xfdy\\x14\\xbe7\\xa0+_x,d\\x8d&\\xaa\\xd0\\xc2l#\\x08\\xcc\\xb9\\x12f\\xfc\\xa6\\xa1M\\x8a\\xb6\\x987o\\x9e\\x1a\\xa5Ooc\\x8dF\\xe3\\x9fha\\xb6\\x11\\xf8\\x92Y\\xde;\\x830\\x87\\xc5\\xe5\\x84\\xbb\\xa3u\\xeb\\xd62p\\xe0\\xc0\\x08\\x8d\\xa1\\xc2\\x05\\xe3\\xbdK\\xd4\\x07\\x045\\x1a\\x7fC\\xfb\\x98\\xa3\\x10\\x84)<>\\xe6\\x85\\x0b\\x17\\xca\\xa0A\\x83d\\xc5\\x8a\\x15\\xe6\\x96`\\xc8\\x9a\\xc0\\xbf\\xec\\x9c\\x0b\\xec\\x0c\\xa3\\xa7\\xe8)A\\xe0\\xcf\\xd3\\xbe\\x1a4\\x9b\\xa7\\x19\\xff3\\xff\\x8bX_\\x0e\\x8b\\xa0\\xff\\x82\\xd4<?R\\xf4\\x1c\\xf1e\\xba\\\\h\\xe0\\x16\\xca_\\xac\\x8c\\xc4{>bE;!\\x11d\\xfc\\xbb}+\\xb8\\xc7\\x89\\xbb47o\\xb1l\\xeeT\\x15W\\xf0F\\xd9~x\\xd0>f\\xcfq+\\xcc\\xf4\\xaf\\xe5&\\xc6\\xed\\xd8\\x01\\xac\\xc9\\xe2\\xc5\\x8b?1j\\xc8\\xdf!\\xfd\\x89|p\\x06\\x8c\\x86\\x05FG\\xb1#\\xe0\\x8ep\\x84\\xcfK>2>Tw0]\\x9b\"\\x17\\xe6\\xe2\\x15*T\\xc8\\xdc\\xea\\xbfD\\xa50s\\xa2\\xe0w\\xf1%d\\xd84o\\xde\\\\\\x05n\\x99\\xec\\xedK(\\xd2ax@d\\xa3\\x85\\xd9s\\xdc\\n3Qz;M\\r&\\x00\\xc6\\xe0M\\x04\\xca\\x9b\\xb9\\xc3\\xbe\\x06\\x9fqX\\xc5\\x87\\xb1I\\xf4L\\x9e4i\\x92\\xb9%\\x18\\x1a\\xf80\\x15\\xda\\x9a_\\xe7\\nf\\xdd\\x91\\x85\\xe1iu`d\\x13\\x95\\xc2\\x1c\\x19\\x90Y\\xc3g\\xdb\\xb8q\\xa3j\\xe4\\x1f\\x88ha\\xf6\\x1c\\xb7\\xc2l7pe\\x10\\x00#\\x07\\xd7\\xd5|\\xbd@\\xe0\\x9bo\\xbe\\x91S\\xa7N=QJ\\xfc\\xf0\\xe1C\\x95\\xd7L\\xc3\\x9fX\\xb1b\\x99[\\x9f\\x84\\x9f\\x98\\xf48\\xc631\\xb9\\xc3\\x0eha\\xb6?Z\\x98=G\\x07\\xffl\\x04\\x073\\xd6\\xb1#\\xe4\\x1e\\xe3;t\\'\\xca\\xb0v\\xedZ\\x95\\xd1Ay\\xb5F\\xa3\\xf1\\x7f\\xb40\\xdb\\x08V\\x05\\xce>\\x7f\\x8aN\\xe8\\x96\\x16\\x12\\xb8@\\xea\\xd5\\xab\\xe7\\xb6\\x81\\xbcF\\xa3\\xf1/l+\\xcc\\x04O\\xc2BX\\xefg\\x07\\\\Y\\xccD\\xdb\\x99:\\xe2\\x0e\\xc4\\x9cV\\x9d\\x0c1\\xd5h4\\xf6\\xc0\\xb6\\xc2|\\xf8\\xf0a\\x19:t\\xa8\\xf2\\x9f\\xba\\x83,\\x86\\r\\x1b6\\x98\\xd7\\xec\\x0fn\\x0bg\\x8b\\x19a\\x0e)\\xe8\\x87\\x0f\\x8c9~!\\x89\\xb7F\\xa3\\xf1/l\\x1d\\xfcc\\xb4=\\x01?\\x9a\\xd1\\x10\\xfc\\xb2\\x82\\x7f\\xf4\\x93h\\xdf\\xbe\\xbd\\xfc\\xfe\\xfb\\xef\\xb2u\\xebV\\x8fsv\\xfd\\x8d\\\\\\xb9r\\xa9<f\\xc7t\\xb7\\xde\\xbd{\\xcb\\x85\\x0b\\x17\\xd4\\xf4\\rW\\x90\\xa9B;\\xcf\\n\\x15*\\x98[\\xecAh\\xc1?\\x02K\\xce=C\\xec\\x04\\xe9\\x9d\\xe4\\x9f\\xb3\\x9a\\xb1S\\x16\\x913L\\xd3qWu\\xaa\\x83\\x7f\\x9eckaFt\\xf3\\xe4\\xc9\\xa3\\x04\\x8b9nd\\x1e\\xacZ\\xb5J\\x95\\x1bS\\x84\\xc1N\\x1fH;\\xc5+\\xaf\\xbc\"\\xbf\\xfe\\xfa\\xeb\\x13Q\\xfc\\xc6\\x8d\\x1b\\xab\\xa6\\xf9\\x9c\\x88\\x9c\\xa1}\\'\\xdf\\r~\\xe8\\x90\\x82\\x83\\xfeHh\\xc2\\\\\\xb0P\\x01\\xd9\\xbdk\\x8f$If\\x8f\\x02\\xa8\\xa70\\x0e\\xbb;w\\xefJ\\x9c\\xd8\\xb1\\xd5Tl\\xbbr\\xee\\xcc\\x05\\xb5\\x7fQ(\\xe3\\x8c\\x16f\\xcf\\xb1}\\xba\\x1cV3\\x15q\\x08\\x0f%\\xc7\\x16\\xb4\\xac\\xa4\\xb5c\\xa0X\\xcb\\x80P\\xe1\\xc2q\\x9c\\xea\\x81%\\xcc\\x8e_\\xabV-s\\xcbc\\xfa\\xf4\\xe9\\xa3*\\xf5\\xc8_\\xb6\\x1b\\xa1\\ts\\xdew\\xf3\\xc8\\xb0\\xa9\\xad%\\xcb[\\xba)QT\\x921AY\\xd9\\xbf\\xef\\x80\\xcb\\xd1fZ\\x98=\\xc7\\xf6Y\\x19TN\\x81\\xa3(C\\xb7n\\xdd\\x02J\\x94\\xf9|t\\x97s\\x9e\\x04}\\xe6\\xcc\\x19\\xb7>\\xe6\\xe9\\xd3\\xa7\\x87k:\\x8aF\\xa3\\xf1\\x0fl/\\xcc\\x0c\\xect\\xce\\xcf\\xc5Z\\xc6\\x92\\x0e$\\xf0#\\xe3\\xcb\\x8b\\x11#\\x86\\xb9%\\x98\\x13\\'N\\xa8\\x1e!\\xce\\xd0A\\x0e\\xd1&\\xf0\\xa7\\xd1h\\xec\\x85\\xed\\x85\\x19,\\xab\\xd9\"\\xd0\\xace@\\x98\\x9d\\xf3\\x95\\tx\\x9e?\\x7f\\xde\\xe5r\\x9ffE\\xe5\\xca\\x95{J\\xc85\\xa1s\\xff\\xfe\\x03Y2\\x7f\\xbd\\xf4h;F\\xfav\\x1a/\\xc3\\xbf\\x99\\xa6&\\xb3\\xfc\\xf6\\xeb\\xa6G\\xd3Y\"\\x83?\\xd6\\xef\\x91\\nE[J\\x9eW\\xaaJ\\xbb\\x06\\x83\\xe4\\xca\\xe5\\xb0\\xcf\\xd8\\xbcp\\xee\\x8a\\xb4\\xae\\xff\\x9d\\xe4IWU=\\xc7\\xf6\\x10&\\x95k\\xfc\\x8f\\x80\\x10fG\\xab9\\x10\\xade@\\x98\\x93$Ib^\\x0b\\xe6\\xef\\xbf\\xffV\\xdb\\\\\\xb5\\xf0d4T\\xa5J\\x95\\xcck\\x9a\\xb0\\xf2\\xf7\\x89sR\\xb7b7Y\\xb7r\\x9b4nWE:\\xf4\\xae+5\\xea\\x7f(\\xf3\\x7f\\xfe]\\xbe\\x1f6G\\xee\\xdc\\x8e\\x9c\\xf9z\\xbc\\x8f\\xad\\x1b\\xf7\\xaa\\xe9\\xe2]\\xfa\\xd7\\x97\\xe5\\x0b7\\xca\\xf4\\tK\\xcc[C\\x86\\x13\\xcb\\xafs\\xd6J\\xf9j\\xef\\xcb\\xf8Y\\xdd\\xd5\\xb6\\xfe]~\\x90[7\\x03\\'\\xa7?\\xd0\\t\\x08a\\x06\\xcbj\\x0eDk\\x19\\\\U\\xf8\\x1d=zTu\\x8cs\\x86\\x00!\\x93\\xb4Ck\\x03\\xaay\\x12D\\xb7g\\xdb\\xb1\\xf2\\xdf\\xbf\\xffI\\xdb\\x1e\\xb5%a\\xa2\\xe0\\x80\\xd6\\x8b/=/m\\xba\\x7f.y\\xf2\\xbf)\\x0f\\x1e\\x04\\xcf\\xf9\\xf35\\x89\\x93&\\x94\\xbaM\\xcb\\xcbk\\x99\\xd3J\\xe9\\xf2\\x85$\\xf7\\xbbo\\x18\\xef\\xef\\x9e\\xeaHx\\xef\\xde\\x03\\x19\\xd0\\xfd\\'\\xd9\\xb0z\\xa7yoC\\xc8\\xff:\\'][\\x8e\\x94S\\'\\xcf\\xcbs\\xcf=+\\x9f\\xd6*!\\xf9\\xde\\xcb.\\xd9r\\xbd&\\x95k\\x96P\\xef;2\\xad}M\\xc4\\xb0\\x9d0\\xd3\\xc3x\\xe7\\xce\\x9d*=\\x8e\\xdc]\\x9a\\xbe\\x93\\x16\\x87h}\\xfd\\xf5\\xd7!Z\\xcb\\xec\\xd4\\xa4\\xd8\\xf5\\xef\\xdf_J\\x96,\\xa9\\xaa\\xe8\\xd2\\xa7O/\\xef\\xbf\\xff\\xbej \\xbfw\\xef^\\xf3\\x9e\\xfe\\xc7\\xe9\\xd3\\xa7\\x9fj\\x0f\\x89\\x00\\xbb\\x12f\\xace\\x9a\\x15i7F\\xf8\\xf8s\\xd3~YoX\\xca\\xa5\\xcb\\x17\\x94\\x04/<9)&\\xfe\\xf3q\\xa5r\\xad\\x0f$n\\xdc\\xe0\\xb4\\xc3K\\x17\\xae\\xca\\xa4\\xb1\\x0be@\\xb7\\x1f\\x955k\\x89\\xde\\xed[we\\xc1\\x8c\\xdfe\\xe7\\x9f\\x87\\xd4p\\xda\\xefzLT\\x96/b:c\\xe2R%\\x9e\\xe3\\x86\\xcc\\x96K\\x17\\xaf\\xa9\\xfbN\\x19\\xff\\xab\\x8c\\x194S\\xae]\\xbd\\xa9\\x1eo\\x11;vL\\x89\\x193\\xf8\\xf7\\xc3\\xd2M\\xf0b|)[\\xa9\\xb0\\xea\\xdd\\xccm\\xef\\x14\\xc8*};\\x8eW\\xe2\\x8c\\x18wh4D\\x92\\xa7J,\\xc9S\\xbe\\xacJ\\xef\\xe3\\xc6\\x8b\\xa3\\x1e\\xcb>\\x7f\\xe5\\xf2\\r%\\xce\\x9c`4\\xf6\\xc06\\xc2\\xcc\\xb2\\x1d\\xf1\\xa4q\\x7f\\x95*Ud\\xcd\\x9a5\\xcab\\xc42\\xa4\\x17\\x04\\xf9\\xba\\xe4\\xf8N\\x9c8Q\\xf5\\x1ev\\x86)\\x1f\\xb8;\\xe8}L\\x876\\xc6\\xf6\\x1f<xP5\\xaag:4\\xee\\x80\\x12%J\\xc8\\'\\x9f|\\xa2\\xaa\\xe9\\\\\\x81O\\x97n`#F\\x8cP\\x8d\\xe9\\xbf\\xfd\\xf6[Y\\xb0`\\x81\\xf2\\xf3\\xfa\\x1a\\xde\\xb3\\xb30\\x93\\n\\xe7\\xaa\\xf7\\xf4\\xacY\\xb3\\xa4b\\xc5\\x8a\\xe65MX\\xd9\\xb3\\xe3\\x88\\x9a\\xa8\\x92&\\x9d\\xeb*\\xc9Ti\\x92*\\xc1;|\\xe0\\xa4tj:L\\xb2\\xe7\\xc9$U\\xeb\\x94V\\x13\\xc0\\xbfn1Bn\\\\\\xbf%\\xbf\\xcc\\\\%]\\x9a\\x8f\\x90\\x11\\xfd\\xa7\\xcb\\xeae[\\xe5\\xf8\\xe1S\\xca\\xd7{\\xfe\\xcc%)\\\\<\\xb7\\xf2\\x1b_7D8a\\xa2\\x04\\x12/~\\x1cCD\\xff\\'od{\\xd5\\xadh\\x1e\\xdc{\\\\\\xba\\xb5\\x1a%\\xf7\\ra\\xe71\\x16\\x05\\xdf\\xcf)\\xad\\xbb\\xd5\\x92\\x9emFK\\xfd\\xca\\xdd%_\\x91\\xecR\\xafY\\xf9\\'\\xfa\\xa1\\xe0\\x93\\x1e;x\\xb6,\\x99\\xb7N\\xd2\\xbf\\x96\\xca\\xdc\\xaa\\xb1\\x03~/\\xcc\\x9c\\xf1\\xa9v\\xa3x\\x84\\x94\\xeb\\x1d;v\\xc8\\xfe\\xfd\\xfbU\\x7faJ\\xb2\\x07\\x0f\\x1e,\\x8b\\x16-RK\\xfd\\xee\\xdd\\xbb\\xab^\\xc59s\\xe6TV\\xb5\\x059\\xb1l\\xa30\\x83\\xbe\\xc5<\\x8e\\xc0\\x18V6\\xd38\\x10\\xe4^\\xbdz\\xa9\\x82\\x8c\\xacY\\xb3\\xaa\\xfb:Z\\xcfX\\xab\\x9c\\x14(\\xe4`\\xe4?\\xcfM\\x0f\\n\\x04\\x1c\\x91f\\x88)\\x96:\\'\\x0b_\\xe1\\xcab&\\xf3\"s\\xe6\\xcc\\xe6\\xb5`h\\xf0\\x8e%]\\xacX1s\\x8b&,\\xb0\\x9fa\\xc1\"\\x941b>gn}\\x1aVl\\xdf\\x0f\\x9d#I\\x92%T\\x82\\x9a2u\\x12\\xa9\\xdb\\xac\\x82,\\x9d\\xbf^vn=$\\xc5\\xca\\xe4\\x95Ti\\x93J~C(\\xdb\\xf5\\xfcB\\x1a\\xb5\\xad\\xa2\\xa6\\xb4\\x9c>yA\\x92&O$\\xe5\\xaa\\x16\\x95U\\x86`_6,f\\xac\\xe4\\x8b\\xe7\\xaf\\x1a\\x02\\xff\\xba\\xf9\\xecO\\x82\\x15~\\xe6\\xd4%e!/\\xfbe\\x83\\x12\\xe8;w\\xee\\x99\\xb7\\x8adz\\xe3\\x15\\x89\\x9f \\xae\\\\\\xbbrSr\\xe5\\xcd\\xf2T\\x93\\xaa\\x8b\\xe7\\xae(A\\xbf|\\xf1\\xba4\\xaf\\xdd_\\x0e\\xed?a\\xde\\xa2\\xf1w\"E\\x98\\xff\\xf9\\xe7\\x1f\\xd5\\xb3\\x02\\xffo\\xe9\\xd2\\xa5\\x95u\\xcb\\xf8\\xa7\\xfc\\xf9\\xf3K\\x8d\\x1a5T\\x9faD\\xc6\\x19,_\\xc6\\xda\\x93\\xc4\\xbde\\xcb\\x16\\x95\\xd0\\xed*5\\x0cX\\xe21\\xf5y\\xf9\\xf2\\xe5\\xca\\x02F\\x98X\\xd23F\\x89\\x04w\\xc4\\x18\\x0b7\\xa4\\xe5=E*T\\r\\x0e\\x180@\\xb9:HEc\"\\n\\x01EN\\n\\xb8A\\xb8\\x8c\\x1d;V\\xbdg\\xdc(X\\xdc\\x084\\xaf\\xf1\\xd9g\\x9f)\\xe1\\xc6\\xb2\\xf66\\xac\\x0c818\\xc2I\\xc6y\\x8c\\xd6\\x8c\\x193\\x94\\xd5o\\xb7J\\xbf\\xa8\\x86\\xfd\\'e\\xea\\xc4\\xf2\\xf0\\xe1\\xbfr\\xe5\\x92\\xfb\\xec\\x87\\xeb\\xd7n\\xc9\\xbe]G\\xe5\\xf9\\x04\\x8f\\xc74\\xa5\\xcf\\x98Rb\\xc6\\x8a!\\xc7\\x8f\\x9c\\x16y\\xe6\\x19%\\xee\\xb1\\xe3\\x04\\x7f\\xff\\xfc\\xcf\\x18.\\xcb\\xd5Q\\xfc\\xc3w\\xe5\\xee\\x9d\\xfb\\xb2n\\xe5v\\xd9\\xf5\\xe7!e\\xc9\\xe2&q\\x05\\xbe\\xe2\"\\x1f\\xe4\\x91~#\\x9b+\\x9f\\xf7\\x8e-\\x07\\x95\\xd8\\x02Y\\x17\\x1d\\x1b\\x0f\\x95\\x02EsJ\\xb7\\xef\\x1a(\\xb7\\xc6\\x9f\\x9b\\xf6\\xa9\\xdb,2\\xbd\\x91N\\x9au\\xac.\\xa3\\xa6uV\\xaf\\xcf\\xebi\\xec\\x81O\\x85\\x99\\x82\\x88\\xbe}\\xfb\\xaa\\x06:\\r\\x1b6T\\x9d\\xde\\xbe\\xfa\\xea+\\xd5\\xdb\\x82t.nc\\x1c\\x14\\xa2\\x83\\x9f\\x97\\xd1Hl\\xc7z\\xc12A\\xb4\\t\\xe4\\xd1O\\x18_pX\\xe0\\xfe\\x08$\\xa3\\xb1\\x18\\xd1\\xcf\\xf3\\xe2\\xde\\x08O\\x83\\xf8\\xea\\xd5\\xab+\\x81\\xa5\\x04\\x1a+|\\xc9\\x92%\\xea\\xa4\\xc0uW\\xd0/\\x80\\xb6\\x9aX\\xf3\\x884\\x9f\\x89\\xaa\\'o\\xc2I\"]\\xbat\\xe6\\xb5\\xe0^\\x0bdj8\\xfb\\x98\\x11f]T\\xe2\\x19\\x04\\xf7\\x12\\'}I\\xd6\\xfe\\xf6\\xe7#!u\\x04_.\\xa2\\x8a\\xd8\\x9e<~\\xd6\\xd8O\\x83\\x8bf\\x11\\xf58qcK\\xa2\\xc4\\xa1\\xcf\\x08L\\x93.\\x99\\x14|?\\x87\\xcc\\x9e\\xfc\\x9bJ\\xc1\\xcb\\xf9\\xce\\x93+\\x1ew\\xbc[8\\x9b$M\\x91H\\xfeg\\x88>Y\\x17\\xf8\\xb6\\xb3\\xe6\\xcc\\xa8,\\xf2\\x12e\\xf3I\\xe3vU\\xd56\\xb29\\x9c\\xc9\\x989\\xad\\xb2\\xeec\\x19\\'\\x0f\\x8d=\\xf0\\x990O\\x992E\\x89\\xc6\\xae]\\xbb\\x94\\xb0\"Z\\x04\\xdd\\xb0,\\xe9o\\x81[\\x81f<\\x94\\x12\\xe3\\x0e\\xc0\\x87\\xcc\\xedX\\xa2\\x0c\\xe6D\\\\\\x10\\x1e:\\xc4y\\x12\\xc4\\xc2\\xca\\xc5]\\x81?\\x1a\\xeb7\\xbc`q\\xd2\\x0c\\x89QN\\xb86\\xc2\\x02\\x9d\\xdf\\x10FN\"|.oU\\xbb36\\x8b\\x93\\x9ac\\x878\\xbeW\\xdc\\x18\\x8e\\xdf\\r>\\xe7\\xbf\\xfe\\xfaK\\xbb1<$C\\xa64\\xd2\\xb4C5Y\\xba`\\x83L\\x9f\\xb0\\xf8\\tq\\xde\\xbd\\xfd\\xb0l\\xdd\\xb0W\\xb9#J\\x95+(\\xdb\\xff8 \\x07\\xf6\\x1cW\\xb7\\x91\\x11\\x912M\\x12y\\xdb\\x10vz`(\\xc1v\\xf3\\xdb\\xe3n\\xf8\\xb0ba\\xd9\\xbb\\xf3\\xa82@x>wp\\xbb\\x05\\xae\\x90\\x1co\\xbf.\\xc9S&6\\xf6\\xcd\\x98\\xd2m`C\\xf5^\\xb1\\xaa\\x01\\x17\\xca\\xb8\\x99\\xdd$u\\xda\\xe0r}\\xc7\\xc7^\\xbd|]\\x9e\\x7f!\\x9ed7\\x1e\\xaf\\xb1\\x07^\\x17fF\\x1d1d\\x12\\xb7\\xc5\\xe2\\xc5\\x8b\\x95\\xb0\"p\\xa1\\x81\\xd5\\x81\\x80\\xe2\\xb2h\\xd0\\xa0\\x81\\xb2x\\xb1\\\\=\\x1d\\xb3\\x8f\\x90\\x11\\x0cD\\xec\\xc3\\x0b\\xfee|\\xce\\xbc\\xff\\xc4\\x89\\x13\\x9b[\\xc3\\x06\\x9f\\x03W\\x07\\xc1:\\x82\\x92\\xde\\x00\\xb1\\xc5\\x85\\xc3s[p\\xa2\\xc3\\xef\\xee\\x08\\'\\x05\\\\?\\x8c\\x9a\\xd2xF\\xa5\\x9a%\\xe4\\xbb\\xf1md\\xd1\\x9c\\xb5\\xf2q\\xc1\\xa6R\\xff\\xd3\\x1e*\\xd0wp\\xef_*[\\x03!\\xac\\xfaE)\\xa9R\\xbb\\xa4\\xf2\\xf9vo=J\\x15\\xa3t\\xea[O^J\\xf4\\x82\\xac1\\xacm\\x84z\\xe5\\x92?\\x0c\\xf1=\\xa2D\\xfe\\xfc\\x99\\xcb\\xb2r\\xf1f\\x95\\x89\\x01o\\xe6\\xc8\\xa82,\\xb0t\\x1d\\x7fSGfM^.\\xb9\\xd2TQ\\x85%\\xa4\\xc6\\xed\\xd8r@\\x1a\\xb4\\xaa\\xfcH\\x88\\xe3\\x1a\\x16\\xba\\xb3O\\xd9r\\x89\\xe0R)\\x92\\xb5\\x8e\\xd4(\\xd3A\\x06\\xf7\\x9e,c\\x06\\xce\\x94\\x9a_\\x96}$\\xda\\x1a\\xff\\xc7\\xabM\\x8c\\xf0%#\\x0c\\xfc\\x8f\\xc5\\x1c\\x91\\t\\xdb\\xdb\\xb7oW\\xd65>_O\\x9a\\xbc\\x13\\x9c\\xc3\\xc7\\\\\\xb7n]sK\\xd8\\x993g\\x8e\\xca\\xe2\\xc0=\\xe1)X\\xdau\\xea\\xd4Q\\x81Jw\\x07_X\\xe1s\\x8c\\x1f?^\\x9d(,\\xbe\\xf8\\xe2\\x0b\\xc9\\x96-\\x9b4k\\xd6L]\\xe7g\\xe4:~\\xef@\\xb0\\x98\\xa3{\\x13#\\\\yG\\x0e\\xfe-\\xb7o\\xdeU\\xee\\x8f\\x97\\x93\\x84\\xefX:{\\xfa\\xa2\\xb2\\xb2_N\\xf2\\xa2\\xca2\\x89\\xe8>\\xe8\\x0e\\xdd\\xc4\\xc8\\xcf\\x9b\\x18!\\x0cX\\xca\\x04\\xbe\\xc8+\\x8e\\x88(\\x03\\xae\\x08\\x02y\\x1d;vT=\\x1f\\xc2\\x0b\\xaf\\xef\\x89(\\x03\\'\\x97\\x88\\x882\\x10\\xd8\\xc4\\xda\\xff\\xed\\xb7\\xdf\\xcc-\\x9es\\xe8\\xd0\\xa1\\xa7|\\xc9\\x08\\x17\\xfd|-\\xc8\\x14\\xb9t\\xe9\\x92.*\\t\\x10\\xb0\\x863eyE\\xf9\\xa0\\xc3+\\xca\\x80\\xcb\\x83\\xa2\\x94W^M\\xe93Q\\xd6\\xf8\\x0e\\xaf\\xfdb\\xb4\\x96\\xa41=\\xc1;o\\x156\\xe0\\x02\\tm,\\xbf\\xbfB\\x10\\x92^\\xc9\\xf8\\xcf#\\n\\xc2LZ\\x9f\\x05\\xab\\x01R\\xfb8yY\\x90>X\\xadZ\\xb5\\xa7\\x96\\xb7\\x1a\\x8d\\xc6~x\\xc5\\x95\\xc1\\xc8#\\x02Q\\xf8\\x85YNk\\x82!x\\xc9\\xf7\\x82[$\"`\\x19\\xe3\\xf3&\\xdb\\x03\\xf0\\x9ds\\x9db\\x17 \\xad\\x90\\x1cgR\\x03\\xc9\\xc3\\x0e\\x04Bsedy#\\xb3T\\xadW\\\\\\xf7c\\x8ebj\\x7f\\xd2E\\x05\\xee\\xb5+\\xc3\\xbbxE\\x98\\x9b6m\\xaa\\x82~\\xa3F\\x8d2\\xb7h\\x80\\xaf\\x96\\xec\\x0e\\x02\\xa0\\xb8G<\\xe9\\xe1At=A\\x82\\x04*\\xe3\\xc2j\\x90O\\xb1\\x0b\\x01>\\x1a\\xe1\\x03\\x95~\\xe4^#f\\x81Bh\\xc2<l\\xd8\\x10\\xf9}\\xd5\\xef\\xc6\\xea\\xcc}1\\x88?C\\x1cf\\xd3\\xa6\\xcdj\\xd5\\x13/\\x9e\\xeb<f;\\x90(\\xd1\\xcb2t\\xc8py\\xee\\xb9\\xa7\\x7f\\x07-\\xcc\\x9e\\x13aaf\\xee\\x1a\\x19\\x03\\x08Gx3\\x18\\xa2\\x03\\x94\\x90\\xd3G\\x99\\xea@\\xb25\\xc2;\\x14\\x15\\x97\\x05\\x163\\xd6\\xb7%\\xec\\x14\\xe8P\\x12nY\\xd0\\xfcOz\\xa1\\xa7>u\\x7f$4a\\xb6;\\x1c7|6V=\\x8e\\xa3\\xc2\\x02\\t-\\xcc\\x9e\\x13aa\\xa6\\x99\\x10%\\xd1d\\x0eh\\x9e\\x06\\xdf0\\x01@|\\xf0\\xa4\\xcf\\x91Y\\xe1\\xe8\\x1b\\x0e\\r\\xbeWV\"V\\x10\\x91\\xbe\\x1c\\xf4\\xc7\\xb8x\\xf1\\xa2*l!\\xeb\\xa3@\\x81\\x02j9\\xe9j\\xee\\x9a]\\xd1\\xc2l\\x7f\\\\\\t3\\xd9&=zv\\x97\\xf3\\x17\\x9e.\\x84\\xf1\\x84\\x84\\t\\x13I\\xf7\\xae=\\xbc\\x16\\xd7\\n\\x0f~\\x9d\\x95A\\xc92\\xf9\\xc6\\x1a\\xd7\\xd0\\xb7\\x82\\x15\\x05\\x15\\x84#G\\x8e\\x94R\\xa5J\\xc9\\x9e={\\xcc[C\\xc7\\x1a8k\\xc1I\\x90\\xa9$\\x882\\x0c\\x1b6L\\xa5\\xce\\x05\\x92(k\\x02\\x17\\x8a\\xa5zt\\xef)i\\xdf\\x8c\\xeb\\x95K\\xdf\\xde\\xfdT\\x9f\\x9c@#B\\x163\\xfeO\\xac\\x1a\\xd2\\xd9\\\\9\\xff5O\\xf3\\xe3\\x8f?\\xaa\\xa2\\x17\\xf2\\xb4\\xc3\\xd2\\xcf\\x027\\x05\\x9d\\xf0\\xacnq\\x94\\x96\\xd3%\\x8ft>vH\\\\$\\x14\\xc48\\xf7\\xd1\\xb0;\\xdab\\xb6?\\xae,f\\x12\\x05\\xd2gH\\'\\x07\\xae\\xcc3\\xb7D\\x8c\\\\\\xa9\\xab\\xca\\xa6\\r[$u\\xea\\xd4\\xe6\\x96\\xc8\\xc3o-fz\\\\\\xd0\\xd3X\\x8br\\xd8\\xa1T\\xfb\\xb5\\xd7^\\x93\\xde\\xbd{\\x9b[\\xdcC@\\x15\\x81\\xca\\x97/\\x9f\\xbaN\\x9a\\xdc\\x8a\\x15+T \\x11\\xe8\\xba\\xc7\\x94\\x92@\\x13\\xe5@\\x86\\xf4\\xcf\\x16-Z\\xa88\\x01\\xf9\\xc5t6\\xa4m\\x00\\x195\\x11\\xf4*j\\x02\\x88\\x08\\t3\\x1d\\xe1\\xc2Rn\\xady\\x0c\\x01<\\xdc\\x0f\\xc3\\x87\\x0f\\x97\\x9b7\\x9fl\\x8e\\xee\\xcc\\x9f\\x7f\\xfe\\xa9r\\xb8\\xad<n\\xb2/( aR6\\xcd\\x92\\xf0Yw\\xea\\xd4I\\xdd\\xa6\\xf1o\\x10]\\x8a\\xa5X\\xf1p\"\\xdd\\xbcy\\xb3\\xb2(\\xe9)N7\\xc0\\xce\\x9d;\\xab\\xd6\\xb14\\xfe\\n+4\\xb2\\xc2g\\xab\\t\\x1d\\x8c\\x1a;\\x11!a\\xc6_D\\xd6\\x81&|\\xb0\\xecB`\\'O\\x9elnq\\r\\xd6\\xf1{\\xef\\xbd\\xa7\\xfe\\xe6\\xc0\\xc6Gme^\\xf4\\xe8\\xd1C\\xf9\\xf6\\x1d;\\xcei\\xfc\\x13~\\xbb\\x0e\\x1d:(\\xb7\\x05\\xc1Z\\xfa\\xc8\\xf0\\xbbQ\\x19J&\\x13n)*7\\xa9\\xee\\xc4e\\x15\\x9a8s\\xdc\\xd1\\x99\\x91\\xa2\\xa2@)(:r\\xf0\\xa4\\xea\\t\\xf2Y\\xd9\\x8e\\xd2\\xb2\\xee\\xb7\\xf2m\\xd7\\tj\\xf8@\\x9f\\x8e\\xe3\\xd5\\x00\\x03O![\\x8cc\\xc6\\xb1?\\xbb\\x1d\\x08\\xb70S,A\\x1bMZr6j\\xd4\\xc8\\xed\\xb4\\x0fM\\xc8\\xf0\\xfdQ\\xba\\x1e\\x12\\x0b\\x17.|4dv\\xfd\\xfa\\xf5\\xaa\\xe4\\x9a\\x9e\\xd3\\xdb\\xb6mS\\x15\\x96\\x8c\\xd2\\xd2\\xf8?\\xfcv\\xb4\\x8e\\xa5\\xc5\\x80c\\xab\\x82\\xda\\xb5k\\xcb\\xdd\\xbb\\xc1\\xc3]qk\\x8c\\x1b7N\\ro\\xe0\\x04\\xec\\nK\\x90\\xdf|\\xf3M\\xb5\\x0fp\\xfc\\x05\\nt\\xf6{\\xbf\\xd4\\xdb\\xb2g\\xfb\\x11\\xc9_$\\x87\\xb4\\xe9^[:\\x7fS_\\r$\\xa8\\xf5Q\\'Y\\xba`\\xbdy\\xcf\\xb0\\x81 \\xd3c\\x87\\x15=\\x17\\xcb\\xc0\\xb1\\x0ba\\x16\\xe6\\xfb\\xf7\\xef\\xabF\\xf3\\x04\\x9b\\x10\\x94\\xc2\\x85\\x0bK\\x97.]\\\\&\\x96kB\\'o\\xde\\xbc*h\\xe0\\xce\\xafHZ\\xdc\\xee\\xdd\\xbbU?i\\xa0\\x98\\xa4U\\xabV\\xeaozZ\\xd3\\xdc\\xc9y8\\xab\\xc6?\\xc1\\xe5\\x84_\\xd9\\xb9\\x7f\\x0cV\\x9cc{N\\xc4\\x99\\xa1\\xc2\\xa4V\\x12_\\xb0@\\x90\\xf9\\xfd\\x11d\\x84\\x19+\\x9b\\xa6V\\x81\\xd6\\x03\\x83\\x9e\\xd6\\x0c\\x19\\xb0`\\xe6a\\x85\\x1a\\xc5\\xd4D\\x98Y\\x93\\x96\\xcb\\x83\\x07\\x8f\\xbf\\x13w \\xc8\\xc4q\\x10cV\\x14\\x95+WV\\x05Yv#L\\xbf,;\\x06A\\n\\x02\\x14\\x9c\\xfd\\xc9\\xade\\xf9\\x85\\xf5\\x16/\\xde\\xe3I\\x0e\\x9a\\xb0C\\xa1\\t\\'5w\\xa9>T\\x0b2\\xed\\x8548\\x96\\xc0\\xf8\\x9b\\xeb\\xd7\\xaf\\xafJ\\xb1\\xd9\\xc6\\xdf\\x1a\\xff\\x87\\xf6\\xb3\\xb4*@,\\xc2\\x02-\\r(\\xaf\\xe78s\\x14d\\n\\x8a\\xb8\\x1e?~|\\xb5oD\\x97\\x80;\\xa3\\xb1\\x98\\x0e\\x1e+v\\xcc\\x10OD\\x8e\\x82\\xcc\\x8a\\x1e\\xdf;\\xdf%\\'0;\\x12j\\xba\\x1c\\xfe.\\x96\\x01Xx\\x8cg\\n\\xb4\\xb3tTBC}\\nG\\x9c\\xa7\\xb3\\xf0\\x93P\\x84B\\xe6\\x06=\\xaa\\x19\\x1c\\xc0\\x04\\x18\\xfc\\x92X\\x00\\x88\\xb4\\xbb\\x11[\\x81B\\xa0\\xa4\\xcb\\xd1\\x97\\x9bU\\x8f\\xd5!\\x11\\x83\\xc6\\n\\xfa2\\x96\\x8c\\xdb\\xacU\\'e\\xf5\\x04\\x06\\xf9\\x8d\\xb1\\x98i\\n\\x86\\x18;\\xc3\\xa4\\x1f;\\xc0j\\x80\\x00\\'\\x99[\\x16\\x94\\xa2\\x1f>zX\\x8e\\xdf^dny\\x0c\\x83\\x07\\xaa\\x97n\\xafz]\\x17)\\xf9\\xb6\\x9a\\x898s\\xe229\\xbc\\xff\\xa4|7\\xbe\\xb5\\xe4p1\\x1b1{\\x8a\\xcaR _a\\x997o\\xde\\x13\\x81P\\xbeSV\\xf7\\xbe\\x1c\\xb1\\x86;\\x89\\xe3\\x94\\xff\\xbdM\\xa8\\xc2\\x8ceF\\x93\\x9c\\t\\x13&x\\xd4\\xeb\\xc1_\\xe1LJ\\x10\\x86)*\\xe4#\\xba*\\x95f\\xc7\"\\x1d\\x8d\\x95\\x01E\\x1c\\x8e\\xb0\\x83q\\xb2b\\x99D\\xba\\x93\\'\\x906\\xc7\\x94m\\xe7\\xcc\\x16\\x0eH^\\x8f\\xe2\\x14\\x0eV\\xee\\x83\\xff\\x91\\x13$y\\xd0\\xbc\\x9f@\\'P\\x84\\x99\\xb8\\x00\\xa9q\\xe4\\xef\\x02\\xee\\x0bK@\\xe8\\x06H\\xe5\\xacU,D\\xc3+\\xfe&s\\x83\\xfd\\x92\\x130y\\xb2\\x8e\\xee\\x0e\\xc0\\x9da\\x07\\xd0\\rRj\\xb1\\xf8-\\x10\\xea\\xbe\\xfd\\xfa\\xc8\\x91\\x9b\\x0b\\xcd-\\x8f\\xb1\\x84\\x99i,9\\xf3fQ\\xf3\\r\\x97/\\xdc\\xa8\\x8c\\xc1\\x16]>\\x93B\\xc5r\\x99\\xf7|\\x0cy\\xcc\\xdf};X\\xf9\\xe5\\x99\\x94\\xe4\\x08#\\xe6\\xf8\\xee}\\t\\xeeDO\\x8f\\xff\\x90\\x08Q\\x98\\x99&\\xc2NBZ\\x1c\\x8dt\\x02\\t,\\x92\\xe9\\xd3\\xa7\\xab\\x13\\x0f\\x07\\x01\\xd6\\x8b3L\\x0e\\xc1\\x9a\\xc5\\x9f\\x8eX:B+N\\x84\\x99\\xef\\x85\\xfb\\x85\\x17\\x0e6\\x96\\xa5\\xf4\\xc0\\xe0\\x7f\\x0b~\\x0e\\xac\\xa8\\n\\x15*\\xa8\\xa5\\x18\\xa9T,]\\t\\x14\\xe1\\xd3\\xa7\\xd8$:\\x10(\\xc2\\xcc\\xefL\\xc7?\\x86/\\xe4\\xce\\x9d\\xdb\\xdc\\x1a\\x0c#\\xcb\\x10\\x13Gw \\xae\\x0f\\xb2v\\xd8\\xdfX!\\x91NGA\\x92\\xa3@3\\x19\\xde\\xd9P\\xf0G\\xc2[`\\x8203u\\xa5C\\x9f\\xbaR\\xa1z\\xf0\\xb0\\x87\\xabWnH\\xbdJ\\xdd\\xe5\\xec\\xa9\\x8b2\\xf9\\xd7\\xbe\\x92.\\xc3\\x93\\x93\\xe2\\x1d\\x0bLp\\xb5blY\\x02\\x8d\\xcb\\x8f!\\xd0v\\xecx\\x19\\xa2_\\x82\\xa54\\xc1\\x08\\x7f\\x17eD\\x96\\x1d\\x00\\xb7\\x00\\x91o.\\xa1U\\xe3P[\\xcf\\x19\\xb5m\\xdb\\xb6\\xca\\x07\\xe8jJ7~=\\x04\\x92\\x1f\\xda9\\x85\\tk\\x97\\xd2jO\\x83\\x9fX\\x12\\xe4#;\\x8a2\\x90\\xab|\\xfa\\xf4i\\xe5\\xbe\\xa0\\x90\\x84\\xa0\\x11iq\\xe4\\xb9F\\x17Q\\x0e$\\xb0\\xf6H\\xd7\"w=,p\\x12\\xa6\\x04\\xdfJ\\x83\\xa4/\\n\\xc1C\\xac\\xe7\\xaaU\\xab\\xaa\\xe7k\\xd3\\xa6\\x8d:qE\\x07^x1\\xbe\\x1a\\x16p\\xf5\\xf2\\r9{\\xfa\\x92\\xb9\\xd55\\xb4*X\\xb3f\\x8dJ3\\xc5\\xd8\\xe2$\\x87a\\x13\\xd1\\xb6\\xbbQ\\x81[a\\xc6rc<\\x12I\\xef\\xfe\\ng\\xe4v\\xed\\xda\\xa9%>;4gG\\x02e\\\\\\xc2\\xea\\xf7\\xb1\\xaa\\xe8\\xe8I\\xe1\\x08\\x05\\x00\\xf8\\xc6\\xb0\\xa8Yzr`8C\\xe1\\x87\\xa7K%,\"\\xc4\\xd7\\x11\\\\\\x17\\xf8\\x92\\x99\\xee\\xfd\\xc1\\x07\\x1f\\xa8\\xe7\\x1e2d\\x88\\x8a.\\x93\\x89\\xa1\\xf1\\x1c\\xac\\xcd\\xa8*2\\xe0\\xf7\\xe4\\xe4?i\\xd2$sK0\\x14\\x199\\xfa@qsP\\x84\\xc2$ g\\x1c\\x05\\x9a\\\\gR\\xc1\\x02-U\\x95\\xe3\\xccy\\x01\\x7f\\xe5\\xd2u\\xd9\\xbaa\\x8f\\xbc\\x92!\\x85d\\xc8\\x14\\xb6\\xb2k\\x04z\\xf5\\xea\\xd5J\\xa0Yq\\xd1y\\xd1\\xd1\\xffl\\x07\\xdc\\xba2\\x88r\\xf2\\x01\\xb1\\xec<\\x85~\\x10\\x9c\\xc1\\xd8\\xf9x\\x19\\xacK|\\xb6\\x08\\r\\xfd\\x84\\xf9\\xb2Xn\\xb0,\\xa3\\x8a\\t?6\\xf7\\xc5\\x7fK\\x84\\x95\\xa5\\xac;\\xe85@\\x90\\x04\\xc1\\xb2\\xc4\\xd5\\x138`i\\xcbI\\x01\\x00\"\\x0f\\xbc/\\xb2P\\xc8\\x15f\\x99\\x89eK\\xce0\\xd6\\xb5#D\\xce98\\xac>\\x16\\xe1\\x81\\xe7\\xe7s[\\xfe),|N\\x82\\xbc\\x16\\x01#\\xfc\\xf94<b\\x86\\x9f\\x1d\\'\\xb8D\\x14o\\xba28\\xe9\\xb2\\xc4\\xe5D\\x8b\\x8f\\xde\\xd3UND`E\\xc6\\x92\\x9e\\x15\\x10\\'_\\xc7\\x95\\x12\\xfb\\x1b)\\xa8\\x0c!&\\xa6\\x80\\x95\\x17\\x1a\\xb88\\x10\\x1f\\x8e\\x13\\x7f-2\\t\\x8f+\\x83\\x02\\x93\\x89\\xa3\\x7f1.\\x0b$[\\xeeL\\x92%[\\xf0\\x00\\x84\\x03\\xbb\\x8fK\\xa2\\xc4/H\\xab\\xae\\xb5$s\\xd6\\'\\x83\\xe4\\x10\\x96^\\x19\\x18A\\x04\\\\\\x1d\\xdf\\x87\\xbf\\xe3\\xd6b\\xe6\\xc0\\xc0\\x87\\x1a\\x118\\x00H\\x07c\\x87c\\x87\\xe4:K1\\xdc\\x08\\x88`\\xfb\\xf6\\xed\\x1fY\\x0c\\x08\\x11?\\x1a\\x16\\x03I\\xf7\\xa1\\x05\\x1aI\\xae\\xc7\\xe7\\x1a\\x11Q\\x06\\xdeO\\x92$I\\x9e\\xb0\\xa6\\xb0R\\x11}\\x04\\x9b\\xf7\\x87o\\x10\\x0b\\xda\\x19\\xdaq\\x86\\xe5 r\\x06\\x97\\x0b;\\x0b\\xfe{\\xfc\\x8c\\x9c\\xa4\\xac\\x9e\\xcb\\x9c\\x10\\xb1\\x969\\xa1\\xe1\\x03\\x8f\\x8e\\xa2\\x1cV\\x0e\\x1e<\\xf8(\\xa8\\x16\\x12|\\xc74\\n\\xb2|\\xb4Q\\x01\\x01^\\n\\x868\\x99#\"\\x08*\\xfb?\\xfb1n\\x0b\\xdcf\\xa3G\\x8f\\x0e\\xf3\\xfe\\x84\\x05\\xcd\\x89=P*\\xff(0\\xe91\\xa8\\x91\\xfcuw\\xa9\\xcc_;T\\xfa\\x0eo\\xa6.sW\\x0f\\x96\\xf1\\xb3\\xba\\xbb\\x14\\xe5\\xb0B\\x95\\xad\\x9dD\\x19\\xdc\\n3\\xe9=\\xe4SF\\x04\\x82\\x1e\\xe4a\\xb2\\xe3Q\\xa0B\\x04\\x13\\x7f5\\x16\\x03B\\xc4\\x19\\xd5z\\r\\xac#v6\\xfcq\\xf8\\xd0\\x9c}\\xaf\\x8e\\xd0{\\x18\\xbfr\\xc1\\x82\\x05\\xcd-\\x11\\x83\\x93\\x80u\\x82\\xe0\\xb99\\x80\\x1c\\x87\\xb1rP9\\xfb\\xac\\xf1cg\\xcf\\x9e=\\xdc\\xd6\\x17\\xd6\\x11-@)6\\xc0\\xf5B>*\\'\\x00\\xc4\\x03+\\x9a\\x93\\x00\\xcf\\x8d\\xb5\\x8cO\\x91\\xb6\\xaa\\xe1\\xe9\\x9f\\x10] \\xdb\\x81 \\x18+\\xa7\\xb0@\\xf9sTg\\x15\\x11\\x97\\xa0\\x0c\\x1fq\\xa6O\\xf77\\xdf|\\xa3\\xf6\\x1f\\\\\\x1c,\\xbb\\x03a\\xba\\xb9\\xc6;\\xb8\\x15fD\\xf2\\xf8\\xf1\\xe3\\xe65\\xcf\\xe1`\\xb0\\x8a!\\xb0\\x08\\x00+\\x9a\\x9e\\x01\\xe08\\x8e\\x8a\\xdb\\xc3\\x12\\xe0Z\\xb5j\\x95\\xbc\\xf2\\xca+\\x8f\\xfc\\xc9\\xae.\\xe1\\xe9y\\x8c\\xd5e\\xa5,Q]\\x87\\xc5\\x8c%mA\\x1a\\x13\\xee\\x05\\xaa\\xf1\\x00\\xb7\\x0b\\xef\\xdb\\x95/04\\xb0\\x928\\x18\\xe9u\\xc1s`9\\xf3}\\xe0;$3\\x04\\xb1\\xc6zg;\\x01\\x0c\\xdc;\\x9c\\xbcXu0\\xcd$:\\x82+\\x82\\xe9/T\\xc4q\\xd2\\xc2\\xbd\\xc683f\\x1f\\xe2\\xa7E\\xec\\x08T\\xd3\\xd0\\x89A\\x04\\x9c\\xfcN\\x9c8\\xa1\\x84\\x8fl\\x06W`\\x14\\xcc\\x981C\\xfd\\x0e\\xfcO\\xa0(\\xb2\\xb0,f\\xe0\\xe4\\xcbIY\\xa3q\\xc4\\xad\\x8fy\\xd7\\xae]j\\xa7\\xa1\\xd7oDa\\xda\\x06\\x89\\xf3\\xf8\\x8e\\x11{|\\xcc\\xf8\\x96\\xe7\\xce\\x9d\\xab,Q\\x0e4|\\xb5\\xf8y\\xe9)\\x10\\x1a\\x1c\\xa0<\\x16\\x8b\\xd5\\x1dX\\xe7L\\xa9\\x0e\\r\\x96\\xb7\\xb8\\x12\\x08\\xacp\\xb0r\\xddYp\\t\\xdc\\xe0^@ \\x08\\xc8\\xb1\\x84D\\x18Bz}Wp\\xe2\\xc1\\x87\\x88[\\x84\\x13\\x16+\\t\\x04?$_:`\\xc5#@\\xe42\\x13\\xc8 S\\xc6\\x9a\\xff\\x17\\xa8X>fNZ\\x14\\x0f\\xf0\\x99I\\xdf\\xe4\\xe4\\x85\\xbf\\x18W\\x0f\\'9V\\x14\\x18\\x11X\\x9d\\xb4\\x0c@\\xa4)\\xc0\\xe0\\xb7de\\xc2\\x89\\x9e\\xef\\x99\\xbfq\\x13\\xb1\\xef\\xb1\\x02\\xe1\\xe4\\xcb\\xaa\\x04\\xbfs\\x93&M$K\\x96,\\xca\\x9d`\\xad\\x9c|Mt\\xed\\xc7\\x8cQ\\xc3*1\\xe7;\\xde\\x19\\x1a\\xbcm\\xf3n\\xb5\\x8f\\x04Z{\\x02\\xb7\\xc2\\xcc\\x97J\\xe78*\\x8f\\x10\\xae\\x88\\x82\\xc8\\xe33\\xe5`\"%\\x0cqb\\x1a\\x07)k\\x94\\x19c\\xe1P\\x82\\x1c\\x16\\x1f\\x1b\\x02\\xc9\\x01\\xc8R6\\xa2\\x90J\\xc3\\xe7\\xc4\\xba\"\\x0b\\x85 \\x8c\\xf3\\x92\\x97<e\\x0en\\xde/\\x075\\x19\\x1f\\xe1M\\xf2GT\\xf8\\x0ex\\x0e\\x96\\xb4@\\x83\"\\x8a\\x0c\\xb8\\x84\\x05|\\xd0|W\\x88\\x11\\xff#:Q\\xbd<\\xf7\\x15\\x960\\x93\\xa9\\xc0o\\x83K\\x8c\\xbe\\xd4\\xe4\\x8f\\xe3Z\"\\xf0\\xe5(\\xcc\\xac2\\xd8\\x97po\\xe1\\nc\\x05\\xc2}\\x88m\\xf0\\x1d9\\n3\\x966A@\\\\G\\xdc\\xc6*\\x05\\xc3\\x80\\xd5Id\\xf5\\xb6\\x8e\\xae\\xc2\\x0c\\xc4\\x06\\xbc\\x95!\\x83\\xc8\\xb3\\xa2\\r4B,0a\\xc7%\\xe3\\xc0\\x1b}\\x198HHkc\\x19O^.\\x07\\x06~g\\x96\\xe9\\xf8\\xff\\xf0)c\\x9d\\x875\\x98\\x81?\\x0e+)\\xbc\\xc3M\\x9da\\'\\xe1@Gx\\xf1\\xfd\\xb9z>\\xde\\'\\xef\\x11\\x8b\\x1e\\x17\\x03\\x17\\xae\\x87\\x17\\x96\\xcb\\xac\\x14,\\x10\\x1cV\\x13X\\xd1\\xe1a\\xc7\\x8e\\x1d\\xca\\x07N\\xc6\\x08B\\x13\\x88\\xe5\\xd9\\x960\\x13\\x93 \\x87\\x9b\\xfe,\\x083\\xc1aV-\\xfc\\x06\\x8e\\xc2\\x0c\\x9c\\xacY\\xf9\\xd0+\\x81jI\\xf2\\x81y\\x0c\\xab Ga\\xc6Z\\xe6d\\xcb\\x89\\xdd\\xd5\\xfe\\xc6\\xef}\\xef\\xde=\\xf3\\x9ao\\xc0\\xe0\\xa1\"\\x8e\\xd5\\x98\\xaf\\x85\\x05\\xc3\\xcar\\xd5E&\\xee\\x84Y\\x13:!\\n3V-\\xc2L~\\xad\\'B\\xe4\\x0c\\x96\\x01\\x13\\x1cx^+\\x87\\x97\\x92fJ\\xa2Y\\x9e\\xb2\\\\\\r+XDdvp\\xa0E$H\\x89\\xf5\\x8e{\\x80\\x039\\xa4RgvlN*X\\xd5\\xde\\xaa$\\xa2\\x1a\\x8c\\xf7\\x1fZ\\xfbOW\\xe0G\\xc5\\x8aDd\\xb8D\\xd6\\xdcE\\xfc\\xf1u\\xeb\\x7f!\\xff\\xfe\\xf3\\x8f\\xb9%b\\xfcg\\xec~#\\x87\\x8f~*\\xdd\\xc9\\x12f\\x82\\xa4d\\xf1\\xe0Z\\xa3\\xa3\\x1e~~|\\xc2\\xb8\\xc4\\x9c\\x85\\x99\\x15\\x05\\xdf\\x83\\x95M\\xc4\\xfe\\xc1\\t\\xdfY\\x98\\xf1W\\xb3zs\\xccz\\xc1]\\xc4kq\\xff4i\\xd2\\xca\\xcd\\x9b7$v\\x1c\\xdf\\xcdQ\\xe4\\xb0{\\xf8\\xf0\\x81\\xfal\\xcf<\\xe36\\xd4\\xe3\\x15n\\xdf\\xba\\xa9\\x0c\\x80\\xc8r\\xd3Xha\\xf6\\x9c\\x10\\x85\\x19\\xa8|C\\xf8h`\\x14Q\\xb0\\x92\\xc9\\rf)i\\xc1\\xc1B\\xda\\x18\\x96Cx\\x05\\x96\\xb6\\x98\\xf8\\x07\\xc9\\xfe\\xe0\\xc7wl\\xab\\xc8\\x01\\xe6\\xdc\\x83\\xc2\\x15,{\\xad<\\xe6\\x90\\xa0\\xd5\"\\xbemo\\x16\\xdcx\\xc3\\x8fo\\xb9H\\xf2\\xe7\\xcf/#F\\x8c\\x081\\x9b\\xc5\\x1b\\xb0\\xaa\\xf8\\xa0dq\\x196)\\xe4\\xef+\\xactl<TF\\x0c\\x1d\\xf3T\\xda\\xa3%\\xcc\\xach8\\t\\xd1\\xcc\\t7\\x06\\x19=\\x9c\\x88pA\\xe1\\xa6\\xe07\\xc1\\xaaf\\xc5\\x03X\\xcc\\x04\\x02\\xf1\\x17[.\"\\x84\\x99\\x13?\\xfb\\x1a\\xd64\\xee\\x11\\xfaa\\xe3W&\\x0e\\x81u\\xcco\\xc0s\\xb3\\xa2I\\x95:\\x8dL^wT\\x12\\xbc\\x94P=\\xde\\xee\\x94z-\\x9e\\x1c5>\\xbb\\xaf\\xf7\\rg\\xb40{N\\xa8\\xc2\\x8c/\\x8c\\xe5 ;2\\x16\\x8ac\\xb6\\x82\\xbf\\x80\\x9f\\x0eagyh}\\x1c\\\\\\x12\\xce\\x05!\\xae\\xe0$\\x11\\x96\\xa6@\\x04\\x1b\\xcb\\x95+g^\\xf3\\x0ed\\xa6 HV\\x86\\x8a\\xa7\\x90<O\\xd6\\x06b\\xc6r>\\xa2\\xf9\\xe7!\\x810\\xb7h\\xdbH\\x16\\xac\\x1fdn\\x89\\x18u\\xcaw\\x97:5\\x9a\\xba\\x15fD\\x94\\x15\\x15\\xc5N\\xb8\\x1d8y\\xb3/b\\x1d\\xe3\\xce!\\xe7\\x9d\\x95\\x83\\xf5\\x99\\x89U\\x90\\xdf\\x8e\\x0f\\xde*NAt\\x11q\\xc4\\x9c\\xd8\\x00n\\xb0_~\\xf9E\\xdd\\x87\\xc03.6\\x84\\xdc\\x12w-\\xcc\\xdeA\\x0b\\xb3\\xe7\\x84*\\xcc@A\\x04\\xd3\\x9a\\xb1Z\\xe8\\xe2d\\xed\\xc0\\x9a\\x88\\x81;\\x06q\\xf1V\\xdb\\xc0)S\\xa6\\xa8l\\x11b\\x02X\\x88\\xbeX\\xbaF\\xb60\\x87\\xb7\\xf2\\x8f\\xef\\x92\\xf7H\\xe1\\x86\\xa7F\\x84\\x16f\\xef\\xa0\\x85\\xd9sB\\xddsY\\xe6\\x91>\\x86 \\x13t\\xc17\\xcc\\xb2\\x99Ra2\\x0c4\\x9e\\x83\\xa5\\xeb\\xcdA\\x03\\xf8W\\t\\x0cbe\\xd2\\'\\x96\\x80kX\\xc1]@\\xceoh\\x03b\\xfd\\x11\\\\\\x15\\xe4\\xad\\xe3\\xda\"\\x8f\\x99\\xfd\\xd3\\x95(\\x93\\x9a\\xc8}\\xa3\\n\\xd2Eo\\xddx\\xba\\xbf\\xb2F\\xe3L\\xa8\\xc2\\xccr\\x8f\\xf4.zR\\xf07\\x15\\x81D\\xc6\\t\\x08bIk<\\x07\\x01\\xf5v\\xaa\\x14A4N\\x98,\\xe7\\x11jb\\x04a\\xf1a\\xe3& K\\x80\\x0b\\xbf3\\xf9\\xa6\\x11a\\xf5\\xf2\\xadr\\xf4\\xd0\\xdf\\xe65\\xdfB\\xea\\x15\\xae\\n\\xf2\\x92I}t\\x17\\x9c%;\\x81^-\\x04[\\xbd%\\xd0[\\xd7,\\x97\\xbf\\x8f\\x1d2\\xaf\\xb9\\x86\\xd7Z\\xbfl\\x814,\\x9bW\\xa6\\x8e\\xe8\\xe7\\xf6\\xb5\\xef\\xde\\xb9-\\xbf\\xcd\\x9b&=\\x1aV\\x95.\\xf5*\\xc8\\xaf\\xd3\\xbe\\x97\\x9d\\x9b\\xd6\\xc8\\xe8^m\\xa5s\\x9dr\\xb2i\\xc5\\x93\\x86\\xd0\\x89#\\x07d\\xc2w\\xdd\\xa4_\\x8b\\xda\\xb2a\\xf9/\\xe6VM \\x10\\xa20\\xb3\\x14\\xa1:\\r\\xeb\\xd8\\xca\\x97%\\x8a\\x8cO\\xd6\\xda\\xae\\xf1\\x1c\\x96\\xeb\\xef\\xbe\\xfb\\xaey\\xcd\\xbb\\x10\\x10$p\\x86\\xe5L?i\\x02\\xac\\x94\\xfd\\x86\\xe4\\xb9\\xe2$A\\n\\x19\\r\\x9b\\xa8\\xac$\\x0b\\xc2\\xd5\\x04\\x8d\\xd0\\xa0\\x87\\xee\\x90>Sd\\xee\\xd4\\x15\\x91b\\xa1\\xd2\\xf8\\x89\\xa02\\':r\\xbb\\xdd\\xa5\\\\\\xd2\\x13\\x85 o\\x9d:uT\\xdc$\\xa2\\x02}\\xe3\\xea\\x15\\x99<\\xac\\x8f\\xfc6wj\\x88\\xcf\\x83\\xf5\\x9e\\xbbP\\tI\\x94$y\\x88\\xdf\\x7f\\x9c\\xb8\\xf1\\xa4H\\xd9\\xca\\xf2\\x8cq\\xff\\x1bW/K\\xa1\\xd2\\x15$[\\xdeBR\\xa5A\\x1b\\xb9q\\xed\\x8a\\x0c\\xe9\\xd2D\\x0e\\xef\\xd9n\\xde[$m\\x86\\xd7%W\\xc1b\\x92(ir\\xc9\\xfb~\\xe0\\x0fO\\x88N\\x84(\\xcc\\xec\\xec\\xec\\xc0\\x1c\\xa4\\x1a\\xef\\xc2\\xb2\\x16W\\x03\\xdf\\xaf\\xaf\\xc0MB\\x0e09\\xbb\\x04\\xcf\\xc8@ >@\\xd99\"\\xed*W\\x97\\x00\\'\\xa5\\xcdX\\xa1\\x96@\\x93j\\x16\\x1e\\x81\\xfec\\xddn\\xd5\\xd8|\\xc9\\xfc\\xf5r\\xfel\\xe4\\xf4\\xc2\\xa5\\x82\\x0f\\x81\\x0e\\rz\\x91\\x0c\\x1a4H\\xa5mR\\x90\\x12\\x11\\x81\\xde\\xbde\\x9d\\\\<{J\\xd6/\\x9d/\\x97\\xcf\\x87\\xdc\\x82\\xf39\\xc3\\xa0\\x89\\x15\\xc6\\\\\\xe2\\x981cI\\x0c\\xe3\\xf2\\xac\\xd9\\x87\\xe5\\xf9\\x17\\x13J\\xea\\xf4\\xaf\\xc9?\\x0f\\x1f\\xc8\\xd0\\xaf\\x9b\\xc9\\xa5s\\xc1c\\xaa f\\xac\\xd8\\x86\\xa0G\\xae\\xefX\\xe3{B\\x14f\\x1a\\xc4S\\x8d\\xa7\\xf1>d\\x05 z4\\xb3\\xf15\\x04}\\x9a5k\\xa6\\xb2?\\xc8\\xdb&(H\\x9a bF\\xdc\\x80\\xbe\\r\\xa4\\x98M\\x9a4I\\xf9h)?\\xb7\\xf2{\\xc9\\xca!\\x90\\xc8{\\xe5\\xff\\xd0|\\xd0\\xf7\\xee=\\x90?\\xd6\\xef\\x91&\\xed\\xab\\xc9\\xe5\\x8b\\xd7e\\xcdo\\xde\\x9f\\x87\\x16Q\\x10d\\xabI\\x95\\xa7\\x02}\\xdf8\\xa9\\xed\\xde\\xb2^\\xaa5j/\\xd7\\xae\\\\\\x94?\\xd7\\xb9v\\xeb\\x1d\\xd9\\xbbS\\xa6\\x8e\\xf8F\\xe6\\xfd4Rn\\xdf|\\xec\\x1e\\xc2\\xda^8u\\xbc\\xfc0\\xa0\\xab,\\xfayB\\xa8\\xbe\\xe7\\x04/%\\x92\\x06]\\x06\\xc8\\x85\\xd3\\'el\\xbf\\x0e\\xca\\xed\\xa1\\t\\\\B\\x14f\\x02I,\\x855\\xde\\x87`*\\x99\\x03\\x91\\r\\x16#\\xe9ed/Pt\\x80;\\x8aN\\x7f\\xa4\\x92QdC\\xbf\\tD\\xdc\\x1a\\x1ej\\x81@\\xe3{\\xa6_GH\\xe2\\xb5o\\xe7Q\\xc3\\xe2\\x8b!e*\\x14\\x92\\xac93\\xca\\xfc\\xe9+\\xe5\\xd6M\\xf7\\r\\x82n\\xde\\xb8\\xadz\\x8f\\xd0\\xfb\\xc3\\xf1\\x82A\\x80\\x0b\\x86\\xe2\\x11_\\\\8A9b\\t4\\xae%\\x02\\xa1\\xa1qt\\xdfN\\x89\\x11#\\xa6r7d|3\\xa7\\xac\\x9c?]\\xee\\xdcz\\xf2\\xa4\\xb5v\\xf1\\\\\\x991n\\xa0|P\\xb1\\xa6\\xbc\\x9a\\xf9-9q88-\\x92\\xfb}\\xd7\\xfeKyp\\xff\\x9e\\x94\\xaf\\xddX\\x96\\xcf\\x99,\\xb3\\xc6\\x0f\\x0e\\xf1{\\xc5\\x95\\x98\\xe9\\xad\\xdc\\xf2e\\xa7od\\xf3\\xca\\xc52s\\xdc\\xa00\\xbdO\\x8d=\\t1]\\x0e+\\x89\\xd2W\\x9d\\x1e\\x172V\\xfe4\\x16hX\\xa0\\x11\\x0f\\xbeP|\\xc0\\x91]\\x8d\\x15\\x16\\xa8\\xaeC\\xc0\\xc9b\\x00|\\xa4\\xf8\\xac\\t(\\xd2n\\xd3]\\xba\\x1c\\xc22\\xb8\\xf7dy;\\xff\\x9bR\\xa0hN\\x995y\\xb9\\xf4l;FFL\\xee\\xa8\\xae\\xbb\\xe2\\xb3\\x0f;K\\xf6\\xcc\\xf9\\xd4\\xc9\\xc1\\x11\\x8aI\\xa8\\xb6$\\x98\\xe7\\x0bh\\x82\\xe4<\\xda\\x1e\\xab\\x99\\xc0v\\xd5j\\xd5e\\xca\\xfacn\\xd3\\xe5\\xf8\\x9c\\x93\\x86\\xf6\\x96\\xac\\xb9\\xf3K\\xce\\x02Ee\\xd9\\xec\\xc92\\xbaw[\\xe9<t\\xb2\\xba\\x0eW.\\x9e\\x97\\x1e\\r\\xabH\\xe5\\xfa-%_\\xf1\\xb2\\xcau\\xd5\\xbd\\xc1\\xa7\\x92*]F\\xa9\\xde\\xb8\\x83\\xcc\\x18;P\\xf2\\x97\\xf8HR\\xbf\\x9aI\\xbem]W\\xe2\\xc4\\x8b/\\xad\\xbe\\x19\\xa3\\x1e;\\xa0M=\\xb9x\\xee\\xb4\\xf4\\x187[\\xe2\\x1a\\xdb\\x11\\xe0\\xef\\xfbw\\x96\\x0f\\xab\\xd5\\x93\\xa4\\xa9\\xd2\\xca\\xb4\\x91\\xfd\\x95\\x907\\xeb5L\\x92\\xa7I/[W/\\x93j\\x8d\\xdd\\xd7\\x18\\xe8t9\\xfb\\x11\\xa2\\xc5\\xcc\\x81\\x11\\x99\\xed\\x10\\xed\\n\\x82\\x15\\xd6\\x86J\\xb8\\x02\\x10e\\xca\\x82\\xfdQ\\x94\\xe9sM\\xe6\\x02\\xa2\\xcc\\x81N\\xf5\\x1c\\xd6$\\x85+\\x8c\\x83\\x0f\\x89\\x93\\xc7\\xcf\\xca\\xc6\\xd5;e\\xd1\\xdcu\\xd2\\xbd\\xf5(\\xd9\\xbcv\\xb7\\xfc\\xf3\\xf0\\x1f\\x99\\xff\\xf3*C\\x98\\\\[wX\\xd7X\\xa9\\x94\\xfe;^\\xf0\\x89\\xd3\\xab\\x85\\xa6V\\xde\\xbe\\xd0f\\x93rx\\x0b\\x04\\x99\\x1e\\xdc\\xb8qh\\xb5\\x1aZc\\xa8\\xb3\\'\\x8f\\xcb\\xce\\x8d\\xabe\\xed\\x92\\xb92\\xb2Gk\\xd9\\xf5\\xc7Z\\xf9\\xd7\\xf8\\xdeV\\xfe\\xf2\\xb3\\x12`8u\\xec\\x90\\xf2\\x05\\xbf\\x900\\xf8\\xc4\\xc2s>\\xfbl\\xb0\\xcf8n\\xfc\\xe7\\xa5\\xdc\\xe7\\x8dd\\xc7\\xc6U2\\xe7\\xfb\\xa1r\\xf7\\xce\\xad\\x10\\x83\\x82\\x8e\\x10\\xd8\\xacX\\xb7\\x99\\x12\\xf5\\xb1};\\xc8\\xb1\\xfd\\xbb\\xcc[4\\x81D\\x88\\xc2\\x8c\\xb5b\\xf5 \\xd6\\xb8\\xa7v\\xed\\xdaJ\\xb8B\\x03\\xcb\\x07Q\\xb6D\\xc7\\x1f!\\xed\\x8c\\x02\\r\\xabT\\x9c\\xa2\\x95\\xd0\\x04\\xd9\\x02\\x7fr\\xb5:\\xa5\\xa5\\xcf\\xb0\\xa6\\xd2u@\\x03\\xf9fTs\\xa9\\xdd\\xe8\\x13Y\\xbbb[\\xa4\\xa5\\xce\\x85\\x06\\x95\\x82\\xa4\\x11\\xd2\\xf3#\\xbc\\x82l\\xf1\\xe7\\xda\\xdf\\xa4t\\xd5:\\xcabm\\xf8\\xf5\\x00i\\xd9w\\x94|b\\x08\\xed\\xb6u+\\x94 [\\xdc\\xbfwW\\xae\\\\8g^\\x0b\\x06\\x01&P\\xd8\\xb7y-I\\x96\\xea\\x15\\xa9\\xda\\xa8\\x9d\\xfa?<\\xd0\\xc3\\xa3N\\xdb^\\x92\\xc2\\xb0\\x96\\xc7\\x1b\\x96\\xf4\\xed[\\x11Km\\xd4\\xf8\\x1f!\\n3>>z\\xe1jB\\x86\\xfe\\xbf\\xf8dC\\x9a4\\xc2\\xf2\\x17Q\\xa6\\xbd$\\xbd\\x95\\xfd\\x11\\x82\\x7fdc \\xc84\\x07\\nK\\xaf\\x11\\x8b\\x8b\\xe7\\xaf(\\xffr\\xfe\"\\x8fc\\x12X\\xdc\\xa5\\xca\\x15PV\\xf3\\xa29kC\\xf4\\xa1F\\x06\\x88\"\\x95\\x91d\\xabx\"\\xc8\\x80\\x8b\\x02\\xffr\\x8e|E\\xcc-\\xc1\\x9f\\xb3`\\xc9r\\xc6\\xe7|(k\\x16\\xcfQ\\x9f3M\\x86\\xd7%i\\xca42\\x7f\\xd2he9\\xdf\\xbd}Kn\\xdd\\xb8&\\xb7o^7,\\xeecr\\xea\\xf8a\\xe5\\xbe -\\xee\\xfc\\xa9\\x13\\xca\\xdfL`/\\xc8x\\xec\\xbf\\xff\\xfd\\xab\\xfe7\\xde\\xb0\\xf9\\n\\xc6J\\xe6\\xc1\\x83\\'\\xbe\\xbf\\x84\\x89\\x93J\\xd3\\x9eC%\\xc1\\x8b\\t\\xd5\\t@\\x13X\\x84(\\xcc\\x94\\xf6b1\\xe1+\\xd2\\xb8\\x87\\xe5%V%\\x037]\\x81;\\x08\\xab\\x9a\\xac\\x08\\xb21\\x1c[\\x7f\\xfa\\x0b\\x1c\\xf4\\x05\\n\\x14P\\xbfwx\\x04\\x19\\xce\\x9e\\xbe(};}/\\x9b\\xd6\\xee\\x92m\\x9b\\xf7?r[<x\\xf0P\\xf6\\xed:&\\x0f\\ra\\xfeq\\xe4|\\x998&j\\x8b \\x08f\\x13\\xe0\\xf3D\\x90\\xe1\\xe2\\xd9\\xd32\\xfe\\x9bN\\xcau\\xb1\\x7f\\xfb\\xe6Gn\\x0bD\\xf3\\xe8\\xfe]\\xc6\\xf5\\x87*\\xfbb\\xc1\\xe41\\xf2b\\xa2\\xc4\\xd2\\xac\\xf7pc\\x95\\xf4\\x8f4\\xabXXF\\xf6h\\xa5n\\xbf~\\xe5\\x92\\x12\\xd2\\xd7\\xb3\\xe5\\x91o\\xdb\\xd4\\x95ICzI\\xda\\xd7\\xb2\\xc8\\xc1\\x9d[U\\x8e\\xf2\\xeaE\\xb3e\\xdf\\x9f\\x9b\\xe4\\xc4\\x91\\xfd\\xb2t\\xd6D\\xb9p\\xe6o\\xf9}\\xc1\\xcf*\\xebc\\xe9\\xcc\\x9f\\xe4\\x9c!\\xe2\\x16i3f\\x96\\xa6=\\x86\\x1a\"\\x1d\\xd8C\\x13\\xa2#\\xa1\\xf6\\xca\\xa00\\x81\\x86\\xee\\x8e3\\xf04O\\xc3\\xf2\\x9843F\\xd5;B\\xf0\\x94\\x06C\\xf4\\x06&\\x13\\x83\\xfe\\x0fv\\xc6\\xdf{ex\\x83\\xe8\\xd4+\\x83\\x15\\x12\\x996\\x9cd89\\xd3x\\x9e,\\x99\\xb0\\xb4\\n\\xc05Gs/\\n{x\\x1cAp\\x0c\\x90\\xf4\\xe9\\x83\\x07\\xa7\\xea\\xe0\\x9f\\xe7\\x84h1C\\xcb\\x96-U\\x9fd2\\x084\\xee\\xc1\\x1fO\\xca\\x19\\xf0?;;\\xbedr\\x84\\xe9\\\\\\x86\\x9b\\xc0\\xee\\xa2\\xac\\t,\\x10b\\x82\\xd0\\x94\\xaa\\x93\\x8dB\\xf7HZ-0\\x94 ,\\xd0W\\x9d\\x14Kz\\xaas\\xa1\\x14\\x9e\\xe1\\x0f\\xbe\\x1e2\\x10\\x1d\\x08U\\x98\\xf13\\x93\\xf7J\\xabD\\xfa\\xd9j\\\\Cu\\x1d;4-$\\xc9\\x93\\xa5\\x8f\\x08\\x95v\\xa4}\\x91\\t\\xa0\\xd1\\xf8\\x1b,\\x96q\\xaf\\x91)\\x84H\\xe3+\\'S\\x88\\x96\\xaa@\\xc1\\r\\xab<\\xcbe\\x83\\xe02m\\x87tO\\xa0\\xc5*\\xf7\\xb5n\\xc7E\\x87\\x05\\xce\\x04\\x18M\\xc4\\x08S\\xdbO\\xe0\\xccJu\\x18\\x03Ei\\xff\\x19^\\xff\\\\\\xa0C\\x96\\x05#\\x9eH\\xf5\\xa2\\xbbYd\\xe7\\x8cF\\x16tqc0A\\xca\\xd4\\xde\\xf1k\\x9e\\xfe\\xfb\\x9cr\\xf7pBs$*]\\x194\\xde\\xff\\xb8f\\x03\\x15X\\xf3\\x15\\x1cv\\\\8\\x8e|},\\x91sMp\\xda\\xd5>I\\xcf\\x1bR=\\xe9SM\\xb32,^\\xd2?\\xf9\\x9b@5Y:t\\x94$pM_\\xec\\xa3G\\x8f\\xaa\\xffY!\\xe2\\xc2\\xc0gO\\xf3(\\xca\\xfc1\\xe0H}d\"\\x10hW\\x86\\xe7\\x84Y\\x98\\x81\\xdcO\\xfa&\\xf0\\x10\\xfcP\\xe4\\x83RTA\\n\\x12\\x81\\x15\\xfc\\xac\\x81*H!\\x81\\xb5Ac~v\\xc2@\\x9c\\xbf\\xe7\\x0cS\\x89\\x1f<x`^\\x8b\\x18V\\xf3{g\\xa2R\\x98\\xf1\\x9b\\xb2\\xd2\\xf1%X\\x9f\\x08\\\\\\xdd\\xbau}>\\xe1\\x99}\\x13\\x01uu\\x02 \\x93\\x087\\x06\\xc76E>\\xfd\\xfb\\xf7W+>\\x0b\\x04\\x9d\\xb6\\xbfT~R\\x91I\\xa5\\xa8c\\xd1\\x8f5`\\x99\\xcf@\\x83(\\xc7\\xd5\\xa1\\x16f\\xcf\\t\\x970\\x03wg)\\xc32\\x071\\xa6\\xd9;?<Qn|\\xa9\\x11\\x99\\xbfgW\\xf0\\xb5q\\xa2\\nK{MM\\xd8\\x88Ja\\x8e\\x0c\\x08\\x94\\xd1\\xa2\\x95\\t\\xdd\\xb4Z\\x8d*pC\\x90\\x1a\\xb9d\\xc9\\x12\\xd5\\x1b\\x07\\x01\\xa7\\xf1\\x95\\x959\\xc4\\t\\x18+\\x9a\\t\\xe2\\x8cq#\\xdd\\xd0\\xb1{\\x1f\\xa3\\xcd\\x18\\x19\\xc7\\xaa\\x87\\t\\xe3\\xac\\xa8u\\xf0/\\xe2\\x84\\xeacv\\x86\\xb3.\\xae\\x0c\\x96@\\x8ct\\xa2C\\x1a\\xdb\\x98\\xbd\\x16\\x1dE\\x19\\xb06\\xc8\\\\\\xd1h\\xec\\x06\\xc3\\x11\\x180@y:\\xdd\\x04\\x11i.\\x80h3_\\x11?4\\xf1\\x13\\x8ew\\x84\\xd7\\xea\\xd1AB\\x00\\x9d\\xfa\\x08\\xfcQ`E\\xd0\\x1b7HH\\xf9\\xfc\\x9a\\xb0\\x11nav\\x06\\x9f\\x12\\xe3\\xd7i~\\x13\\x1d\\xa1w\\x04;5>8\\x8d\\xc6N`\\xd1\\xe2\\xb6\\xc9\\x9e=\\xbb\\xb2\\x90Iu\\xc3\\x1d\\xb9r\\xe5Je)cpl\\xdf\\xbe]\\xb9/hfF\\xe0\\x8f\\x1e#\\xd60\\xe5\\xe5\\xcb\\x97\\xab\\x8c\\x0e,\\x7f\\xdc\\x9a\\xf8\\x98\\xc9\\xea8}\\xfa\\xb4\\xba]\\xe39\\x11\\x16f 0H\\x00\\xc1[\\xb3\\xeb\"\\x0b,\\x02v\\xce\\x88@\\xd0\\xa4r\\xe5\\xca\\x8f\\x96o\\x1a\\x8d]`\\xe8\\x05\\x81N\\xfc\\xc7\\xf0\\xdcs\\xcf\\xa9a\\t\\xb4|\\xc5]\\x81\\xbf\\x98\\x950\\xbee\\xc0\\xad\\xf4\\xd3O?=j\\x05L|\\t_\\xb9\\x95\\x85\\x91!C\\x06\\xd5\\xf8\\xcc\\x9b\\xe3\\xd2\\xa2+^\\x11f\\xce\\x98\\x083\\xd3\\x8b=\\x99x\\x11Ul\\xdd\\xbaU\\xa5\\x03z\\n~9\\x82\\x1f\\xe4yk4v\\x03k\\x17\\xbf1\\xbee\\\\\\x11T\\xa5\\x127\\xa2\\xe2\\x17a\\xe6\\xf6\\xd8\\xb1c\\x9b\\xf7\\x0e\\x86\\xeb\\x0880\\xc9\\x88\\xa90X\\xd4\\xf8\\x98\\xc9\\xd5\\xc7\\xe2\\xc6\\xd7\\xac\\x89\\x18\\xe1\\x0e\\xfe\\x85\\x04\\x81\\x01\\xfcP\\x08VX\\xa6I\\xb8\\x02\\xd7\\x00;\\x07y\\xd3\\xbe\\x86\\xa88K/\\xfcf\\xe1\\x85@\\x1f\\x05$\\xf4\\xf5-X\\xb0\\xa0\\xb9U\\xe3-t\\xf0/\\xf2\\xc0\\xe2%\\x0b\\x051&M\\xce\\x12\\xde\\xb0@F\\x12\\xf9\\xcc4\\x85\\xc2b\\xa6\\x02\\xd0B\\x07\\xff<\\xc7+\\x16\\xb3\\x05\\x81\\x82\"E\\x8a\\xa8\\x9cT\\xe7F\\xeba\\x85\\x04u\\xca\\x9a\\xbdx\\xbep\\xcb\\xf7\\xdf\\x7f\\xefQ\\x977\\xac\\x03D\\x99\\xc0\\x87\\x16e\\x8d\\xdd\\xa1\\xa8\\x84\\xdc\\xf4,Y\\xb2\\x84K\\x94\\x81\\xa2\\x14\\xfa\\xb53\\t\\xc7Q\\x945\\x11\\xc3\\xab\\xc2Lv\\x06\\xa95\\xb84(\\xcf\\xc4\\xf7\\xcc\\x195<0j\\x89<I_O\\xe0\\xc6*\\'\\xda\\xdc\\xb6m[Y\\xb6lY\\x98N\\x04\\xf8\\xe2H\\xb8\\xafR\\xa5\\x8ara\\xd0\\xabX\\xa3\\xd1h\\xbc\\x8dW]\\x19\\x8e\\x90\\x82\\x83\\xaf\\x8a3*UA\\xa4\\x93\\xe1\\xb3\\n\\r\"\\xba$\\xdd\\x13\\x98#\\xea\\xeb+\\xa8\\xd0\\xe3,\\xcf\\xd2\\xadG\\x8f\\x1ej9\\xc7\\xa8\\'\\x86\\x91\\x92\\xf6g%\\xe3\\xb3\\x1c\\xc3\\x17=c\\xc6\\x0c5\\x9c\\x96f;L\\x8fN\\x9c8\\xb1\\xba]\\xe3\\x1b\\xc8\\x8f\\xb7\\xa6\\x98\\x04\"\\xecW\\x180\\xc4f\\x02\\xb5(\\x89\\xcc\\x0e~\\xbf\\xb2e\\xcb\\x9a[4a\\xc5g\\xc2\\x0c\\xe4;N\\x9b6M\\xb9\\x0c(\\xe5\\xadP\\xa1\\x82J\\xbb\\xa1\\xad$\\xcb\\x1f\\xc4\\x10_\\x1b~e\\xf2\\xa1)\\\\9v\\xec\\x98\\n \\xd0~\\x92\\xc7R\\xee\\xe9m\\xe8\\xc5\\x8b\\xe5\\xbbk\\xd7.\\xb5\\xe3\\xf0\\x15\\xac[\\xb7N\\xf5I&\\x1d\\xe8\\xc6\\x8d\\x1b\\xcaj\\xe7\\x7f\\xa2\\xce,\\xf1\\x10r\\xb2/\\x1c\\xab\\xa24\\xbe\\x83}\\x87\\x8a\\xd2@\\x85\\xfd\\x9e \\x191\\x99\\xa8\\xf61\\xfb\\x12\\xdc$d\\x7fh\\xc2\\x87O\\x85\\xd9\\x91\\xe3\\xc7\\x8f\\xab\\xbcH\\xc6\\x14\\x91\\x98\\xceuD\\x11\\xbf\\x14i7\\xe4CS\\xb8BY(?$\\xae\\x0c:\\xb3\\xe1r\\xf0\\xa6u\\x8a;\\x82\\xbcMr\\x8f\\xdd\\x05\\x18i\\xea\\xc2\\xc9\\x82\\xe0\\x13ALW\\xa5\\xac\\x1aMD@\\x98\\xd9\\xef\\xe97\\xc1\\xa0\\x05\\x8d\\xc6\\x91H\\x13fO\\xa0\\x06\\x9f\\x04wZ\\x0bzc>\\x1e\\r\\xeb\\t\\xf6\\xd1\\x94\\x85\\x14\\x1f\\x8d&\\xaa\\xd0\\xc2\\xac\\t\\t\\xaf\\x06\\xff\\xbc\\r\\xbe\\\\\\x9a\"\\xe1\\xf7\\x8d\\xe8\\xb2\\x962Q\\xfc\\xc3\\xb8\"\\xa8`\\xd2h4\\x1a\\x7f\\xc5\\xaf\\x85\\x19\\x97\\x06\\xd9\\x0fX\\x16\\x14\\x82\\xb8\\x1b\\xdd\\x14\\x1aT$\\x12\\xe8#\\xa8\\x87\\xbf\\x9b\\x80\\xa4F\\xa3\\xd1\\xf8+~\\xafP\\x883UI\\x9f\\x7f\\xfe\\xb9\\x9aIG\\x06\\x85UB\\x1a\\x1a$\\xbe\\x13\\xe4\\xc3w\\xdd\\xad[7%\\xca\\xe1\\xcd\\xd3\\xd4h4\\x9a\\xc8\\xc6\\x16\\xa6#\\x16n\\xc3\\x86\\rU\\x15\\x11ST\\xa8\\xc7G\\xa8iEHf\\x05\\xd9\\x1d\\xb8:\\xc8\\xa2\\xc0g\\xc7\\xd4\\x052@h\\xac\\x82\\x10\\xe3\\xa7f\\x1c\\xbfF\\x13U\\xd0`\\xde\\x9a\\xf4\\xe1\\x0e\\xc2=\\xbe\\xee\\x03\\xad\\xb1\\x07\\xb6Z\\xd3\\xd3(h\\xe2\\xc4\\x89*\\xab\\x03\\xd1%s\\x83i\\t\\xf8\\xa1_z\\xe9%\\xe5\\xaa\\xe0:9\\xb0\\xe4M\\x93zG\\xd7\\xbb\\xe8\\xda\\x8eT\\xe3?\\xd0,\\x08c\\x81l\\x1fW\\x90\\xd7L\\x9a\\xa8\\xd5RS\\x13\\xbd\\xf1\\xeb\\xac\\x0c\\x8d&\\x90h\\xd7\\xae\\x9d\\xea\\x7fL\\xda(Ah++\\x83nl\\x04\\xb8\\xc9g\\xb6z!k\\xa27:\\n\\xa6\\xd1D\\x124\\x94\\xbfx\\xf1\\xa2\\x9a\\tI\\x01\\x15PT\\x95\\'O\\x1eU\\x80E\\x93y\\x8d\\x06\\xb4\\xc5\\xac\\xd1D\"X\\xcd\\xcc\\xd5s\\x86\\x18\\x88\\xb6\\x965\\x16Z\\x985\\x9aH\\x04\\x8b\\x99v\\x04\\x8e\\x03\\x1a\\xa8,\\xa5\\x8d,\\x93\\x804\\x1a\\xd0\\xae\\x0c\\x8d&\\x12\\xa1\\xbd@\\xe3\\xc6\\x8d\\xcdk\\xc1`-kQ\\xd68\\xa2-f\\x8d&\\x92q\\xb4\\x9a\\xb1\\x96\\xe9\\x1fCc/\\x8d\\xc6B[\\xcc\\x1aM$\\xe3h5c-kQ\\xd68\\xa3-f\\x8d&\\n\\xc0jf\\x14\\xd3\\xe6\\xcd\\x9b\\xb50k\\x9eB\\x0b\\xb3F\\x13E\\xac_\\xbf^\\xa5\\xcei4\\xceha\\xd6h4\\x1a?C\\xfb\\x985\\x1a\\x8d\\xc6\\xcf\\xd0\\xc2\\xac\\xd1h4~\\x86\\x16f\\x8dF\\xa3\\xf13\\xb40k4\\x1a\\x8d\\x9f\\xa1\\x85Y\\xa3\\xd1h\\xfc\\x0c-\\xcc\\x1a\\x8dF\\xe3gha\\xd6h4\\x1a?C\\x0b\\xb3F\\xa3\\xd1\\xf8\\x19Z\\x985\\x1a\\x1fq\\xef\\xde=5\\xc7\\xcf\\x1d\\xa1\\xdd\\xce,KM\\xf4D\\x0b\\xb3F\\xe3e\\xfe\\xfb\\xef?\\xa9Q\\xa3\\x86\\xc4\\x89\\x13G\\n\\x17.\\xac\\x06\\x05;\\xc2\\xedU\\xaaTQ\\xb7\\xbf\\xff\\xfe\\xfbJ\\xa0\\x1da\\xee\\x1f\\xf3\\x01c\\xc7\\x8e-%J\\x94\\x90\\x07\\x0f\\x1e\\x98\\xb7h\\xa2\\x0b\\xba$[\\xa3\\xf12\\'O\\x9e\\x94\\xb4i\\xd3\\x9a\\xd7D\\x96,Y\"\\x1f|\\xf0\\x81yM\\xd4\\xa4\\xf7\\x8c\\x193\\x9a\\xd7DV\\xacX!E\\x8b\\x165\\xaf\\x89\\xec\\xdf\\xbf_\\xb2d\\xc9b^\\x13Y\\xbbv\\xad\\x14(P\\xc0\\xbc\\xa6\\x89\\x0eh\\x8bY\\xa3\\xf12\\xb4\\xf5L\\x9d:\\xb5\\xfa\\x9b\\t\\xee\\xce\\xdd\\xe3\\x92%K&)R\\xa4P\\x7f3=\\xfb\\xb5\\xd7^S\\x7f[0\\xd5\\x9d\\xfb\\x00\\x03[\\x19\\xdc\\xaa\\x89^h\\x8bY\\xa3\\xf1\\x01g\\xce\\x9c\\x91e\\xcb\\x96I\\xde\\xbcy]\\xb6\\xf5<u\\xea\\x94\\xb2\\x94\\xdf}\\xf7\\xdd\\xa7\\x84\\x19\\xb0\\xba\\x7f\\xff\\xfdw\\xd5}\\x8e\\xf6\\xa0\\x9a\\xe8\\x85\\x16f\\x8dF\\xa3\\xf13\\xb4+C\\xa3\\xd1h\\xfc\\x0c-\\xcc\\x1a\\x8dF\\xe3W\\x88\\xfc\\x1f\\xf2\\xd1<\\x13\\t\\xfb\\x18\\xe3\\x00\\x00\\x00\\x00IEND\\xaeB`\\x82'}"
            ]
          },
          "metadata": {},
          "execution_count": 30
        }
      ]
    },
    {
      "cell_type": "code",
      "metadata": {
        "colab": {
          "base_uri": "https://localhost:8080/",
          "height": 269
        },
        "id": "NnAHpCoyWHlw",
        "outputId": "66f16ca0-a7f3-4b27-8868-d0bf756f58b8"
      },
      "source": [
        "#Читаем картинку\n",
        "im = cv.imread('/content/2021_10_07_11_31_28_1812.04948v3.png')\n",
        "\n",
        "plt.imshow(im)\n",
        "plt.show()"
      ],
      "execution_count": 35,
      "outputs": [
        {
          "output_type": "display_data",
          "data": {
            "image/png": "[encoded data removed]",
            "text/plain": [
              "<Figure size 432x288 with 1 Axes>"
            ]
          },
          "metadata": {
            "needs_background": "light"
          }
        }
      ]
    }
  ]
}